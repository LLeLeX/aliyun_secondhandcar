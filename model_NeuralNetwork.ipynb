{
 "cells": [
  {
   "cell_type": "code",
   "execution_count": 180,
   "id": "ab336f58",
   "metadata": {
    "ExecuteTime": {
     "end_time": "2021-06-08T09:50:15.246548Z",
     "start_time": "2021-06-08T09:50:15.242549Z"
    },
    "scrolled": false
   },
   "outputs": [],
   "source": [
    "import pandas as pd\n",
    "import numpy as np\n",
    "from sklearn.preprocessing import MinMaxScaler\n",
    "from sklearn.model_selection import train_test_split\n",
    "import torch\n",
    "from tensorflow import keras\n",
    "from sklearn.metrics import mean_absolute_error\n",
    "from datetime import datetime"
   ]
  },
  {
   "cell_type": "code",
   "execution_count": 181,
   "id": "f89e7b9f",
   "metadata": {
    "ExecuteTime": {
     "end_time": "2021-06-08T09:50:15.558078Z",
     "start_time": "2021-06-08T09:50:15.554082Z"
    }
   },
   "outputs": [],
   "source": [
    "#                        .::::.\n",
    "#                      .::::::::.\n",
    "#                     :::::::::::\n",
    "#                  ..:::::::::::'\n",
    "#               '::::::::::::'\n",
    "#                 .::::::::::\n",
    "#            '::::::::::::::..\n",
    "#                 ..::::::::::::.\n",
    "#               ``::::::::::::::::\n",
    "#                ::::``:::::::::'        .:::.\n",
    "#               ::::'   ':::::'       .::::::::.\n",
    "#             .::::'      ::::     .:::::::'::::.\n",
    "#            .:::'       :::::  .:::::::::' ':::::.\n",
    "#           .::'        :::::.:::::::::'      ':::::.\n",
    "#          .::'         ::::::::::::::'         ``::::.\n",
    "#      ...:::           ::::::::::::'              ``::.\n",
    "#     ```` ':.          ':::::::::'                  ::::..\n",
    "#                        '.:::::'                    ':'````..\n",
    "#                     美女保佑 永无BUG"
   ]
  },
  {
   "cell_type": "code",
   "execution_count": 182,
   "id": "d0cba1c3",
   "metadata": {
    "ExecuteTime": {
     "end_time": "2021-06-08T09:50:17.974617Z",
     "start_time": "2021-06-08T09:50:16.978096Z"
    }
   },
   "outputs": [],
   "source": [
    "data_train = pd.read_csv(r'./data/used_car_train_20200313.csv',sep = ' ')\n",
    "data_test = pd.read_csv(r'./data/used_car_testB_20200421.csv',sep = ' ')"
   ]
  },
  {
   "cell_type": "markdown",
   "id": "b44601bf",
   "metadata": {},
   "source": [
    "# 参考代码"
   ]
  },
  {
   "cell_type": "code",
   "execution_count": 133,
   "id": "0f4f7ccc",
   "metadata": {
    "ExecuteTime": {
     "end_time": "2021-06-08T09:42:21.742933Z",
     "start_time": "2021-06-08T09:42:20.513825Z"
    }
   },
   "outputs": [
    {
     "name": "stderr",
     "output_type": "stream",
     "text": [
      "d:\\python\\lib\\site-packages\\ipykernel_launcher.py:8: SettingWithCopyWarning: \n",
      "A value is trying to be set on a copy of a slice from a DataFrame\n",
      "\n",
      "See the caveats in the documentation: https://pandas.pydata.org/pandas-docs/stable/user_guide/indexing.html#returning-a-view-versus-a-copy\n",
      "  \n",
      "d:\\python\\lib\\site-packages\\ipykernel_launcher.py:9: SettingWithCopyWarning: \n",
      "A value is trying to be set on a copy of a slice from a DataFrame\n",
      "\n",
      "See the caveats in the documentation: https://pandas.pydata.org/pandas-docs/stable/user_guide/indexing.html#returning-a-view-versus-a-copy\n",
      "  if __name__ == '__main__':\n"
     ]
    }
   ],
   "source": [
    "data_train.replace(to_replace = '-', value = np.nan, inplace = True)\n",
    "data_test.replace(to_replace = '-', value = np.nan, inplace = True)\n",
    "\n",
    "data_train.fillna(data_train.median(),inplace= True)\n",
    "data_test.fillna(data_train.median(),inplace= True)\n",
    "\n",
    "#修改异常数据\n",
    "data_train['power'][data_train['power']>600]=600\n",
    "data_test['power'][data_test['power']>600]=600\n",
    "\n",
    "#特征标签\n",
    "tags = ['model','brand','bodyType','fuelType','regionCode','regionCode','regDate','creatDate','kilometer','notRepairedDamage','power','v_0', 'v_1', 'v_2', 'v_3', 'v_4', 'v_5', 'v_6',\n",
    "       'v_7', 'v_8', 'v_9', 'v_10', 'v_11', 'v_12', 'v_13', 'v_14']\n",
    "\n",
    "#特征归一化\n",
    "min_max_scaler = MinMaxScaler()\n",
    "min_max_scaler.fit(data_train[tags].values)\n",
    "x = min_max_scaler.transform(data_train[tags].values)\n",
    "x_ = min_max_scaler.transform(data_test[tags].values)\n",
    "\n",
    "#获得y值\n",
    "y = data_train['price'].values"
   ]
  },
  {
   "cell_type": "markdown",
   "id": "e8049507",
   "metadata": {},
   "source": [
    "# 原baseline"
   ]
  },
  {
   "cell_type": "code",
   "execution_count": 183,
   "id": "8414f8db",
   "metadata": {
    "ExecuteTime": {
     "end_time": "2021-06-08T09:50:20.767926Z",
     "start_time": "2021-06-08T09:50:20.730340Z"
    }
   },
   "outputs": [],
   "source": [
    "train = data_train.copy()\n",
    "test = data_test.copy()"
   ]
  },
  {
   "cell_type": "code",
   "execution_count": 184,
   "id": "34a4e25b",
   "metadata": {
    "ExecuteTime": {
     "end_time": "2021-06-08T09:50:20.922297Z",
     "start_time": "2021-06-08T09:50:20.882292Z"
    }
   },
   "outputs": [],
   "source": [
    "# 转换'-'\n",
    "train['notRepairedDamage'] = train['notRepairedDamage'].replace('-', np.nan) \n",
    "test['notRepairedDamage'] = test['notRepairedDamage'].replace('-', np.nan)\n",
    "\n",
    "# 转换数据类型\n",
    "train['notRepairedDamage'] = train['notRepairedDamage'].astype('float64')\n",
    "test['notRepairedDamage'] = test['notRepairedDamage'].astype('float64')\n"
   ]
  },
  {
   "cell_type": "code",
   "execution_count": 185,
   "id": "7e734c02",
   "metadata": {
    "ExecuteTime": {
     "end_time": "2021-06-08T09:50:21.047371Z",
     "start_time": "2021-06-08T09:50:21.043387Z"
    }
   },
   "outputs": [],
   "source": [
    "def date_process(x):\n",
    "    year = int(str(x)[:4])\n",
    "    month = int(str(x)[4:6])\n",
    "    day = int(str(x)[6:8])\n",
    "    if month < 1:\n",
    "        date = str(x)[:4] + \"07\" + str(x)[6:]\n",
    "    else:\n",
    "        date = str(x)\n",
    "    return date"
   ]
  },
  {
   "cell_type": "code",
   "execution_count": 186,
   "id": "70acaccb",
   "metadata": {
    "ExecuteTime": {
     "end_time": "2021-06-08T09:50:22.003455Z",
     "start_time": "2021-06-08T09:50:21.217867Z"
    }
   },
   "outputs": [],
   "source": [
    "# apply()是将自定义函数作用到Series或者DataFrame中\n",
    "train['creatDate'] = train['creatDate'].apply(date_process)\n",
    "train['regDate'] = train['regDate'].apply(date_process)\n",
    "test['creatDate'] = test['creatDate'].apply(date_process)\n",
    "test['regDate'] = test['regDate'].apply(date_process)"
   ]
  },
  {
   "cell_type": "code",
   "execution_count": 187,
   "id": "072355b8",
   "metadata": {
    "ExecuteTime": {
     "end_time": "2021-06-08T09:50:22.129383Z",
     "start_time": "2021-06-08T09:50:22.004429Z"
    }
   },
   "outputs": [],
   "source": [
    "train.drop(['seller'], axis=1, inplace=True)\n",
    "test.drop(['seller'], axis=1, inplace=True)\n",
    "\n",
    "train = train.drop(['offerType'], axis=1)\n",
    "test = test.drop(['offerType'], axis=1)"
   ]
  },
  {
   "cell_type": "code",
   "execution_count": 188,
   "id": "bf6b380d",
   "metadata": {
    "ExecuteTime": {
     "end_time": "2021-06-08T09:50:22.240334Z",
     "start_time": "2021-06-08T09:50:22.130342Z"
    }
   },
   "outputs": [],
   "source": [
    "# 使用map函数，以power列的中位数来替换数值超出范围的power\n",
    "train['power'] = train['power'].map(lambda x: train['power'].mean() if x > 600 else x)\n",
    "test['power'] = test['power'].map(lambda x: test['power'].mean() if x > 600 else x)"
   ]
  },
  {
   "cell_type": "code",
   "execution_count": 189,
   "id": "70df14f1",
   "metadata": {
    "ExecuteTime": {
     "end_time": "2021-06-08T09:50:22.924079Z",
     "start_time": "2021-06-08T09:50:22.242278Z"
    }
   },
   "outputs": [],
   "source": [
    "# 填补缺失值\n",
    "train.loc[38424, 'model'] = 157.0\n",
    "\n",
    "# 在两个数据集上，车身类型为0.0（豪华轿车）的汽车数量都是最多，所以用0.0来填充缺失值\n",
    "train.loc[:, 'bodyType'] = train['bodyType'].map(lambda x: 0.0 if pd.isnull(x) else x)\n",
    "test.loc[:, 'bodyType'] = test['bodyType'].map(lambda x: 0.0 if pd.isnull(x) else x)\n",
    "\n",
    "\n",
    "# 猜想：燃油类型与车身类型相关，如豪华轿车更可能是汽油或电动， 而搅拌车大多是柴油\n",
    "# 创建字典map，保存不同bodyType下， fuelType的众数，并以此填充fuelTyp的缺失值\n",
    "dict_enu_train, dict_enu_test = {}, {}\n",
    "for i in [0.0, 1.0, 2.0, 3.0, 4.0, 5.0, 6.0, 7.0]:\n",
    "    dict_enu_train[i] = train[train['bodyType'] == i]['fuelType'].mode()[0] # bodyType=i时，fuelType的众数\n",
    "    dict_enu_test[i] = test[test['bodyType'] == i]['fuelType'].mode()[0]\n",
    "# 发现dict_enu_train, dict_enu_test是一样的内容\n",
    "# 开始填充fuelType缺失值\n",
    "# 在含fuelType缺失值的条目中，将不同bodyType对应的index输出保存到一个字典中\n",
    "dict_index_train, dict_index_test = {}, {}\n",
    "for bodytype in [0.0, 1.0, 2.0, 3.0, 4.0, 5.0, 6.0, 7.0]:\n",
    "    dict_index_train[bodytype] = train[(train['bodyType'] == bodytype) & (train['fuelType'].isnull())].index.tolist()\n",
    "    dict_index_test[bodytype] = test[(test['bodyType'] == bodytype) & (test['fuelType'].isnull())].index.tolist()\n",
    "# 分别对每个bodyTYpe所对应的index来填充fuelType列\n",
    "for bt, ft in dict_enu_train.items():\n",
    "#     train.loc[tuple(dict_index[bt]), :]['fuelType'] = ft  # 注意：链式索引 (chained indexing)很可能导致赋值失败！\n",
    "    train.loc[dict_index_train[bt], 'fuelType'] = ft  # Pandas推荐使用这种方法来索引/赋值\n",
    "    test.loc[dict_index_test[bt], 'fuelType'] = ft\n",
    "    \n",
    "\n",
    "# 训练集，如果缺失，补0\n",
    "train.loc[:, 'gearbox'] = train['gearbox'].map(lambda x: 0.0 if pd.isnull(x) else x)\n",
    "# # 对于测试集，为保证预测结果完整性，不能删去任何行。测试集仅有1910个gearbox缺失值，用数量占绝大多数的0.0（手动档）来填充缺失值\n",
    "test.loc[:, 'gearbox'] = test['gearbox'].map(lambda x: 0.0 if pd.isnull(x) else x)\n",
    "\n",
    "\n",
    "# 在整个训练集上有尚未修复损坏的汽车比损坏已修复的汽车售价还要高。\n",
    "# 为简单化问题，仍使用数量占比最大的0.0来填充所有缺失值\n",
    "train.loc[:, 'notRepairedDamage'] = train['notRepairedDamage'].map(lambda x: 0.0 if pd.isnull(x) else x)\n",
    "test.loc[:, 'notRepairedDamage'] = test['notRepairedDamage'].map(lambda x: 0.0 if pd.isnull(x) else x)"
   ]
  },
  {
   "cell_type": "code",
   "execution_count": 190,
   "id": "ab1bbf3a",
   "metadata": {
    "ExecuteTime": {
     "end_time": "2021-06-08T09:50:22.929074Z",
     "start_time": "2021-06-08T09:50:22.925076Z"
    }
   },
   "outputs": [],
   "source": [
    "# #特征标签\n",
    "# tags = ['model','brand','bodyType','fuelType','regionCode','regionCode','regDate','creatDate','kilometer','notRepairedDamage','power','v_0', 'v_1', 'v_2', 'v_3', 'v_4', 'v_5', 'v_6',\n",
    "#        'v_7', 'v_8', 'v_9', 'v_10', 'v_11', 'v_12', 'v_13', 'v_14']\n",
    "\n",
    "# #特征归一化\n",
    "# min_max_scaler = MinMaxScaler()\n",
    "# min_max_scaler.fit(train[tags].values)\n",
    "# x = min_max_scaler.transform(train[tags].values)\n",
    "# x_ = min_max_scaler.transform(test[tags].values)\n",
    "\n",
    "# #获得y值\n",
    "# y = train['price'].values"
   ]
  },
  {
   "cell_type": "code",
   "execution_count": 191,
   "id": "cb70e852",
   "metadata": {
    "ExecuteTime": {
     "end_time": "2021-06-08T09:50:23.957805Z",
     "start_time": "2021-06-08T09:50:23.034340Z"
    }
   },
   "outputs": [],
   "source": [
    "#获得y值\n",
    "y = train['price'].values\n",
    "del train['price']\n",
    "\n",
    "# 特征归一化\n",
    "min_max_scaler = MinMaxScaler()\n",
    "min_max_scaler.fit(train.values)\n",
    "x = min_max_scaler.transform(train.values)\n",
    "x_test = min_max_scaler.transform(test.values)"
   ]
  },
  {
   "cell_type": "markdown",
   "id": "7ea5807b",
   "metadata": {},
   "source": [
    "# 建模"
   ]
  },
  {
   "cell_type": "code",
   "execution_count": 192,
   "id": "b90b7474",
   "metadata": {
    "ExecuteTime": {
     "end_time": "2021-06-08T09:50:24.374433Z",
     "start_time": "2021-06-08T09:50:24.290467Z"
    }
   },
   "outputs": [],
   "source": [
    "#切分数据集\n",
    "x_train,x_val,y_train,y_val = train_test_split(x,y,test_size = 0.15, random_state = 22)"
   ]
  },
  {
   "cell_type": "code",
   "execution_count": 193,
   "id": "1535af05",
   "metadata": {
    "ExecuteTime": {
     "end_time": "2021-06-08T09:50:24.745631Z",
     "start_time": "2021-06-08T09:50:24.705997Z"
    }
   },
   "outputs": [],
   "source": [
    "model = keras.Sequential([\n",
    "        keras.layers.Dense(250,activation='relu',input_shape=[28]), \n",
    "        keras.layers.Dense(250,activation='relu'), \n",
    "        keras.layers.Dense(250,activation='relu'), \n",
    "        keras.layers.Dense(1)])\n",
    "model.compile(loss='mean_absolute_error',\n",
    "                optimizer='Adam')"
   ]
  },
  {
   "cell_type": "code",
   "execution_count": 194,
   "id": "8a9be8b2",
   "metadata": {
    "ExecuteTime": {
     "end_time": "2021-06-08T09:55:33.387719Z",
     "start_time": "2021-06-08T09:50:25.091110Z"
    },
    "scrolled": true
   },
   "outputs": [
    {
     "name": "stdout",
     "output_type": "stream",
     "text": [
      "Epoch 1/200\n",
      "499/499 [==============================] - 1s 2ms/step - loss: 2455.8481\n",
      "Epoch 2/200\n",
      "499/499 [==============================] - 1s 2ms/step - loss: 986.3889\n",
      "Epoch 3/200\n",
      "499/499 [==============================] - 1s 2ms/step - loss: 877.4416\n",
      "Epoch 4/200\n",
      "499/499 [==============================] - 1s 2ms/step - loss: 815.8169\n",
      "Epoch 5/200\n",
      "499/499 [==============================] - 1s 3ms/step - loss: 765.5081\n",
      "Epoch 6/200\n",
      "499/499 [==============================] - 1s 2ms/step - loss: 730.4852\n",
      "Epoch 7/200\n",
      "499/499 [==============================] - 1s 2ms/step - loss: 706.6591\n",
      "Epoch 8/200\n",
      "499/499 [==============================] - 2s 3ms/step - loss: 683.4187\n",
      "Epoch 9/200\n",
      "499/499 [==============================] - 1s 3ms/step - loss: 668.3130\n",
      "Epoch 10/200\n",
      "499/499 [==============================] - 1s 3ms/step - loss: 650.6030\n",
      "Epoch 11/200\n",
      "499/499 [==============================] - 1s 3ms/step - loss: 637.9131\n",
      "Epoch 12/200\n",
      "499/499 [==============================] - 1s 3ms/step - loss: 626.9091\n",
      "Epoch 13/200\n",
      "499/499 [==============================] - 1s 3ms/step - loss: 616.9531\n",
      "Epoch 14/200\n",
      "499/499 [==============================] - 1s 2ms/step - loss: 604.7590\n",
      "Epoch 15/200\n",
      "499/499 [==============================] - 1s 2ms/step - loss: 598.0521\n",
      "Epoch 16/200\n",
      "499/499 [==============================] - 1s 2ms/step - loss: 591.4774\n",
      "Epoch 17/200\n",
      "499/499 [==============================] - 1s 2ms/step - loss: 585.2327\n",
      "Epoch 18/200\n",
      "499/499 [==============================] - 1s 2ms/step - loss: 583.5435\n",
      "Epoch 19/200\n",
      "499/499 [==============================] - 1s 3ms/step - loss: 579.8040\n",
      "Epoch 20/200\n",
      "499/499 [==============================] - 1s 3ms/step - loss: 577.5743\n",
      "Epoch 21/200\n",
      "499/499 [==============================] - 1s 2ms/step - loss: 572.0142\n",
      "Epoch 22/200\n",
      "499/499 [==============================] - 1s 2ms/step - loss: 568.4253\n",
      "Epoch 23/200\n",
      "499/499 [==============================] - 1s 3ms/step - loss: 569.0415\n",
      "Epoch 24/200\n",
      "499/499 [==============================] - 1s 2ms/step - loss: 565.8199\n",
      "Epoch 25/200\n",
      "499/499 [==============================] - 2s 3ms/step - loss: 563.3826\n",
      "Epoch 26/200\n",
      "499/499 [==============================] - 2s 4ms/step - loss: 563.6661\n",
      "Epoch 27/200\n",
      "499/499 [==============================] - 2s 3ms/step - loss: 561.6849\n",
      "Epoch 28/200\n",
      "499/499 [==============================] - 2s 3ms/step - loss: 554.4059\n",
      "Epoch 29/200\n",
      "499/499 [==============================] - 2s 3ms/step - loss: 554.6768\n",
      "Epoch 30/200\n",
      "499/499 [==============================] - 1s 3ms/step - loss: 550.1580\n",
      "Epoch 31/200\n",
      "499/499 [==============================] - 2s 3ms/step - loss: 547.6868\n",
      "Epoch 32/200\n",
      "499/499 [==============================] - 2s 3ms/step - loss: 546.7014\n",
      "Epoch 33/200\n",
      "499/499 [==============================] - 2s 3ms/step - loss: 540.2310\n",
      "Epoch 34/200\n",
      "499/499 [==============================] - 2s 3ms/step - loss: 538.8495\n",
      "Epoch 35/200\n",
      "499/499 [==============================] - 2s 3ms/step - loss: 540.4992\n",
      "Epoch 36/200\n",
      "499/499 [==============================] - 2s 3ms/step - loss: 538.6660A:\n",
      "Epoch 37/200\n",
      "499/499 [==============================] - 2s 3ms/step - loss: 536.6407\n",
      "Epoch 38/200\n",
      "499/499 [==============================] - 2s 4ms/step - loss: 531.4412\n",
      "Epoch 39/200\n",
      "499/499 [==============================] - 2s 3ms/step - loss: 528.2092\n",
      "Epoch 40/200\n",
      "499/499 [==============================] - 2s 3ms/step - loss: 526.1231A: 1s\n",
      "Epoch 41/200\n",
      "499/499 [==============================] - 2s 3ms/step - loss: 525.6223\n",
      "Epoch 42/200\n",
      "499/499 [==============================] - 2s 4ms/step - loss: 523.2927\n",
      "Epoch 43/200\n",
      "499/499 [==============================] - 2s 4ms/step - loss: 523.9926\n",
      "Epoch 44/200\n",
      "499/499 [==============================] - 2s 4ms/step - loss: 518.7543\n",
      "Epoch 45/200\n",
      "499/499 [==============================] - 2s 3ms/step - loss: 520.3536\n",
      "Epoch 46/200\n",
      "499/499 [==============================] - 2s 3ms/step - loss: 520.2126\n",
      "Epoch 47/200\n",
      "499/499 [==============================] - 2s 3ms/step - loss: 515.8306\n",
      "Epoch 48/200\n",
      "499/499 [==============================] - 2s 3ms/step - loss: 516.3480\n",
      "Epoch 49/200\n",
      "499/499 [==============================] - 2s 3ms/step - loss: 518.1973\n",
      "Epoch 50/200\n",
      "499/499 [==============================] - 2s 3ms/step - loss: 515.8370\n",
      "Epoch 51/200\n",
      "499/499 [==============================] - 2s 3ms/step - loss: 514.2952\n",
      "Epoch 52/200\n",
      "499/499 [==============================] - 2s 3ms/step - loss: 511.8488\n",
      "Epoch 53/200\n",
      "499/499 [==============================] - 2s 3ms/step - loss: 511.8268\n",
      "Epoch 54/200\n",
      "499/499 [==============================] - 2s 3ms/step - loss: 507.5363\n",
      "Epoch 55/200\n",
      "499/499 [==============================] - 2s 3ms/step - loss: 510.9956\n",
      "Epoch 56/200\n",
      "499/499 [==============================] - 2s 3ms/step - loss: 509.4835\n",
      "Epoch 57/200\n",
      "499/499 [==============================] - 2s 3ms/step - loss: 506.9095\n",
      "Epoch 58/200\n",
      "499/499 [==============================] - 2s 4ms/step - loss: 509.0943\n",
      "Epoch 59/200\n",
      "499/499 [==============================] - 2s 3ms/step - loss: 507.9983\n",
      "Epoch 60/200\n",
      "499/499 [==============================] - 2s 3ms/step - loss: 504.5993\n",
      "Epoch 61/200\n",
      "499/499 [==============================] - 2s 3ms/step - loss: 503.6671\n",
      "Epoch 62/200\n",
      "499/499 [==============================] - 2s 3ms/step - loss: 505.1545\n",
      "Epoch 63/200\n",
      "499/499 [==============================] - 2s 3ms/step - loss: 508.1578\n",
      "Epoch 64/200\n",
      "499/499 [==============================] - 2s 3ms/step - loss: 506.2166\n",
      "Epoch 65/200\n",
      "499/499 [==============================] - 2s 3ms/step - loss: 502.1862\n",
      "Epoch 66/200\n",
      "499/499 [==============================] - 2s 3ms/step - loss: 502.6669\n",
      "Epoch 67/200\n",
      "499/499 [==============================] - 2s 3ms/step - loss: 502.7094\n",
      "Epoch 68/200\n",
      "499/499 [==============================] - 2s 3ms/step - loss: 501.5183\n",
      "Epoch 69/200\n",
      "499/499 [==============================] - 2s 3ms/step - loss: 499.5116\n",
      "Epoch 70/200\n",
      "499/499 [==============================] - 2s 3ms/step - loss: 499.6898\n",
      "Epoch 71/200\n",
      "499/499 [==============================] - 2s 3ms/step - loss: 502.2841\n",
      "Epoch 72/200\n",
      "499/499 [==============================] - 2s 3ms/step - loss: 498.4288\n",
      "Epoch 73/200\n",
      "499/499 [==============================] - 2s 3ms/step - loss: 497.4619\n",
      "Epoch 74/200\n",
      "499/499 [==============================] - 2s 3ms/step - loss: 498.6709\n",
      "Epoch 75/200\n",
      "499/499 [==============================] - 2s 3ms/step - loss: 496.6581\n",
      "Epoch 76/200\n",
      "499/499 [==============================] - 2s 3ms/step - loss: 497.3427\n",
      "Epoch 77/200\n",
      "499/499 [==============================] - 2s 3ms/step - loss: 495.6683\n",
      "Epoch 78/200\n",
      "499/499 [==============================] - 2s 3ms/step - loss: 498.1203\n",
      "Epoch 79/200\n",
      "499/499 [==============================] - 2s 3ms/step - loss: 495.2571\n",
      "Epoch 80/200\n",
      "499/499 [==============================] - 2s 3ms/step - loss: 495.0511\n",
      "Epoch 81/200\n",
      "499/499 [==============================] - 2s 3ms/step - loss: 494.0223\n",
      "Epoch 82/200\n",
      "499/499 [==============================] - 2s 3ms/step - loss: 496.2759\n",
      "Epoch 83/200\n",
      "499/499 [==============================] - 2s 3ms/step - loss: 491.8817\n",
      "Epoch 84/200\n",
      "499/499 [==============================] - 2s 3ms/step - loss: 491.2584\n",
      "Epoch 85/200\n",
      "499/499 [==============================] - 2s 3ms/step - loss: 492.4850\n",
      "Epoch 86/200\n",
      "499/499 [==============================] - 2s 3ms/step - loss: 496.7079A\n",
      "Epoch 87/200\n",
      "499/499 [==============================] - 1s 3ms/step - loss: 494.0439\n",
      "Epoch 88/200\n",
      "499/499 [==============================] - 2s 3ms/step - loss: 494.5676\n",
      "Epoch 89/200\n",
      "499/499 [==============================] - 2s 3ms/step - loss: 490.0640\n",
      "Epoch 90/200\n",
      "499/499 [==============================] - 2s 3ms/step - loss: 490.5431\n",
      "Epoch 91/200\n",
      "499/499 [==============================] - 1s 3ms/step - loss: 489.8509\n",
      "Epoch 92/200\n",
      "499/499 [==============================] - 2s 3ms/step - loss: 489.5280A: 0s - l\n",
      "Epoch 93/200\n",
      "499/499 [==============================] - 1s 3ms/step - loss: 490.5854\n",
      "Epoch 94/200\n",
      "499/499 [==============================] - 2s 3ms/step - loss: 489.0727\n",
      "Epoch 95/200\n",
      "499/499 [==============================] - 2s 3ms/step - loss: 489.1598\n",
      "Epoch 96/200\n",
      "499/499 [==============================] - 1s 3ms/step - loss: 490.9515\n",
      "Epoch 97/200\n"
     ]
    },
    {
     "name": "stdout",
     "output_type": "stream",
     "text": [
      "499/499 [==============================] - 2s 3ms/step - loss: 490.9262\n",
      "Epoch 98/200\n",
      "499/499 [==============================] - 2s 3ms/step - loss: 488.5401\n",
      "Epoch 99/200\n",
      "499/499 [==============================] - 2s 3ms/step - loss: 489.3480\n",
      "Epoch 100/200\n",
      "499/499 [==============================] - 2s 3ms/step - loss: 484.9375\n",
      "Epoch 101/200\n",
      "499/499 [==============================] - 2s 3ms/step - loss: 486.8741\n",
      "Epoch 102/200\n",
      "499/499 [==============================] - 2s 3ms/step - loss: 486.8351\n",
      "Epoch 103/200\n",
      "499/499 [==============================] - 2s 3ms/step - loss: 484.4384\n",
      "Epoch 104/200\n",
      "499/499 [==============================] - 2s 3ms/step - loss: 486.7724\n",
      "Epoch 105/200\n",
      "499/499 [==============================] - 2s 3ms/step - loss: 483.4712\n",
      "Epoch 106/200\n",
      "499/499 [==============================] - 2s 3ms/step - loss: 485.0384\n",
      "Epoch 107/200\n",
      "499/499 [==============================] - 1s 3ms/step - loss: 483.3489\n",
      "Epoch 108/200\n",
      "499/499 [==============================] - 2s 3ms/step - loss: 485.0351\n",
      "Epoch 109/200\n",
      "499/499 [==============================] - 2s 3ms/step - loss: 483.8640\n",
      "Epoch 110/200\n",
      "499/499 [==============================] - 2s 3ms/step - loss: 480.9864\n",
      "Epoch 111/200\n",
      "499/499 [==============================] - 2s 3ms/step - loss: 482.1584\n",
      "Epoch 112/200\n",
      "499/499 [==============================] - 2s 3ms/step - loss: 481.8696\n",
      "Epoch 113/200\n",
      "499/499 [==============================] - 2s 3ms/step - loss: 482.4675\n",
      "Epoch 114/200\n",
      "499/499 [==============================] - 2s 3ms/step - loss: 478.2148\n",
      "Epoch 115/200\n",
      "499/499 [==============================] - 2s 3ms/step - loss: 479.9462\n",
      "Epoch 116/200\n",
      "499/499 [==============================] - 2s 3ms/step - loss: 484.0818\n",
      "Epoch 117/200\n",
      "499/499 [==============================] - 2s 3ms/step - loss: 481.4460\n",
      "Epoch 118/200\n",
      "499/499 [==============================] - 1s 3ms/step - loss: 479.2570\n",
      "Epoch 119/200\n",
      "499/499 [==============================] - 2s 3ms/step - loss: 482.3085\n",
      "Epoch 120/200\n",
      "499/499 [==============================] - 2s 3ms/step - loss: 479.7545\n",
      "Epoch 121/200\n",
      "499/499 [==============================] - 2s 3ms/step - loss: 481.9942\n",
      "Epoch 122/200\n",
      "499/499 [==============================] - 2s 3ms/step - loss: 477.7739\n",
      "Epoch 123/200\n",
      "499/499 [==============================] - 2s 3ms/step - loss: 480.9499\n",
      "Epoch 124/200\n",
      "499/499 [==============================] - 2s 3ms/step - loss: 476.5893\n",
      "Epoch 125/200\n",
      "499/499 [==============================] - 2s 3ms/step - loss: 475.8697\n",
      "Epoch 126/200\n",
      "499/499 [==============================] - 2s 3ms/step - loss: 475.7870\n",
      "Epoch 127/200\n",
      "499/499 [==============================] - 2s 3ms/step - loss: 477.8648\n",
      "Epoch 128/200\n",
      "499/499 [==============================] - 2s 3ms/step - loss: 476.0298\n",
      "Epoch 129/200\n",
      "499/499 [==============================] - 2s 3ms/step - loss: 480.4211\n",
      "Epoch 130/200\n",
      "499/499 [==============================] - 2s 3ms/step - loss: 477.4070\n",
      "Epoch 131/200\n",
      "499/499 [==============================] - 2s 3ms/step - loss: 476.7868\n",
      "Epoch 132/200\n",
      "499/499 [==============================] - 2s 3ms/step - loss: 473.0369\n",
      "Epoch 133/200\n",
      "499/499 [==============================] - 2s 3ms/step - loss: 474.0769A: 0s - loss: 472\n",
      "Epoch 134/200\n",
      "499/499 [==============================] - 2s 3ms/step - loss: 476.4497\n",
      "Epoch 135/200\n",
      "499/499 [==============================] - 2s 3ms/step - loss: 474.9732\n",
      "Epoch 136/200\n",
      "499/499 [==============================] - 2s 3ms/step - loss: 474.6680\n",
      "Epoch 137/200\n",
      "499/499 [==============================] - 2s 3ms/step - loss: 474.4363\n",
      "Epoch 138/200\n",
      "499/499 [==============================] - 2s 3ms/step - loss: 475.6643\n",
      "Epoch 139/200\n",
      "499/499 [==============================] - 2s 3ms/step - loss: 475.0743\n",
      "Epoch 140/200\n",
      "499/499 [==============================] - 2s 3ms/step - loss: 472.4930\n",
      "Epoch 141/200\n",
      "499/499 [==============================] - 2s 3ms/step - loss: 472.2753\n",
      "Epoch 142/200\n",
      "499/499 [==============================] - 2s 3ms/step - loss: 474.0582A: 1s\n",
      "Epoch 143/200\n",
      "499/499 [==============================] - 2s 3ms/step - loss: 470.8621\n",
      "Epoch 144/200\n",
      "499/499 [==============================] - 1s 3ms/step - loss: 473.2139\n",
      "Epoch 145/200\n",
      "499/499 [==============================] - 2s 3ms/step - loss: 471.5565\n",
      "Epoch 146/200\n",
      "499/499 [==============================] - 2s 3ms/step - loss: 472.4504\n",
      "Epoch 147/200\n",
      "499/499 [==============================] - 2s 3ms/step - loss: 471.5255\n",
      "Epoch 148/200\n",
      "499/499 [==============================] - 2s 4ms/step - loss: 474.9528A: 0s - loss: 475.7\n",
      "Epoch 149/200\n",
      "499/499 [==============================] - 2s 4ms/step - loss: 470.2568\n",
      "Epoch 150/200\n",
      "499/499 [==============================] - 2s 3ms/step - loss: 469.3560\n",
      "Epoch 151/200\n",
      "499/499 [==============================] - 2s 3ms/step - loss: 471.8996\n",
      "Epoch 152/200\n",
      "499/499 [==============================] - 2s 3ms/step - loss: 468.6302\n",
      "Epoch 153/200\n",
      "499/499 [==============================] - 2s 3ms/step - loss: 469.5952\n",
      "Epoch 154/200\n",
      "499/499 [==============================] - 1s 3ms/step - loss: 470.2649\n",
      "Epoch 155/200\n",
      "499/499 [==============================] - 2s 3ms/step - loss: 470.0690\n",
      "Epoch 156/200\n",
      "499/499 [==============================] - 2s 3ms/step - loss: 468.0765\n",
      "Epoch 157/200\n",
      "499/499 [==============================] - 2s 3ms/step - loss: 470.2520\n",
      "Epoch 158/200\n",
      "499/499 [==============================] - 2s 3ms/step - loss: 469.7129A: 0s - lo\n",
      "Epoch 159/200\n",
      "499/499 [==============================] - 2s 3ms/step - loss: 469.8878\n",
      "Epoch 160/200\n",
      "499/499 [==============================] - 2s 3ms/step - loss: 469.7801\n",
      "Epoch 161/200\n",
      "499/499 [==============================] - 2s 3ms/step - loss: 468.5647\n",
      "Epoch 162/200\n",
      "499/499 [==============================] - 2s 3ms/step - loss: 466.3472\n",
      "Epoch 163/200\n",
      "499/499 [==============================] - 2s 3ms/step - loss: 471.9562\n",
      "Epoch 164/200\n",
      "499/499 [==============================] - 2s 3ms/step - loss: 467.3252\n",
      "Epoch 165/200\n",
      "499/499 [==============================] - 2s 3ms/step - loss: 468.5088\n",
      "Epoch 166/200\n",
      "499/499 [==============================] - 2s 3ms/step - loss: 465.9802\n",
      "Epoch 167/200\n",
      "499/499 [==============================] - 2s 3ms/step - loss: 468.6268\n",
      "Epoch 168/200\n",
      "499/499 [==============================] - 2s 3ms/step - loss: 467.1379\n",
      "Epoch 169/200\n",
      "499/499 [==============================] - 1s 3ms/step - loss: 466.3051\n",
      "Epoch 170/200\n",
      "499/499 [==============================] - 2s 3ms/step - loss: 464.9688\n",
      "Epoch 171/200\n",
      "499/499 [==============================] - 1s 3ms/step - loss: 465.7244\n",
      "Epoch 172/200\n",
      "499/499 [==============================] - 2s 3ms/step - loss: 464.4184\n",
      "Epoch 173/200\n",
      "499/499 [==============================] - 2s 3ms/step - loss: 465.6615\n",
      "Epoch 174/200\n",
      "499/499 [==============================] - 2s 3ms/step - loss: 464.8651\n",
      "Epoch 175/200\n",
      "499/499 [==============================] - 1s 3ms/step - loss: 463.7038\n",
      "Epoch 176/200\n",
      "499/499 [==============================] - 2s 4ms/step - loss: 467.0368\n",
      "Epoch 177/200\n",
      "499/499 [==============================] - 1s 3ms/step - loss: 463.7376\n",
      "Epoch 178/200\n",
      "499/499 [==============================] - 2s 3ms/step - loss: 465.4648\n",
      "Epoch 179/200\n",
      "499/499 [==============================] - 2s 3ms/step - loss: 463.2794\n",
      "Epoch 180/200\n",
      "499/499 [==============================] - 2s 3ms/step - loss: 466.5406\n",
      "Epoch 181/200\n",
      "499/499 [==============================] - 2s 3ms/step - loss: 462.3309\n",
      "Epoch 182/200\n",
      "499/499 [==============================] - 2s 3ms/step - loss: 465.7310A: 0s - loss: \n",
      "Epoch 183/200\n",
      "499/499 [==============================] - 2s 3ms/step - loss: 462.1550\n",
      "Epoch 184/200\n",
      "499/499 [==============================] - 2s 3ms/step - loss: 463.4674\n",
      "Epoch 185/200\n",
      "499/499 [==============================] - 2s 3ms/step - loss: 462.9683\n",
      "Epoch 186/200\n",
      "499/499 [==============================] - 2s 3ms/step - loss: 461.0242\n",
      "Epoch 187/200\n",
      "499/499 [==============================] - 2s 3ms/step - loss: 463.7152\n",
      "Epoch 188/200\n",
      "499/499 [==============================] - 1s 3ms/step - loss: 464.7124\n",
      "Epoch 189/200\n",
      "499/499 [==============================] - 2s 3ms/step - loss: 462.6693\n",
      "Epoch 190/200\n",
      "499/499 [==============================] - 2s 3ms/step - loss: 462.6489\n",
      "Epoch 191/200\n"
     ]
    },
    {
     "name": "stdout",
     "output_type": "stream",
     "text": [
      "499/499 [==============================] - 1s 3ms/step - loss: 458.4982\n",
      "Epoch 192/200\n",
      "499/499 [==============================] - 2s 3ms/step - loss: 463.0638\n",
      "Epoch 193/200\n",
      "499/499 [==============================] - 2s 3ms/step - loss: 462.1920\n",
      "Epoch 194/200\n",
      "499/499 [==============================] - 2s 3ms/step - loss: 461.2415\n",
      "Epoch 195/200\n",
      "499/499 [==============================] - 2s 3ms/step - loss: 463.1223A: 0s - loss: 461.6\n",
      "Epoch 196/200\n",
      "499/499 [==============================] - 2s 3ms/step - loss: 460.8319\n",
      "Epoch 197/200\n",
      "499/499 [==============================] - 2s 3ms/step - loss: 462.7691\n",
      "Epoch 198/200\n",
      "499/499 [==============================] - 2s 3ms/step - loss: 462.2745\n",
      "Epoch 199/200\n",
      "499/499 [==============================] - 2s 3ms/step - loss: 460.0641\n",
      "Epoch 200/200\n",
      "499/499 [==============================] - 2s 3ms/step - loss: 458.4085\n"
     ]
    },
    {
     "data": {
      "text/plain": [
       "<tensorflow.python.keras.callbacks.History at 0x1ce4bf23080>"
      ]
     },
     "execution_count": 194,
     "metadata": {},
     "output_type": "execute_result"
    }
   ],
   "source": [
    "model.fit(x_train,y_train,batch_size = 256, epochs = 200)"
   ]
  },
  {
   "cell_type": "code",
   "execution_count": 195,
   "id": "c47e6f19",
   "metadata": {
    "ExecuteTime": {
     "end_time": "2021-06-08T09:55:36.117003Z",
     "start_time": "2021-06-08T09:55:33.388718Z"
    }
   },
   "outputs": [
    {
     "name": "stdout",
     "output_type": "stream",
     "text": [
      "470.5117184837154\n"
     ]
    }
   ],
   "source": [
    "#比较训练集和测试集效果\n",
    "nn_train_pre = model.predict(x_train)\n",
    "pd.DataFrame(nn_train_pre).to_csv('./data/nn_train_pre.csv', sep = ',', index = None)\n",
    "print(mean_absolute_error(y_train, nn_train_pre))"
   ]
  },
  {
   "cell_type": "code",
   "execution_count": 196,
   "id": "744237f2",
   "metadata": {
    "ExecuteTime": {
     "end_time": "2021-06-08T09:55:36.636649Z",
     "start_time": "2021-06-08T09:55:36.118002Z"
    }
   },
   "outputs": [
    {
     "name": "stdout",
     "output_type": "stream",
     "text": [
      "478.9399366072761\n"
     ]
    }
   ],
   "source": [
    "nn_val_pre = model.predict(x_val)\n",
    "pd.DataFrame(nn_val_pre).to_csv('./data/nn_val_pre.csv', sep = ',', index = None)\n",
    "print(mean_absolute_error(y_val, nn_val_pre))"
   ]
  },
  {
   "cell_type": "code",
   "execution_count": 197,
   "id": "2237e087",
   "metadata": {
    "ExecuteTime": {
     "end_time": "2021-06-08T09:55:38.142955Z",
     "start_time": "2021-06-08T09:55:36.637648Z"
    }
   },
   "outputs": [],
   "source": [
    "#输出结果预测\n",
    "nn_test_pre = model.predict(x_test)\n",
    "pd.DataFrame(nn_test_pre).to_csv('./data/nn_test_pre.csv', sep = ',', index = None)"
   ]
  },
  {
   "cell_type": "code",
   "execution_count": 198,
   "id": "478c626d",
   "metadata": {
    "ExecuteTime": {
     "end_time": "2021-06-08T09:55:38.445321Z",
     "start_time": "2021-06-08T09:55:38.143954Z"
    }
   },
   "outputs": [],
   "source": [
    "sub= pd.read_csv(r'./data/used_car_sample_submit.csv', sep=',')\n",
    "sub['price'] = pd.Series(np.squeeze(nn_test_pre))\n",
    "sub.to_csv('./data/sub_network.csv',sep = ',',index = None)"
   ]
  },
  {
   "cell_type": "code",
   "execution_count": null,
   "id": "941ca9a8",
   "metadata": {},
   "outputs": [],
   "source": []
  }
 ],
 "metadata": {
  "kernelspec": {
   "display_name": "Python 3",
   "language": "python",
   "name": "python3"
  },
  "language_info": {
   "codemirror_mode": {
    "name": "ipython",
    "version": 3
   },
   "file_extension": ".py",
   "mimetype": "text/x-python",
   "name": "python",
   "nbconvert_exporter": "python",
   "pygments_lexer": "ipython3",
   "version": "3.7.2"
  },
  "toc": {
   "base_numbering": 1,
   "nav_menu": {},
   "number_sections": true,
   "sideBar": true,
   "skip_h1_title": false,
   "title_cell": "Table of Contents",
   "title_sidebar": "Contents",
   "toc_cell": false,
   "toc_position": {},
   "toc_section_display": true,
   "toc_window_display": false
  }
 },
 "nbformat": 4,
 "nbformat_minor": 5
}
