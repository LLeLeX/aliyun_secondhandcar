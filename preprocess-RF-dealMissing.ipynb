{
 "cells": [
  {
   "cell_type": "code",
   "execution_count": 1,
   "metadata": {
    "ExecuteTime": {
     "end_time": "2021-06-02T10:16:37.154764Z",
     "start_time": "2021-06-02T10:16:11.987454Z"
    }
   },
   "outputs": [],
   "source": [
    "# 导入相关库及配置\n",
    "import numpy as np\n",
    "import pandas as pd\n",
    "import matplotlib.pyplot as plt\n",
    "import seaborn as sns\n",
    "from sklearn.ensemble import RandomForestRegressor, GradientBoostingRegressor\n",
    "from xgboost import XGBRegressor\n",
    "from sklearn.model_selection import cross_val_score, GridSearchCV  # 交叉验证，网格搜索\n",
    "pd.options.display.max_columns = None  # 取消最大列显示限制\n",
    "%matplotlib inline\n",
    "import warnings\n",
    "warnings.filterwarnings(\"ignore\")# 过滤警告信息，保证清爽输出\n",
    "from sklearn.metrics import mean_squared_error, mean_absolute_error\n",
    "from sklearn.model_selection import cross_val_score\n",
    "import lightgbm as lgb\n",
    "from datetime import datetime\n",
    "import time\n",
    "from sklearn.model_selection import KFold, cross_val_score as CVS, train_test_split as TTS"
   ]
  },
  {
   "cell_type": "markdown",
   "metadata": {},
   "source": [
    "# 导入数据"
   ]
  },
  {
   "cell_type": "code",
   "execution_count": 2,
   "metadata": {
    "ExecuteTime": {
     "end_time": "2021-06-02T10:16:53.691377Z",
     "start_time": "2021-06-02T10:16:52.420695Z"
    }
   },
   "outputs": [],
   "source": [
    "## 1) 载入训练集和测试集；\n",
    "train_data= pd.read_csv(r'./data/used_car_train_20200313.csv', sep=' ')\n",
    "test_data= pd.read_csv(r'./data/used_car_testB_20200421.csv', sep=' ')"
   ]
  },
  {
   "cell_type": "code",
   "execution_count": 3,
   "metadata": {
    "ExecuteTime": {
     "end_time": "2021-06-02T10:16:54.085486Z",
     "start_time": "2021-06-02T10:16:54.042601Z"
    }
   },
   "outputs": [],
   "source": [
    "train = train_data.drop(['SaleID'], axis=1)\n",
    "test = test_data.drop(['SaleID'], axis=1)"
   ]
  },
  {
   "cell_type": "markdown",
   "metadata": {},
   "source": [
    "# 数据预处理"
   ]
  },
  {
   "cell_type": "markdown",
   "metadata": {},
   "source": [
    "## 数据清洗\n",
    "1. 空值转换\n",
    "2. 数据类型转换"
   ]
  },
  {
   "cell_type": "code",
   "execution_count": 4,
   "metadata": {
    "ExecuteTime": {
     "end_time": "2021-06-02T10:16:55.742260Z",
     "start_time": "2021-06-02T10:16:55.669458Z"
    }
   },
   "outputs": [
    {
     "data": {
      "text/plain": [
       "(array([ 0., nan,  1.]), array([ 0., nan,  1.]))"
      ]
     },
     "execution_count": 4,
     "metadata": {},
     "output_type": "execute_result"
    }
   ],
   "source": [
    "# 转换'-'\n",
    "train['notRepairedDamage'] = train['notRepairedDamage'].replace('-', np.nan) \n",
    "test['notRepairedDamage'] = test['notRepairedDamage'].replace('-', np.nan)\n",
    "\n",
    "# 转换数据类型\n",
    "train['notRepairedDamage'] = train['notRepairedDamage'].astype('float64')\n",
    "test['notRepairedDamage'] = test['notRepairedDamage'].astype('float64')\n",
    "\n",
    "# 检查是否转换成功\n",
    "train['notRepairedDamage'].unique(), test['notRepairedDamage'].unique()"
   ]
  },
  {
   "cell_type": "markdown",
   "metadata": {},
   "source": [
    "## 数据倾斜和数据分布"
   ]
  },
  {
   "cell_type": "code",
   "execution_count": 5,
   "metadata": {
    "ExecuteTime": {
     "end_time": "2021-06-02T10:16:57.004220Z",
     "start_time": "2021-06-02T10:16:56.296779Z"
    }
   },
   "outputs": [
    {
     "name": "stdout",
     "output_type": "stream",
     "text": [
      "查看数据分布：\n",
      "140244      1\n",
      "122830      1\n",
      "116685      1\n",
      "118732      1\n",
      "131018      1\n",
      "         ... \n",
      "203       233\n",
      "1541      263\n",
      "55        280\n",
      "387       282\n",
      "708       282\n",
      "Name: name, Length: 99662, dtype: int64\n",
      "\n",
      "\n",
      "20151201      1\n",
      "20130004      1\n",
      "20151106      1\n",
      "20151212      1\n",
      "19911211      1\n",
      "           ... \n",
      "20000002    155\n",
      "20000010    157\n",
      "20000004    157\n",
      "20000011    158\n",
      "20000008    180\n",
      "Name: regDate, Length: 3894, dtype: int64\n",
      "\n",
      "\n",
      "247.0        1\n",
      "245.0        2\n",
      "242.0        2\n",
      "240.0        2\n",
      "209.0        2\n",
      "         ...  \n",
      "29.0      5186\n",
      "1.0       6038\n",
      "4.0       8445\n",
      "19.0      9573\n",
      "0.0      11762\n",
      "Name: model, Length: 248, dtype: int64\n",
      "\n",
      "\n",
      "39        9\n",
      "38       65\n",
      "35      180\n",
      "23      186\n",
      "33      218\n",
      "34      227\n",
      "36      228\n",
      "18      316\n",
      "31      318\n",
      "2       321\n",
      "37      333\n",
      "29      406\n",
      "32      592\n",
      "28      649\n",
      "24      772\n",
      "17      913\n",
      "30      940\n",
      "26      966\n",
      "22     1085\n",
      "12     1109\n",
      "20     1236\n",
      "19     1388\n",
      "15     1458\n",
      "21     1547\n",
      "27     2053\n",
      "25     2064\n",
      "8      2077\n",
      "16     2223\n",
      "7      2361\n",
      "3      2461\n",
      "11     2945\n",
      "13     3817\n",
      "5      4665\n",
      "9      7306\n",
      "6     10217\n",
      "1     13794\n",
      "10    14249\n",
      "14    16089\n",
      "4     16737\n",
      "0     31480\n",
      "Name: brand, dtype: int64\n",
      "\n",
      "\n",
      "7.0     1289\n",
      "6.0     6482\n",
      "5.0     7607\n",
      "4.0     9609\n",
      "3.0    13491\n",
      "2.0    30324\n",
      "1.0    35272\n",
      "0.0    41420\n",
      "Name: bodyType, dtype: int64\n",
      "\n",
      "\n",
      "6.0       36\n",
      "5.0       45\n",
      "4.0      118\n",
      "3.0      262\n",
      "2.0     2212\n",
      "1.0    46991\n",
      "0.0    91656\n",
      "Name: fuelType, dtype: int64\n",
      "\n",
      "\n",
      "1.0     32396\n",
      "0.0    111623\n",
      "Name: gearbox, dtype: int64\n",
      "\n",
      "\n",
      "575         1\n",
      "7512        1\n",
      "348         1\n",
      "604         1\n",
      "732         1\n",
      "        ...  \n",
      "140      5963\n",
      "60       6374\n",
      "150      6495\n",
      "75       9593\n",
      "0       12829\n",
      "Name: power, Length: 566, dtype: int64\n",
      "\n",
      "\n",
      "1.0       746\n",
      "0.5      1840\n",
      "2.0      2354\n",
      "3.0      2501\n",
      "4.0      2718\n",
      "5.0      3144\n",
      "6.0      3725\n",
      "7.0      4084\n",
      "8.0      4573\n",
      "9.0      5257\n",
      "10.0     6459\n",
      "12.5    15722\n",
      "15.0    96877\n",
      "Name: kilometer, dtype: int64\n",
      "\n",
      "\n",
      "1.0     14315\n",
      "0.0    111361\n",
      "Name: notRepairedDamage, dtype: int64\n",
      "\n",
      "\n",
      "7267      1\n",
      "7493      1\n",
      "7103      1\n",
      "4926      1\n",
      "8092      1\n",
      "       ... \n",
      "462     134\n",
      "176     136\n",
      "125     137\n",
      "764     258\n",
      "419     369\n",
      "Name: regionCode, Length: 7905, dtype: int64\n",
      "\n",
      "\n",
      "1         1\n",
      "0    149999\n",
      "Name: seller, dtype: int64\n",
      "\n",
      "\n",
      "0    150000\n",
      "Name: offerType, dtype: int64\n",
      "\n",
      "\n",
      "20160115       1\n",
      "20150909       1\n",
      "20160118       1\n",
      "20160126       1\n",
      "20160123       1\n",
      "            ... \n",
      "20160402    5382\n",
      "20160312    5383\n",
      "20160320    5485\n",
      "20160404    5606\n",
      "20160403    5848\n",
      "Name: creatDate, Length: 96, dtype: int64\n",
      "\n",
      "\n",
      "8188        1\n",
      "3725        1\n",
      "505         1\n",
      "26880       1\n",
      "35100       1\n",
      "         ... \n",
      "2500     1821\n",
      "1000     1850\n",
      "1200     1922\n",
      "1500     2158\n",
      "500      2337\n",
      "Name: price, Length: 3763, dtype: int64\n",
      "\n",
      "\n",
      "43.618631     1\n",
      "43.374546     1\n",
      "43.504883     1\n",
      "47.641956     1\n",
      "46.035817     1\n",
      "             ..\n",
      "47.840357    15\n",
      "48.618150    15\n",
      "47.568450    15\n",
      "48.087217    16\n",
      "45.349115    20\n",
      "Name: v_0, Length: 143997, dtype: int64\n",
      "\n",
      "\n",
      "-3.317510     1\n",
      "-3.175755     1\n",
      "-2.938770     1\n",
      "-3.206646     1\n",
      "-3.122652     1\n",
      "             ..\n",
      " 2.796739    15\n",
      " 3.354949    15\n",
      " 1.942732    15\n",
      " 3.183323    16\n",
      "-3.245133    20\n",
      "Name: v_1, Length: 143998, dtype: int64\n",
      "\n",
      "\n",
      "-0.550954     1\n",
      "-0.278351     1\n",
      "-0.963000     1\n",
      " 0.296249     1\n",
      "-2.002739     1\n",
      "             ..\n",
      " 0.980616    15\n",
      "-0.158364    15\n",
      " 0.887762    15\n",
      " 0.826577    16\n",
      "-0.349860    20\n",
      "Name: v_2, Length: 143997, dtype: int64\n",
      "\n",
      "\n",
      "-1.437688     1\n",
      " 4.460675     1\n",
      " 3.917249     1\n",
      " 1.835320     1\n",
      " 2.603347     1\n",
      "             ..\n",
      "-1.612432    15\n",
      "-1.619873    15\n",
      "-2.006612    15\n",
      "-1.312990    16\n",
      "-0.218201    20\n",
      "Name: v_3, Length: 143998, dtype: int64\n",
      "\n",
      "\n",
      " 1.212495     1\n",
      " 1.169595     1\n",
      " 0.161726     1\n",
      "-0.424994     1\n",
      " 1.421689     1\n",
      "             ..\n",
      "-0.379815    15\n",
      "-0.364986    15\n",
      "-0.365900    15\n",
      " 0.696775    16\n",
      "-1.626828    20\n",
      "Name: v_4, Length: 143998, dtype: int64\n",
      "\n",
      "\n",
      "0.241629       1\n",
      "0.262314       1\n",
      "0.262341       1\n",
      "0.237536       1\n",
      "0.248029       1\n",
      "            ... \n",
      "0.277097      15\n",
      "0.261082      15\n",
      "0.256226      16\n",
      "0.269406      20\n",
      "0.000000    4485\n",
      "Name: v_5, Length: 139624, dtype: int64\n",
      "\n",
      "\n",
      "0.000616        1\n",
      "0.000313        1\n",
      "0.000317        1\n",
      "0.001275        1\n",
      "0.100403        1\n",
      "            ...  \n",
      "0.087562       15\n",
      "0.075212       15\n",
      "0.093472       16\n",
      "0.000053       20\n",
      "0.000000    35465\n",
      "Name: v_6, Length: 109766, dtype: int64\n",
      "\n",
      "\n",
      "0.082246       1\n",
      "0.146377       1\n",
      "0.080682       1\n",
      "0.055841       1\n",
      "0.108460       1\n",
      "            ... \n",
      "0.051680      15\n",
      "0.139667      15\n",
      "0.130272      16\n",
      "0.124213      20\n",
      "0.000000    5467\n",
      "Name: v_7, Length: 138709, dtype: int64\n",
      "\n",
      "\n",
      "0.072734       1\n",
      "0.040490       1\n",
      "0.073405       1\n",
      "0.061709       1\n",
      "0.030840       1\n",
      "            ... \n",
      "0.075905      15\n",
      "0.073268      15\n",
      "0.074742      16\n",
      "0.067358      20\n",
      "0.000000    1597\n",
      "Name: v_8, Length: 142451, dtype: int64\n",
      "\n",
      "\n",
      "0.013516       1\n",
      "0.035107       1\n",
      "0.033710       1\n",
      "0.129849       1\n",
      "0.020692       1\n",
      "            ... \n",
      "0.051535      15\n",
      "0.101150      15\n",
      "0.082765      16\n",
      "0.014867      20\n",
      "0.000000    3486\n",
      "Name: v_9, Length: 140617, dtype: int64\n",
      "\n",
      "\n",
      "-3.216045     1\n",
      "-3.604999     1\n",
      " 1.322543     1\n",
      " 3.544343     1\n",
      "-4.329500     1\n",
      "             ..\n",
      "-4.383929    15\n",
      "-4.757359    15\n",
      "-3.163236    15\n",
      "-4.303481    16\n",
      " 2.329386    20\n",
      "Name: v_10, Length: 143997, dtype: int64\n",
      "\n",
      "\n",
      "-1.718046     1\n",
      "-0.948513     1\n",
      " 0.187775     1\n",
      "-0.039674     1\n",
      " 0.304457     1\n",
      "             ..\n",
      "-1.436494    15\n",
      "-0.802614    15\n",
      "-1.107940    15\n",
      "-0.330053    16\n",
      "-2.255591    20\n",
      "Name: v_11, Length: 143997, dtype: int64\n",
      "\n",
      "\n",
      " 3.912104     1\n",
      " 3.242953     1\n",
      "-1.232701     1\n",
      "-1.243034     1\n",
      "-1.566735     1\n",
      "             ..\n",
      " 2.104470    15\n",
      " 3.097963    15\n",
      " 2.375256    15\n",
      " 2.486297    16\n",
      " 0.847433    20\n",
      "Name: v_12, Length: 143997, dtype: int64\n",
      "\n",
      "\n",
      "-0.285967     1\n",
      "-1.830060     1\n",
      " 0.207428     1\n",
      "-0.722717     1\n",
      " 1.800339     1\n",
      "             ..\n",
      "-0.499453    15\n",
      "-0.834697    15\n",
      " 0.548697    15\n",
      "-0.043463    16\n",
      "-1.698497    20\n",
      "Name: v_13, Length: 143998, dtype: int64\n",
      "\n",
      "\n",
      " 0.673312     1\n",
      "-0.470788     1\n",
      " 1.473301     1\n",
      " 1.021184     1\n",
      " 1.264697     1\n",
      "             ..\n",
      " 0.869586    15\n",
      " 1.027487    15\n",
      "-3.059444    15\n",
      "-2.290344    16\n",
      " 0.003015    20\n",
      "Name: v_14, Length: 143998, dtype: int64\n",
      "\n",
      "\n"
     ]
    }
   ],
   "source": [
    "print(\"查看数据分布：\")\n",
    "for col in pd.Series(train.columns):\n",
    "    print(train[col].value_counts().sort_values())\n",
    "    print(\"\\n\")  \n",
    "# 发现power的数据范围存在问题\n",
    "# seller数据倾斜\n",
    "# offerType均相同"
   ]
  },
  {
   "cell_type": "markdown",
   "metadata": {},
   "source": [
    "### seller和offerType数据倾斜问题"
   ]
  },
  {
   "cell_type": "code",
   "execution_count": 6,
   "metadata": {
    "ExecuteTime": {
     "end_time": "2021-06-02T10:16:57.540796Z",
     "start_time": "2021-06-02T10:16:57.528824Z"
    }
   },
   "outputs": [
    {
     "data": {
      "text/plain": [
       "0    149999\n",
       "1         1\n",
       "Name: seller, dtype: int64"
      ]
     },
     "execution_count": 6,
     "metadata": {},
     "output_type": "execute_result"
    }
   ],
   "source": [
    "# 发现seller特征在训练集和测试集中偏斜极其严重，对预测没有帮助，删去\n",
    "train['seller'].value_counts()"
   ]
  },
  {
   "cell_type": "code",
   "execution_count": 7,
   "metadata": {
    "ExecuteTime": {
     "end_time": "2021-06-02T10:16:58.194703Z",
     "start_time": "2021-06-02T10:16:58.120904Z"
    }
   },
   "outputs": [],
   "source": [
    "train.drop(['seller'], axis=1, inplace=True)\n",
    "test.drop(['seller'], axis=1, inplace=True)"
   ]
  },
  {
   "cell_type": "code",
   "execution_count": 8,
   "metadata": {
    "ExecuteTime": {
     "end_time": "2021-06-02T10:16:58.728119Z",
     "start_time": "2021-06-02T10:16:58.715155Z"
    }
   },
   "outputs": [
    {
     "data": {
      "text/plain": [
       "0    150000\n",
       "Name: offerType, dtype: int64"
      ]
     },
     "execution_count": 8,
     "metadata": {},
     "output_type": "execute_result"
    }
   ],
   "source": [
    "# 发现两个数据集的offerType列全为0，删去。\n",
    "train['offerType'].value_counts()"
   ]
  },
  {
   "cell_type": "code",
   "execution_count": 9,
   "metadata": {
    "ExecuteTime": {
     "end_time": "2021-06-02T10:16:59.332693Z",
     "start_time": "2021-06-02T10:16:59.289619Z"
    }
   },
   "outputs": [],
   "source": [
    "train = train.drop(['offerType'], axis=1)\n",
    "test = test.drop(['offerType'], axis=1)"
   ]
  },
  {
   "cell_type": "markdown",
   "metadata": {},
   "source": [
    "### power数据范围的问题\n",
    "power与price之间的相关性系数为0.566101，不能完全忽略\n",
    "\n",
    "处理策略：\n",
    "1. 中位数，平均数修改\n",
    "2. 随机森林填补"
   ]
  },
  {
   "cell_type": "code",
   "execution_count": 10,
   "metadata": {
    "ExecuteTime": {
     "end_time": "2021-06-02T10:16:59.835482Z",
     "start_time": "2021-06-02T10:16:59.807552Z"
    },
    "scrolled": true
   },
   "outputs": [
    {
     "data": {
      "text/plain": [
       "601    2\n",
       "602    1\n",
       "603    2\n",
       "604    1\n",
       "610    2\n",
       "612    4\n",
       "620    1\n",
       "625    1\n",
       "629    1\n",
       "631    1\n",
       "650    1\n",
       "676    1\n",
       "678    1\n",
       "680    1\n",
       "732    1\n",
       "740    1\n",
       "751    1\n",
       "776    1\n",
       "800    1\n",
       "801    1\n",
       "Name: power, dtype: int64"
      ]
     },
     "execution_count": 10,
     "metadata": {},
     "output_type": "execute_result"
    }
   ],
   "source": [
    "# 查看power值大于600的数据分布情况\n",
    "train[train['power'] > 600]['power'].value_counts().sort_index().head(20)"
   ]
  },
  {
   "cell_type": "code",
   "execution_count": 11,
   "metadata": {
    "ExecuteTime": {
     "end_time": "2021-06-02T10:17:00.487732Z",
     "start_time": "2021-06-02T10:17:00.475765Z"
    },
    "scrolled": true
   },
   "outputs": [
    {
     "data": {
      "text/plain": [
       "603      1\n",
       "612      1\n",
       "620      1\n",
       "629      1\n",
       "650      1\n",
       "700      2\n",
       "703      1\n",
       "751      1\n",
       "771      1\n",
       "999      1\n",
       "1000     1\n",
       "1001     1\n",
       "1002     1\n",
       "1016     1\n",
       "1024     1\n",
       "1055     1\n",
       "1056     1\n",
       "1100     1\n",
       "1103     1\n",
       "1200     1\n",
       "1221     1\n",
       "1230     1\n",
       "1275     1\n",
       "1400     1\n",
       "1405     1\n",
       "1548     1\n",
       "1598     1\n",
       "1600     1\n",
       "1704     1\n",
       "1707     1\n",
       "1800     1\n",
       "2004     1\n",
       "2007     1\n",
       "2009     1\n",
       "2016     1\n",
       "2018     1\n",
       "3750     1\n",
       "4400     1\n",
       "6006     1\n",
       "6010     1\n",
       "9007     1\n",
       "9013     1\n",
       "10522    1\n",
       "11011    1\n",
       "11025    1\n",
       "11509    1\n",
       "12512    1\n",
       "15033    1\n",
       "19208    1\n",
       "19211    1\n",
       "Name: power, dtype: int64"
      ]
     },
     "execution_count": 11,
     "metadata": {},
     "output_type": "execute_result"
    }
   ],
   "source": [
    "test[test['power'] > 600]['power'].value_counts().sort_index()"
   ]
  },
  {
   "cell_type": "code",
   "execution_count": 12,
   "metadata": {
    "ExecuteTime": {
     "end_time": "2021-06-02T10:17:01.370627Z",
     "start_time": "2021-06-02T10:17:01.020348Z"
    }
   },
   "outputs": [
    {
     "data": {
      "text/plain": [
       "143"
      ]
     },
     "execution_count": 12,
     "metadata": {},
     "output_type": "execute_result"
    }
   ],
   "source": [
    "# 赛题数据描述讲到，power范围为[0, 600],修正特征power大于600的值\n",
    "# train有143个值不合法，需要用别的值替换\n",
    "train[train['power'] > 600]['power'].count()"
   ]
  },
  {
   "cell_type": "code",
   "execution_count": 13,
   "metadata": {
    "ExecuteTime": {
     "end_time": "2021-06-02T10:17:01.982078Z",
     "start_time": "2021-06-02T10:17:01.957142Z"
    }
   },
   "outputs": [
    {
     "data": {
      "text/plain": [
       "51"
      ]
     },
     "execution_count": 13,
     "metadata": {},
     "output_type": "execute_result"
    }
   ],
   "source": [
    "# test有51个不合法需要替换\n",
    "test[test['power'] > 600]['power'].count()"
   ]
  },
  {
   "cell_type": "code",
   "execution_count": 14,
   "metadata": {
    "ExecuteTime": {
     "end_time": "2021-06-02T10:17:02.906473Z",
     "start_time": "2021-06-02T10:17:02.682220Z"
    }
   },
   "outputs": [],
   "source": [
    "# 使用map函数，以power列的中位数来替换数值超出范围的power\n",
    "train['power'] = train['power'].map(lambda x: train['power'].mean() if x > 600 else x)\n",
    "test['power'] = test['power'].map(lambda x: test['power'].mean() if x > 600 else x)"
   ]
  },
  {
   "cell_type": "code",
   "execution_count": 15,
   "metadata": {
    "ExecuteTime": {
     "end_time": "2021-06-02T10:17:03.489956Z",
     "start_time": "2021-06-02T10:17:03.447069Z"
    }
   },
   "outputs": [
    {
     "data": {
      "text/plain": [
       "0"
      ]
     },
     "execution_count": 15,
     "metadata": {},
     "output_type": "execute_result"
    }
   ],
   "source": [
    "# 检查替换情况\n",
    "train[train['power'] > 600]['power'].count()"
   ]
  },
  {
   "cell_type": "code",
   "execution_count": 16,
   "metadata": {
    "ExecuteTime": {
     "end_time": "2021-06-02T10:17:03.520871Z",
     "start_time": "2021-06-02T10:17:03.493946Z"
    }
   },
   "outputs": [
    {
     "data": {
      "text/plain": [
       "0"
      ]
     },
     "execution_count": 16,
     "metadata": {},
     "output_type": "execute_result"
    }
   ],
   "source": [
    "test[test['power'] > 600]['power'].count()"
   ]
  },
  {
   "cell_type": "code",
   "execution_count": 17,
   "metadata": {
    "ExecuteTime": {
     "end_time": "2021-06-02T10:17:05.702494Z",
     "start_time": "2021-06-02T10:17:04.715093Z"
    }
   },
   "outputs": [
    {
     "data": {
      "text/plain": [
       "<matplotlib.axes._subplots.AxesSubplot at 0x1ed382a9130>"
      ]
     },
     "execution_count": 17,
     "metadata": {},
     "output_type": "execute_result"
    },
    {
     "data": {
      "image/png": "[encoded data removed]",
      "text/plain": [
       "<Figure size 432x288 with 1 Axes>"
      ]
     },
     "metadata": {
      "needs_background": "light"
     },
     "output_type": "display_data"
    }
   ],
   "source": [
    "# 检查是否替换成功\n",
    "train['power'].plot.hist()"
   ]
  },
  {
   "cell_type": "code",
   "execution_count": 18,
   "metadata": {
    "ExecuteTime": {
     "end_time": "2021-06-02T10:17:06.534330Z",
     "start_time": "2021-06-02T10:17:06.268041Z"
    },
    "scrolled": false
   },
   "outputs": [
    {
     "data": {
      "text/plain": [
       "<matplotlib.axes._subplots.AxesSubplot at 0x1ed38b5a1f0>"
      ]
     },
     "execution_count": 18,
     "metadata": {},
     "output_type": "execute_result"
    },
    {
     "data": {
      "image/png": "[encoded data removed]",
      "text/plain": [
       "<Figure size 432x288 with 1 Axes>"
      ]
     },
     "metadata": {
      "needs_background": "light"
     },
     "output_type": "display_data"
    }
   ],
   "source": [
    "test['power'].plot.hist()"
   ]
  },
  {
   "cell_type": "markdown",
   "metadata": {},
   "source": [
    "1. 在选择需要删除的特征之前，考虑线性相关系数低的。第一步选中系数绝对值小于0.1的特征， 第二步，抛开线性相关系数，从现实角度思考每个特征对售价的影响\n",
    "2. 特征v_2, v_6, v_1, v_14, v_13, v_7：由于是连续型变量，理论上具有数学意义。既然跟售价的线性相关系数极低，为降低噪声，避免过拟合，考虑删去；\n",
    "3. 特征regionCode, brand：并非连续型变量，不具备数学上的可比较性。与售价的线性相关系数低无法说明各自的取值对售价影响不大，保留。\n",
    "4. 特征name：汽车交易名称，训练集共有99662条不重复值，取值不影响售价，删去。\n",
    "5. 特征creatDate：（二手）汽车开始售卖时间，范围在 [20150618, 20160407]，间隔短，且与regDate（汽车注册时间）线性相关系数仅为-0.001293，其取值显然对售价影响很小，删去。**(暂时不删，可能购买时间可以组合出新的特征，对汽车价格产生影响)**"
   ]
  },
  {
   "cell_type": "markdown",
   "metadata": {},
   "source": [
    "## 填补缺失值"
   ]
  },
  {
   "cell_type": "code",
   "execution_count": 19,
   "metadata": {
    "ExecuteTime": {
     "end_time": "2021-06-02T10:17:07.128808Z",
     "start_time": "2021-06-02T10:17:07.074953Z"
    }
   },
   "outputs": [
    {
     "data": {
      "text/plain": [
       "model                    1\n",
       "bodyType              4506\n",
       "gearbox               5981\n",
       "fuelType              8680\n",
       "notRepairedDamage    24324\n",
       "dtype: int64"
      ]
     },
     "execution_count": 19,
     "metadata": {},
     "output_type": "execute_result"
    }
   ],
   "source": [
    "# 查看训练集缺失值存在情况\n",
    "train.isnull().sum()[train.isnull().sum() > 0].sort_values()"
   ]
  },
  {
   "cell_type": "code",
   "execution_count": 20,
   "metadata": {
    "ExecuteTime": {
     "end_time": "2021-06-02T10:17:07.797019Z",
     "start_time": "2021-06-02T10:17:07.772094Z"
    }
   },
   "outputs": [
    {
     "data": {
      "text/plain": [
       "bodyType             1504\n",
       "fuelType             2924\n",
       "gearbox              1968\n",
       "notRepairedDamage    8069\n",
       "dtype: int64"
      ]
     },
     "execution_count": 20,
     "metadata": {},
     "output_type": "execute_result"
    }
   ],
   "source": [
    "# 查看测试集缺失值存在情况\n",
    "test.isnull().sum()[test.isnull().sum() > 0]"
   ]
  },
  {
   "cell_type": "markdown",
   "metadata": {},
   "source": [
    "### 处理model的唯一缺失值\n",
    "频数最多的进行填补"
   ]
  },
  {
   "cell_type": "code",
   "execution_count": 21,
   "metadata": {
    "ExecuteTime": {
     "end_time": "2021-06-02T10:17:08.374962Z",
     "start_time": "2021-06-02T10:17:08.330593Z"
    }
   },
   "outputs": [
    {
     "data": {
      "text/html": [
       "<div>\n",
       "<style scoped>\n",
       "    .dataframe tbody tr th:only-of-type {\n",
       "        vertical-align: middle;\n",
       "    }\n",
       "\n",
       "    .dataframe tbody tr th {\n",
       "        vertical-align: top;\n",
       "    }\n",
       "\n",
       "    .dataframe thead th {\n",
       "        text-align: right;\n",
       "    }\n",
       "</style>\n",
       "<table border=\"1\" class=\"dataframe\">\n",
       "  <thead>\n",
       "    <tr style=\"text-align: right;\">\n",
       "      <th></th>\n",
       "      <th>name</th>\n",
       "      <th>regDate</th>\n",
       "      <th>model</th>\n",
       "      <th>brand</th>\n",
       "      <th>bodyType</th>\n",
       "      <th>fuelType</th>\n",
       "      <th>gearbox</th>\n",
       "      <th>power</th>\n",
       "      <th>kilometer</th>\n",
       "      <th>notRepairedDamage</th>\n",
       "      <th>regionCode</th>\n",
       "      <th>creatDate</th>\n",
       "      <th>price</th>\n",
       "      <th>v_0</th>\n",
       "      <th>v_1</th>\n",
       "      <th>v_2</th>\n",
       "      <th>v_3</th>\n",
       "      <th>v_4</th>\n",
       "      <th>v_5</th>\n",
       "      <th>v_6</th>\n",
       "      <th>v_7</th>\n",
       "      <th>v_8</th>\n",
       "      <th>v_9</th>\n",
       "      <th>v_10</th>\n",
       "      <th>v_11</th>\n",
       "      <th>v_12</th>\n",
       "      <th>v_13</th>\n",
       "      <th>v_14</th>\n",
       "    </tr>\n",
       "  </thead>\n",
       "  <tbody>\n",
       "    <tr>\n",
       "      <th>38424</th>\n",
       "      <td>148730</td>\n",
       "      <td>20150809</td>\n",
       "      <td>NaN</td>\n",
       "      <td>37</td>\n",
       "      <td>6.0</td>\n",
       "      <td>1.0</td>\n",
       "      <td>1.0</td>\n",
       "      <td>190.0</td>\n",
       "      <td>2.0</td>\n",
       "      <td>0.0</td>\n",
       "      <td>1425</td>\n",
       "      <td>20160320</td>\n",
       "      <td>47950</td>\n",
       "      <td>41.139365</td>\n",
       "      <td>-2.167089</td>\n",
       "      <td>-3.436008</td>\n",
       "      <td>-7.275037</td>\n",
       "      <td>6.829352</td>\n",
       "      <td>0.181562</td>\n",
       "      <td>0.002092</td>\n",
       "      <td>0.0</td>\n",
       "      <td>0.148487</td>\n",
       "      <td>0.222787</td>\n",
       "      <td>1.6757</td>\n",
       "      <td>-3.25056</td>\n",
       "      <td>0.876001</td>\n",
       "      <td>11.147669</td>\n",
       "      <td>8.658418</td>\n",
       "    </tr>\n",
       "  </tbody>\n",
       "</table>\n",
       "</div>"
      ],
      "text/plain": [
       "         name   regDate  model  brand  bodyType  fuelType  gearbox  power  \\\n",
       "38424  148730  20150809    NaN     37       6.0       1.0      1.0  190.0   \n",
       "\n",
       "       kilometer  notRepairedDamage  regionCode  creatDate  price        v_0  \\\n",
       "38424        2.0                0.0        1425   20160320  47950  41.139365   \n",
       "\n",
       "            v_1       v_2       v_3       v_4       v_5       v_6  v_7  \\\n",
       "38424 -2.167089 -3.436008 -7.275037  6.829352  0.181562  0.002092  0.0   \n",
       "\n",
       "            v_8       v_9    v_10     v_11      v_12       v_13      v_14  \n",
       "38424  0.148487  0.222787  1.6757 -3.25056  0.876001  11.147669  8.658418  "
      ]
     },
     "execution_count": 21,
     "metadata": {},
     "output_type": "execute_result"
    }
   ],
   "source": [
    "# 输出缺失所在行\n",
    "train[train['model'].isnull()]"
   ]
  },
  {
   "cell_type": "code",
   "execution_count": 22,
   "metadata": {
    "ExecuteTime": {
     "end_time": "2021-06-02T10:17:08.925942Z",
     "start_time": "2021-06-02T10:17:08.898010Z"
    }
   },
   "outputs": [
    {
     "data": {
      "text/plain": [
       "157.0    17\n",
       "199.0    16\n",
       "202.0     8\n",
       "200.0     1\n",
       "Name: model, dtype: int64"
      ]
     },
     "execution_count": 22,
     "metadata": {},
     "output_type": "execute_result"
    }
   ],
   "source": [
    "# model(车型编码)一般与brand, bodyType, gearbox, power有关，选择以上4个特征与该车相同的车辆的model，选择出现次数最多的值\n",
    "train[(train['brand'] == 37) & \n",
    "      (train['bodyType'] == 6.0) & \n",
    "      (train['gearbox'] == 1.0) & \n",
    "      (train['power'] == 190)]['model'].value_counts()"
   ]
  },
  {
   "cell_type": "code",
   "execution_count": 23,
   "metadata": {
    "ExecuteTime": {
     "end_time": "2021-06-02T10:17:09.554590Z",
     "start_time": "2021-06-02T10:17:09.527326Z"
    },
    "scrolled": true
   },
   "outputs": [
    {
     "data": {
      "text/plain": [
       "name                 1.487300e+05\n",
       "regDate              2.015081e+07\n",
       "model                1.570000e+02\n",
       "brand                3.700000e+01\n",
       "bodyType             6.000000e+00\n",
       "fuelType             1.000000e+00\n",
       "gearbox              1.000000e+00\n",
       "power                1.900000e+02\n",
       "kilometer            2.000000e+00\n",
       "notRepairedDamage    0.000000e+00\n",
       "regionCode           1.425000e+03\n",
       "creatDate            2.016032e+07\n",
       "price                4.795000e+04\n",
       "v_0                  4.113937e+01\n",
       "v_1                 -2.167089e+00\n",
       "v_2                 -3.436008e+00\n",
       "v_3                 -7.275037e+00\n",
       "v_4                  6.829352e+00\n",
       "v_5                  1.815618e-01\n",
       "v_6                  2.091783e-03\n",
       "v_7                  0.000000e+00\n",
       "v_8                  1.484868e-01\n",
       "v_9                  2.227875e-01\n",
       "v_10                 1.675700e+00\n",
       "v_11                -3.250560e+00\n",
       "v_12                 8.760013e-01\n",
       "v_13                 1.114767e+01\n",
       "v_14                 8.658418e+00\n",
       "Name: 38424, dtype: float64"
      ]
     },
     "execution_count": 23,
     "metadata": {},
     "output_type": "execute_result"
    }
   ],
   "source": [
    "# 用157.0填充缺失值\n",
    "train.loc[38424, 'model'] = 157.0\n",
    "train.loc[38424]"
   ]
  },
  {
   "cell_type": "code",
   "execution_count": 24,
   "metadata": {
    "ExecuteTime": {
     "end_time": "2021-06-02T10:17:10.184960Z",
     "start_time": "2021-06-02T10:17:10.142077Z"
    },
    "scrolled": true
   },
   "outputs": [
    {
     "name": "stdout",
     "output_type": "stream",
     "text": [
      "<class 'pandas.core.frame.DataFrame'>\n",
      "RangeIndex: 150000 entries, 0 to 149999\n",
      "Data columns (total 28 columns):\n",
      " #   Column             Non-Null Count   Dtype  \n",
      "---  ------             --------------   -----  \n",
      " 0   name               150000 non-null  int64  \n",
      " 1   regDate            150000 non-null  int64  \n",
      " 2   model              150000 non-null  float64\n",
      " 3   brand              150000 non-null  int64  \n",
      " 4   bodyType           145494 non-null  float64\n",
      " 5   fuelType           141320 non-null  float64\n",
      " 6   gearbox            144019 non-null  float64\n",
      " 7   power              150000 non-null  float64\n",
      " 8   kilometer          150000 non-null  float64\n",
      " 9   notRepairedDamage  125676 non-null  float64\n",
      " 10  regionCode         150000 non-null  int64  \n",
      " 11  creatDate          150000 non-null  int64  \n",
      " 12  price              150000 non-null  int64  \n",
      " 13  v_0                150000 non-null  float64\n",
      " 14  v_1                150000 non-null  float64\n",
      " 15  v_2                150000 non-null  float64\n",
      " 16  v_3                150000 non-null  float64\n",
      " 17  v_4                150000 non-null  float64\n",
      " 18  v_5                150000 non-null  float64\n",
      " 19  v_6                150000 non-null  float64\n",
      " 20  v_7                150000 non-null  float64\n",
      " 21  v_8                150000 non-null  float64\n",
      " 22  v_9                150000 non-null  float64\n",
      " 23  v_10               150000 non-null  float64\n",
      " 24  v_11               150000 non-null  float64\n",
      " 25  v_12               150000 non-null  float64\n",
      " 26  v_13               150000 non-null  float64\n",
      " 27  v_14               150000 non-null  float64\n",
      "dtypes: float64(22), int64(6)\n",
      "memory usage: 32.0 MB\n"
     ]
    }
   ],
   "source": [
    "# 查看填充结果\n",
    "train.info()"
   ]
  },
  {
   "cell_type": "code",
   "execution_count": 25,
   "metadata": {
    "ExecuteTime": {
     "end_time": "2021-06-02T10:17:10.768534Z",
     "start_time": "2021-06-02T10:17:10.724841Z"
    },
    "scrolled": true
   },
   "outputs": [
    {
     "data": {
      "text/plain": [
       "bodyType              4506\n",
       "fuelType              8680\n",
       "gearbox               5981\n",
       "notRepairedDamage    24324\n",
       "dtype: int64"
      ]
     },
     "execution_count": 25,
     "metadata": {},
     "output_type": "execute_result"
    }
   ],
   "source": [
    "# 查看训练集model的填充结果\n",
    "train.isnull().sum()[train.isnull().sum() > 0]"
   ]
  },
  {
   "cell_type": "markdown",
   "metadata": {},
   "source": [
    "### 备份随机森林"
   ]
  },
  {
   "cell_type": "code",
   "execution_count": 26,
   "metadata": {
    "ExecuteTime": {
     "end_time": "2021-06-02T10:25:02.836682Z",
     "start_time": "2021-06-02T10:25:02.802772Z"
    }
   },
   "outputs": [],
   "source": [
    "train_bck = train.copy(deep = True)\n",
    "test_bck = test.copy(deep = True)"
   ]
  },
  {
   "cell_type": "markdown",
   "metadata": {},
   "source": [
    "### 处理bodyType的缺失值\n",
    "类别中频数最多的进行填补"
   ]
  },
  {
   "cell_type": "code",
   "execution_count": 271,
   "metadata": {
    "ExecuteTime": {
     "end_time": "2021-06-02T09:29:00.443147Z",
     "start_time": "2021-06-02T09:29:00.233710Z"
    }
   },
   "outputs": [],
   "source": [
    "# 在两个数据集上，车身类型为0.0（豪华轿车）的汽车数量都是最多，所以用0.0来填充缺失值\n",
    "train.loc[:, 'bodyType'] = train['bodyType'].map(lambda x: 0.0 if pd.isnull(x) else x)\n",
    "test.loc[:, 'bodyType'] = test['bodyType'].map(lambda x: 0.0 if pd.isnull(x) else x)"
   ]
  },
  {
   "cell_type": "markdown",
   "metadata": {},
   "source": [
    "### 处理fuelType的缺失值\n",
    "1. 找出与缺失值相关的特征\n",
    "2. 用相关特征下，缺失特征的众数进行填充"
   ]
  },
  {
   "cell_type": "code",
   "execution_count": 92,
   "metadata": {
    "ExecuteTime": {
     "end_time": "2021-06-02T02:57:56.483478Z",
     "start_time": "2021-06-02T02:57:56.344748Z"
    }
   },
   "outputs": [
    {
     "name": "stdout",
     "output_type": "stream",
     "text": [
      "{0.0: 0.0, 1.0: 0.0, 2.0: 1.0, 3.0: 1.0, 4.0: 0.0, 5.0: 0.0, 6.0: 1.0, 7.0: 1.0}\n",
      "{0.0: 0.0, 1.0: 0.0, 2.0: 1.0, 3.0: 1.0, 4.0: 0.0, 5.0: 0.0, 6.0: 1.0, 7.0: 1.0}\n"
     ]
    }
   ],
   "source": [
    "# 猜想：燃油类型与车身类型相关，如豪华轿车更可能是汽油或电动， 而搅拌车大多是柴油\n",
    "# 创建字典map，保存不同bodyType下， fuelType的众数，并以此填充fuelTyp的缺失值\n",
    "dict_enu_train, dict_enu_test = {}, {}\n",
    "for i in [0.0, 1.0, 2.0, 3.0, 4.0, 5.0, 6.0, 7.0]:\n",
    "    dict_enu_train[i] = train[train['bodyType'] == i]['fuelType'].mode()[0] # bodyType=i时，fuelType的众数\n",
    "    dict_enu_test[i] = test[test['bodyType'] == i]['fuelType'].mode()[0]\n",
    "print(dict_enu_train)\n",
    "print(dict_enu_test)\n",
    "# 发现dict_enu_train, dict_enu_test是一样的内容"
   ]
  },
  {
   "cell_type": "code",
   "execution_count": 93,
   "metadata": {
    "ExecuteTime": {
     "end_time": "2021-06-02T02:57:56.795715Z",
     "start_time": "2021-06-02T02:57:56.736872Z"
    },
    "scrolled": true
   },
   "outputs": [
    {
     "name": "stdout",
     "output_type": "stream",
     "text": [
      "{0.0: [21, 143, 247, 260, 299, 321, 342, 370, 451, 488, 527, 532, 727, 869, 986, 1129, 1132, 1135, 1177, 1243, 1353, 1374, 1434, 1444, 1467, 1637, 1705, 1843, 2008, 2060, 2080, 2330, 2387, 2426, 2591, 2645, 2683, 2836, 3238, 3241, 3384, 3421, 3577, 3729, 3885, 4071, 4345, 4346, 4682, 4685, 4994, 5122, 5178, 5219, 5465, 5525, 5545, 5804, 5960, 6040, 6086, 6111, 6157, 6251, 6274, 6409, 6425, 6426, 6432, 6529, 6667, 6697, 6988, 7134, 7151, 7169, 7175, 7195, 7373, 7414, 7672, 7791, 7846, 8181, 8613, 8626, 8659, 8703, 8731, 8818, 8933, 8953, 9169, 9252, 9345, 9357, 9512, 9523, 9643, 9693, 9744, 9945, 10055, 10227, 10241, 10258, 10315, 10618, 10716, 10828, 10835, 11007, 11044, 11375, 11416, 11496, 11510, 11619, 11914, 11939, 11975, 12020, 12034, 12117, 12224, 12230, 12549, 12811, 12911, 13023, 13107, 13183, 13511, 13534, 13539, 13684, 13952, 14084, 14095, 14209, 14234, 14275, 14459, 14550, 14697, 14807, 14847, 14967, 14983, 14988, 15166, 15349, 15366, 15381, 15417, 15468, 15639, 15756, 15804, 15879, 15975, 16060, 16126, 16129, 16157, 16392, 16553, 16672, 16771, 16844, 17119, 17199, 17335, 17368, 17608, 17627, 17668, 17698, 17789, 18187, 18190, 18247, 18265, 18392, 18409, 18629, 18777, 18822, 19164, 19224, 19334, 19425, 19491, 19514, 19529, 19601, 19625, 19743, 19917, 19978, 20217, 20236, 20309, 20330, 20331, 20336, 20396, 20503, 20507, 20649, 20666, 20678, 20764, 20845, 20892, 20980, 20989, 20994, 21019, 21118, 21136, 21165, 21352, 21353, 21382, 21397, 21415, 21498, 21521, 21772, 21918, 21937, 22178, 22198, 22562, 22648, 22654, 22679, 22719, 22792, 23180, 23210, 23315, 23340, 23364, 23393, 23397, 23454, 23521, 23732, 23777, 23839, 23904, 23994, 24017, 24128, 24131, 24165, 24166, 24199, 24308, 24322, 24472, 24593, 24617, 24673, 24685, 24694, 24810, 24981, 25062, 25399, 25435, 25461, 25696, 25717, 25767, 25786, 25815, 25903, 26104, 26133, 26147, 26216, 26371, 26503, 26560, 26751, 26868, 27050, 27175, 27254, 27420, 27528, 27544, 27646, 27647, 27716, 27761, 27771, 27820, 27955, 28050, 28111, 28233, 28321, 28545, 28662, 28712, 28807, 28834, 28867, 28869, 29176, 29184, 29193, 29317, 29446, 29548, 29607, 29828, 29947, 30012, 30079, 30095, 30348, 30564, 30584, 30607, 30608, 30687, 30820, 30866, 30935, 30983, 31059, 31097, 31140, 31508, 31632, 31774, 32039, 32051, 32121, 32161, 32208, 32327, 32385, 32426, 32542, 32562, 32656, 32694, 32705, 32892, 32979, 32994, 33095, 33296, 33301, 33429, 33591, 33837, 33891, 34108, 34128, 34163, 34317, 34337, 34446, 34481, 34492, 34512, 34862, 34895, 34946, 35010, 35021, 35039, 35045, 35124, 35355, 35375, 35381, 35383, 35431, 35487, 35506, 35635, 35775, 35912, 35915, 36489, 36504, 36549, 36608, 36622, 36793, 36818, 37078, 37181, 37259, 37280, 37320, 37374, 37389, 37394, 37401, 37519, 37654, 37689, 37725, 37778, 37901, 38101, 38357, 38512, 38558, 38638, 38741, 38975, 39010, 39175, 39199, 39279, 39314, 39357, 39386, 39570, 39793, 40102, 40257, 40371, 40402, 40555, 40589, 40632, 40733, 40761, 40804, 40989, 41060, 41070, 41090, 41099, 41112, 41353, 41460, 41685, 41777, 41854, 42035, 42047, 42061, 42102, 42208, 42230, 42234, 42309, 42311, 42500, 42524, 42624, 42704, 42763, 42833, 42868, 42992, 43221, 43310, 43465, 43492, 43561, 43627, 43756, 44309, 44323, 44330, 44390, 44429, 44504, 44566, 44642, 44675, 44732, 44809, 44819, 44970, 45038, 45273, 45442, 45583, 45703, 45933, 45992, 46006, 46179, 46335, 46362, 46392, 46523, 46608, 46643, 46746, 46774, 46787, 46810, 46814, 46936, 46951, 47021, 47066, 47170, 47395, 47437, 47442, 47678, 47732, 47754, 47990, 48000, 48002, 48035, 48055, 48178, 48203, 48256, 48274, 48556, 48573, 48647, 48655, 48740, 49096, 49414, 49427, 49618, 49643, 49661, 49735, 49766, 49809, 49910, 49930, 49948, 49977, 50030, 50131, 50158, 50184, 50209, 50303, 50406, 50538, 50556, 50688, 50813, 51114, 51142, 51239, 51300, 51365, 51397, 51571, 51666, 51761, 51911, 51924, 51989, 52690, 52701, 52704, 52732, 52851, 52944, 52970, 53260, 53287, 53426, 53513, 53559, 53575, 53590, 53594, 53620, 53689, 53772, 53831, 53968, 53974, 53987, 54102, 54119, 54240, 54345, 54468, 54684, 54694, 54799, 54924, 55206, 55271, 55317, 55412, 55475, 55720, 55758, 55986, 55987, 56047, 56159, 56247, 56324, 56332, 56356, 56371, 56551, 56564, 56748, 56811, 56833, 56924, 57072, 57361, 57451, 57500, 57558, 57674, 57723, 57783, 57819, 58101, 58217, 58425, 58629, 58796, 58908, 59001, 59007, 59104, 59281, 59411, 59422, 59821, 59848, 59899, 59958, 60125, 60429, 60434, 60582, 60859, 60861, 60977, 60983, 61014, 61167, 61269, 61279, 61383, 61492, 61507, 61757, 61794, 61810, 61878, 61909, 61934, 61965, 62052, 62069, 62089, 62097, 62126, 62552, 62687, 62802, 62890, 62909, 62932, 62969, 63114, 63250, 63293, 63386, 63490, 63634, 63639, 63706, 63850, 63853, 63863, 63913, 63942, 64006, 64141, 64236, 64332, 64375, 64671, 64701, 64752, 64755, 64931, 64944, 65079, 65246, 65259, 65262, 65274, 65557, 65640, 65778, 65790, 65971, 66889, 66912, 66930, 66941, 67037, 67041, 67155, 67294, 67323, 67380, 67453, 67532, 67541, 67553, 67589, 67675, 67709, 67798, 68117, 68265, 68338, 68604, 68605, 68821, 68894, 68915, 69106, 69111, 69255, 69291, 69357, 69522, 69555, 69566, 69595, 69612, 69637, 69894, 69939, 69956, 70223, 70236, 70256, 70317, 70418, 70426, 70461, 70478, 70610, 70677, 70758, 70794, 70900, 70903, 70959, 70994, 71381, 71410, 71417, 71471, 71610, 71627, 71761, 71892, 71949, 72004, 72134, 72156, 72162, 72245, 72487, 72537, 72588, 72627, 72689, 72778, 72907, 72983, 73044, 73123, 73298, 73383, 73681, 73728, 73898, 74161, 74201, 74270, 74411, 74525, 74794, 74898, 75143, 75447, 75461, 75671, 76107, 76184, 76433, 76612, 76744, 76812, 77247, 77290, 77449, 77764, 77838, 78061, 78069, 78070, 78139, 78602, 78852, 78862, 78960, 79005, 79027, 79155, 79167, 79238, 79391, 79431, 79444, 79481, 79504, 79536, 79815, 79982, 79998, 80059, 80143, 80340, 80349, 80401, 80450, 80499, 80527, 80559, 80594, 80709, 80863, 80968, 81000, 81049, 81150, 81163, 81191, 81429, 81643, 81757, 81830, 81841, 81867, 81940, 82112, 82206, 82237, 82288, 82305, 82308, 82396, 82413, 82438, 82458, 82559, 82652, 82709, 82719, 82843, 83146, 83152, 83254, 83271, 83516, 83643, 83677, 83796, 83807, 83919, 83955, 83958, 84000, 84072, 84103, 84145, 84324, 84330, 84509, 84561, 84617, 84640, 84684, 84753, 84758, 84767, 85169, 85345, 85354, 85520, 85538, 85709, 85737, 85976, 86107, 86114, 86132, 86210, 86211, 86325, 86450, 86472, 86522, 86526, 86609, 87033, 87224, 87420, 87434, 87437, 87540, 87612, 87695, 87734, 87764, 87971, 87999, 88162, 88169, 88174, 88475, 88479, 88758, 88760, 88805, 88815, 88953, 88998, 89078, 89130, 89170, 89238, 89244, 89313, 89384, 89409, 89466, 89633, 89651, 89722, 89739, 89778, 89997, 90077, 90180, 90319, 90358, 90613, 90703, 90760, 90807, 90866, 91046, 91180, 91211, 91220, 91255, 91436, 91546, 91779, 91879, 92225, 92246, 92270, 92278, 92318, 92410, 92610, 92633, 92639, 92756, 92814, 92960, 93015, 93047, 93070, 93296, 93306, 93335, 93422, 93428, 93478, 93705, 93743, 93776, 93825, 93827, 93838, 93969, 93973, 93993, 94177, 94288, 94357, 94423, 94508, 94517, 94580, 94671, 94816, 94903, 94913, 94948, 94961, 95237, 95292, 95339, 95457, 95574, 95662, 95744, 95825, 95833, 95927, 96091, 96121, 96421, 96460, 96527, 96726, 96782, 96838, 96862, 96921, 96970, 96982, 96985, 97039, 97179, 97521, 97527, 97673, 97680, 97816, 98051, 98135, 98146, 98348, 98377, 98581, 98989, 99048, 99105, 99315, 99379, 99431, 99527, 99593, 99652, 99735, 99936, 99944, 100038, 100144, 100195, 100315, 100372, 100476, 100564, 100585, 100705, 100932, 101057, 101123, 101138, 101167, 101379, 101382, 101490, 101557, 101748, 101781, 101845, 101861, 101991, 102048, 102052, 102197, 102243, 102426, 102486, 102657, 102748, 102920, 102970, 103245, 103270, 103304, 103372, 103464, 103712, 104003, 104308, 104321, 104330, 104383, 104534, 104642, 104946, 105033, 105171, 105279, 105541, 105552, 105557, 105591, 105633, 105649, 105729, 105769, 105841, 106250, 106265, 106411, 106441, 106544, 106717, 106980, 107011, 107213, 107313, 107322, 107328, 107408, 107529, 107550, 107603, 107646, 107677, 107754, 107770, 107830, 107869, 107887, 107913, 107974, 107977, 108114, 108193, 108361, 108491, 108678, 108733, 108752, 109225, 109294, 109365, 109451, 109495, 109713, 110005, 110015, 110045, 110065, 110105, 110334, 110352, 110441, 110689, 110722, 110772, 110822, 110836, 111100, 111166, 111461, 111550, 111641, 111684, 112069, 112118, 112144, 112176, 112190, 112237, 112399, 112446, 112520, 112679, 112785, 112808, 112897, 112950, 113008, 113132, 113292, 113367, 113385, 113431, 113581, 113585, 113737, 113793, 113832, 113998, 114240, 114311, 114550, 114602, 114732, 114819, 114934, 115060, 115070, 115173, 115182, 115225, 115258, 115385, 115799, 115987, 116050, 116230, 116273, 116486, 116641, 116767, 116795, 116821, 116893, 117035, 117238, 117270, 117541, 117613, 117678, 117931, 118052, 118179, 118189, 118221, 118228, 118363, 118439, 118560, 118583, 118689, 118695, 118844, 118923, 118976, 119098, 119103, 119332, 119369, 119542, 119967, 120014, 120029, 120065, 120102, 120172, 120239, 120276, 120316, 120571, 120619, 120662, 120710, 120814, 120952, 121143, 121167, 121190, 121195, 121212, 121460, 121462, 121618, 121684, 121696, 121851, 121984, 122031, 122336, 122406, 122487, 122494, 122508, 122532, 122546, 122834, 122850, 122927, 123000, 123326, 123424, 123589, 123661, 123689, 123715, 123758, 123803, 123951, 124122, 124161, 124397, 124432, 124441, 124671, 124835, 124837, 124875, 124998, 125243, 125626, 125709, 125792, 125840, 125846, 125856, 125862, 125905, 125949, 125990, 126117, 126193, 126529, 126654, 126820, 126858, 126964, 126973, 126992, 127019, 127182, 127346, 127648, 127658, 127667, 127672, 127686, 127813, 127885, 127933, 127981, 127996, 128000, 128046, 128231, 128257, 128301, 128316, 128375, 128610, 129002, 129079, 129105, 129196, 129230, 129253, 129313, 129412, 129450, 129559, 129637, 129640, 129742, 129930, 130263, 130362, 130484, 130515, 130609, 130679, 130754, 130825, 131194, 131226, 131234, 131514, 131524, 131541, 131571, 131592, 131836, 132075, 132129, 132182, 132193, 132243, 132373, 132495, 132715, 132811, 132993, 133097, 133386, 133481, 133600, 133774, 134106, 134177, 134189, 134372, 134639, 134804, 134856, 134865, 134911, 134941, 135045, 135129, 135152, 135170, 135377, 135421, 135434, 135534, 135668, 135679, 135681, 135787, 135918, 136116, 136172, 136208, 136338, 136358, 136558, 136594, 136637, 136730, 136812, 136827, 136965, 136996, 137075, 137156, 137176, 137219, 137222, 137348, 137454, 137708, 137736, 137908, 137955, 137997, 138023, 138091, 138180, 138249, 138272, 138442, 138483, 138505, 138512, 138576, 138678, 138735, 139096, 139187, 139439, 139632, 139831, 139877, 139984, 140009, 140125, 140202, 140263, 140329, 140361, 140465, 140638, 140651, 140713, 140804, 140805, 140837, 140842, 140868, 140932, 140944, 140965, 141003, 141054, 141116, 141285, 141313, 141508, 141661, 141751, 141857, 141863, 141931, 142107, 142165, 142229, 142435, 142622, 142993, 143051, 143063, 143159, 143317, 143352, 143366, 143377, 143560, 143684, 143716, 143746, 143883, 143943, 144127, 144237, 144317, 144325, 144326, 144464, 144690, 144894, 144908, 145062, 145129, 145140, 145276, 145361, 145569, 145694, 145771, 145820, 145836, 146032, 146306, 146309, 146311, 146408, 146513, 146553, 146603, 146654, 146716, 146750, 147050, 147071, 147243, 147290, 147309, 147344, 147444, 147512, 147520, 147558, 147963, 148012, 148208, 148212, 148335, 148351, 148589, 148595, 148617, 148646, 148687, 148892, 148916, 148982, 149029, 149076, 149235, 149449, 149548, 149806], 1.0: [45, 169, 193, 341, 353, 480, 503, 507, 645, 667, 924, 929, 1058, 1061, 1092, 1124, 1141, 1190, 1319, 1408, 1492, 1655, 1932, 1968, 2116, 2165, 2168, 2209, 2236, 2261, 2295, 2322, 2401, 2422, 2560, 2709, 2754, 2788, 2863, 2926, 2943, 2965, 3005, 3024, 3050, 3052, 3075, 3100, 3121, 3158, 3164, 3165, 3224, 3250, 3269, 3276, 3290, 3360, 3585, 3747, 3783, 3853, 3881, 3926, 3927, 3958, 4100, 4106, 4127, 4153, 4174, 4344, 4355, 4659, 4713, 4807, 4961, 5016, 5379, 5621, 5639, 5644, 5723, 5882, 5934, 5978, 5996, 6016, 6081, 6093, 6149, 6170, 6230, 6246, 6323, 6424, 6438, 6538, 6603, 6659, 6680, 6728, 6736, 6799, 6802, 6844, 7177, 7425, 7511, 7546, 7548, 7620, 7708, 7865, 7923, 7959, 7963, 7982, 7989, 8029, 8140, 8221, 8238, 8258, 8404, 8544, 8568, 8588, 8730, 8800, 8806, 8895, 8931, 8998, 9006, 9007, 9049, 9129, 9327, 9365, 9461, 9505, 9553, 9568, 9599, 9651, 9677, 9683, 9724, 9840, 9904, 9986, 10000, 10018, 10027, 10093, 10147, 10255, 10304, 10377, 10400, 10405, 10514, 10580, 10668, 10674, 10778, 10781, 10898, 10949, 10967, 10984, 11088, 11561, 11684, 11808, 11888, 12100, 12106, 12190, 12263, 12377, 12469, 12483, 12560, 12770, 12792, 12912, 12995, 13030, 13053, 13118, 13206, 13321, 13422, 13463, 13605, 13739, 13783, 13795, 13893, 13993, 14037, 14043, 14409, 14426, 14440, 14613, 14617, 14659, 14670, 14705, 14719, 14782, 15033, 15094, 15193, 15240, 15332, 15351, 15463, 15496, 15518, 15782, 15923, 15947, 15966, 15990, 16132, 16394, 16488, 16595, 16622, 16765, 16900, 17120, 17442, 17537, 17672, 17707, 17712, 17713, 17737, 17838, 18011, 18053, 18067, 18208, 18246, 18276, 18389, 18436, 18438, 18587, 18762, 18931, 19035, 19068, 19377, 19412, 19451, 19576, 19593, 19634, 19677, 19714, 19759, 19790, 19877, 19969, 20011, 20144, 20165, 20183, 20194, 20197, 20253, 20303, 20380, 20391, 20393, 20409, 20416, 20470, 20489, 20613, 20622, 20774, 20796, 21033, 21264, 21541, 21610, 21653, 21731, 21933, 21992, 22045, 22202, 22417, 22419, 22422, 22424, 22432, 22513, 22525, 22686, 22717, 22730, 22758, 22820, 22988, 23257, 23279, 23378, 23552, 23553, 23570, 23653, 23722, 23726, 23762, 23814, 23923, 23949, 24032, 24480, 24513, 24584, 24829, 24830, 24855, 24916, 24928, 25002, 25008, 25013, 25044, 25112, 25218, 25375, 25440, 25650, 25662, 25710, 25780, 25816, 25828, 25991, 25995, 26117, 26157, 26164, 26192, 26257, 26384, 26457, 26495, 26584, 26700, 26771, 26891, 26921, 26971, 27073, 27237, 27329, 27374, 27400, 27481, 27493, 27531, 27567, 27672, 27704, 27750, 27849, 28147, 28252, 28325, 28539, 28549, 28598, 28637, 28650, 28682, 28703, 28781, 28842, 28933, 28988, 28992, 29010, 29021, 29106, 29233, 29611, 29688, 29710, 29792, 29793, 29795, 30044, 30147, 30192, 30213, 30344, 30401, 30454, 30476, 30519, 30566, 30587, 30784, 30883, 30888, 30952, 31074, 31075, 31157, 31198, 31244, 31309, 31432, 31526, 31745, 31868, 31999, 32047, 32246, 32388, 32461, 32468, 32579, 32613, 32631, 32634, 32701, 32809, 32842, 32928, 32997, 33121, 33220, 33387, 33483, 33551, 33554, 33555, 33620, 33662, 33923, 33951, 33999, 34022, 34097, 34233, 34494, 34635, 34678, 34726, 34758, 34852, 34900, 35000, 35110, 35185, 35269, 35438, 35568, 35571, 35840, 35940, 35952, 36068, 36081, 36253, 36433, 36470, 36555, 36629, 36759, 36921, 36934, 37042, 37147, 37193, 37260, 37290, 37303, 37373, 37410, 37430, 37440, 37452, 37616, 37780, 37930, 37931, 38020, 38079, 38086, 38116, 38231, 38479, 38527, 38563, 38584, 38682, 38808, 38811, 38929, 38966, 39095, 39171, 39188, 39243, 39251, 39367, 39507, 39516, 39645, 39760, 39761, 39780, 39807, 39904, 39956, 39996, 40098, 40277, 40306, 40342, 40426, 40491, 40550, 40634, 40679, 40704, 40780, 40922, 41052, 41072, 41185, 41352, 41366, 41432, 41526, 41572, 41636, 41649, 41712, 41756, 41760, 41891, 41989, 42205, 42232, 42552, 42568, 42838, 42965, 42970, 43137, 43204, 43206, 43266, 43290, 43413, 43416, 43436, 43455, 43539, 43674, 43698, 43709, 43789, 43845, 43876, 43888, 44130, 44278, 44372, 44654, 44781, 44814, 44844, 44984, 45005, 45111, 45199, 45272, 45367, 45369, 45444, 45558, 45602, 45661, 45671, 45700, 45727, 45757, 45767, 45817, 45867, 45914, 46063, 46074, 46142, 46201, 46251, 46252, 46282, 46389, 46423, 46573, 46581, 46711, 46726, 46843, 46916, 47088, 47182, 47187, 47340, 47363, 47410, 47445, 47452, 47626, 47684, 47685, 47838, 47846, 48004, 48098, 48141, 48277, 48378, 48500, 48511, 48622, 48706, 48712, 48719, 48747, 48801, 48812, 48824, 49018, 49103, 49174, 49275, 49329, 49672, 49917, 49954, 50010, 50027, 50187, 50201, 50230, 50248, 50249, 50432, 50446, 50475, 50532, 50587, 50594, 50673, 50763, 50972, 51077, 51091, 51210, 51464, 51642, 51763, 51874, 52059, 52153, 52226, 52280, 52281, 52342, 52431, 52781, 52819, 52948, 53038, 53075, 53154, 53414, 53800, 53907, 53969, 54070, 54193, 54245, 54448, 54664, 54741, 54748, 54770, 54808, 54855, 54889, 54951, 54976, 55259, 55351, 55366, 55411, 55423, 55447, 55492, 55578, 55609, 55862, 55982, 56089, 56162, 56164, 56253, 56260, 56284, 56339, 56402, 56407, 56506, 56562, 56625, 56645, 56681, 56765, 56835, 56839, 56901, 56939, 56985, 57053, 57080, 57247, 57248, 57355, 57364, 57397, 57455, 57541, 57585, 57736, 57755, 57826, 57856, 57916, 57999, 58051, 58126, 58221, 58451, 58479, 58567, 58597, 58694, 58711, 58772, 58953, 59032, 59240, 59324, 59415, 59490, 59519, 59529, 59704, 59759, 59763, 59879, 59968, 60143, 60145, 60184, 60198, 60247, 60264, 60342, 60397, 60543, 60716, 60793, 60848, 60868, 61043, 61180, 61349, 61516, 61531, 61607, 61677, 61700, 61746, 61820, 61932, 61935, 62038, 62130, 62258, 62393, 62550, 62551, 62565, 62692, 62967, 62988, 63017, 63110, 63841, 63900, 63922, 64009, 64127, 64184, 64195, 64201, 64222, 64223, 64302, 64309, 64414, 64551, 64737, 64815, 64859, 64866, 64906, 64950, 64952, 65058, 65248, 65486, 65569, 65576, 65658, 65661, 65678, 65682, 65714, 66008, 66040, 66064, 66196, 66243, 66296, 66339, 66367, 66383, 66479, 66591, 66678, 66690, 66722, 66779, 66931, 66951, 67007, 67079, 67081, 67107, 67147, 67210, 67289, 67358, 67481, 67549, 67724, 67737, 67785, 67802, 67944, 67994, 68007, 68194, 68195, 68414, 68515, 68516, 68528, 68567, 68570, 68657, 68717, 69133, 69142, 69210, 69222, 69369, 69421, 69477, 69527, 69529, 69567, 69682, 69756, 69770, 69802, 69981, 70089, 70138, 70197, 70205, 70241, 70266, 70299, 70360, 70393, 70424, 70501, 70582, 70596, 70659, 70674, 70717, 70754, 70814, 71002, 71035, 71155, 71191, 71233, 71394, 71429, 71460, 71585, 71648, 71739, 71742, 72075, 72087, 72169, 72290, 72354, 72383, 72475, 72599, 72609, 72801, 72831, 72886, 72915, 73033, 73160, 73185, 73210, 73295, 73328, 73434, 73495, 73562, 73698, 73821, 73982, 74045, 74114, 74167, 74193, 74268, 74322, 74357, 74483, 74536, 74662, 74666, 74690, 74825, 74836, 74890, 75039, 75054, 75175, 75329, 75381, 75565, 75623, 75730, 75752, 75837, 75972, 76042, 76126, 76155, 76219, 76383, 76498, 76506, 76575, 76592, 76609, 76804, 76920, 76980, 77117, 77139, 77153, 77184, 77244, 77267, 77311, 77454, 77477, 77517, 77551, 77586, 77594, 77605, 77624, 77646, 77660, 77695, 77731, 77755, 77756, 77873, 77943, 77981, 78027, 78133, 78136, 78357, 78488, 78520, 78587, 78690, 78745, 78842, 78856, 78859, 78962, 78998, 79276, 79428, 79498, 79676, 79714, 79755, 79770, 79824, 79842, 79895, 79999, 80086, 80303, 80318, 80341, 80396, 80534, 80788, 80827, 80982, 80998, 81016, 81147, 81210, 81220, 81227, 81252, 81304, 81352, 81459, 81597, 81810, 81852, 81896, 82033, 82373, 82441, 82597, 82809, 82839, 82872, 82951, 82957, 83045, 83086, 83113, 83132, 83291, 83409, 83549, 83624, 83664, 83696, 83951, 84026, 84096, 84139, 84193, 84228, 84270, 84344, 84382, 84391, 84399, 84508, 84532, 84743, 84746, 84811, 84822, 84856, 84949, 85117, 85121, 85151, 85162, 85168, 85210, 85277, 85296, 85323, 85397, 85436, 85608, 85854, 85884, 85929, 86122, 86128, 86134, 86271, 86303, 86308, 86352, 86407, 86435, 86519, 86641, 86650, 86758, 86858, 87208, 87276, 87353, 87402, 87766, 87789, 87806, 87838, 87915, 87920, 87943, 88044, 88052, 88186, 88190, 88212, 88286, 88345, 88365, 88437, 88481, 88614, 88750, 88768, 88902, 89020, 89132, 89222, 89300, 89393, 89436, 89470, 89476, 89495, 89583, 89604, 89616, 89678, 89705, 89765, 89773, 89793, 89834, 89840, 89892, 89927, 89953, 89984, 89988, 90152, 90173, 90360, 90463, 90527, 90539, 90632, 90678, 90756, 90835, 91009, 91019, 91031, 91062, 91067, 91176, 91232, 91677, 91689, 91781, 91905, 91962, 92165, 92272, 92332, 92544, 92643, 92648, 92826, 92959, 92971, 93003, 93119, 93129, 93411, 93419, 93511, 93523, 93641, 93694, 93700, 93707, 93828, 93857, 93974, 94047, 94063, 94119, 94229, 94245, 94291, 94356, 94378, 94417, 94529, 94599, 94721, 94736, 94753, 94979, 94988, 95163, 95246, 95319, 95376, 95465, 95560, 95638, 95680, 95687, 95787, 95857, 95859, 95945, 96037, 96049, 96358, 96579, 96674, 96729, 96751, 96791, 96913, 97277, 97331, 97403, 97438, 97535, 97635, 97639, 97779, 97790, 97803, 97979, 98041, 98070, 98240, 98324, 98399, 98458, 98461, 98688, 98770, 99022, 99085, 99125, 99150, 99202, 99229, 99258, 99464, 99501, 99581, 99932, 99999, 100066, 100152, 100291, 100367, 100573, 100614, 100699, 101026, 101049, 101073, 101159, 101211, 101294, 101305, 101375, 101518, 101535, 101560, 101649, 101682, 101691, 101713, 101715, 101723, 101752, 101904, 101953, 101954, 101996, 102164, 102649, 102692, 102693, 102808, 102847, 102929, 102991, 103125, 103183, 103217, 103294, 103323, 103448, 103456, 103671, 103698, 103759, 103809, 103842, 103916, 103978, 103989, 104122, 104127, 104212, 104399, 104424, 104440, 104485, 104518, 104594, 104766, 104782, 104804, 104871, 104905, 104930, 105027, 105195, 105258, 105288, 105503, 105606, 105903, 106153, 106156, 106170, 106225, 106302, 106504, 106675, 106903, 107141, 107155, 107192, 107201, 107262, 107293, 107610, 107716, 107720, 108022, 108113, 108127, 108174, 108459, 108503, 108556, 108601, 108684, 108688, 108791, 108803, 108833, 108849, 108947, 108980, 109033, 109124, 109130, 109184, 109249, 109261, 109469, 109530, 109552, 109582, 109597, 109665, 109817, 109867, 109883, 109950, 110039, 110147, 110191, 110320, 110322, 110345, 110451, 110460, 110468, 110575, 110712, 110732, 110968, 111021, 111050, 111093, 111106, 111132, 111180, 111389, 111398, 111404, 111525, 111530, 111585, 111732, 111787, 111813, 111852, 112081, 112113, 112186, 112356, 112435, 112469, 112649, 112700, 112739, 112761, 112770, 112790, 112811, 112822, 112867, 112891, 112932, 112985, 112986, 112998, 113026, 113084, 113146, 113286, 113457, 113481, 113501, 113518, 113566, 113608, 113746, 113770, 113918, 114056, 114086, 114116, 114118, 114122, 114145, 114155, 114277, 114340, 114359, 114379, 114386, 114395, 114436, 114600, 114698, 114784, 114811, 114815, 114886, 114915, 114978, 114979, 115021, 115183, 115210, 115275, 115339, 115434, 115449, 115459, 115515, 115774, 115879, 115923, 116038, 116085, 116121, 116170, 116391, 116487, 116532, 116603, 116606, 116679, 116848, 116885, 116890, 117005, 117099, 117217, 117295, 117301, 117313, 117455, 117457, 117562, 117564, 117580, 117675, 117746, 117889, 117920, 118082, 118173, 118181, 118206, 118281, 118512, 118517, 118819, 118833, 118852, 119013, 119047, 119060, 119235, 119296, 119314, 119356, 119510, 119667, 119772, 119797, 119874, 119907, 119976, 120046, 120210, 120234, 120323, 120368, 120405, 120406, 120420, 120453, 120750, 120951, 121003, 121123, 121128, 121174, 121181, 121291, 121438, 121447, 121714, 121726, 121844, 121877, 121935, 121972, 121990, 122065, 122088, 122109, 122111, 122220, 122255, 122548, 122569, 122695, 122783, 122981, 123006, 123144, 123228, 123317, 123344, 123362, 123372, 123441, 123495, 123559, 123693, 123718, 124077, 124188, 124190, 124264, 124310, 124529, 124608, 124664, 124738, 124764, 124768, 124853, 124935, 125030, 125121, 125237, 125279, 125362, 125398, 125416, 125456, 125506, 125657, 126077, 126162, 126206, 126344, 126380, 126419, 126553, 126582, 126720, 126826, 126837, 126841, 126884, 127008, 127049, 127088, 127192, 127337, 127388, 127523, 127554, 127728, 127938, 128023, 128047, 128261, 128289, 128319, 128398, 128554, 128612, 128722, 128723, 128741, 128802, 128869, 128937, 128959, 129173, 129190, 129194, 129765, 129808, 129954, 130107, 130170, 130547, 130740, 130927, 130976, 131030, 131041, 131114, 131136, 131147, 131156, 131157, 131215, 131232, 131278, 131409, 131476, 131509, 131526, 131658, 131684, 131766, 131804, 131806, 131810, 131830, 131877, 132042, 132065, 132077, 132197, 132272, 132284, 132306, 132310, 132345, 132410, 132489, 132509, 132550, 132586, 132628, 132733, 133032, 133066, 133108, 133150, 133179, 133239, 133297, 133385, 133535, 133545, 133632, 133784, 133857, 133965, 134219, 134272, 134273, 134284, 134341, 134354, 134436, 134450, 134532, 134695, 134704, 134824, 134886, 135031, 135062, 135069, 135151, 135158, 135192, 135349, 135462, 135473, 135518, 135580, 135777, 135874, 135875, 136118, 136251, 136265, 136292, 136346, 136369, 136405, 136422, 136533, 136595, 136624, 136711, 136796, 136861, 136973, 137356, 137364, 137409, 137433, 137474, 137482, 137531, 137555, 137562, 137566, 137597, 137660, 137725, 137785, 137880, 137933, 137974, 138171, 138292, 138302, 138322, 138389, 138567, 138605, 138658, 138780, 138791, 138883, 138936, 138956, 138973, 139011, 139281, 139292, 139349, 139459, 139500, 139768, 139908, 139920, 139933, 140024, 140045, 140063, 140127, 140315, 140412, 140434, 140477, 140505, 140602, 140740, 140871, 140905, 140954, 141069, 141090, 141129, 141265, 141311, 141319, 141379, 141391, 141447, 141491, 141519, 141596, 141606, 141717, 141805, 141856, 141871, 141961, 142025, 142045, 142082, 142085, 142186, 142279, 142432, 142457, 142483, 142625, 142702, 142718, 142933, 142995, 143077, 143132, 143385, 143407, 143455, 143480, 143487, 143558, 143699, 143875, 143933, 144031, 144072, 144135, 144199, 144312, 144358, 144424, 144434, 144471, 144474, 144535, 144581, 144800, 144814, 144890, 145021, 145034, 145102, 145103, 145161, 145251, 145473, 145501, 145533, 145581, 145687, 145704, 145840, 146014, 146091, 146109, 146116, 146302, 146322, 146363, 146514, 146547, 146623, 146695, 146739, 146773, 146774, 146803, 146806, 146943, 146947, 147140, 147348, 147591, 147753, 147820, 147833, 147917, 148067, 148151, 148507, 148510, 148666, 148776, 148785, 148826, 148896, 148933, 148935, 148961, 148994, 148997, 149021, 149108, 149139, 149162, 149187, 149244, 149253, 149316, 149562, 149746, 149782, 149788, 149811, 149813, 149822, 149970], 2.0: [98, 364, 464, 669, 805, 945, 1084, 1099, 1276, 1314, 1608, 1618, 1673, 1742, 1769, 1879, 2010, 2056, 2179, 2734, 2755, 2834, 2840, 2996, 3065, 3104, 3190, 3573, 3643, 3657, 3766, 3816, 3827, 4014, 4105, 4121, 4308, 4379, 4506, 4724, 4853, 5215, 5549, 5728, 5954, 5955, 6106, 6164, 6193, 6301, 6313, 6320, 6342, 6499, 6615, 6973, 6978, 7103, 7193, 7281, 7298, 7535, 7584, 7702, 7710, 7728, 7807, 7878, 8001, 8298, 8315, 8392, 8622, 8692, 8706, 8738, 8934, 9073, 9142, 9185, 9253, 9417, 9439, 9552, 9607, 9699, 9889, 9922, 9939, 10170, 10207, 10523, 10549, 10683, 10702, 10737, 10775, 10776, 10822, 10919, 11118, 11145, 11221, 11297, 11304, 11319, 11391, 11426, 11438, 11465, 11642, 11670, 11761, 11880, 11936, 11966, 12013, 12301, 12454, 12555, 12635, 12690, 12761, 12782, 12896, 13226, 13301, 13380, 13384, 13413, 13453, 13597, 13654, 13879, 13883, 13919, 13988, 14375, 14400, 14416, 14510, 14556, 14589, 14673, 14677, 14731, 14835, 14870, 14927, 15147, 15215, 15297, 15482, 15488, 15501, 15538, 15929, 15998, 16115, 16299, 16424, 16470, 16567, 16614, 17087, 17152, 17599, 17609, 17697, 17762, 17896, 17926, 18122, 18191, 18269, 18508, 18619, 18670, 18726, 18738, 19107, 19482, 19694, 19821, 20076, 20085, 20093, 20214, 20216, 20287, 20306, 20405, 20487, 20501, 20827, 20877, 20889, 21079, 21153, 21299, 21343, 21405, 21817, 21899, 21991, 22091, 22114, 22240, 22328, 22770, 23063, 23387, 23390, 23416, 23561, 23562, 23815, 23966, 23999, 24054, 24091, 24257, 24301, 24348, 24471, 24500, 24519, 24564, 24602, 25190, 25258, 25550, 25565, 25752, 25924, 25960, 26006, 26127, 26236, 26256, 26325, 26499, 26532, 26697, 26791, 26839, 26843, 26848, 26980, 27150, 27623, 27641, 27714, 27830, 27847, 27888, 28028, 28076, 28149, 28265, 28312, 28350, 28435, 28502, 28514, 28546, 28696, 28705, 28805, 28872, 28942, 29000, 29035, 29281, 29470, 29471, 29753, 29856, 29932, 30005, 30264, 30330, 30409, 30459, 30747, 30833, 31041, 31194, 31458, 31580, 31673, 31930, 31974, 32217, 32254, 32284, 32332, 32417, 32483, 32675, 32677, 32942, 33028, 33048, 33059, 33175, 33205, 33221, 33394, 33532, 34079, 34189, 34205, 34217, 34345, 34377, 34516, 34771, 34853, 34966, 35071, 35084, 35496, 35575, 35712, 35857, 36227, 36243, 36594, 36615, 36669, 36788, 36807, 36842, 37073, 37076, 37083, 37105, 37144, 37219, 37268, 37283, 37369, 37532, 37620, 37765, 37848, 38256, 38561, 38730, 38761, 38838, 38893, 38912, 38917, 39293, 39411, 39499, 39690, 39816, 39821, 39852, 40010, 40116, 40205, 40265, 40321, 40470, 40703, 40711, 40899, 41058, 41358, 41493, 41689, 41757, 41780, 41915, 42051, 42100, 42233, 42283, 42430, 42620, 42738, 42822, 43060, 43139, 43308, 43598, 43604, 43833, 43941, 44016, 44032, 44052, 44136, 44232, 44242, 44399, 44583, 44662, 44812, 44921, 44973, 44977, 45365, 45525, 45539, 45574, 45636, 45965, 46167, 46310, 46534, 46575, 46686, 46844, 47319, 47378, 47389, 47436, 47512, 47641, 47662, 47699, 47909, 48053, 48054, 48127, 48212, 48245, 48373, 48387, 48465, 48597, 48675, 48708, 48718, 48744, 48932, 48953, 49012, 49223, 49253, 49340, 49379, 49449, 49495, 49544, 49579, 49628, 50069, 50097, 50107, 50190, 50316, 50321, 50437, 50665, 50736, 50776, 50815, 50930, 51002, 51123, 51237, 51290, 51372, 51554, 51598, 51699, 51791, 51933, 51953, 52015, 52094, 52231, 52283, 52327, 52388, 52424, 52544, 52553, 52675, 52738, 52992, 53078, 53095, 53266, 53459, 53470, 53492, 53507, 53750, 53931, 54089, 54255, 54256, 54317, 54372, 54402, 54511, 54671, 54751, 54805, 54955, 54972, 55039, 55197, 55213, 55299, 55323, 55476, 55527, 55582, 55607, 55645, 55842, 55911, 55928, 55946, 56075, 56264, 56431, 56514, 56602, 56643, 56660, 56675, 56812, 56963, 56971, 57198, 57389, 57707, 57767, 57903, 57986, 58006, 58235, 58324, 58659, 59120, 59151, 59202, 59261, 59362, 59364, 59894, 60080, 60181, 60241, 60345, 60384, 60438, 60553, 60560, 60674, 60732, 60946, 60948, 60986, 61171, 61751, 61899, 62102, 62150, 62175, 62355, 62392, 62695, 62738, 62907, 63103, 63362, 63457, 63464, 63614, 63709, 63776, 63819, 63995, 64102, 64247, 64386, 64463, 64467, 64527, 64555, 64573, 64726, 64907, 65000, 65130, 65364, 65489, 65552, 65616, 65671, 65932, 66057, 66515, 66652, 66737, 67023, 67100, 67172, 67189, 67333, 67336, 67440, 67516, 67538, 68036, 68078, 68213, 68289, 68362, 68494, 68495, 68540, 68689, 68848, 68957, 68970, 69069, 69138, 69175, 69205, 69287, 69313, 69501, 69577, 69627, 69673, 69690, 69737, 70085, 70253, 70348, 70385, 70532, 70719, 70874, 71202, 71221, 71271, 71286, 71331, 71393, 71445, 71604, 71672, 71673, 71781, 71840, 71944, 72027, 72381, 72414, 72582, 72881, 72972, 73135, 73213, 73241, 73335, 73362, 73413, 73572, 73720, 73730, 73752, 73860, 73979, 73991, 74133, 74214, 74351, 74389, 74510, 74651, 74835, 74959, 75171, 75308, 75362, 75438, 75509, 75680, 75689, 75825, 76061, 76198, 76321, 76410, 76412, 76439, 76535, 76578, 76680, 76711, 76761, 76789, 76795, 76993, 77024, 77038, 77058, 77135, 77155, 77249, 77262, 77270, 77532, 77770, 77802, 77920, 77942, 78022, 78062, 78086, 78149, 78289, 78333, 78337, 78783, 78912, 78985, 78996, 79270, 79346, 79450, 79596, 79662, 80237, 80238, 80284, 80367, 80374, 80472, 80490, 80495, 80512, 80563, 80602, 80619, 80923, 81038, 81126, 81200, 81235, 81288, 81486, 81489, 81642, 81676, 81778, 81785, 81998, 82153, 82267, 82311, 82388, 82503, 82615, 82659, 82771, 82776, 82823, 82870, 82902, 82914, 83024, 83225, 83340, 83415, 83477, 83608, 83840, 83983, 84007, 84020, 84141, 84173, 84235, 84282, 84583, 84602, 84829, 84928, 84954, 85034, 85090, 85188, 85364, 85486, 85904, 85912, 86025, 86135, 86207, 86523, 86626, 86687, 86731, 86744, 86748, 86915, 87006, 87016, 87043, 87158, 87192, 87223, 87256, 87308, 87376, 88121, 88333, 88363, 88545, 88795, 88827, 88864, 88904, 89011, 89317, 89574, 89628, 89788, 90079, 90107, 90110, 90239, 90468, 90477, 90500, 90528, 90530, 90855, 90945, 90963, 91127, 91444, 91452, 91481, 91737, 91770, 91983, 92302, 92780, 92846, 92904, 93162, 93372, 93506, 93563, 93565, 93568, 93671, 93762, 93849, 93968, 94072, 94097, 94114, 94155, 94223, 94234, 94314, 94330, 94502, 94579, 94865, 94999, 95011, 95179, 95272, 95379, 95424, 95620, 95694, 95922, 96424, 96610, 96745, 96797, 96820, 96879, 96887, 97338, 97415, 97459, 97578, 97760, 97784, 97868, 98079, 98184, 98440, 98477, 98519, 98571, 98731, 98847, 98876, 98879, 98995, 99042, 99182, 99215, 99390, 99421, 99476, 99996, 100034, 100063, 100217, 100317, 100536, 100550, 100639, 100790, 100957, 100993, 101157, 101270, 101734, 101801, 101886, 102029, 102699, 102895, 103064, 103097, 103307, 103377, 103428, 103445, 103557, 103562, 103599, 103652, 103705, 103808, 103901, 103925, 103972, 104064, 104626, 104716, 104815, 105165, 105250, 105271, 105380, 105430, 105484, 105496, 105571, 105639, 105735, 105997, 106105, 106154, 106226, 106547, 106654, 106655, 106686, 106749, 106817, 106827, 106964, 107017, 107292, 107593, 107689, 107695, 107714, 107759, 107812, 107820, 107862, 107939, 108202, 108227, 108336, 108414, 108452, 108504, 108606, 108931, 109189, 109231, 109347, 109417, 109583, 109734, 109892, 109903, 109947, 109972, 110128, 110327, 110430, 110626, 110695, 110912, 110953, 110977, 111232, 111776, 111804, 111858, 111870, 111878, 112173, 112290, 112393, 112434, 112472, 112538, 112596, 112626, 112716, 112734, 112774, 112786, 112933, 113000, 113017, 113022, 113028, 113042, 113278, 113305, 113389, 113408, 113484, 113552, 113623, 113999, 114089, 114143, 114242, 114272, 114289, 114318, 114344, 114401, 114435, 114451, 114824, 114868, 115137, 115294, 115391, 115395, 115433, 115507, 115538, 115761, 116066, 116093, 116107, 116180, 116291, 116292, 116386, 116480, 116507, 116529, 116645, 116725, 116728, 116978, 117129, 117142, 117184, 117204, 117429, 117454, 117458, 117538, 117581, 117706, 117740, 117994, 118072, 118319, 118368, 118600, 118625, 118663, 118758, 118903, 118910, 119006, 119070, 119093, 119147, 119187, 119237, 119629, 119654, 119694, 119878, 119885, 119975, 119981, 119982, 120026, 120204, 120356, 120515, 120590, 120598, 120696, 120759, 120794, 120847, 120971, 121135, 121141, 121189, 121685, 122018, 122038, 122218, 122257, 122333, 122420, 122712, 122729, 123099, 123122, 123298, 123465, 123555, 123576, 123665, 123840, 124046, 124133, 124138, 124163, 124266, 124332, 124337, 124443, 124455, 124703, 124881, 124887, 124929, 124983, 125002, 125057, 125247, 125311, 125334, 125509, 125741, 125910, 126126, 126157, 126274, 126324, 126331, 126384, 126441, 127080, 127200, 127219, 127234, 127252, 127453, 127454, 127484, 127510, 127929, 127990, 128016, 128040, 128066, 128120, 128282, 128800, 128827, 128928, 129112, 129155, 129226, 129252, 129305, 129537, 129779, 129852, 129982, 130219, 130304, 130370, 130640, 130646, 130647, 130795, 130802, 130842, 130910, 131826, 131938, 131991, 132201, 132402, 132465, 132645, 132683, 132686, 132814, 132908, 132981, 133149, 133153, 133346, 133651, 133730, 133875, 133905, 133911, 133963, 134224, 134261, 134398, 134603, 134622, 134761, 135101, 135311, 135471, 135507, 135542, 135577, 135603, 135726, 135741, 135809, 135813, 135873, 135903, 136077, 136185, 136246, 136318, 136649, 136650, 136670, 136788, 136810, 137167, 137385, 137463, 137476, 137521, 137599, 137715, 137925, 137980, 137990, 137994, 138024, 138079, 138117, 138170, 138210, 138268, 138276, 138451, 138565, 138568, 138598, 138758, 138761, 139002, 139241, 139616, 139618, 139740, 139800, 140015, 140437, 140603, 140674, 140718, 140807, 140883, 140956, 140982, 140989, 141039, 141094, 141101, 141186, 141470, 141683, 141782, 141912, 142187, 142215, 142247, 142440, 142565, 142613, 142642, 142671, 143323, 143430, 143604, 143617, 143622, 143995, 144000, 144479, 144615, 144670, 144677, 144741, 145036, 145248, 145383, 145452, 145545, 145632, 145844, 145871, 145890, 145900, 145981, 146077, 146220, 146470, 146570, 146611, 146988, 147359, 147738, 147741, 147799, 147823, 147928, 148186, 148246, 148533, 148565, 148608, 148665, 148806, 149007, 149009, 149086, 149119, 149213, 149299, 149377, 149425, 149530, 149723, 149870, 149911], 3.0: [417, 486, 953, 1043, 1255, 1321, 1609, 2343, 2776, 3040, 4183, 4301, 4318, 4501, 4674, 4770, 5045, 6085, 6172, 6961, 7199, 7454, 7831, 8014, 8463, 8643, 8652, 9603, 9728, 9797, 9845, 9887, 9974, 10425, 11693, 11851, 12127, 12295, 12390, 12780, 12915, 13155, 13182, 13429, 14096, 14199, 14331, 15189, 15252, 15701, 15708, 15851, 15898, 16188, 16421, 16425, 16445, 16641, 16871, 17456, 18125, 18321, 19005, 19939, 20952, 21321, 21364, 21538, 22042, 23059, 24064, 24456, 24661, 25500, 25593, 25783, 26876, 27699, 27946, 28143, 28329, 28509, 28887, 29150, 29152, 29226, 29240, 29534, 30130, 31281, 31802, 32031, 32329, 34779, 34965, 35263, 35325, 35412, 35467, 35517, 35935, 36262, 36368, 36399, 36979, 37150, 37472, 37693, 37711, 37784, 37839, 38050, 38167, 38189, 38708, 39271, 39349, 39405, 40227, 40429, 40516, 40652, 40912, 41194, 41291, 41817, 42065, 42287, 42990, 43292, 43776, 43905, 44049, 44505, 44750, 44787, 44968, 45197, 45389, 46483, 46554, 46813, 46987, 47034, 47238, 47705, 48018, 49316, 49500, 50970, 50982, 51486, 51612, 51679, 51700, 51990, 52100, 52282, 52887, 53196, 53380, 53992, 54604, 54826, 55194, 56769, 56920, 56973, 57256, 57279, 58358, 58560, 58930, 59653, 60071, 60482, 60499, 60939, 61356, 61402, 61715, 63074, 63340, 63395, 63568, 63854, 63926, 65453, 65531, 65688, 65900, 65910, 66194, 66732, 66887, 67388, 67933, 68318, 68449, 69214, 69219, 69258, 69552, 69672, 70497, 71090, 71391, 71412, 71457, 71477, 72127, 72334, 72349, 72500, 72666, 72922, 73352, 73875, 74428, 74452, 75847, 76025, 76035, 76173, 76556, 77100, 77179, 77521, 78340, 78531, 78776, 79059, 79154, 79193, 79313, 80097, 80360, 80729, 80806, 80861, 81294, 82443, 82448, 82792, 82937, 83933, 84021, 84025, 85311, 85804, 85903, 85982, 87287, 87398, 87554, 87897, 87965, 88099, 88613, 89163, 89645, 90767, 91516, 92074, 92080, 92403, 94171, 94431, 94477, 95260, 96208, 96595, 98389, 98881, 99193, 99212, 100527, 100649, 100743, 101015, 101413, 101705, 101729, 102028, 102061, 102159, 102338, 102562, 102809, 102958, 103233, 103645, 103875, 103975, 104007, 104236, 105446, 105702, 106491, 106614, 106814, 106884, 107194, 107743, 108636, 109412, 110380, 110415, 110551, 110675, 112184, 112561, 112823, 112863, 113113, 113241, 113364, 113671, 113943, 114179, 114569, 114821, 114849, 115342, 115369, 115397, 116227, 117275, 117702, 117865, 117939, 118318, 118535, 118829, 118951, 119547, 119680, 120280, 120559, 120563, 121191, 121849, 122838, 123681, 123796, 124021, 124267, 124786, 125087, 125197, 125699, 126149, 126359, 126614, 126617, 127322, 128041, 128494, 129136, 129147, 129410, 129414, 129442, 129467, 129542, 129905, 130268, 130325, 130674, 130678, 131545, 131867, 132183, 132915, 132967, 133220, 133634, 133831, 134249, 134316, 134318, 134428, 134458, 134747, 135150, 135165, 135310, 136098, 136419, 137309, 137398, 137438, 137976, 138056, 138364, 139172, 139216, 140379, 141231, 141331, 141383, 141532, 142088, 142539, 142609, 143090, 143206, 143311, 143492, 143572, 143751, 143965, 144034, 144126, 144488, 144499, 145205, 145373, 145604, 145617, 145679, 146111, 146354, 147482, 147813, 148381, 148482, 148610, 148779, 148823, 149002, 149097, 149200, 149276], 4.0: [42, 377, 1399, 1504, 1988, 2533, 3111, 3591, 3720, 3768, 4373, 4551, 4567, 5013, 5694, 6480, 6639, 6916, 7625, 7880, 8944, 9072, 9206, 9870, 10603, 10680, 10936, 11504, 12389, 14340, 14519, 15519, 15825, 16127, 16192, 16298, 16986, 17213, 17769, 18573, 19415, 20299, 20310, 20339, 20518, 21012, 21619, 21892, 22206, 22507, 23016, 23200, 23880, 24025, 24307, 24832, 25140, 25430, 26519, 26684, 27014, 27034, 27110, 28196, 28915, 28978, 29384, 29644, 29788, 30084, 30925, 30954, 31039, 31396, 32240, 33113, 33520, 33575, 33699, 34672, 35874, 36192, 36208, 36845, 38103, 38152, 38575, 38848, 39431, 39663, 40089, 40599, 41372, 41505, 42376, 42643, 42648, 44198, 44229, 45706, 46094, 46104, 46105, 46452, 46957, 47805, 48905, 49511, 49547, 50121, 50542, 50580, 51248, 51735, 52328, 52600, 53161, 53234, 54117, 54190, 54647, 55915, 56282, 56501, 57133, 57621, 58740, 59304, 59522, 60034, 60274, 60598, 60757, 60919, 61485, 61558, 61815, 61918, 62965, 63125, 63136, 63218, 63479, 63642, 63902, 64063, 64354, 64798, 65532, 65738, 65924, 66304, 66689, 67005, 68065, 68138, 68324, 69031, 69405, 69693, 70068, 70271, 70502, 70624, 70844, 71919, 72105, 72116, 72236, 72630, 72725, 72773, 73775, 75033, 75063, 75754, 76020, 76348, 76654, 76692, 76762, 76973, 77281, 77934, 78186, 79290, 79583, 79687, 79872, 81637, 81862, 82183, 82209, 83074, 84414, 84492, 84782, 86123, 86834, 86925, 87070, 87159, 88002, 88249, 88434, 88899, 89033, 89706, 90567, 91148, 91766, 91996, 92108, 93082, 93153, 94117, 94209, 94667, 95279, 95500, 95808, 95894, 96491, 96861, 97352, 98141, 98330, 98661, 98702, 99804, 100002, 100329, 100377, 100496, 100570, 100779, 101234, 102255, 102441, 102906, 103313, 104661, 104702, 104723, 105028, 105815, 107229, 107666, 108347, 108927, 109226, 109426, 109674, 109834, 109993, 110965, 111665, 111848, 112137, 112711, 112958, 113963, 114376, 115196, 115706, 115755, 116815, 117120, 117575, 117915, 119610, 119906, 121362, 121458, 122986, 123241, 124067, 124180, 124187, 124515, 125078, 125627, 125768, 125887, 126108, 126592, 126597, 126844, 127030, 127726, 128347, 129558, 129759, 129989, 130091, 130094, 130796, 130831, 131001, 131949, 132708, 132824, 133132, 135011, 135797, 135971, 136149, 136468, 137040, 139129, 139280, 140349, 140441, 140789, 141019, 141254, 142183, 142289, 143214, 143216, 144180, 144293, 144465, 144794, 145684, 145823, 146139, 146942, 147052, 147253, 147358, 147661, 147810, 148171, 149153], 5.0: [272, 1632, 1783, 1949, 2349, 2634, 2983, 4020, 4784, 5080, 5812, 6007, 6263, 6568, 7747, 8844, 9317, 9348, 9684, 10210, 10219, 10326, 11346, 11379, 12482, 12614, 12916, 14313, 14721, 15835, 15937, 16229, 16363, 16604, 16902, 17396, 17691, 21275, 21782, 22323, 22564, 25007, 25631, 26017, 26037, 26059, 26222, 26271, 26710, 27679, 28677, 29283, 30899, 32147, 32445, 34253, 34283, 35655, 36066, 38353, 38574, 38589, 39002, 39759, 40088, 40990, 41436, 41612, 42158, 42851, 42956, 43174, 43847, 43917, 43988, 44980, 45747, 46531, 46795, 47186, 47189, 47225, 47787, 47839, 47937, 47946, 48733, 48965, 49020, 50020, 50179, 50654, 51684, 52295, 54424, 54455, 55571, 55985, 56620, 56810, 56888, 57253, 58059, 58069, 58434, 59541, 59675, 59720, 59725, 60094, 61021, 61851, 61996, 62631, 62978, 63141, 63937, 64032, 64949, 64986, 65976, 66814, 67892, 67896, 68201, 68709, 68747, 70118, 70243, 71140, 71506, 72060, 72121, 73106, 74211, 74816, 75654, 75951, 76258, 77915, 78923, 79648, 79852, 79959, 80317, 80638, 81175, 81260, 81677, 81683, 81735, 81978, 82003, 83346, 83741, 84086, 84199, 84478, 84636, 84773, 84863, 85061, 86316, 86747, 86904, 86912, 88656, 88941, 89086, 89844, 90154, 91183, 91235, 91594, 91613, 92351, 92832, 93065, 93660, 94401, 95265, 96035, 96410, 97355, 97467, 97478, 97840, 99198, 99890, 100386, 100727, 101431, 102333, 102952, 103044, 103663, 104000, 104576, 104876, 104932, 105129, 105224, 105459, 105894, 107487, 108587, 109553, 109971, 110139, 110771, 111186, 113230, 113706, 113743, 113819, 114372, 114397, 115945, 116036, 116236, 117817, 117984, 118471, 118578, 119272, 119278, 119780, 120478, 120518, 121349, 121724, 122016, 122643, 122854, 124157, 124284, 124315, 126211, 126724, 128215, 129356, 129867, 130613, 131072, 133057, 133425, 133797, 133978, 134566, 134801, 136162, 137395, 139521, 139872, 139948, 139990, 140469, 140927, 141165, 141463, 141738, 143562, 143761, 144536, 144644, 145307, 145328, 145484, 146908, 147681, 148543, 149171, 149329, 149353, 149499, 149933], 6.0: [218, 6453, 6645, 7190, 8395, 11289, 12028, 12546, 13832, 14246, 15313, 16073, 17189, 20333, 21173, 21233, 22029, 22386, 24059, 25379, 26307, 27970, 28764, 28829, 29754, 30669, 31176, 31457, 32601, 33183, 33243, 34338, 34669, 35193, 35340, 36015, 36876, 37243, 37713, 38511, 38859, 38923, 39102, 41594, 43213, 43332, 43338, 44019, 45060, 45201, 49796, 49988, 51955, 52382, 52700, 54789, 56589, 57606, 58592, 58731, 59340, 59540, 60153, 61615, 62816, 63010, 63353, 63644, 63878, 63982, 64023, 67332, 68004, 68297, 68375, 69084, 69715, 70644, 71318, 71804, 73694, 75187, 75775, 76230, 76682, 76719, 78409, 80591, 80696, 81378, 82009, 82302, 83094, 87559, 88666, 88855, 89054, 90166, 90269, 90808, 91138, 92312, 92809, 93387, 93613, 94285, 94355, 94839, 96848, 97943, 98938, 103764, 103831, 104952, 106126, 108473, 109160, 110576, 111880, 112895, 114880, 115666, 115790, 116384, 118329, 118892, 120086, 120642, 123834, 124751, 125189, 125264, 126766, 126838, 127757, 128354, 128362, 128453, 128706, 129388, 130295, 131881, 133708, 135280, 135930, 136374, 136423, 137659, 138207, 139278, 141052, 143340, 143689, 144343, 144371, 144506, 145086, 145477, 145837, 146595, 146998, 147553, 147637, 147727, 148622], 7.0: [1469, 1555, 3026, 4437, 7213, 8969, 9226, 19774, 21216, 22336, 23744, 24955, 28092, 29186, 30205, 32303, 32841, 33682, 33988, 35337, 35797, 35954, 37508, 45162, 46418, 47795, 50389, 50788, 51063, 52292, 52839, 54231, 54466, 55800, 56152, 58698, 59658, 60796, 61494, 62107, 62318, 62587, 64987, 65270, 69897, 70737, 70935, 74030, 74760, 77413, 77642, 82037, 82496, 87301, 87355, 87577, 87706, 90015, 90459, 90913, 91027, 92168, 92352, 94003, 94891, 95456, 97202, 97566, 98341, 98483, 100453, 101739, 103982, 104706, 105589, 108368, 111277, 112240, 113626, 114627, 115140, 115486, 117783, 118233, 118490, 119231, 119358, 119366, 120867, 120877, 121512, 122718, 124767, 127712, 128877, 129433, 129435, 134067, 134313, 135432, 136517, 138242, 138405, 138993, 140027, 142510, 146068, 146432, 147248, 148169, 149502, 149756]}\n",
      "{0.0: [4, 146, 150, 376, 411, 457, 518, 560, 632, 663, 718, 719, 796, 942, 1069, 1268, 1294, 1298, 1349, 1617, 1674, 1867, 1882, 1905, 1967, 2008, 2137, 2257, 2564, 2830, 3117, 3189, 3291, 3415, 3537, 3592, 3596, 3673, 3787, 3834, 3911, 4174, 4192, 4295, 4524, 4626, 4660, 4723, 4868, 4949, 5092, 5122, 5182, 5234, 5263, 5271, 5311, 5978, 6099, 6138, 6181, 6320, 6730, 6750, 6851, 6894, 6931, 6991, 7088, 7090, 7127, 7136, 7454, 7695, 7742, 7902, 7909, 7952, 7958, 8049, 8190, 8211, 8300, 8408, 8477, 8538, 8572, 8783, 8827, 8849, 8857, 8921, 8923, 9036, 9111, 9202, 9484, 9508, 9815, 9896, 10015, 10082, 10450, 10468, 10661, 10767, 10796, 10812, 11122, 11250, 11627, 11667, 11834, 12133, 12148, 12208, 12422, 12440, 12453, 12533, 12622, 12761, 13009, 13099, 13133, 13145, 13176, 13257, 13336, 13577, 13724, 13796, 13905, 13935, 13951, 14093, 14132, 14184, 14231, 14267, 14298, 14677, 14690, 14750, 14955, 14985, 15022, 15037, 15175, 15549, 15764, 15827, 15840, 15869, 15888, 15997, 16044, 16097, 16145, 16203, 16244, 16551, 16640, 16672, 16846, 16870, 16943, 16976, 17217, 17349, 17358, 17611, 18167, 18312, 18341, 18354, 18474, 18529, 18579, 18590, 18660, 18713, 18835, 18968, 19003, 19047, 19243, 19284, 19464, 19486, 19505, 19633, 19690, 19794, 19822, 19826, 19861, 19918, 19942, 19983, 20039, 20061, 20079, 20137, 20385, 20449, 20552, 20580, 20633, 20962, 21220, 21326, 21363, 21411, 21493, 21580, 21591, 21930, 21933, 21937, 21948, 21986, 22031, 22125, 22155, 22379, 22515, 22520, 22883, 22936, 23009, 23172, 23180, 23240, 23761, 23843, 23854, 24008, 24148, 24172, 24242, 24260, 24401, 24495, 24740, 24750, 24799, 24848, 24855, 24861, 24866, 24979, 24989, 25163, 25316, 25339, 25366, 25399, 25435, 25461, 25472, 25564, 25599, 25616, 25785, 25818, 25838, 25909, 25996, 26159, 26163, 26358, 26510, 26921, 26997, 27131, 27253, 27269, 27428, 27510, 27565, 27617, 27719, 28153, 28221, 28303, 28325, 28524, 28642, 28697, 28781, 28857, 28902, 28951, 28983, 29195, 29197, 29395, 29551, 29605, 29740, 29748, 29768, 29939, 29955, 30065, 30078, 30091, 30114, 30188, 30212, 30218, 30297, 30310, 30348, 30360, 30372, 30485, 30539, 30652, 30725, 30727, 30737, 30850, 30876, 31246, 31376, 31451, 31458, 31472, 31716, 31796, 31844, 31878, 32056, 32339, 32469, 32646, 32654, 32866, 33073, 33081, 33089, 33091, 33177, 33448, 33475, 33575, 33709, 33757, 34216, 34409, 34511, 34593, 35059, 35074, 35082, 35146, 35148, 35252, 35333, 35373, 35382, 35400, 35529, 35700, 36129, 36164, 36166, 36348, 36409, 36437, 36466, 36482, 36633, 36640, 36650, 36744, 36753, 36879, 36968, 37005, 37022, 37042, 37115, 37126, 37175, 37263, 37299, 37342, 37343, 37425, 37595, 37850, 38149, 38153, 38226, 38347, 38387, 38408, 38473, 38578, 38609, 38862, 38926, 39061, 39070, 39648, 39760, 39936, 40046, 40087, 40134, 40310, 40349, 40619, 40897, 40945, 41116, 41228, 41235, 41255, 41296, 41434, 41488, 41542, 41572, 41605, 41706, 42203, 42212, 42386, 42421, 42480, 42482, 42541, 42577, 42668, 42929, 43096, 43134, 43257, 43281, 43310, 43595, 43789, 43814, 43888, 43958, 44044, 44109, 44283, 44294, 44597, 44645, 44658, 44723, 44829, 44876, 44942, 45109, 45231, 45303, 45480, 45541, 45555, 45768, 45831, 45916, 45958, 45976, 46095, 46177, 46366, 46594, 46756, 46793, 46854, 46928, 46951, 47020, 47023, 47360, 47368, 47388, 47399, 47417, 47464, 47511, 47558, 47635, 47657, 47681, 47803, 47908, 47928, 47978, 48074, 48105, 48147, 48195, 48246, 48406, 48408, 48418, 48584, 48799, 48884, 48947, 48984, 49160, 49237, 49304, 49386, 49396, 49435, 49508, 49690, 49769, 49871, 49909, 49922, 49934, 49995], 1.0: [15, 53, 137, 231, 309, 414, 422, 426, 529, 545, 579, 609, 626, 739, 773, 801, 1138, 1194, 1328, 1410, 1492, 1508, 1548, 1669, 1763, 1949, 2130, 2458, 2665, 2820, 2922, 2952, 3028, 3114, 3195, 3274, 3319, 3343, 3387, 3413, 3438, 3480, 3509, 3517, 3591, 3891, 3930, 4198, 4201, 4221, 4413, 4495, 4578, 4632, 4644, 4752, 4837, 5033, 5091, 5121, 5130, 5267, 5441, 5629, 5634, 5643, 5669, 5717, 5745, 5759, 5800, 5801, 5836, 5932, 5951, 6036, 6296, 6439, 6554, 6632, 6757, 6765, 6814, 6901, 7038, 7189, 7301, 7312, 7426, 7460, 7532, 7591, 7610, 7694, 7725, 7778, 7782, 7808, 8063, 8072, 8158, 8170, 8189, 8412, 8455, 8503, 8596, 8944, 8993, 9012, 9061, 9091, 9093, 9094, 9115, 9137, 9155, 9223, 9246, 9349, 9462, 9621, 9650, 9683, 9821, 9878, 9930, 9975, 9988, 10053, 10176, 10184, 10344, 10432, 10582, 10728, 10871, 10907, 10955, 10987, 11456, 11862, 11933, 11950, 11977, 11986, 12012, 12037, 12086, 12153, 12318, 12450, 12464, 12758, 12939, 12944, 12998, 13047, 13103, 13252, 13376, 13435, 13477, 13514, 13693, 13748, 13830, 13845, 14027, 14097, 14180, 14243, 14283, 14293, 14312, 14420, 14449, 14469, 14470, 14489, 14507, 14703, 14751, 14810, 14952, 15036, 15076, 15083, 15157, 15212, 15431, 15489, 15608, 15724, 15799, 15867, 15893, 15907, 15964, 16010, 16021, 16040, 16058, 16073, 16103, 16111, 16123, 16162, 16265, 16266, 16535, 16715, 16716, 16728, 16788, 16808, 17242, 17269, 17305, 17307, 17496, 17504, 17530, 17553, 17579, 17655, 17720, 17730, 17827, 17868, 17874, 17911, 17917, 17992, 18045, 18065, 18085, 18584, 18853, 18883, 18960, 19314, 19383, 19431, 19590, 19625, 19658, 19667, 19692, 19769, 19776, 19975, 19987, 20057, 20062, 20064, 20131, 20187, 20227, 20232, 20328, 20333, 20453, 20497, 20515, 20533, 20615, 20711, 20758, 20871, 21101, 21111, 21121, 21153, 21178, 21375, 21385, 21431, 21608, 21625, 21676, 21813, 21832, 21838, 21846, 21863, 21921, 21954, 22098, 22198, 22201, 22263, 22299, 22330, 22335, 22381, 22392, 22417, 22462, 22465, 22466, 22507, 22565, 22573, 22591, 22594, 22759, 22829, 22890, 22924, 22927, 22945, 22953, 23068, 23074, 23103, 23122, 23195, 23314, 23376, 23496, 23623, 23741, 23751, 23892, 23953, 24001, 24078, 24103, 24110, 24204, 24221, 24278, 24338, 24343, 24351, 24377, 24554, 24719, 24748, 24829, 24954, 24955, 24970, 24996, 25001, 25073, 25188, 25216, 25229, 25278, 25291, 25328, 25674, 25676, 25709, 25718, 25801, 25814, 25863, 25874, 25946, 26041, 26099, 26215, 26288, 26420, 26587, 26602, 26618, 26753, 26834, 26886, 26938, 27205, 27388, 27493, 27516, 27596, 27626, 27647, 27721, 27847, 27990, 28083, 28280, 28301, 28373, 28489, 28667, 28693, 28746, 28764, 28777, 28873, 28880, 29008, 29147, 29318, 29584, 29586, 29609, 29672, 29703, 29732, 29774, 29832, 29935, 30040, 30095, 30158, 30187, 30228, 30250, 30317, 30533, 30587, 30633, 30789, 30836, 30879, 31114, 31214, 31330, 31385, 31437, 31568, 31701, 31712, 31756, 31778, 31845, 31954, 32326, 32601, 32637, 32839, 32876, 32931, 33273, 33357, 33412, 33433, 33451, 33470, 33472, 33576, 33652, 33791, 33832, 33869, 33965, 34005, 34158, 34292, 34304, 34357, 34469, 34559, 34583, 34656, 34677, 34744, 34802, 34915, 34938, 34955, 35045, 35078, 35222, 35305, 35346, 35451, 35530, 35563, 35597, 35616, 35656, 35707, 35810, 35817, 35986, 36050, 36113, 36125, 36156, 36311, 36375, 36798, 36805, 36905, 36936, 36952, 36987, 37123, 37346, 37513, 37643, 37934, 37948, 38078, 38148, 38254, 38289, 38335, 38378, 38490, 38534, 38540, 38554, 38561, 38593, 38737, 38739, 38752, 38764, 38767, 38769, 38774, 38789, 38933, 38966, 38970, 38994, 39204, 39245, 39250, 39284, 39399, 39522, 39619, 39675, 39722, 39924, 39934, 40016, 40278, 40370, 40433, 40446, 40449, 40563, 40959, 40987, 41002, 41023, 41066, 41070, 41110, 41479, 41561, 41661, 41820, 41860, 41882, 42022, 42062, 42088, 42149, 42174, 42325, 42347, 42381, 42401, 42418, 42436, 42493, 42726, 42762, 42834, 42917, 43048, 43148, 43276, 43330, 43462, 43533, 43614, 43692, 43713, 43741, 43787, 43846, 43862, 43872, 43898, 43925, 43934, 43947, 44211, 44263, 44280, 44349, 44455, 44472, 44531, 44654, 44702, 44952, 44976, 45086, 45107, 45145, 45165, 45273, 45289, 45319, 45407, 45416, 45444, 45490, 45543, 45545, 45585, 45636, 45729, 45740, 45880, 45979, 45983, 46063, 46120, 46174, 46347, 46355, 46388, 46472, 46577, 46806, 46832, 46884, 46999, 47047, 47085, 47101, 47146, 47154, 47244, 47264, 47265, 47269, 47277, 47481, 47493, 47661, 47761, 47792, 47967, 48006, 48017, 48077, 48201, 48202, 48239, 48327, 48423, 48442, 48458, 48477, 48508, 48545, 48757, 48811, 48881, 48885, 48908, 48937, 48975, 49048, 49061, 49081, 49086, 49106, 49114, 49197, 49245, 49249, 49456, 49476, 49750, 49851, 49885], 2.0: [14, 40, 200, 243, 260, 396, 501, 684, 752, 1061, 1238, 1262, 1264, 1475, 1791, 1852, 1913, 1953, 2025, 2099, 2338, 2376, 2492, 2774, 2835, 2966, 3008, 3166, 3219, 3225, 3347, 3351, 3371, 3375, 3443, 3562, 3568, 3687, 3920, 4097, 4266, 4273, 4409, 4434, 4583, 4751, 4805, 4831, 5353, 5384, 5393, 5565, 5726, 5778, 5782, 5907, 5910, 6241, 6362, 6422, 6588, 6741, 6973, 7099, 7274, 7293, 7347, 7600, 7602, 7689, 7787, 7819, 7849, 7980, 8027, 8119, 8126, 8192, 8276, 8330, 8488, 8559, 8567, 8736, 8851, 9024, 9152, 9179, 9338, 9387, 9413, 9466, 9497, 9498, 9523, 9617, 9667, 9699, 9722, 9764, 9839, 10095, 10182, 10412, 10503, 10522, 10585, 10638, 10653, 10768, 10896, 11064, 11349, 11403, 11490, 11499, 11534, 11696, 12044, 12110, 12475, 12513, 12529, 12638, 12662, 12932, 13014, 13027, 13148, 13200, 13212, 13223, 13512, 13684, 13839, 13859, 13972, 13995, 14059, 14079, 14136, 14262, 14527, 14537, 14658, 14779, 14971, 15294, 15386, 15423, 15523, 15625, 15699, 16007, 16138, 16190, 16315, 16421, 16533, 16660, 16664, 17072, 17178, 17578, 17757, 17901, 17919, 17957, 18131, 18336, 18359, 18367, 18422, 18528, 18622, 18664, 18722, 18768, 18774, 18926, 19664, 19665, 19696, 19710, 19841, 19926, 20041, 20059, 20221, 20290, 20343, 20383, 20720, 20763, 21165, 21198, 21228, 21235, 21348, 21395, 21670, 21672, 21853, 22114, 22210, 22219, 22243, 22250, 22541, 22761, 22788, 22874, 22951, 23128, 23241, 23415, 23545, 23595, 23596, 23725, 23809, 23833, 23938, 23952, 24002, 24142, 24226, 24227, 24233, 24287, 24290, 24361, 24381, 24576, 24736, 24827, 24838, 24882, 24961, 25045, 25225, 25337, 25374, 25447, 25596, 25610, 25711, 25775, 26103, 26341, 26423, 26796, 26934, 27073, 27298, 27386, 27465, 27521, 27550, 27583, 27623, 27644, 27703, 27824, 27838, 28178, 28209, 28256, 28456, 28463, 28594, 28704, 28998, 29078, 29165, 29170, 29268, 29272, 29594, 29596, 29986, 30177, 30664, 30840, 30853, 31005, 31291, 31293, 31371, 31538, 31607, 31649, 31692, 31855, 31863, 31883, 31961, 32003, 32049, 32131, 32134, 32236, 32464, 32516, 32557, 32592, 32676, 32741, 32792, 32836, 33440, 33842, 34042, 34050, 34082, 34113, 34307, 34595, 34614, 34617, 34624, 34721, 34755, 34890, 35520, 35606, 35803, 36315, 36431, 36474, 36503, 36824, 36914, 36965, 37031, 37118, 37206, 37622, 37752, 37930, 37947, 38113, 38186, 38314, 38399, 38481, 38656, 38661, 38674, 38732, 38956, 39117, 39118, 39484, 39694, 39777, 39864, 39929, 40128, 40132, 40185, 40246, 40279, 40367, 40514, 40596, 40723, 40821, 40849, 40918, 40991, 41094, 41227, 41254, 41303, 41380, 41443, 41496, 41583, 41584, 41657, 41695, 41697, 41899, 42027, 42177, 42364, 42443, 42564, 42584, 42769, 42800, 43089, 43227, 43581, 43648, 43678, 43963, 44036, 44110, 44329, 44361, 44481, 44634, 44909, 45228, 45249, 45337, 45417, 45550, 45647, 45907, 45962, 46017, 46070, 46122, 46218, 46311, 46513, 46608, 46840, 46911, 46968, 47238, 47483, 47534, 47849, 48011, 48178, 48250, 48267, 48713, 48775, 48925, 49257, 49264, 49501, 49783, 49970], 3.0: [341, 1609, 1815, 2071, 2929, 3018, 3207, 5382, 5421, 5633, 5905, 5969, 6695, 6698, 6818, 6874, 7002, 7370, 7400, 7829, 8034, 8176, 8214, 8707, 9356, 9613, 10244, 10282, 11119, 11127, 11265, 11372, 11823, 12278, 12802, 13503, 14133, 14633, 14873, 15058, 15424, 15543, 16364, 16485, 17049, 17633, 17819, 17926, 19281, 19382, 19442, 19504, 19833, 19896, 20262, 20602, 21379, 21642, 21881, 22033, 22227, 23104, 23685, 23932, 24122, 25097, 25269, 25309, 25419, 25638, 25669, 26204, 26836, 27272, 28382, 28412, 28778, 29223, 30060, 30227, 30726, 31037, 31120, 31204, 31304, 31551, 31946, 32128, 32473, 33450, 33464, 33625, 33627, 34220, 34284, 36123, 36832, 37120, 37183, 37298, 37321, 37593, 38130, 38201, 38905, 39074, 39388, 39693, 40430, 41551, 42947, 43367, 43524, 43739, 43879, 44347, 44415, 44526, 44625, 44820, 44899, 45290, 45547, 45683, 45846, 46774, 46852, 46947, 47055, 47437, 47504, 47647, 47662, 48883, 49369, 49674], 4.0: [79, 648, 1775, 2212, 2261, 2284, 2401, 2463, 2489, 3462, 3557, 4841, 5152, 6042, 6134, 7025, 7821, 8174, 8275, 8317, 8459, 8502, 8643, 8859, 9280, 9324, 9455, 9465, 9773, 10434, 10755, 11020, 11431, 12053, 12449, 13080, 14712, 15393, 16789, 16876, 17411, 17565, 18023, 18276, 18542, 19013, 20103, 20174, 20273, 20586, 22071, 22627, 22703, 22958, 23008, 23486, 23852, 24153, 24447, 25405, 26665, 27467, 27656, 28501, 28703, 28924, 28930, 29587, 29650, 29651, 29780, 30816, 31284, 32307, 33795, 34368, 34425, 35063, 35190, 35428, 35463, 35820, 36210, 36231, 37204, 37231, 37535, 38013, 38135, 38136, 39589, 39782, 39892, 41207, 41627, 41964, 42102, 42242, 42314, 42822, 43282, 43400, 43471, 44507, 45275, 46109, 46354, 48342, 48603, 48632], 5.0: [316, 472, 1166, 2052, 2848, 5330, 5872, 6607, 6630, 7261, 7607, 8357, 8817, 8846, 8877, 9418, 10404, 11011, 11236, 11436, 12188, 12666, 13020, 14127, 14189, 14668, 15911, 16139, 16328, 17529, 18210, 18809, 19353, 19732, 20076, 21452, 21485, 22166, 22655, 22775, 23000, 23100, 23187, 23222, 23504, 24344, 24951, 24993, 25275, 26211, 26942, 27670, 27735, 27945, 28080, 28392, 28468, 28707, 28807, 29098, 29255, 30261, 32883, 32908, 33244, 33568, 33761, 34947, 35235, 35303, 35391, 35449, 35500, 37049, 38501, 39293, 39618, 39952, 40166, 40177, 40720, 40837, 41038, 41658, 41946, 42643, 42743, 42771, 42962, 43133, 43140, 43335, 43650, 43734, 43797, 44338, 44463, 47042, 49013, 49035, 49638, 49700, 49808], 6.0: [996, 1837, 3444, 4397, 4501, 4571, 4859, 5359, 6582, 6793, 7390, 7586, 8248, 10395, 12174, 13808, 14452, 14907, 15351, 16583, 17171, 19065, 19259, 21074, 21128, 21308, 21466, 21553, 23030, 24073, 24300, 24551, 24850, 25194, 25634, 28116, 28651, 28882, 28967, 29425, 29539, 29765, 29973, 34276, 34345, 36394, 36836, 38252, 38626, 38797, 38826, 39076, 40862, 41099, 41547, 41770, 42576, 42753, 44473, 46576, 46658, 48496], 7.0: [274, 3209, 5523, 7275, 8297, 9805, 10448, 11510, 12922, 12950, 14485, 15544, 18187, 18425, 18943, 20788, 24086, 24685, 25279, 27809, 28798, 29424, 29608, 30805, 31750, 33042, 34155, 35836, 36102, 37413, 37479, 37645, 38007, 40577, 41981, 42272, 42281, 42633, 42906, 44533, 45573, 46529, 48392, 49206]}\n"
     ]
    }
   ],
   "source": [
    "# 开始填充fuelType缺失值\n",
    "# 在含fuelType缺失值的条目中，将不同bodyType对应的index输出保存到一个字典中\n",
    "dict_index_train, dict_index_test = {}, {}\n",
    "\n",
    "for bodytype in [0.0, 1.0, 2.0, 3.0, 4.0, 5.0, 6.0, 7.0]:\n",
    "    dict_index_train[bodytype] = train[(train['bodyType'] == bodytype) & (train['fuelType'].isnull())].index.tolist()\n",
    "    dict_index_test[bodytype] = test[(test['bodyType'] == bodytype) & (test['fuelType'].isnull())].index.tolist()\n",
    "    \n",
    "print(dict_index_train)\n",
    "print(dict_index_test)"
   ]
  },
  {
   "cell_type": "code",
   "execution_count": 94,
   "metadata": {
    "ExecuteTime": {
     "end_time": "2021-06-02T02:57:57.123433Z",
     "start_time": "2021-06-02T02:57:57.077544Z"
    }
   },
   "outputs": [],
   "source": [
    "# 分别对每个bodyTYpe所对应的index来填充fuelType列\n",
    "for bt, ft in dict_enu_train.items():\n",
    "#     train.loc[tuple(dict_index[bt]), :]['fuelType'] = ft  # 注意：链式索引 (chained indexing)很可能导致赋值失败！\n",
    "    train.loc[dict_index_train[bt], 'fuelType'] = ft  # Pandas推荐使用这种方法来索引/赋值\n",
    "    test.loc[dict_index_test[bt], 'fuelType'] = ft"
   ]
  },
  {
   "cell_type": "markdown",
   "metadata": {},
   "source": [
    "### 处理gearbox的缺失值\n",
    "1. gearbox与price相关性不强\n",
    "2. gearbox中0占大多数，用0填补"
   ]
  },
  {
   "cell_type": "code",
   "execution_count": 280,
   "metadata": {
    "ExecuteTime": {
     "end_time": "2021-06-02T09:29:58.808279Z",
     "start_time": "2021-06-02T09:29:58.624758Z"
    }
   },
   "outputs": [],
   "source": [
    "# 训练集，如果缺失，补0\n",
    "train.loc[:, 'gearbox'] = train['gearbox'].map(lambda x: 0.0 if pd.isnull(x) else x)\n",
    "\n",
    "# # 对于测试集，为保证预测结果完整性，不能删去任何行。测试集仅有1910个gearbox缺失值，用数量占绝大多数的0.0（手动档）来填充缺失值\n",
    "test.loc[:, 'gearbox'] = test['gearbox'].map(lambda x: 0.0 if pd.isnull(x) else x)"
   ]
  },
  {
   "cell_type": "markdown",
   "metadata": {},
   "source": [
    "### 处理notRepairedDamage的缺失值\n",
    "用数量占比最大的0来填补"
   ]
  },
  {
   "cell_type": "code",
   "execution_count": 287,
   "metadata": {
    "ExecuteTime": {
     "end_time": "2021-06-02T09:30:15.644344Z",
     "start_time": "2021-06-02T09:30:15.441803Z"
    }
   },
   "outputs": [],
   "source": [
    "# 在整个训练集上有尚未修复损坏的汽车比损坏已修复的汽车售价还要高。\n",
    "# 为简单化问题，仍使用数量占比最大的0.0来填充所有缺失值\n",
    "train.loc[:, 'notRepairedDamage'] = train['notRepairedDamage'].map(lambda x: 0.0 if pd.isnull(x) else x)\n",
    "test.loc[:, 'notRepairedDamage'] = test['notRepairedDamage'].map(lambda x: 0.0 if pd.isnull(x) else x)"
   ]
  },
  {
   "cell_type": "markdown",
   "metadata": {},
   "source": [
    "### 随机森林填补缺失值"
   ]
  },
  {
   "cell_type": "code",
   "execution_count": 31,
   "metadata": {
    "ExecuteTime": {
     "end_time": "2021-06-02T10:25:13.448447Z",
     "start_time": "2021-06-02T10:25:13.429459Z"
    }
   },
   "outputs": [],
   "source": [
    "# 随机森林填补缺失值\n",
    "def fill_missing_rf(X, y, to_fill):\n",
    "    '''\n",
    "    使用随机森林填补一个特征的缺失值的函数\n",
    "    参数\n",
    "    X：要填补的特征矩阵，除标签列之外所有特征组成的矩阵,存在缺失值\n",
    "    y：完整的，没有缺失值的标签，指的是标签\n",
    "    to_fill：字符串，要填补的那一列的名称\n",
    "    '''\n",
    "    df = X.copy() \n",
    "    fill = df.loc[:, to_fill] #取出to_fill那一列\n",
    "    # 通过concat 得到除了to_fill那一列的所有标签和特征\n",
    "    df = pd.concat([df.loc[:, df.columns != to_fill], pd.DataFrame(y)], axis = 1) \n",
    "    \n",
    "    # 划分数据集和训练集\n",
    "    Ytrain = fill[fill.notnull()] #要填补的那一列 非空部分\n",
    "    Ytest = fill[fill.isnull()] # 要填补的那一列  空的部分\n",
    "    Xtrain = df.iloc[Ytrain.index, :] #非空部分对应的行\n",
    "    Xtest = df.iloc[Ytest.index, :] #空的部分对应的列\n",
    "    \n",
    "    # 用随机森林回归来填补缺失值\n",
    "    from sklearn.ensemble import RandomForestRegressor as rfr\n",
    "    rfr = rfr(n_estimators=100).fit(Xtrain, Ytrain)\n",
    "    Ypredict = rfr.predict(Xtest)\n",
    "    return Ypredict"
   ]
  },
  {
   "cell_type": "markdown",
   "metadata": {},
   "source": [
    "#### 随机森林填补fuelType"
   ]
  },
  {
   "cell_type": "code",
   "execution_count": null,
   "metadata": {},
   "outputs": [],
   "source": [
    "train_fuelType = train.copy(deep = True)"
   ]
  },
  {
   "cell_type": "code",
   "execution_count": 33,
   "metadata": {
    "ExecuteTime": {
     "end_time": "2021-06-02T10:26:56.500965Z",
     "start_time": "2021-06-02T10:26:56.320273Z"
    }
   },
   "outputs": [],
   "source": [
    "# 填补bodyType\n",
    "# 在两个数据集上，车身类型为0.0（豪华轿车）的汽车数量都是最多，所以用0.0来填充缺失值\n",
    "train_fuelType.loc[:, 'bodyType'] = train_fuelType['bodyType'].map(lambda x: 0.0 if pd.isnull(x) else x)\n",
    "test_fuelType.loc[:, 'bodyType'] = test_fuelType['bodyType'].map(lambda x: 0.0 if pd.isnull(x) else x)\n",
    "\n",
    "# 填补gearbox\n",
    "# 训练集，如果缺失，补0\n",
    "train_fuelType.loc[:, 'gearbox'] = train_fuelType['gearbox'].map(lambda x: 0.0 if pd.isnull(x) else x)\n",
    "# # 对于测试集，为保证预测结果完整性，不能删去任何行。测试集仅有1910个gearbox缺失值，用数量占绝大多数的0.0（手动档）来填充缺失值\n",
    "test_fuelType.loc[:, 'gearbox'] = test_fuelType['gearbox'].map(lambda x: 0.0 if pd.isnull(x) else x)\n",
    "\n",
    "# 填补notRepairedDamage\n",
    "# 在整个训练集上有尚未修复损坏的汽车比损坏已修复的汽车售价还要高。\n",
    "# 为简单化问题，仍使用数量占比最大的0.0来填充所有缺失值\n",
    "train_fuelType.loc[:, 'notRepairedDamage'] = train_fuelType['notRepairedDamage'].map(lambda x: 0.0 if pd.isnull(x) else x)\n",
    "test_fuelType.loc[:, 'notRepairedDamage'] = test_fuelType['notRepairedDamage'].map(lambda x: 0.0 if pd.isnull(x) else x)"
   ]
  },
  {
   "cell_type": "code",
   "execution_count": 36,
   "metadata": {
    "ExecuteTime": {
     "end_time": "2021-06-02T10:27:03.882882Z",
     "start_time": "2021-06-02T10:27:03.844983Z"
    }
   },
   "outputs": [],
   "source": [
    "# 划分数据集\n",
    "temp_x1 = train_fuelType.iloc[:, :12]\n",
    "temp_x2 = train_fuelType.iloc[:, 13:]\n",
    "temp_x = pd.concat([temp_x1, temp_x2], axis=1)\n",
    "temp_y = train_fuelType['price']"
   ]
  },
  {
   "cell_type": "code",
   "execution_count": 38,
   "metadata": {
    "ExecuteTime": {
     "end_time": "2021-06-02T10:37:45.948311Z",
     "start_time": "2021-06-02T10:30:05.466356Z"
    }
   },
   "outputs": [
    {
     "name": "stdout",
     "output_type": "stream",
     "text": [
      "0.0    6459\n",
      "1.0    2188\n",
      "2.0      23\n",
      "3.0      10\n",
      "dtype: int64\n"
     ]
    }
   ],
   "source": [
    "# 预测fuelType_pred\n",
    "fuelType_pred = fill_missing_rf(temp_x, temp_y, 'fuelType')\n",
    "print(pd.Series(np.round(fuelType_pred)).value_counts())"
   ]
  },
  {
   "cell_type": "code",
   "execution_count": 39,
   "metadata": {
    "ExecuteTime": {
     "end_time": "2021-06-02T10:41:55.088847Z",
     "start_time": "2021-06-02T10:41:55.063875Z"
    }
   },
   "outputs": [],
   "source": [
    "train_bck.loc[train_bck.loc[:, \"fuelType\"].isnull(), \"fuelType\"] = fuelType_pred"
   ]
  },
  {
   "cell_type": "code",
   "execution_count": 40,
   "metadata": {
    "ExecuteTime": {
     "end_time": "2021-06-02T10:42:00.099937Z",
     "start_time": "2021-06-02T10:42:00.042054Z"
    },
    "collapsed": true
   },
   "outputs": [
    {
     "name": "stdout",
     "output_type": "stream",
     "text": [
      "<class 'pandas.core.frame.DataFrame'>\n",
      "RangeIndex: 150000 entries, 0 to 149999\n",
      "Data columns (total 28 columns):\n",
      " #   Column             Non-Null Count   Dtype  \n",
      "---  ------             --------------   -----  \n",
      " 0   name               150000 non-null  int64  \n",
      " 1   regDate            150000 non-null  int64  \n",
      " 2   model              150000 non-null  float64\n",
      " 3   brand              150000 non-null  int64  \n",
      " 4   bodyType           145494 non-null  float64\n",
      " 5   fuelType           150000 non-null  float64\n",
      " 6   gearbox            144019 non-null  float64\n",
      " 7   power              150000 non-null  float64\n",
      " 8   kilometer          150000 non-null  float64\n",
      " 9   notRepairedDamage  125676 non-null  float64\n",
      " 10  regionCode         150000 non-null  int64  \n",
      " 11  creatDate          150000 non-null  int64  \n",
      " 12  price              150000 non-null  int64  \n",
      " 13  v_0                150000 non-null  float64\n",
      " 14  v_1                150000 non-null  float64\n",
      " 15  v_2                150000 non-null  float64\n",
      " 16  v_3                150000 non-null  float64\n",
      " 17  v_4                150000 non-null  float64\n",
      " 18  v_5                150000 non-null  float64\n",
      " 19  v_6                150000 non-null  float64\n",
      " 20  v_7                150000 non-null  float64\n",
      " 21  v_8                150000 non-null  float64\n",
      " 22  v_9                150000 non-null  float64\n",
      " 23  v_10               150000 non-null  float64\n",
      " 24  v_11               150000 non-null  float64\n",
      " 25  v_12               150000 non-null  float64\n",
      " 26  v_13               150000 non-null  float64\n",
      " 27  v_14               150000 non-null  float64\n",
      "dtypes: float64(22), int64(6)\n",
      "memory usage: 32.0 MB\n"
     ]
    }
   ],
   "source": [
    "# 检查\n",
    "train_bck.info()"
   ]
  },
  {
   "cell_type": "markdown",
   "metadata": {},
   "source": [
    "#### 随机森林填补bodyType"
   ]
  },
  {
   "cell_type": "code",
   "execution_count": 41,
   "metadata": {
    "ExecuteTime": {
     "end_time": "2021-06-02T10:43:28.870380Z",
     "start_time": "2021-06-02T10:43:28.841458Z"
    }
   },
   "outputs": [],
   "source": [
    "train_bodyType = train_bck.copy(deep = True)"
   ]
  },
  {
   "cell_type": "code",
   "execution_count": 42,
   "metadata": {
    "ExecuteTime": {
     "end_time": "2021-06-02T10:43:30.679042Z",
     "start_time": "2021-06-02T10:43:30.443897Z"
    }
   },
   "outputs": [],
   "source": [
    "# 填补gearbox\n",
    "# 训练集，如果缺失，补0\n",
    "train_bodyType.loc[:, 'gearbox'] = train_bodyType['gearbox'].map(lambda x: 0.0 if pd.isnull(x) else x)\n",
    "\n",
    "# 填补notRepairedDamage\n",
    "# 在整个训练集上有尚未修复损坏的汽车比损坏已修复的汽车售价还要高。\n",
    "# 为简单化问题，仍使用数量占比最大的0.0来填充所有缺失值\n",
    "train_bodyType.loc[:, 'notRepairedDamage'] = train_bodyType['notRepairedDamage'].map(lambda x: 0.0 if pd.isnull(x) else x)"
   ]
  },
  {
   "cell_type": "code",
   "execution_count": 43,
   "metadata": {
    "ExecuteTime": {
     "end_time": "2021-06-02T10:43:32.315145Z",
     "start_time": "2021-06-02T10:43:32.272258Z"
    }
   },
   "outputs": [],
   "source": [
    "# 划分数据集\n",
    "temp_x1 = train_bodyType.iloc[:, :12]\n",
    "temp_x2 = train_bodyType.iloc[:, 13:]\n",
    "temp_x = pd.concat([temp_x1, temp_x2], axis=1)\n",
    "temp_y = train_bodyType['price']"
   ]
  },
  {
   "cell_type": "code",
   "execution_count": 45,
   "metadata": {
    "ExecuteTime": {
     "end_time": "2021-06-02T10:52:53.575500Z",
     "start_time": "2021-06-02T10:43:44.077406Z"
    }
   },
   "outputs": [
    {
     "name": "stdout",
     "output_type": "stream",
     "text": [
      "1.0    3653\n",
      "2.0     745\n",
      "4.0      59\n",
      "3.0      46\n",
      "5.0       3\n",
      "dtype: int64\n"
     ]
    }
   ],
   "source": [
    "# 预测bodyType\n",
    "bodyType_pred = fill_missing_rf(temp_x, temp_y, 'bodyType')\n",
    "print(pd.Series(np.round(bodyType_pred)).value_counts())\n",
    "train_bck.loc[train_bck.loc[:, \"bodyType\"].isnull(), \"bodyType\"] = bodyType_pred\n",
    "print(train_bck.info())"
   ]
  },
  {
   "cell_type": "markdown",
   "metadata": {},
   "source": [
    "#### 随机森林填补gearbox"
   ]
  },
  {
   "cell_type": "code",
   "execution_count": 47,
   "metadata": {
    "ExecuteTime": {
     "end_time": "2021-06-02T10:53:16.042245Z",
     "start_time": "2021-06-02T10:53:16.015285Z"
    }
   },
   "outputs": [],
   "source": [
    "train_gearbox = train_bck.copy(deep = True)"
   ]
  },
  {
   "cell_type": "code",
   "execution_count": 48,
   "metadata": {
    "ExecuteTime": {
     "end_time": "2021-06-02T10:53:17.710794Z",
     "start_time": "2021-06-02T10:53:17.587071Z"
    }
   },
   "outputs": [],
   "source": [
    "# 填补notRepairedDamage\n",
    "train_gearbox.loc[:, 'notRepairedDamage'] = train_gearbox['notRepairedDamage'].map(lambda x: 0.0 if pd.isnull(x) else x)"
   ]
  },
  {
   "cell_type": "code",
   "execution_count": 49,
   "metadata": {
    "ExecuteTime": {
     "end_time": "2021-06-02T10:53:19.646892Z",
     "start_time": "2021-06-02T10:53:19.601974Z"
    }
   },
   "outputs": [],
   "source": [
    "# 划分数据集\n",
    "temp_x1 = train_gearbox.iloc[:, :12]\n",
    "temp_x2 = train_gearbox.iloc[:, 13:]\n",
    "temp_x = pd.concat([temp_x1, temp_x2], axis=1)\n",
    "temp_y = train_gearbox['price']"
   ]
  },
  {
   "cell_type": "code",
   "execution_count": 50,
   "metadata": {
    "ExecuteTime": {
     "end_time": "2021-06-02T11:02:15.679439Z",
     "start_time": "2021-06-02T10:53:26.412939Z"
    },
    "scrolled": true
   },
   "outputs": [
    {
     "name": "stdout",
     "output_type": "stream",
     "text": [
      "0.0    5226\n",
      "1.0     755\n",
      "dtype: int64\n",
      "<class 'pandas.core.frame.DataFrame'>\n",
      "RangeIndex: 150000 entries, 0 to 149999\n",
      "Data columns (total 28 columns):\n",
      " #   Column             Non-Null Count   Dtype  \n",
      "---  ------             --------------   -----  \n",
      " 0   name               150000 non-null  int64  \n",
      " 1   regDate            150000 non-null  int64  \n",
      " 2   model              150000 non-null  float64\n",
      " 3   brand              150000 non-null  int64  \n",
      " 4   bodyType           150000 non-null  float64\n",
      " 5   fuelType           150000 non-null  float64\n",
      " 6   gearbox            150000 non-null  float64\n",
      " 7   power              150000 non-null  float64\n",
      " 8   kilometer          150000 non-null  float64\n",
      " 9   notRepairedDamage  125676 non-null  float64\n",
      " 10  regionCode         150000 non-null  int64  \n",
      " 11  creatDate          150000 non-null  int64  \n",
      " 12  price              150000 non-null  int64  \n",
      " 13  v_0                150000 non-null  float64\n",
      " 14  v_1                150000 non-null  float64\n",
      " 15  v_2                150000 non-null  float64\n",
      " 16  v_3                150000 non-null  float64\n",
      " 17  v_4                150000 non-null  float64\n",
      " 18  v_5                150000 non-null  float64\n",
      " 19  v_6                150000 non-null  float64\n",
      " 20  v_7                150000 non-null  float64\n",
      " 21  v_8                150000 non-null  float64\n",
      " 22  v_9                150000 non-null  float64\n",
      " 23  v_10               150000 non-null  float64\n",
      " 24  v_11               150000 non-null  float64\n",
      " 25  v_12               150000 non-null  float64\n",
      " 26  v_13               150000 non-null  float64\n",
      " 27  v_14               150000 non-null  float64\n",
      "dtypes: float64(22), int64(6)\n",
      "memory usage: 32.0 MB\n",
      "None\n"
     ]
    }
   ],
   "source": [
    "# 预测gearbox\n",
    "gearbox_pred = fill_missing_rf(temp_x, temp_y, 'gearbox')\n",
    "print(pd.Series(np.round(gearbox_pred)).value_counts())\n",
    "train_bck.loc[train_bck.loc[:, \"gearbox\"].isnull(), \"gearbox\"] = gearbox_pred\n",
    "print(train_bck.info())"
   ]
  },
  {
   "cell_type": "markdown",
   "metadata": {},
   "source": [
    "#### 随机森林填补notRepairedDamage"
   ]
  },
  {
   "cell_type": "code",
   "execution_count": 51,
   "metadata": {
    "ExecuteTime": {
     "end_time": "2021-06-02T11:15:09.664898Z",
     "start_time": "2021-06-02T11:15:09.632982Z"
    }
   },
   "outputs": [],
   "source": [
    "train_notRepairedDamage = train_bck.copy(deep = True)"
   ]
  },
  {
   "cell_type": "code",
   "execution_count": 52,
   "metadata": {
    "ExecuteTime": {
     "end_time": "2021-06-02T11:15:11.613669Z",
     "start_time": "2021-06-02T11:15:11.553788Z"
    }
   },
   "outputs": [],
   "source": [
    "# 划分数据集\n",
    "temp_x1 = train_notRepairedDamage.iloc[:, :12]\n",
    "temp_x2 = train_notRepairedDamage.iloc[:, 13:]\n",
    "temp_x = pd.concat([temp_x1, temp_x2], axis=1)\n",
    "temp_y = train_notRepairedDamage['price']"
   ]
  },
  {
   "cell_type": "code",
   "execution_count": 53,
   "metadata": {
    "ExecuteTime": {
     "end_time": "2021-06-02T11:23:53.184020Z",
     "start_time": "2021-06-02T11:15:14.363480Z"
    }
   },
   "outputs": [
    {
     "name": "stdout",
     "output_type": "stream",
     "text": [
      "0.0    20663\n",
      "1.0     3661\n",
      "dtype: int64\n",
      "<class 'pandas.core.frame.DataFrame'>\n",
      "RangeIndex: 150000 entries, 0 to 149999\n",
      "Data columns (total 28 columns):\n",
      " #   Column             Non-Null Count   Dtype  \n",
      "---  ------             --------------   -----  \n",
      " 0   name               150000 non-null  int64  \n",
      " 1   regDate            150000 non-null  int64  \n",
      " 2   model              150000 non-null  float64\n",
      " 3   brand              150000 non-null  int64  \n",
      " 4   bodyType           150000 non-null  float64\n",
      " 5   fuelType           150000 non-null  float64\n",
      " 6   gearbox            150000 non-null  float64\n",
      " 7   power              150000 non-null  float64\n",
      " 8   kilometer          150000 non-null  float64\n",
      " 9   notRepairedDamage  150000 non-null  float64\n",
      " 10  regionCode         150000 non-null  int64  \n",
      " 11  creatDate          150000 non-null  int64  \n",
      " 12  price              150000 non-null  int64  \n",
      " 13  v_0                150000 non-null  float64\n",
      " 14  v_1                150000 non-null  float64\n",
      " 15  v_2                150000 non-null  float64\n",
      " 16  v_3                150000 non-null  float64\n",
      " 17  v_4                150000 non-null  float64\n",
      " 18  v_5                150000 non-null  float64\n",
      " 19  v_6                150000 non-null  float64\n",
      " 20  v_7                150000 non-null  float64\n",
      " 21  v_8                150000 non-null  float64\n",
      " 22  v_9                150000 non-null  float64\n",
      " 23  v_10               150000 non-null  float64\n",
      " 24  v_11               150000 non-null  float64\n",
      " 25  v_12               150000 non-null  float64\n",
      " 26  v_13               150000 non-null  float64\n",
      " 27  v_14               150000 non-null  float64\n",
      "dtypes: float64(22), int64(6)\n",
      "memory usage: 32.0 MB\n",
      "None\n"
     ]
    }
   ],
   "source": [
    "# 预测notRepairedDamage\n",
    "notRepairedDamage_pred = fill_missing_rf(temp_x, temp_y, 'notRepairedDamage')\n",
    "print(pd.Series(np.round(notRepairedDamage_pred)).value_counts())\n",
    "train_bck.loc[train_bck.loc[:, \"notRepairedDamage\"].isnull(), \"notRepairedDamage\"] = notRepairedDamage_pred\n",
    "print(train_bck.info())"
   ]
  },
  {
   "cell_type": "markdown",
   "metadata": {},
   "source": [
    "#### test正常填补，无法用随机森林"
   ]
  },
  {
   "cell_type": "code",
   "execution_count": 54,
   "metadata": {
    "ExecuteTime": {
     "end_time": "2021-06-02T11:24:06.709527Z",
     "start_time": "2021-06-02T11:24:06.446861Z"
    },
    "collapsed": true
   },
   "outputs": [
    {
     "name": "stdout",
     "output_type": "stream",
     "text": [
      "{0.0: [4, 77, 135, 146, 150, 174, 175, 184, 322, 376, 411, 452, 457, 458, 518, 523, 560, 618, 632, 663, 718, 719, 796, 845, 869, 942, 993, 997, 1039, 1069, 1126, 1246, 1268, 1294, 1298, 1349, 1352, 1391, 1450, 1466, 1516, 1617, 1624, 1674, 1699, 1716, 1774, 1801, 1809, 1867, 1874, 1882, 1905, 1923, 1930, 1934, 1962, 1967, 1980, 2008, 2018, 2050, 2137, 2148, 2241, 2257, 2273, 2298, 2317, 2358, 2437, 2497, 2531, 2564, 2677, 2744, 2786, 2810, 2830, 2945, 2989, 3060, 3117, 3189, 3256, 3257, 3272, 3275, 3291, 3301, 3313, 3415, 3450, 3463, 3537, 3592, 3596, 3647, 3673, 3754, 3787, 3800, 3834, 3856, 3857, 3903, 3907, 3911, 3912, 3915, 3937, 3965, 4019, 4057, 4126, 4174, 4192, 4234, 4280, 4283, 4293, 4295, 4445, 4448, 4524, 4626, 4633, 4660, 4674, 4723, 4738, 4824, 4839, 4842, 4868, 4917, 4949, 4957, 4962, 4997, 5047, 5084, 5092, 5122, 5155, 5174, 5182, 5234, 5263, 5271, 5272, 5303, 5311, 5447, 5534, 5680, 5709, 5715, 5747, 5829, 5891, 5978, 6099, 6138, 6181, 6320, 6326, 6341, 6417, 6503, 6575, 6730, 6750, 6845, 6851, 6859, 6894, 6910, 6931, 6950, 6991, 7088, 7090, 7091, 7105, 7127, 7136, 7217, 7226, 7244, 7294, 7300, 7392, 7437, 7454, 7457, 7531, 7545, 7555, 7629, 7630, 7652, 7691, 7695, 7708, 7742, 7759, 7902, 7909, 7930, 7932, 7952, 7958, 8049, 8149, 8190, 8211, 8285, 8300, 8408, 8465, 8477, 8538, 8572, 8687, 8693, 8767, 8783, 8801, 8803, 8818, 8820, 8827, 8849, 8857, 8921, 8923, 8930, 8954, 9036, 9111, 9129, 9202, 9233, 9251, 9279, 9350, 9396, 9464, 9484, 9508, 9560, 9565, 9689, 9815, 9896, 9910, 9911, 9933, 9987, 10015, 10043, 10082, 10116, 10179, 10208, 10260, 10450, 10468, 10539, 10579, 10592, 10626, 10661, 10674, 10762, 10767, 10796, 10812, 10874, 11063, 11079, 11101, 11116, 11122, 11176, 11212, 11216, 11238, 11250, 11306, 11384, 11415, 11543, 11566, 11604, 11627, 11667, 11795, 11834, 12073, 12095, 12133, 12148, 12178, 12208, 12277, 12316, 12346, 12359, 12422, 12425, 12440, 12453, 12533, 12545, 12561, 12622, 12755, 12759, 12761, 12814, 12820, 12924, 12992, 13009, 13072, 13075, 13099, 13133, 13145, 13176, 13209, 13238, 13242, 13257, 13282, 13307, 13332, 13336, 13397, 13430, 13577, 13614, 13623, 13633, 13650, 13654, 13677, 13702, 13718, 13724, 13768, 13769, 13774, 13784, 13796, 13809, 13827, 13842, 13905, 13935, 13944, 13945, 13951, 13967, 14003, 14093, 14132, 14184, 14231, 14267, 14298, 14352, 14368, 14389, 14425, 14440, 14543, 14561, 14608, 14677, 14690, 14735, 14737, 14750, 14766, 14798, 14918, 14938, 14955, 14963, 14985, 15003, 15007, 15022, 15037, 15078, 15159, 15175, 15228, 15375, 15381, 15526, 15549, 15554, 15611, 15674, 15764, 15827, 15840, 15869, 15888, 15936, 15947, 15997, 16043, 16044, 16051, 16095, 16097, 16107, 16144, 16145, 16178, 16203, 16244, 16320, 16437, 16448, 16464, 16518, 16530, 16551, 16584, 16631, 16640, 16672, 16722, 16736, 16792, 16846, 16870, 16893, 16943, 16967, 16976, 16993, 17021, 17037, 17141, 17217, 17223, 17226, 17349, 17351, 17358, 17375, 17512, 17540, 17592, 17611, 17761, 17785, 17826, 18091, 18108, 18153, 18167, 18204, 18237, 18312, 18341, 18354, 18407, 18474, 18529, 18579, 18590, 18607, 18660, 18684, 18713, 18801, 18835, 18851, 18867, 18920, 18968, 18973, 18984, 19003, 19040, 19047, 19089, 19106, 19204, 19242, 19243, 19249, 19284, 19307, 19367, 19389, 19457, 19464, 19486, 19505, 19568, 19633, 19651, 19690, 19739, 19794, 19822, 19826, 19861, 19918, 19942, 19949, 19983, 20027, 20039, 20048, 20061, 20079, 20086, 20137, 20256, 20263, 20272, 20284, 20385, 20449, 20458, 20506, 20525, 20529, 20546, 20552, 20569, 20580, 20582, 20633, 20699, 20813, 20907, 20962, 21025, 21089, 21160, 21172, 21183, 21220, 21313, 21326, 21363, 21411, 21420, 21448, 21493, 21531, 21572, 21580, 21591, 21601, 21727, 21745, 21753, 21772, 21789, 21864, 21930, 21933, 21935, 21937, 21948, 21986, 22016, 22031, 22052, 22103, 22125, 22152, 22155, 22225, 22258, 22286, 22287, 22303, 22315, 22328, 22347, 22379, 22506, 22515, 22520, 22623, 22697, 22738, 22883, 22897, 22936, 22965, 22983, 23009, 23072, 23164, 23172, 23180, 23181, 23196, 23223, 23240, 23276, 23381, 23420, 23450, 23459, 23475, 23615, 23761, 23790, 23795, 23843, 23854, 23887, 24008, 24016, 24090, 24148, 24149, 24172, 24183, 24190, 24194, 24218, 24241, 24242, 24260, 24263, 24339, 24362, 24401, 24437, 24486, 24492, 24495, 24560, 24565, 24635, 24740, 24747, 24750, 24799, 24848, 24855, 24861, 24866, 24879, 24956, 24979, 24989, 25005, 25141, 25156, 25163, 25316, 25339, 25366, 25370, 25373, 25399, 25427, 25435, 25461, 25472, 25487, 25501, 25516, 25564, 25570, 25599, 25616, 25639, 25685, 25752, 25778, 25785, 25806, 25818, 25838, 25868, 25870, 25881, 25909, 25935, 25996, 25999, 26017, 26159, 26163, 26358, 26439, 26444, 26505, 26510, 26539, 26545, 26584, 26592, 26596, 26638, 26678, 26741, 26793, 26828, 26843, 26919, 26921, 26944, 26997, 27035, 27052, 27094, 27131, 27140, 27253, 27269, 27377, 27428, 27449, 27456, 27473, 27507, 27510, 27565, 27581, 27617, 27661, 27719, 27822, 27825, 27989, 28011, 28034, 28079, 28111, 28149, 28153, 28221, 28303, 28325, 28369, 28402, 28407, 28458, 28517, 28524, 28551, 28553, 28622, 28630, 28642, 28647, 28650, 28660, 28684, 28689, 28697, 28770, 28781, 28857, 28902, 28903, 28951, 28983, 29016, 29127, 29168, 29195, 29197, 29395, 29431, 29437, 29487, 29551, 29572, 29581, 29605, 29702, 29731, 29740, 29748, 29760, 29768, 29910, 29939, 29955, 29980, 30065, 30078, 30091, 30114, 30146, 30172, 30188, 30212, 30218, 30263, 30297, 30310, 30318, 30327, 30348, 30360, 30364, 30372, 30459, 30485, 30505, 30531, 30539, 30574, 30583, 30619, 30643, 30652, 30684, 30725, 30727, 30737, 30832, 30838, 30850, 30859, 30876, 30917, 30929, 31106, 31112, 31149, 31245, 31246, 31263, 31353, 31359, 31376, 31425, 31451, 31458, 31472, 31497, 31503, 31529, 31540, 31581, 31616, 31714, 31716, 31745, 31751, 31796, 31814, 31844, 31878, 31977, 32001, 32056, 32058, 32106, 32310, 32339, 32469, 32646, 32654, 32713, 32737, 32744, 32769, 32860, 32866, 32915, 32977, 33023, 33069, 33073, 33081, 33089, 33091, 33172, 33177, 33225, 33314, 33348, 33444, 33448, 33475, 33530, 33573, 33575, 33624, 33669, 33709, 33742, 33757, 33901, 33918, 34099, 34128, 34157, 34172, 34187, 34214, 34216, 34338, 34409, 34419, 34431, 34451, 34511, 34527, 34536, 34550, 34592, 34593, 34685, 34751, 34853, 34904, 34946, 34949, 35028, 35059, 35074, 35082, 35088, 35128, 35146, 35148, 35188, 35218, 35252, 35297, 35333, 35373, 35382, 35400, 35413, 35529, 35555, 35626, 35631, 35653, 35660, 35679, 35700, 35795, 35901, 35963, 36074, 36129, 36164, 36166, 36193, 36317, 36348, 36385, 36409, 36437, 36466, 36479, 36482, 36515, 36516, 36520, 36530, 36552, 36582, 36633, 36640, 36650, 36742, 36744, 36753, 36879, 36968, 37005, 37022, 37042, 37044, 37115, 37126, 37175, 37219, 37263, 37269, 37286, 37299, 37324, 37339, 37342, 37343, 37378, 37391, 37425, 37493, 37494, 37503, 37532, 37573, 37582, 37595, 37602, 37648, 37846, 37847, 37849, 37850, 37928, 37954, 37975, 38022, 38047, 38146, 38149, 38153, 38226, 38228, 38290, 38309, 38347, 38379, 38387, 38408, 38473, 38484, 38525, 38578, 38609, 38651, 38671, 38819, 38834, 38860, 38862, 38904, 38926, 39061, 39063, 39070, 39256, 39304, 39337, 39457, 39460, 39472, 39489, 39538, 39544, 39636, 39648, 39658, 39664, 39760, 39766, 39770, 39936, 39959, 39984, 40006, 40046, 40051, 40061, 40068, 40070, 40087, 40098, 40134, 40148, 40238, 40268, 40310, 40349, 40414, 40421, 40491, 40496, 40552, 40586, 40601, 40613, 40619, 40644, 40738, 40768, 40897, 40945, 40977, 40999, 41042, 41046, 41078, 41116, 41152, 41221, 41228, 41235, 41255, 41271, 41285, 41296, 41314, 41339, 41345, 41423, 41434, 41488, 41542, 41572, 41605, 41639, 41702, 41706, 41805, 41810, 42003, 42115, 42120, 42154, 42202, 42203, 42211, 42212, 42239, 42386, 42392, 42406, 42421, 42454, 42458, 42480, 42482, 42492, 42541, 42563, 42577, 42593, 42645, 42658, 42668, 42686, 42700, 42724, 42729, 42759, 42796, 42797, 42817, 42897, 42924, 42929, 43096, 43131, 43134, 43234, 43257, 43281, 43309, 43310, 43311, 43329, 43428, 43516, 43539, 43595, 43624, 43655, 43767, 43789, 43814, 43888, 43915, 43958, 43982, 44020, 44044, 44109, 44132, 44283, 44294, 44443, 44564, 44597, 44645, 44653, 44658, 44660, 44723, 44829, 44876, 44896, 44942, 45091, 45109, 45178, 45231, 45234, 45237, 45303, 45332, 45470, 45480, 45541, 45555, 45598, 45642, 45658, 45736, 45768, 45831, 45916, 45958, 45976, 46000, 46047, 46095, 46097, 46143, 46177, 46198, 46254, 46303, 46312, 46320, 46326, 46334, 46366, 46382, 46403, 46526, 46545, 46588, 46594, 46628, 46699, 46756, 46793, 46818, 46854, 46928, 46934, 46951, 47005, 47020, 47023, 47086, 47130, 47143, 47200, 47246, 47256, 47292, 47294, 47345, 47360, 47368, 47383, 47388, 47399, 47417, 47424, 47464, 47492, 47511, 47558, 47580, 47635, 47638, 47657, 47667, 47681, 47803, 47814, 47863, 47892, 47908, 47918, 47928, 47978, 47998, 48026, 48030, 48068, 48074, 48105, 48147, 48195, 48246, 48262, 48294, 48387, 48406, 48408, 48418, 48509, 48536, 48584, 48585, 48620, 48759, 48799, 48884, 48912, 48913, 48947, 48984, 48992, 49107, 49121, 49160, 49230, 49235, 49237, 49302, 49304, 49318, 49356, 49386, 49396, 49435, 49503, 49508, 49644, 49683, 49690, 49707, 49769, 49776, 49825, 49849, 49865, 49871, 49909, 49916, 49922, 49934, 49995], 1.0: [15, 53, 137, 231, 309, 414, 422, 426, 529, 545, 579, 609, 626, 739, 773, 801, 1138, 1194, 1328, 1410, 1492, 1508, 1548, 1669, 1763, 1949, 2130, 2458, 2665, 2820, 2922, 2952, 3028, 3114, 3195, 3274, 3319, 3343, 3387, 3413, 3438, 3480, 3509, 3517, 3591, 3891, 3930, 4198, 4201, 4221, 4413, 4495, 4578, 4632, 4644, 4752, 4837, 5033, 5091, 5121, 5130, 5267, 5441, 5629, 5634, 5643, 5669, 5717, 5745, 5759, 5800, 5801, 5836, 5932, 5951, 6036, 6296, 6439, 6554, 6632, 6757, 6765, 6814, 6901, 7038, 7189, 7301, 7312, 7426, 7460, 7532, 7591, 7610, 7694, 7725, 7778, 7782, 7808, 8063, 8072, 8158, 8170, 8189, 8412, 8455, 8503, 8596, 8944, 8993, 9012, 9061, 9091, 9093, 9094, 9115, 9137, 9155, 9223, 9246, 9349, 9462, 9621, 9650, 9683, 9821, 9878, 9930, 9975, 9988, 10053, 10176, 10184, 10344, 10432, 10582, 10728, 10871, 10907, 10955, 10987, 11456, 11862, 11933, 11950, 11977, 11986, 12012, 12037, 12086, 12153, 12318, 12450, 12464, 12758, 12939, 12944, 12998, 13047, 13103, 13252, 13376, 13435, 13477, 13514, 13693, 13748, 13830, 13845, 14027, 14097, 14180, 14243, 14283, 14293, 14312, 14420, 14449, 14469, 14470, 14489, 14507, 14703, 14751, 14810, 14952, 15036, 15076, 15083, 15157, 15212, 15431, 15489, 15608, 15724, 15799, 15867, 15893, 15907, 15964, 16010, 16021, 16040, 16058, 16073, 16103, 16111, 16123, 16162, 16265, 16266, 16535, 16715, 16716, 16728, 16788, 16808, 17242, 17269, 17305, 17307, 17496, 17504, 17530, 17553, 17579, 17655, 17720, 17730, 17827, 17868, 17874, 17911, 17917, 17992, 18045, 18065, 18085, 18584, 18853, 18883, 18960, 19314, 19383, 19431, 19590, 19625, 19658, 19667, 19692, 19769, 19776, 19975, 19987, 20057, 20062, 20064, 20131, 20187, 20227, 20232, 20328, 20333, 20453, 20497, 20515, 20533, 20615, 20711, 20758, 20871, 21101, 21111, 21121, 21153, 21178, 21375, 21385, 21431, 21608, 21625, 21676, 21813, 21832, 21838, 21846, 21863, 21921, 21954, 22098, 22198, 22201, 22263, 22299, 22330, 22335, 22381, 22392, 22417, 22462, 22465, 22466, 22507, 22565, 22573, 22591, 22594, 22759, 22829, 22890, 22924, 22927, 22945, 22953, 23068, 23074, 23103, 23122, 23195, 23314, 23376, 23496, 23623, 23741, 23751, 23892, 23953, 24001, 24078, 24103, 24110, 24204, 24221, 24278, 24338, 24343, 24351, 24377, 24554, 24719, 24748, 24829, 24954, 24955, 24970, 24996, 25001, 25073, 25188, 25216, 25229, 25278, 25291, 25328, 25674, 25676, 25709, 25718, 25801, 25814, 25863, 25874, 25946, 26041, 26099, 26215, 26288, 26420, 26587, 26602, 26618, 26753, 26834, 26886, 26938, 27205, 27388, 27493, 27516, 27596, 27626, 27647, 27721, 27847, 27990, 28083, 28280, 28301, 28373, 28489, 28667, 28693, 28746, 28764, 28777, 28873, 28880, 29008, 29147, 29318, 29584, 29586, 29609, 29672, 29703, 29732, 29774, 29832, 29935, 30040, 30095, 30158, 30187, 30228, 30250, 30317, 30533, 30587, 30633, 30789, 30836, 30879, 31114, 31214, 31330, 31385, 31437, 31568, 31701, 31712, 31756, 31778, 31845, 31954, 32326, 32601, 32637, 32839, 32876, 32931, 33273, 33357, 33412, 33433, 33451, 33470, 33472, 33576, 33652, 33791, 33832, 33869, 33965, 34005, 34158, 34292, 34304, 34357, 34469, 34559, 34583, 34656, 34677, 34744, 34802, 34915, 34938, 34955, 35045, 35078, 35222, 35305, 35346, 35451, 35530, 35563, 35597, 35616, 35656, 35707, 35810, 35817, 35986, 36050, 36113, 36125, 36156, 36311, 36375, 36798, 36805, 36905, 36936, 36952, 36987, 37123, 37346, 37513, 37643, 37934, 37948, 38078, 38148, 38254, 38289, 38335, 38378, 38490, 38534, 38540, 38554, 38561, 38593, 38737, 38739, 38752, 38764, 38767, 38769, 38774, 38789, 38933, 38966, 38970, 38994, 39204, 39245, 39250, 39284, 39399, 39522, 39619, 39675, 39722, 39924, 39934, 40016, 40278, 40370, 40433, 40446, 40449, 40563, 40959, 40987, 41002, 41023, 41066, 41070, 41110, 41479, 41561, 41661, 41820, 41860, 41882, 42022, 42062, 42088, 42149, 42174, 42325, 42347, 42381, 42401, 42418, 42436, 42493, 42726, 42762, 42834, 42917, 43048, 43148, 43276, 43330, 43462, 43533, 43614, 43692, 43713, 43741, 43787, 43846, 43862, 43872, 43898, 43925, 43934, 43947, 44211, 44263, 44280, 44349, 44455, 44472, 44531, 44654, 44702, 44952, 44976, 45086, 45107, 45145, 45165, 45273, 45289, 45319, 45407, 45416, 45444, 45490, 45543, 45545, 45585, 45636, 45729, 45740, 45880, 45979, 45983, 46063, 46120, 46174, 46347, 46355, 46388, 46472, 46577, 46806, 46832, 46884, 46999, 47047, 47085, 47101, 47146, 47154, 47244, 47264, 47265, 47269, 47277, 47481, 47493, 47661, 47761, 47792, 47967, 48006, 48017, 48077, 48201, 48202, 48239, 48327, 48423, 48442, 48458, 48477, 48508, 48545, 48757, 48811, 48881, 48885, 48908, 48937, 48975, 49048, 49061, 49081, 49086, 49106, 49114, 49197, 49245, 49249, 49456, 49476, 49750, 49851, 49885], 2.0: [14, 40, 200, 243, 260, 396, 501, 684, 752, 1061, 1238, 1262, 1264, 1475, 1791, 1852, 1913, 1953, 2025, 2099, 2338, 2376, 2492, 2774, 2835, 2966, 3008, 3166, 3219, 3225, 3347, 3351, 3371, 3375, 3443, 3562, 3568, 3687, 3920, 4097, 4266, 4273, 4409, 4434, 4583, 4751, 4805, 4831, 5353, 5384, 5393, 5565, 5726, 5778, 5782, 5907, 5910, 6241, 6362, 6422, 6588, 6741, 6973, 7099, 7274, 7293, 7347, 7600, 7602, 7689, 7787, 7819, 7849, 7980, 8027, 8119, 8126, 8192, 8276, 8330, 8488, 8559, 8567, 8736, 8851, 9024, 9152, 9179, 9338, 9387, 9413, 9466, 9497, 9498, 9523, 9617, 9667, 9699, 9722, 9764, 9839, 10095, 10182, 10412, 10503, 10522, 10585, 10638, 10653, 10768, 10896, 11064, 11349, 11403, 11490, 11499, 11534, 11696, 12044, 12110, 12475, 12513, 12529, 12638, 12662, 12932, 13014, 13027, 13148, 13200, 13212, 13223, 13512, 13684, 13839, 13859, 13972, 13995, 14059, 14079, 14136, 14262, 14527, 14537, 14658, 14779, 14971, 15294, 15386, 15423, 15523, 15625, 15699, 16007, 16138, 16190, 16315, 16421, 16533, 16660, 16664, 17072, 17178, 17578, 17757, 17901, 17919, 17957, 18131, 18336, 18359, 18367, 18422, 18528, 18622, 18664, 18722, 18768, 18774, 18926, 19664, 19665, 19696, 19710, 19841, 19926, 20041, 20059, 20221, 20290, 20343, 20383, 20720, 20763, 21165, 21198, 21228, 21235, 21348, 21395, 21670, 21672, 21853, 22114, 22210, 22219, 22243, 22250, 22541, 22761, 22788, 22874, 22951, 23128, 23241, 23415, 23545, 23595, 23596, 23725, 23809, 23833, 23938, 23952, 24002, 24142, 24226, 24227, 24233, 24287, 24290, 24361, 24381, 24576, 24736, 24827, 24838, 24882, 24961, 25045, 25225, 25337, 25374, 25447, 25596, 25610, 25711, 25775, 26103, 26341, 26423, 26796, 26934, 27073, 27298, 27386, 27465, 27521, 27550, 27583, 27623, 27644, 27703, 27824, 27838, 28178, 28209, 28256, 28456, 28463, 28594, 28704, 28998, 29078, 29165, 29170, 29268, 29272, 29594, 29596, 29986, 30177, 30664, 30840, 30853, 31005, 31291, 31293, 31371, 31538, 31607, 31649, 31692, 31855, 31863, 31883, 31961, 32003, 32049, 32131, 32134, 32236, 32464, 32516, 32557, 32592, 32676, 32741, 32792, 32836, 33440, 33842, 34042, 34050, 34082, 34113, 34307, 34595, 34614, 34617, 34624, 34721, 34755, 34890, 35520, 35606, 35803, 36315, 36431, 36474, 36503, 36824, 36914, 36965, 37031, 37118, 37206, 37622, 37752, 37930, 37947, 38113, 38186, 38314, 38399, 38481, 38656, 38661, 38674, 38732, 38956, 39117, 39118, 39484, 39694, 39777, 39864, 39929, 40128, 40132, 40185, 40246, 40279, 40367, 40514, 40596, 40723, 40821, 40849, 40918, 40991, 41094, 41227, 41254, 41303, 41380, 41443, 41496, 41583, 41584, 41657, 41695, 41697, 41899, 42027, 42177, 42364, 42443, 42564, 42584, 42769, 42800, 43089, 43227, 43581, 43648, 43678, 43963, 44036, 44110, 44329, 44361, 44481, 44634, 44909, 45228, 45249, 45337, 45417, 45550, 45647, 45907, 45962, 46017, 46070, 46122, 46218, 46311, 46513, 46608, 46840, 46911, 46968, 47238, 47483, 47534, 47849, 48011, 48178, 48250, 48267, 48713, 48775, 48925, 49257, 49264, 49501, 49783, 49970], 3.0: [341, 1609, 1815, 2071, 2929, 3018, 3207, 5382, 5421, 5633, 5905, 5969, 6695, 6698, 6818, 6874, 7002, 7370, 7400, 7829, 8034, 8176, 8214, 8707, 9356, 9613, 10244, 10282, 11119, 11127, 11265, 11372, 11823, 12278, 12802, 13503, 14133, 14633, 14873, 15058, 15424, 15543, 16364, 16485, 17049, 17633, 17819, 17926, 19281, 19382, 19442, 19504, 19833, 19896, 20262, 20602, 21379, 21642, 21881, 22033, 22227, 23104, 23685, 23932, 24122, 25097, 25269, 25309, 25419, 25638, 25669, 26204, 26836, 27272, 28382, 28412, 28778, 29223, 30060, 30227, 30726, 31037, 31120, 31204, 31304, 31551, 31946, 32128, 32473, 33450, 33464, 33625, 33627, 34220, 34284, 36123, 36832, 37120, 37183, 37298, 37321, 37593, 38130, 38201, 38905, 39074, 39388, 39693, 40430, 41551, 42947, 43367, 43524, 43739, 43879, 44347, 44415, 44526, 44625, 44820, 44899, 45290, 45547, 45683, 45846, 46774, 46852, 46947, 47055, 47437, 47504, 47647, 47662, 48883, 49369, 49674], 4.0: [79, 648, 1775, 2212, 2261, 2284, 2401, 2463, 2489, 3462, 3557, 4841, 5152, 6042, 6134, 7025, 7821, 8174, 8275, 8317, 8459, 8502, 8643, 8859, 9280, 9324, 9455, 9465, 9773, 10434, 10755, 11020, 11431, 12053, 12449, 13080, 14712, 15393, 16789, 16876, 17411, 17565, 18023, 18276, 18542, 19013, 20103, 20174, 20273, 20586, 22071, 22627, 22703, 22958, 23008, 23486, 23852, 24153, 24447, 25405, 26665, 27467, 27656, 28501, 28703, 28924, 28930, 29587, 29650, 29651, 29780, 30816, 31284, 32307, 33795, 34368, 34425, 35063, 35190, 35428, 35463, 35820, 36210, 36231, 37204, 37231, 37535, 38013, 38135, 38136, 39589, 39782, 39892, 41207, 41627, 41964, 42102, 42242, 42314, 42822, 43282, 43400, 43471, 44507, 45275, 46109, 46354, 48342, 48603, 48632], 5.0: [316, 472, 1166, 2052, 2848, 5330, 5872, 6607, 6630, 7261, 7607, 8357, 8817, 8846, 8877, 9418, 10404, 11011, 11236, 11436, 12188, 12666, 13020, 14127, 14189, 14668, 15911, 16139, 16328, 17529, 18210, 18809, 19353, 19732, 20076, 21452, 21485, 22166, 22655, 22775, 23000, 23100, 23187, 23222, 23504, 24344, 24951, 24993, 25275, 26211, 26942, 27670, 27735, 27945, 28080, 28392, 28468, 28707, 28807, 29098, 29255, 30261, 32883, 32908, 33244, 33568, 33761, 34947, 35235, 35303, 35391, 35449, 35500, 37049, 38501, 39293, 39618, 39952, 40166, 40177, 40720, 40837, 41038, 41658, 41946, 42643, 42743, 42771, 42962, 43133, 43140, 43335, 43650, 43734, 43797, 44338, 44463, 47042, 49013, 49035, 49638, 49700, 49808], 6.0: [996, 1837, 3444, 4397, 4501, 4571, 4859, 5359, 6582, 6793, 7390, 7586, 8248, 10395, 12174, 13808, 14452, 14907, 15351, 16583, 17171, 19065, 19259, 21074, 21128, 21308, 21466, 21553, 23030, 24073, 24300, 24551, 24850, 25194, 25634, 28116, 28651, 28882, 28967, 29425, 29539, 29765, 29973, 34276, 34345, 36394, 36836, 38252, 38626, 38797, 38826, 39076, 40862, 41099, 41547, 41770, 42576, 42753, 44473, 46576, 46658, 48496], 7.0: [274, 3209, 5523, 7275, 8297, 9805, 10448, 11510, 12922, 12950, 14485, 15544, 18187, 18425, 18943, 20788, 24086, 24685, 25279, 27809, 28798, 29424, 29608, 30805, 31750, 33042, 34155, 35836, 36102, 37413, 37479, 37645, 38007, 40577, 41981, 42272, 42281, 42633, 42906, 44533, 45573, 46529, 48392, 49206]}\n"
     ]
    }
   ],
   "source": [
    "test.loc[:, 'bodyType'] = test['bodyType'].map(lambda x: 0.0 if pd.isnull(x) else x)\n",
    "\n",
    "# 开始填充fuelType缺失值\n",
    "# 在含fuelType缺失值的条目中，将不同bodyType对应的index输出保存到一个字典中\n",
    "dict_index_test = {}\n",
    "for bodytype in [0.0, 1.0, 2.0, 3.0, 4.0, 5.0, 6.0, 7.0]:\n",
    "    dict_index_test[bodytype] = test[(test['bodyType'] == bodytype) & (test['fuelType'].isnull())].index.tolist()\n",
    "print(dict_index_test)\n",
    "\n",
    "test.loc[:, 'gearbox'] = test['gearbox'].map(lambda x: 0.0 if pd.isnull(x) else x)\n",
    "\n",
    "test.loc[:, 'notRepairedDamage'] = test['notRepairedDamage'].map(lambda x: 0.0 if pd.isnull(x) else x)"
   ]
  },
  {
   "cell_type": "code",
   "execution_count": 56,
   "metadata": {
    "ExecuteTime": {
     "end_time": "2021-06-02T11:26:04.309659Z",
     "start_time": "2021-06-02T11:26:04.087709Z"
    }
   },
   "outputs": [
    {
     "name": "stdout",
     "output_type": "stream",
     "text": [
      "{0.0: 0.0, 1.0: 0.0, 2.0: 1.0, 3.0: 1.0, 4.0: 0.0, 5.0: 0.0, 6.0: 1.0, 7.0: 1.0}\n",
      "{0.0: 0.0, 1.0: 0.0, 2.0: 1.0, 3.0: 1.0, 4.0: 0.0, 5.0: 0.0, 6.0: 1.0, 7.0: 1.0}\n"
     ]
    }
   ],
   "source": [
    "dict_enu_train, dict_enu_test = {}, {}\n",
    "for i in [0.0, 1.0, 2.0, 3.0, 4.0, 5.0, 6.0, 7.0]:\n",
    "    dict_enu_train[i] = train[train['bodyType'] == i]['fuelType'].mode()[0] # bodyType=i时，fuelType的众数\n",
    "    dict_enu_test[i] = test[test['bodyType'] == i]['fuelType'].mode()[0]\n",
    "print(dict_enu_train)\n",
    "print(dict_enu_test)"
   ]
  },
  {
   "cell_type": "code",
   "execution_count": 57,
   "metadata": {
    "ExecuteTime": {
     "end_time": "2021-06-02T11:26:11.869266Z",
     "start_time": "2021-06-02T11:26:11.713001Z"
    }
   },
   "outputs": [],
   "source": [
    "# 分别对每个bodyTYpe所对应的index来填充fuelType列\n",
    "for bt, ft in dict_enu_train.items():\n",
    "    test.loc[dict_index_test[bt], 'fuelType'] = ft"
   ]
  },
  {
   "cell_type": "code",
   "execution_count": 58,
   "metadata": {
    "ExecuteTime": {
     "end_time": "2021-06-02T11:26:14.960678Z",
     "start_time": "2021-06-02T11:26:14.937743Z"
    },
    "scrolled": true
   },
   "outputs": [
    {
     "name": "stdout",
     "output_type": "stream",
     "text": [
      "<class 'pandas.core.frame.DataFrame'>\n",
      "RangeIndex: 50000 entries, 0 to 49999\n",
      "Data columns (total 27 columns):\n",
      " #   Column             Non-Null Count  Dtype  \n",
      "---  ------             --------------  -----  \n",
      " 0   name               50000 non-null  int64  \n",
      " 1   regDate            50000 non-null  int64  \n",
      " 2   model              50000 non-null  float64\n",
      " 3   brand              50000 non-null  int64  \n",
      " 4   bodyType           50000 non-null  float64\n",
      " 5   fuelType           50000 non-null  float64\n",
      " 6   gearbox            50000 non-null  float64\n",
      " 7   power              50000 non-null  float64\n",
      " 8   kilometer          50000 non-null  float64\n",
      " 9   notRepairedDamage  50000 non-null  float64\n",
      " 10  regionCode         50000 non-null  int64  \n",
      " 11  creatDate          50000 non-null  int64  \n",
      " 12  v_0                50000 non-null  float64\n",
      " 13  v_1                50000 non-null  float64\n",
      " 14  v_2                50000 non-null  float64\n",
      " 15  v_3                50000 non-null  float64\n",
      " 16  v_4                50000 non-null  float64\n",
      " 17  v_5                50000 non-null  float64\n",
      " 18  v_6                50000 non-null  float64\n",
      " 19  v_7                50000 non-null  float64\n",
      " 20  v_8                50000 non-null  float64\n",
      " 21  v_9                50000 non-null  float64\n",
      " 22  v_10               50000 non-null  float64\n",
      " 23  v_11               50000 non-null  float64\n",
      " 24  v_12               50000 non-null  float64\n",
      " 25  v_13               50000 non-null  float64\n",
      " 26  v_14               50000 non-null  float64\n",
      "dtypes: float64(22), int64(5)\n",
      "memory usage: 10.3 MB\n"
     ]
    }
   ],
   "source": [
    "test.info()"
   ]
  },
  {
   "cell_type": "code",
   "execution_count": 59,
   "metadata": {
    "ExecuteTime": {
     "end_time": "2021-06-02T11:27:52.322504Z",
     "start_time": "2021-06-02T11:27:52.264663Z"
    },
    "scrolled": true
   },
   "outputs": [
    {
     "name": "stdout",
     "output_type": "stream",
     "text": [
      "<class 'pandas.core.frame.DataFrame'>\n",
      "RangeIndex: 150000 entries, 0 to 149999\n",
      "Data columns (total 28 columns):\n",
      " #   Column             Non-Null Count   Dtype  \n",
      "---  ------             --------------   -----  \n",
      " 0   name               150000 non-null  int64  \n",
      " 1   regDate            150000 non-null  int64  \n",
      " 2   model              150000 non-null  float64\n",
      " 3   brand              150000 non-null  int64  \n",
      " 4   bodyType           150000 non-null  float64\n",
      " 5   fuelType           150000 non-null  float64\n",
      " 6   gearbox            150000 non-null  float64\n",
      " 7   power              150000 non-null  float64\n",
      " 8   kilometer          150000 non-null  float64\n",
      " 9   notRepairedDamage  150000 non-null  float64\n",
      " 10  regionCode         150000 non-null  int64  \n",
      " 11  creatDate          150000 non-null  int64  \n",
      " 12  price              150000 non-null  int64  \n",
      " 13  v_0                150000 non-null  float64\n",
      " 14  v_1                150000 non-null  float64\n",
      " 15  v_2                150000 non-null  float64\n",
      " 16  v_3                150000 non-null  float64\n",
      " 17  v_4                150000 non-null  float64\n",
      " 18  v_5                150000 non-null  float64\n",
      " 19  v_6                150000 non-null  float64\n",
      " 20  v_7                150000 non-null  float64\n",
      " 21  v_8                150000 non-null  float64\n",
      " 22  v_9                150000 non-null  float64\n",
      " 23  v_10               150000 non-null  float64\n",
      " 24  v_11               150000 non-null  float64\n",
      " 25  v_12               150000 non-null  float64\n",
      " 26  v_13               150000 non-null  float64\n",
      " 27  v_14               150000 non-null  float64\n",
      "dtypes: float64(22), int64(6)\n",
      "memory usage: 32.0 MB\n"
     ]
    }
   ],
   "source": [
    "train = train_bck.copy(deep = True)\n",
    "train.info()"
   ]
  },
  {
   "cell_type": "code",
   "execution_count": 60,
   "metadata": {
    "ExecuteTime": {
     "end_time": "2021-06-02T11:28:10.105770Z",
     "start_time": "2021-06-02T11:28:01.147920Z"
    }
   },
   "outputs": [],
   "source": [
    "train.to_csv(r'./data/rf_train_temp.csv',index=False)\n",
    "test.to_csv(r'./data/rf_test_temp.csv',index=False)"
   ]
  },
  {
   "cell_type": "markdown",
   "metadata": {},
   "source": [
    "## 日期数据清洗\n",
    "1. 日期数据不合法：将int => str   str => datetime  当存在非法日期时，string是无法转换到datetime的"
   ]
  },
  {
   "cell_type": "code",
   "execution_count": 61,
   "metadata": {
    "ExecuteTime": {
     "end_time": "2021-06-02T11:28:12.312856Z",
     "start_time": "2021-06-02T11:28:12.261991Z"
    },
    "scrolled": true
   },
   "outputs": [
    {
     "name": "stdout",
     "output_type": "stream",
     "text": [
      "        creatDate   regDate\n",
      "0        20160404  20040402\n",
      "1        20160309  20030301\n",
      "2        20160402  20040403\n",
      "3        20160312  19960908\n",
      "4        20160313  20120103\n",
      "...           ...       ...\n",
      "149995   20160327  20000607\n",
      "149996   20160312  20091102\n",
      "149997   20160328  20101003\n",
      "149998   20160401  20060312\n",
      "149999   20160305  19990204\n",
      "\n",
      "[150000 rows x 2 columns]\n",
      "       creatDate   regDate\n",
      "0       20160308  20000501\n",
      "1       20160310  19950211\n",
      "2       20160309  20090606\n",
      "3       20160314  20020601\n",
      "4       20160306  20030301\n",
      "...          ...       ...\n",
      "49995   20160309  20041005\n",
      "49996   20160323  20130409\n",
      "49997   20160316  20041211\n",
      "49998   20160327  20020702\n",
      "49999   20160401  20090708\n",
      "\n",
      "[50000 rows x 2 columns]\n"
     ]
    }
   ],
   "source": [
    "print(train[['creatDate','regDate']])\n",
    "print(test[['creatDate','regDate']])"
   ]
  },
  {
   "cell_type": "code",
   "execution_count": 62,
   "metadata": {
    "ExecuteTime": {
     "end_time": "2021-06-02T11:28:13.958426Z",
     "start_time": "2021-06-02T11:28:13.930501Z"
    }
   },
   "outputs": [
    {
     "name": "stdout",
     "output_type": "stream",
     "text": [
      "<class 'numpy.int64'> <class 'numpy.int64'>\n",
      "<class 'numpy.int64'> <class 'numpy.int64'>\n"
     ]
    }
   ],
   "source": [
    "# 日期是int类型\n",
    "print(type(train[\"creatDate\"][0]), type(train[\"regDate\"][0]))\n",
    "print(type(test[\"creatDate\"][0]), type(test[\"regDate\"][0]))"
   ]
  },
  {
   "cell_type": "code",
   "execution_count": 63,
   "metadata": {
    "ExecuteTime": {
     "end_time": "2021-06-02T11:28:15.439394Z",
     "start_time": "2021-06-02T11:28:15.426428Z"
    }
   },
   "outputs": [],
   "source": [
    "def date_process(x):\n",
    "    year = int(str(x)[:4])\n",
    "    month = int(str(x)[4:6])\n",
    "    day = int(str(x)[6:8])\n",
    "    \n",
    "    if month < 1:\n",
    "        month = 7\n",
    "    date = datetime(year, month, day)\n",
    "    return date"
   ]
  },
  {
   "cell_type": "code",
   "execution_count": 64,
   "metadata": {
    "ExecuteTime": {
     "end_time": "2021-06-02T11:28:18.048942Z",
     "start_time": "2021-06-02T11:28:16.915998Z"
    }
   },
   "outputs": [
    {
     "name": "stdout",
     "output_type": "stream",
     "text": [
      "<class 'pandas._libs.tslibs.timestamps.Timestamp'> <class 'pandas._libs.tslibs.timestamps.Timestamp'>\n",
      "<class 'pandas._libs.tslibs.timestamps.Timestamp'> <class 'pandas._libs.tslibs.timestamps.Timestamp'>\n"
     ]
    }
   ],
   "source": [
    "# apply()是将自定义函数作用到Series或者DataFrame中\n",
    "train['creatDate'] = train['creatDate'].apply(date_process)\n",
    "train['regDate'] = train['regDate'].apply(date_process)\n",
    "test['creatDate'] = test['creatDate'].apply(date_process)\n",
    "test['regDate'] = test['regDate'].apply(date_process)\n",
    "print(type(train[\"creatDate\"][0]), type(train[\"regDate\"][0]))\n",
    "print(type(test[\"creatDate\"][0]), type(test[\"regDate\"][0]))"
   ]
  },
  {
   "cell_type": "code",
   "execution_count": 65,
   "metadata": {
    "ExecuteTime": {
     "end_time": "2021-06-02T11:28:20.032516Z",
     "start_time": "2021-06-02T11:28:19.991624Z"
    },
    "scrolled": true
   },
   "outputs": [
    {
     "data": {
      "text/html": [
       "<div>\n",
       "<style scoped>\n",
       "    .dataframe tbody tr th:only-of-type {\n",
       "        vertical-align: middle;\n",
       "    }\n",
       "\n",
       "    .dataframe tbody tr th {\n",
       "        vertical-align: top;\n",
       "    }\n",
       "\n",
       "    .dataframe thead th {\n",
       "        text-align: right;\n",
       "    }\n",
       "</style>\n",
       "<table border=\"1\" class=\"dataframe\">\n",
       "  <thead>\n",
       "    <tr style=\"text-align: right;\">\n",
       "      <th></th>\n",
       "      <th>creatDate</th>\n",
       "      <th>regDate</th>\n",
       "    </tr>\n",
       "  </thead>\n",
       "  <tbody>\n",
       "    <tr>\n",
       "      <th>0</th>\n",
       "      <td>2016-04-04</td>\n",
       "      <td>2004-04-02</td>\n",
       "    </tr>\n",
       "    <tr>\n",
       "      <th>1</th>\n",
       "      <td>2016-03-09</td>\n",
       "      <td>2003-03-01</td>\n",
       "    </tr>\n",
       "    <tr>\n",
       "      <th>2</th>\n",
       "      <td>2016-04-02</td>\n",
       "      <td>2004-04-03</td>\n",
       "    </tr>\n",
       "    <tr>\n",
       "      <th>3</th>\n",
       "      <td>2016-03-12</td>\n",
       "      <td>1996-09-08</td>\n",
       "    </tr>\n",
       "    <tr>\n",
       "      <th>4</th>\n",
       "      <td>2016-03-13</td>\n",
       "      <td>2012-01-03</td>\n",
       "    </tr>\n",
       "    <tr>\n",
       "      <th>...</th>\n",
       "      <td>...</td>\n",
       "      <td>...</td>\n",
       "    </tr>\n",
       "    <tr>\n",
       "      <th>149995</th>\n",
       "      <td>2016-03-27</td>\n",
       "      <td>2000-06-07</td>\n",
       "    </tr>\n",
       "    <tr>\n",
       "      <th>149996</th>\n",
       "      <td>2016-03-12</td>\n",
       "      <td>2009-11-02</td>\n",
       "    </tr>\n",
       "    <tr>\n",
       "      <th>149997</th>\n",
       "      <td>2016-03-28</td>\n",
       "      <td>2010-10-03</td>\n",
       "    </tr>\n",
       "    <tr>\n",
       "      <th>149998</th>\n",
       "      <td>2016-04-01</td>\n",
       "      <td>2006-03-12</td>\n",
       "    </tr>\n",
       "    <tr>\n",
       "      <th>149999</th>\n",
       "      <td>2016-03-05</td>\n",
       "      <td>1999-02-04</td>\n",
       "    </tr>\n",
       "  </tbody>\n",
       "</table>\n",
       "<p>150000 rows × 2 columns</p>\n",
       "</div>"
      ],
      "text/plain": [
       "        creatDate    regDate\n",
       "0      2016-04-04 2004-04-02\n",
       "1      2016-03-09 2003-03-01\n",
       "2      2016-04-02 2004-04-03\n",
       "3      2016-03-12 1996-09-08\n",
       "4      2016-03-13 2012-01-03\n",
       "...           ...        ...\n",
       "149995 2016-03-27 2000-06-07\n",
       "149996 2016-03-12 2009-11-02\n",
       "149997 2016-03-28 2010-10-03\n",
       "149998 2016-04-01 2006-03-12\n",
       "149999 2016-03-05 1999-02-04\n",
       "\n",
       "[150000 rows x 2 columns]"
      ]
     },
     "execution_count": 65,
     "metadata": {},
     "output_type": "execute_result"
    }
   ],
   "source": [
    "train[['creatDate', 'regDate']]"
   ]
  },
  {
   "cell_type": "markdown",
   "metadata": {},
   "source": [
    "## 分桶"
   ]
  },
  {
   "cell_type": "markdown",
   "metadata": {
    "ExecuteTime": {
     "end_time": "2021-05-29T07:08:34.209613Z",
     "start_time": "2021-05-29T07:08:34.191660Z"
    }
   },
   "source": [
    "### power分桶\n",
    "1. power范围是0~600\n",
    "2. 分桶后，桶内数据不包括左端点，两种方法：1）将power值为0的改成1  2）将第一桶左边界设置为负数(与实际情况不符，实际中power不应该为负数)"
   ]
  },
  {
   "cell_type": "code",
   "execution_count": 66,
   "metadata": {
    "ExecuteTime": {
     "end_time": "2021-06-02T11:28:21.713985Z",
     "start_time": "2021-06-02T11:28:21.639179Z"
    },
    "scrolled": true
   },
   "outputs": [
    {
     "name": "stdout",
     "output_type": "stream",
     "text": [
      "0.0      12829\n",
      "1.0          8\n",
      "2.0          3\n",
      "3.0          3\n",
      "4.0          9\n",
      "         ...  \n",
      "583.0        1\n",
      "584.0        1\n",
      "585.0        3\n",
      "587.0        1\n",
      "600.0        7\n",
      "Name: power, Length: 446, dtype: int64\n",
      "0.0      4390\n",
      "1.0         2\n",
      "2.0         2\n",
      "4.0         4\n",
      "5.0        15\n",
      "         ... \n",
      "560.0       4\n",
      "570.0       1\n",
      "571.0       1\n",
      "579.0       3\n",
      "585.0       2\n",
      "Name: power, Length: 378, dtype: int64\n"
     ]
    }
   ],
   "source": [
    "# 查看power的范围是0~600\n",
    "# 考虑划分为20桶\n",
    "# train边界数据，600共有7条数据，power=0共有12829条\n",
    "print(train['power'].value_counts().sort_index())\n",
    "# test power=0共有4390条数据\n",
    "print(test['power'].value_counts().sort_index())"
   ]
  },
  {
   "cell_type": "code",
   "execution_count": 67,
   "metadata": {
    "ExecuteTime": {
     "end_time": "2021-06-02T11:28:23.389851Z",
     "start_time": "2021-06-02T11:28:23.351702Z"
    }
   },
   "outputs": [
    {
     "name": "stdout",
     "output_type": "stream",
     "text": [
      "0\n",
      "0\n"
     ]
    }
   ],
   "source": [
    "# data[\"B\"] = data.B.apply(lambda x: 0 if (data['B']>=5) and (data['B']<=8) else 1)\n",
    "# test.loc[:, 'notRepairedDamage'] = test['notRepairedDamage'].map(lambda x: 0.0 if pd.isnull(x) else x)\n",
    "# data['B'][(data['B'] >= 5) & (data['B'] <= 8)] = 0\n",
    "train[\"power\"][(train[\"power\"] == 0)] = 1 # train[train[\"power\"] == 0]['power'] = 1此时无法修改原数据\n",
    "test[\"power\"][(test[\"power\"] == 0)] = 1 # test[test[\"power\"] == 0]['power'] = 1 此时无法修改原数据\n",
    "# 检查替换情况\n",
    "print(train[train[\"power\"] == 0].shape[0])\n",
    "print(test[test[\"power\"] == 0].shape[0])"
   ]
  },
  {
   "cell_type": "code",
   "execution_count": 68,
   "metadata": {
    "ExecuteTime": {
     "end_time": "2021-06-02T11:28:25.171156Z",
     "start_time": "2021-06-02T11:28:25.158780Z"
    }
   },
   "outputs": [
    {
     "name": "stdout",
     "output_type": "stream",
     "text": [
      "[0, 30, 60, 90, 120, 150, 180, 210, 240, 270, 300, 330, 360, 390, 420, 450, 480, 510, 540, 570, 600]\n",
      "21\n"
     ]
    }
   ],
   "source": [
    "bin = [i*10 for i in range(0, 61, 3)]\n",
    "print(bin)\n",
    "print(len(bin)) #桶个数"
   ]
  },
  {
   "cell_type": "code",
   "execution_count": 69,
   "metadata": {
    "ExecuteTime": {
     "end_time": "2021-06-02T11:28:26.758296Z",
     "start_time": "2021-06-02T11:28:26.698777Z"
    }
   },
   "outputs": [],
   "source": [
    "train['power_bin'] = pd.cut(train[\"power\"], bin, labels=False)\n",
    "test[\"power_bin\"] = pd.cut(test[\"power\"], bin, labels=False)"
   ]
  },
  {
   "cell_type": "code",
   "execution_count": 70,
   "metadata": {
    "ExecuteTime": {
     "end_time": "2021-06-02T11:28:28.221768Z",
     "start_time": "2021-06-02T11:28:28.198352Z"
    },
    "scrolled": true
   },
   "outputs": [
    {
     "name": "stdout",
     "output_type": "stream",
     "text": [
      "0          60.0\n",
      "1           1.0\n",
      "2         163.0\n",
      "3         193.0\n",
      "4          68.0\n",
      "          ...  \n",
      "149995    163.0\n",
      "149996    125.0\n",
      "149997     90.0\n",
      "149998    156.0\n",
      "149999    193.0\n",
      "Name: power, Length: 150000, dtype: float64\n",
      "0         1\n",
      "1         0\n",
      "2         5\n",
      "3         6\n",
      "4         2\n",
      "         ..\n",
      "149995    5\n",
      "149996    4\n",
      "149997    2\n",
      "149998    5\n",
      "149999    6\n",
      "Name: power_bin, Length: 150000, dtype: int64\n",
      "0        101.0\n",
      "1         73.0\n",
      "2        120.0\n",
      "3         58.0\n",
      "4        116.0\n",
      "         ...  \n",
      "49995    150.0\n",
      "49996    179.0\n",
      "49997    147.0\n",
      "49998    176.0\n",
      "49999      1.0\n",
      "Name: power, Length: 50000, dtype: float64\n",
      "0        3\n",
      "1        2\n",
      "2        3\n",
      "3        1\n",
      "4        3\n",
      "        ..\n",
      "49995    4\n",
      "49996    5\n",
      "49997    4\n",
      "49998    5\n",
      "49999    0\n",
      "Name: power_bin, Length: 50000, dtype: int64\n"
     ]
    }
   ],
   "source": [
    "#检查分桶情况\n",
    "print(train['power'])\n",
    "print(train['power_bin'])\n",
    "print(test['power'])\n",
    "print(test['power_bin'])"
   ]
  },
  {
   "cell_type": "code",
   "execution_count": 71,
   "metadata": {
    "ExecuteTime": {
     "end_time": "2021-06-02T11:28:29.718681Z",
     "start_time": "2021-06-02T11:28:29.675747Z"
    }
   },
   "outputs": [
    {
     "name": "stdout",
     "output_type": "stream",
     "text": [
      "<class 'pandas.core.frame.DataFrame'>\n",
      "RangeIndex: 150000 entries, 0 to 149999\n",
      "Data columns (total 29 columns):\n",
      " #   Column             Non-Null Count   Dtype         \n",
      "---  ------             --------------   -----         \n",
      " 0   name               150000 non-null  int64         \n",
      " 1   regDate            150000 non-null  datetime64[ns]\n",
      " 2   model              150000 non-null  float64       \n",
      " 3   brand              150000 non-null  int64         \n",
      " 4   bodyType           150000 non-null  float64       \n",
      " 5   fuelType           150000 non-null  float64       \n",
      " 6   gearbox            150000 non-null  float64       \n",
      " 7   power              150000 non-null  float64       \n",
      " 8   kilometer          150000 non-null  float64       \n",
      " 9   notRepairedDamage  150000 non-null  float64       \n",
      " 10  regionCode         150000 non-null  int64         \n",
      " 11  creatDate          150000 non-null  datetime64[ns]\n",
      " 12  price              150000 non-null  int64         \n",
      " 13  v_0                150000 non-null  float64       \n",
      " 14  v_1                150000 non-null  float64       \n",
      " 15  v_2                150000 non-null  float64       \n",
      " 16  v_3                150000 non-null  float64       \n",
      " 17  v_4                150000 non-null  float64       \n",
      " 18  v_5                150000 non-null  float64       \n",
      " 19  v_6                150000 non-null  float64       \n",
      " 20  v_7                150000 non-null  float64       \n",
      " 21  v_8                150000 non-null  float64       \n",
      " 22  v_9                150000 non-null  float64       \n",
      " 23  v_10               150000 non-null  float64       \n",
      " 24  v_11               150000 non-null  float64       \n",
      " 25  v_12               150000 non-null  float64       \n",
      " 26  v_13               150000 non-null  float64       \n",
      " 27  v_14               150000 non-null  float64       \n",
      " 28  power_bin          150000 non-null  int64         \n",
      "dtypes: datetime64[ns](2), float64(22), int64(5)\n",
      "memory usage: 33.2 MB\n"
     ]
    }
   ],
   "source": [
    "train.info()"
   ]
  },
  {
   "cell_type": "code",
   "execution_count": 72,
   "metadata": {
    "ExecuteTime": {
     "end_time": "2021-06-02T11:28:31.205585Z",
     "start_time": "2021-06-02T11:28:31.178658Z"
    }
   },
   "outputs": [
    {
     "data": {
      "text/html": [
       "<div>\n",
       "<style scoped>\n",
       "    .dataframe tbody tr th:only-of-type {\n",
       "        vertical-align: middle;\n",
       "    }\n",
       "\n",
       "    .dataframe tbody tr th {\n",
       "        vertical-align: top;\n",
       "    }\n",
       "\n",
       "    .dataframe thead th {\n",
       "        text-align: right;\n",
       "    }\n",
       "</style>\n",
       "<table border=\"1\" class=\"dataframe\">\n",
       "  <thead>\n",
       "    <tr style=\"text-align: right;\">\n",
       "      <th></th>\n",
       "      <th>name</th>\n",
       "      <th>regDate</th>\n",
       "      <th>model</th>\n",
       "      <th>brand</th>\n",
       "      <th>bodyType</th>\n",
       "      <th>fuelType</th>\n",
       "      <th>gearbox</th>\n",
       "      <th>power</th>\n",
       "      <th>kilometer</th>\n",
       "      <th>notRepairedDamage</th>\n",
       "      <th>regionCode</th>\n",
       "      <th>creatDate</th>\n",
       "      <th>price</th>\n",
       "      <th>v_0</th>\n",
       "      <th>v_1</th>\n",
       "      <th>v_2</th>\n",
       "      <th>v_3</th>\n",
       "      <th>v_4</th>\n",
       "      <th>v_5</th>\n",
       "      <th>v_6</th>\n",
       "      <th>v_7</th>\n",
       "      <th>v_8</th>\n",
       "      <th>v_9</th>\n",
       "      <th>v_10</th>\n",
       "      <th>v_11</th>\n",
       "      <th>v_12</th>\n",
       "      <th>v_13</th>\n",
       "      <th>v_14</th>\n",
       "      <th>power_bin</th>\n",
       "    </tr>\n",
       "  </thead>\n",
       "  <tbody>\n",
       "  </tbody>\n",
       "</table>\n",
       "</div>"
      ],
      "text/plain": [
       "Empty DataFrame\n",
       "Columns: [name, regDate, model, brand, bodyType, fuelType, gearbox, power, kilometer, notRepairedDamage, regionCode, creatDate, price, v_0, v_1, v_2, v_3, v_4, v_5, v_6, v_7, v_8, v_9, v_10, v_11, v_12, v_13, v_14, power_bin]\n",
       "Index: []"
      ]
     },
     "execution_count": 72,
     "metadata": {},
     "output_type": "execute_result"
    }
   ],
   "source": [
    "train[train['power_bin'].isnull()]"
   ]
  },
  {
   "cell_type": "markdown",
   "metadata": {},
   "source": [
    "# 特征工程"
   ]
  },
  {
   "cell_type": "markdown",
   "metadata": {},
   "source": [
    "## 特征创造\n",
    "汽车上线时间：上线出售的时间\n",
    "\n",
    "汽车注册时间：汽车生产注册的时间\n",
    "\n",
    "汽车上线时间 < 汽车注册时间\n",
    "\n",
    "car_age = 汽车上线时间-汽车注册时间\n",
    "\n",
    "此与price密切相关，时间越久，价钱越低\n",
    "\n",
    "原数据是int -> str -> datetime"
   ]
  },
  {
   "cell_type": "code",
   "execution_count": 73,
   "metadata": {
    "ExecuteTime": {
     "end_time": "2021-06-02T11:28:32.821704Z",
     "start_time": "2021-06-02T11:28:32.794716Z"
    },
    "scrolled": true
   },
   "outputs": [
    {
     "data": {
      "text/html": [
       "<div>\n",
       "<style scoped>\n",
       "    .dataframe tbody tr th:only-of-type {\n",
       "        vertical-align: middle;\n",
       "    }\n",
       "\n",
       "    .dataframe tbody tr th {\n",
       "        vertical-align: top;\n",
       "    }\n",
       "\n",
       "    .dataframe thead th {\n",
       "        text-align: right;\n",
       "    }\n",
       "</style>\n",
       "<table border=\"1\" class=\"dataframe\">\n",
       "  <thead>\n",
       "    <tr style=\"text-align: right;\">\n",
       "      <th></th>\n",
       "      <th>creatDate</th>\n",
       "      <th>regDate</th>\n",
       "    </tr>\n",
       "  </thead>\n",
       "  <tbody>\n",
       "    <tr>\n",
       "      <th>0</th>\n",
       "      <td>2016-04-04</td>\n",
       "      <td>2004-04-02</td>\n",
       "    </tr>\n",
       "    <tr>\n",
       "      <th>1</th>\n",
       "      <td>2016-03-09</td>\n",
       "      <td>2003-03-01</td>\n",
       "    </tr>\n",
       "    <tr>\n",
       "      <th>2</th>\n",
       "      <td>2016-04-02</td>\n",
       "      <td>2004-04-03</td>\n",
       "    </tr>\n",
       "    <tr>\n",
       "      <th>3</th>\n",
       "      <td>2016-03-12</td>\n",
       "      <td>1996-09-08</td>\n",
       "    </tr>\n",
       "    <tr>\n",
       "      <th>4</th>\n",
       "      <td>2016-03-13</td>\n",
       "      <td>2012-01-03</td>\n",
       "    </tr>\n",
       "    <tr>\n",
       "      <th>...</th>\n",
       "      <td>...</td>\n",
       "      <td>...</td>\n",
       "    </tr>\n",
       "    <tr>\n",
       "      <th>149995</th>\n",
       "      <td>2016-03-27</td>\n",
       "      <td>2000-06-07</td>\n",
       "    </tr>\n",
       "    <tr>\n",
       "      <th>149996</th>\n",
       "      <td>2016-03-12</td>\n",
       "      <td>2009-11-02</td>\n",
       "    </tr>\n",
       "    <tr>\n",
       "      <th>149997</th>\n",
       "      <td>2016-03-28</td>\n",
       "      <td>2010-10-03</td>\n",
       "    </tr>\n",
       "    <tr>\n",
       "      <th>149998</th>\n",
       "      <td>2016-04-01</td>\n",
       "      <td>2006-03-12</td>\n",
       "    </tr>\n",
       "    <tr>\n",
       "      <th>149999</th>\n",
       "      <td>2016-03-05</td>\n",
       "      <td>1999-02-04</td>\n",
       "    </tr>\n",
       "  </tbody>\n",
       "</table>\n",
       "<p>150000 rows × 2 columns</p>\n",
       "</div>"
      ],
      "text/plain": [
       "        creatDate    regDate\n",
       "0      2016-04-04 2004-04-02\n",
       "1      2016-03-09 2003-03-01\n",
       "2      2016-04-02 2004-04-03\n",
       "3      2016-03-12 1996-09-08\n",
       "4      2016-03-13 2012-01-03\n",
       "...           ...        ...\n",
       "149995 2016-03-27 2000-06-07\n",
       "149996 2016-03-12 2009-11-02\n",
       "149997 2016-03-28 2010-10-03\n",
       "149998 2016-04-01 2006-03-12\n",
       "149999 2016-03-05 1999-02-04\n",
       "\n",
       "[150000 rows x 2 columns]"
      ]
     },
     "execution_count": 73,
     "metadata": {},
     "output_type": "execute_result"
    }
   ],
   "source": [
    "# 汽车上线时间creatDate > 汽车注册时间regDate\n",
    "train[['creatDate','regDate']]"
   ]
  },
  {
   "cell_type": "code",
   "execution_count": 74,
   "metadata": {
    "ExecuteTime": {
     "end_time": "2021-06-02T11:28:34.462729Z",
     "start_time": "2021-06-02T11:28:34.437795Z"
    }
   },
   "outputs": [
    {
     "data": {
      "text/html": [
       "<div>\n",
       "<style scoped>\n",
       "    .dataframe tbody tr th:only-of-type {\n",
       "        vertical-align: middle;\n",
       "    }\n",
       "\n",
       "    .dataframe tbody tr th {\n",
       "        vertical-align: top;\n",
       "    }\n",
       "\n",
       "    .dataframe thead th {\n",
       "        text-align: right;\n",
       "    }\n",
       "</style>\n",
       "<table border=\"1\" class=\"dataframe\">\n",
       "  <thead>\n",
       "    <tr style=\"text-align: right;\">\n",
       "      <th></th>\n",
       "      <th>creatDate</th>\n",
       "      <th>regDate</th>\n",
       "    </tr>\n",
       "  </thead>\n",
       "  <tbody>\n",
       "    <tr>\n",
       "      <th>0</th>\n",
       "      <td>2016-03-08</td>\n",
       "      <td>2000-05-01</td>\n",
       "    </tr>\n",
       "    <tr>\n",
       "      <th>1</th>\n",
       "      <td>2016-03-10</td>\n",
       "      <td>1995-02-11</td>\n",
       "    </tr>\n",
       "    <tr>\n",
       "      <th>2</th>\n",
       "      <td>2016-03-09</td>\n",
       "      <td>2009-06-06</td>\n",
       "    </tr>\n",
       "    <tr>\n",
       "      <th>3</th>\n",
       "      <td>2016-03-14</td>\n",
       "      <td>2002-06-01</td>\n",
       "    </tr>\n",
       "    <tr>\n",
       "      <th>4</th>\n",
       "      <td>2016-03-06</td>\n",
       "      <td>2003-03-01</td>\n",
       "    </tr>\n",
       "    <tr>\n",
       "      <th>...</th>\n",
       "      <td>...</td>\n",
       "      <td>...</td>\n",
       "    </tr>\n",
       "    <tr>\n",
       "      <th>49995</th>\n",
       "      <td>2016-03-09</td>\n",
       "      <td>2004-10-05</td>\n",
       "    </tr>\n",
       "    <tr>\n",
       "      <th>49996</th>\n",
       "      <td>2016-03-23</td>\n",
       "      <td>2013-04-09</td>\n",
       "    </tr>\n",
       "    <tr>\n",
       "      <th>49997</th>\n",
       "      <td>2016-03-16</td>\n",
       "      <td>2004-12-11</td>\n",
       "    </tr>\n",
       "    <tr>\n",
       "      <th>49998</th>\n",
       "      <td>2016-03-27</td>\n",
       "      <td>2002-07-02</td>\n",
       "    </tr>\n",
       "    <tr>\n",
       "      <th>49999</th>\n",
       "      <td>2016-04-01</td>\n",
       "      <td>2009-07-08</td>\n",
       "    </tr>\n",
       "  </tbody>\n",
       "</table>\n",
       "<p>50000 rows × 2 columns</p>\n",
       "</div>"
      ],
      "text/plain": [
       "       creatDate    regDate\n",
       "0     2016-03-08 2000-05-01\n",
       "1     2016-03-10 1995-02-11\n",
       "2     2016-03-09 2009-06-06\n",
       "3     2016-03-14 2002-06-01\n",
       "4     2016-03-06 2003-03-01\n",
       "...          ...        ...\n",
       "49995 2016-03-09 2004-10-05\n",
       "49996 2016-03-23 2013-04-09\n",
       "49997 2016-03-16 2004-12-11\n",
       "49998 2016-03-27 2002-07-02\n",
       "49999 2016-04-01 2009-07-08\n",
       "\n",
       "[50000 rows x 2 columns]"
      ]
     },
     "execution_count": 74,
     "metadata": {},
     "output_type": "execute_result"
    }
   ],
   "source": [
    "test[['creatDate','regDate']]"
   ]
  },
  {
   "cell_type": "code",
   "execution_count": 75,
   "metadata": {
    "ExecuteTime": {
     "end_time": "2021-06-02T11:28:36.324910Z",
     "start_time": "2021-06-02T11:28:35.915918Z"
    },
    "scrolled": true
   },
   "outputs": [
    {
     "name": "stdout",
     "output_type": "stream",
     "text": [
      "<class 'pandas.core.frame.DataFrame'>\n",
      "RangeIndex: 150000 entries, 0 to 149999\n",
      "Data columns (total 37 columns):\n",
      " #   Column             Non-Null Count   Dtype         \n",
      "---  ------             --------------   -----         \n",
      " 0   name               150000 non-null  int64         \n",
      " 1   regDate            150000 non-null  datetime64[ns]\n",
      " 2   model              150000 non-null  float64       \n",
      " 3   brand              150000 non-null  int64         \n",
      " 4   bodyType           150000 non-null  float64       \n",
      " 5   fuelType           150000 non-null  float64       \n",
      " 6   gearbox            150000 non-null  float64       \n",
      " 7   power              150000 non-null  float64       \n",
      " 8   kilometer          150000 non-null  float64       \n",
      " 9   notRepairedDamage  150000 non-null  float64       \n",
      " 10  regionCode         150000 non-null  int64         \n",
      " 11  creatDate          150000 non-null  datetime64[ns]\n",
      " 12  price              150000 non-null  int64         \n",
      " 13  v_0                150000 non-null  float64       \n",
      " 14  v_1                150000 non-null  float64       \n",
      " 15  v_2                150000 non-null  float64       \n",
      " 16  v_3                150000 non-null  float64       \n",
      " 17  v_4                150000 non-null  float64       \n",
      " 18  v_5                150000 non-null  float64       \n",
      " 19  v_6                150000 non-null  float64       \n",
      " 20  v_7                150000 non-null  float64       \n",
      " 21  v_8                150000 non-null  float64       \n",
      " 22  v_9                150000 non-null  float64       \n",
      " 23  v_10               150000 non-null  float64       \n",
      " 24  v_11               150000 non-null  float64       \n",
      " 25  v_12               150000 non-null  float64       \n",
      " 26  v_13               150000 non-null  float64       \n",
      " 27  v_14               150000 non-null  float64       \n",
      " 28  power_bin          150000 non-null  int64         \n",
      " 29  regDate_year       150000 non-null  int64         \n",
      " 30  creatDate_year     150000 non-null  int64         \n",
      " 31  regDate_month      150000 non-null  int64         \n",
      " 32  creatDate_month    150000 non-null  int64         \n",
      " 33  regDate_day        150000 non-null  int64         \n",
      " 34  creatDate_day      150000 non-null  int64         \n",
      " 35  carAge_day         150000 non-null  int64         \n",
      " 36  carAge_year        150000 non-null  float64       \n",
      "dtypes: datetime64[ns](2), float64(23), int64(12)\n",
      "memory usage: 42.3 MB\n",
      "None\n",
      "<class 'pandas.core.frame.DataFrame'>\n",
      "RangeIndex: 50000 entries, 0 to 49999\n",
      "Data columns (total 36 columns):\n",
      " #   Column             Non-Null Count  Dtype         \n",
      "---  ------             --------------  -----         \n",
      " 0   name               50000 non-null  int64         \n",
      " 1   regDate            50000 non-null  datetime64[ns]\n",
      " 2   model              50000 non-null  float64       \n",
      " 3   brand              50000 non-null  int64         \n",
      " 4   bodyType           50000 non-null  float64       \n",
      " 5   fuelType           50000 non-null  float64       \n",
      " 6   gearbox            50000 non-null  float64       \n",
      " 7   power              50000 non-null  float64       \n",
      " 8   kilometer          50000 non-null  float64       \n",
      " 9   notRepairedDamage  50000 non-null  float64       \n",
      " 10  regionCode         50000 non-null  int64         \n",
      " 11  creatDate          50000 non-null  datetime64[ns]\n",
      " 12  v_0                50000 non-null  float64       \n",
      " 13  v_1                50000 non-null  float64       \n",
      " 14  v_2                50000 non-null  float64       \n",
      " 15  v_3                50000 non-null  float64       \n",
      " 16  v_4                50000 non-null  float64       \n",
      " 17  v_5                50000 non-null  float64       \n",
      " 18  v_6                50000 non-null  float64       \n",
      " 19  v_7                50000 non-null  float64       \n",
      " 20  v_8                50000 non-null  float64       \n",
      " 21  v_9                50000 non-null  float64       \n",
      " 22  v_10               50000 non-null  float64       \n",
      " 23  v_11               50000 non-null  float64       \n",
      " 24  v_12               50000 non-null  float64       \n",
      " 25  v_13               50000 non-null  float64       \n",
      " 26  v_14               50000 non-null  float64       \n",
      " 27  power_bin          50000 non-null  int64         \n",
      " 28  regDate_year       50000 non-null  int64         \n",
      " 29  creatDate_year     50000 non-null  int64         \n",
      " 30  regDate_month      50000 non-null  int64         \n",
      " 31  creatDate_month    50000 non-null  int64         \n",
      " 32  regDate_day        50000 non-null  int64         \n",
      " 33  creatDate_day      50000 non-null  int64         \n",
      " 34  carAge_day         50000 non-null  int64         \n",
      " 35  carAge_year        50000 non-null  float64       \n",
      "dtypes: datetime64[ns](2), float64(23), int64(11)\n",
      "memory usage: 13.7 MB\n",
      "None\n"
     ]
    }
   ],
   "source": [
    "# 将regDate和creatDate按年月日拆分\n",
    "# 年\n",
    "train['regDate_year'] = train['regDate'].dt.year\n",
    "test['regDate_year'] = test['regDate'].dt.year\n",
    "train['creatDate_year'] = train['creatDate'].dt.year\n",
    "test['creatDate_year'] = test['regDate'].dt.year\n",
    "# 月\n",
    "train['regDate_month'] = train['regDate'].dt.month\n",
    "test['regDate_month'] = test['regDate'].dt.month\n",
    "train['creatDate_month'] = train['creatDate'].dt.month\n",
    "test['creatDate_month'] = test['regDate'].dt.month\n",
    "# 日\n",
    "train['regDate_day'] = train['regDate'].dt.day\n",
    "test['regDate_day'] = test['regDate'].dt.day\n",
    "train['creatDate_day'] = train['creatDate'].dt.day\n",
    "test['creatDate_day'] = test['regDate'].dt.day\n",
    "# 车龄，单位为天\n",
    "train['carAge_day'] = (train['creatDate'] - train['regDate']).dt.days\n",
    "test['carAge_day'] = (test['creatDate'] - test['regDate']).dt.days\n",
    "# 车龄，单位为年\n",
    "train['carAge_year'] = (train['creatDate'] - train['regDate']).dt.days / 365\n",
    "test['carAge_year'] = (test['creatDate'] - test['regDate']).dt.days / 365\n",
    "print(train.info())\n",
    "print(test.info())"
   ]
  },
  {
   "cell_type": "code",
   "execution_count": 76,
   "metadata": {
    "ExecuteTime": {
     "end_time": "2021-06-02T11:28:38.564569Z",
     "start_time": "2021-06-02T11:28:37.907680Z"
    },
    "scrolled": true
   },
   "outputs": [
    {
     "data": {
      "text/plain": [
       "-0.611402488103291"
      ]
     },
     "execution_count": 76,
     "metadata": {},
     "output_type": "execute_result"
    }
   ],
   "source": [
    "# 查看carAge与price之间的相关性\n",
    "train.corr()['price']['carAge_year']"
   ]
  },
  {
   "cell_type": "code",
   "execution_count": 77,
   "metadata": {
    "ExecuteTime": {
     "end_time": "2021-06-02T11:28:40.796296Z",
     "start_time": "2021-06-02T11:28:40.106808Z"
    }
   },
   "outputs": [
    {
     "data": {
      "text/plain": [
       "-0.6114024881032888"
      ]
     },
     "execution_count": 77,
     "metadata": {},
     "output_type": "execute_result"
    }
   ],
   "source": [
    "train.corr()['price']['carAge_day']"
   ]
  },
  {
   "cell_type": "code",
   "execution_count": 78,
   "metadata": {
    "ExecuteTime": {
     "end_time": "2021-06-02T11:28:42.352779Z",
     "start_time": "2021-06-02T11:28:42.343798Z"
    }
   },
   "outputs": [],
   "source": [
    "#测试集：增加carAge列\n",
    "# test['carAge'] = test['creatDate'] - test['regDate']\n",
    "# test['carAge']"
   ]
  },
  {
   "cell_type": "code",
   "execution_count": 79,
   "metadata": {
    "ExecuteTime": {
     "end_time": "2021-06-02T11:28:43.989559Z",
     "start_time": "2021-06-02T11:28:43.978589Z"
    }
   },
   "outputs": [],
   "source": [
    "# 测试集：以年为单位，计算carAge\n",
    "# for i in range(test.shape[0]):\n",
    "#     test['carAge'][i] = (test['creatDate'][i] - test['regDate'][i]).days / 365\n",
    "# test['carAge'] = test['carAge'].astype(float)\n",
    "# print(test['carAge'])\n",
    "# print(test.info())"
   ]
  },
  {
   "cell_type": "markdown",
   "metadata": {},
   "source": [
    "# 数据预处理补充：删除无关列"
   ]
  },
  {
   "cell_type": "markdown",
   "metadata": {},
   "source": [
    "## 删除无关列\n",
    "1. 在选择需要删除的特征之前，考虑线性相关系数低的。第一步选中系数绝对值小于0.1的特征， 第二步，抛开线性相关系数，从现实角度思考每个特征对售价的影响\n",
    "2. 特征v_2, v_6, v_1, v_14, v_13, v_7：由于是连续型变量，理论上具有数学意义。既然跟售价的线性相关系数极低，为降低噪声，避免过拟合，考虑删去；\n",
    "3. 特征regionCode, brand：并非连续型变量，不具备数学上的可比较性。与售价的线性相关系数低无法说明各自的取值对售价影响不大，保留。\n",
    "4. 特征name：汽车交易名称，训练集共有99662条不重复值，取值不影响售价，删去。\n",
    "5. 特征creatDate：（二手）汽车开始售卖时间，范围在 [20150618, 20160407]，间隔短，且与regDate（汽车注册时间）线性相关系数仅为-0.001293，其取值显然对售价影响很小，删去。**(暂时不删，可能购买时间可以组合出新的特征，对汽车价格产生影响)**"
   ]
  },
  {
   "cell_type": "code",
   "execution_count": 80,
   "metadata": {
    "ExecuteTime": {
     "end_time": "2021-06-02T11:28:46.161306Z",
     "start_time": "2021-06-02T11:28:45.518310Z"
    },
    "scrolled": true
   },
   "outputs": [
    {
     "data": {
      "text/plain": [
       "bodyType             0.242677\n",
       "brand               -0.043799\n",
       "carAge_day          -0.611402\n",
       "carAge_year         -0.611402\n",
       "creatDate_day        0.001442\n",
       "creatDate_month      0.012834\n",
       "creatDate_year      -0.001702\n",
       "fuelType             0.203684\n",
       "gearbox              0.326994\n",
       "kilometer           -0.440519\n",
       "model                0.137049\n",
       "name                 0.002030\n",
       "notRepairedDamage   -0.224564\n",
       "power                0.566841\n",
       "power_bin            0.577206\n",
       "price                1.000000\n",
       "regDate_day         -0.002700\n",
       "regDate_month       -0.001319\n",
       "regDate_year         0.611814\n",
       "regionCode           0.014036\n",
       "v_0                  0.628397\n",
       "v_1                  0.060914\n",
       "v_10                -0.246175\n",
       "v_11                -0.275320\n",
       "v_12                 0.692823\n",
       "v_13                -0.013993\n",
       "v_14                 0.035911\n",
       "v_2                  0.085322\n",
       "v_3                 -0.730946\n",
       "v_4                 -0.147085\n",
       "v_5                  0.164317\n",
       "v_6                  0.068970\n",
       "v_7                 -0.053024\n",
       "v_8                  0.685798\n",
       "v_9                 -0.206205\n",
       "Name: price, dtype: float64"
      ]
     },
     "execution_count": 80,
     "metadata": {},
     "output_type": "execute_result"
    }
   ],
   "source": [
    "# 查看各个特征与预测值price之间的相关性系数\n",
    "train.corr()['price'].sort_index()"
   ]
  },
  {
   "cell_type": "code",
   "execution_count": 81,
   "metadata": {
    "ExecuteTime": {
     "end_time": "2021-06-02T11:28:47.988516Z",
     "start_time": "2021-06-02T11:28:47.946588Z"
    },
    "scrolled": true
   },
   "outputs": [
    {
     "name": "stdout",
     "output_type": "stream",
     "text": [
      "<class 'pandas.core.frame.DataFrame'>\n",
      "RangeIndex: 150000 entries, 0 to 149999\n",
      "Data columns (total 37 columns):\n",
      " #   Column             Non-Null Count   Dtype         \n",
      "---  ------             --------------   -----         \n",
      " 0   name               150000 non-null  int64         \n",
      " 1   regDate            150000 non-null  datetime64[ns]\n",
      " 2   model              150000 non-null  float64       \n",
      " 3   brand              150000 non-null  int64         \n",
      " 4   bodyType           150000 non-null  float64       \n",
      " 5   fuelType           150000 non-null  float64       \n",
      " 6   gearbox            150000 non-null  float64       \n",
      " 7   power              150000 non-null  float64       \n",
      " 8   kilometer          150000 non-null  float64       \n",
      " 9   notRepairedDamage  150000 non-null  float64       \n",
      " 10  regionCode         150000 non-null  int64         \n",
      " 11  creatDate          150000 non-null  datetime64[ns]\n",
      " 12  price              150000 non-null  int64         \n",
      " 13  v_0                150000 non-null  float64       \n",
      " 14  v_1                150000 non-null  float64       \n",
      " 15  v_2                150000 non-null  float64       \n",
      " 16  v_3                150000 non-null  float64       \n",
      " 17  v_4                150000 non-null  float64       \n",
      " 18  v_5                150000 non-null  float64       \n",
      " 19  v_6                150000 non-null  float64       \n",
      " 20  v_7                150000 non-null  float64       \n",
      " 21  v_8                150000 non-null  float64       \n",
      " 22  v_9                150000 non-null  float64       \n",
      " 23  v_10               150000 non-null  float64       \n",
      " 24  v_11               150000 non-null  float64       \n",
      " 25  v_12               150000 non-null  float64       \n",
      " 26  v_13               150000 non-null  float64       \n",
      " 27  v_14               150000 non-null  float64       \n",
      " 28  power_bin          150000 non-null  int64         \n",
      " 29  regDate_year       150000 non-null  int64         \n",
      " 30  creatDate_year     150000 non-null  int64         \n",
      " 31  regDate_month      150000 non-null  int64         \n",
      " 32  creatDate_month    150000 non-null  int64         \n",
      " 33  regDate_day        150000 non-null  int64         \n",
      " 34  creatDate_day      150000 non-null  int64         \n",
      " 35  carAge_day         150000 non-null  int64         \n",
      " 36  carAge_year        150000 non-null  float64       \n",
      "dtypes: datetime64[ns](2), float64(23), int64(12)\n",
      "memory usage: 42.3 MB\n"
     ]
    }
   ],
   "source": [
    "train.info()"
   ]
  },
  {
   "cell_type": "code",
   "execution_count": 82,
   "metadata": {
    "ExecuteTime": {
     "end_time": "2021-06-02T11:28:49.973108Z",
     "start_time": "2021-06-02T11:28:49.951166Z"
    },
    "scrolled": true
   },
   "outputs": [
    {
     "name": "stdout",
     "output_type": "stream",
     "text": [
      "<class 'pandas.core.frame.DataFrame'>\n",
      "RangeIndex: 50000 entries, 0 to 49999\n",
      "Data columns (total 36 columns):\n",
      " #   Column             Non-Null Count  Dtype         \n",
      "---  ------             --------------  -----         \n",
      " 0   name               50000 non-null  int64         \n",
      " 1   regDate            50000 non-null  datetime64[ns]\n",
      " 2   model              50000 non-null  float64       \n",
      " 3   brand              50000 non-null  int64         \n",
      " 4   bodyType           50000 non-null  float64       \n",
      " 5   fuelType           50000 non-null  float64       \n",
      " 6   gearbox            50000 non-null  float64       \n",
      " 7   power              50000 non-null  float64       \n",
      " 8   kilometer          50000 non-null  float64       \n",
      " 9   notRepairedDamage  50000 non-null  float64       \n",
      " 10  regionCode         50000 non-null  int64         \n",
      " 11  creatDate          50000 non-null  datetime64[ns]\n",
      " 12  v_0                50000 non-null  float64       \n",
      " 13  v_1                50000 non-null  float64       \n",
      " 14  v_2                50000 non-null  float64       \n",
      " 15  v_3                50000 non-null  float64       \n",
      " 16  v_4                50000 non-null  float64       \n",
      " 17  v_5                50000 non-null  float64       \n",
      " 18  v_6                50000 non-null  float64       \n",
      " 19  v_7                50000 non-null  float64       \n",
      " 20  v_8                50000 non-null  float64       \n",
      " 21  v_9                50000 non-null  float64       \n",
      " 22  v_10               50000 non-null  float64       \n",
      " 23  v_11               50000 non-null  float64       \n",
      " 24  v_12               50000 non-null  float64       \n",
      " 25  v_13               50000 non-null  float64       \n",
      " 26  v_14               50000 non-null  float64       \n",
      " 27  power_bin          50000 non-null  int64         \n",
      " 28  regDate_year       50000 non-null  int64         \n",
      " 29  creatDate_year     50000 non-null  int64         \n",
      " 30  regDate_month      50000 non-null  int64         \n",
      " 31  creatDate_month    50000 non-null  int64         \n",
      " 32  regDate_day        50000 non-null  int64         \n",
      " 33  creatDate_day      50000 non-null  int64         \n",
      " 34  carAge_day         50000 non-null  int64         \n",
      " 35  carAge_year        50000 non-null  float64       \n",
      "dtypes: datetime64[ns](2), float64(23), int64(11)\n",
      "memory usage: 13.7 MB\n"
     ]
    }
   ],
   "source": [
    "test.info()"
   ]
  },
  {
   "cell_type": "code",
   "execution_count": 83,
   "metadata": {
    "ExecuteTime": {
     "end_time": "2021-06-02T11:28:51.784533Z",
     "start_time": "2021-06-02T11:28:51.741649Z"
    }
   },
   "outputs": [],
   "source": [
    "train.drop(['v_2', 'v_6', 'v_1', 'v_14', 'v_13', 'v_7', 'name', 'creatDate', 'regDate'], axis=1, inplace=True)\n",
    "test.drop(['v_2', 'v_6', 'v_1', 'v_14', 'v_13', 'v_7', 'name', 'creatDate', 'regDate'], axis=1, inplace=True)"
   ]
  },
  {
   "cell_type": "code",
   "execution_count": 84,
   "metadata": {
    "ExecuteTime": {
     "end_time": "2021-06-02T11:28:53.461487Z",
     "start_time": "2021-06-02T11:28:53.449477Z"
    }
   },
   "outputs": [
    {
     "data": {
      "text/plain": [
       "((150000, 28), (50000, 27))"
      ]
     },
     "execution_count": 84,
     "metadata": {},
     "output_type": "execute_result"
    }
   ],
   "source": [
    "train.shape, test.shape"
   ]
  },
  {
   "cell_type": "code",
   "execution_count": 85,
   "metadata": {
    "ExecuteTime": {
     "end_time": "2021-06-02T11:28:55.131449Z",
     "start_time": "2021-06-02T11:28:55.090558Z"
    },
    "scrolled": true
   },
   "outputs": [
    {
     "name": "stdout",
     "output_type": "stream",
     "text": [
      "<class 'pandas.core.frame.DataFrame'>\n",
      "RangeIndex: 150000 entries, 0 to 149999\n",
      "Data columns (total 28 columns):\n",
      " #   Column             Non-Null Count   Dtype  \n",
      "---  ------             --------------   -----  \n",
      " 0   model              150000 non-null  float64\n",
      " 1   brand              150000 non-null  int64  \n",
      " 2   bodyType           150000 non-null  float64\n",
      " 3   fuelType           150000 non-null  float64\n",
      " 4   gearbox            150000 non-null  float64\n",
      " 5   power              150000 non-null  float64\n",
      " 6   kilometer          150000 non-null  float64\n",
      " 7   notRepairedDamage  150000 non-null  float64\n",
      " 8   regionCode         150000 non-null  int64  \n",
      " 9   price              150000 non-null  int64  \n",
      " 10  v_0                150000 non-null  float64\n",
      " 11  v_3                150000 non-null  float64\n",
      " 12  v_4                150000 non-null  float64\n",
      " 13  v_5                150000 non-null  float64\n",
      " 14  v_8                150000 non-null  float64\n",
      " 15  v_9                150000 non-null  float64\n",
      " 16  v_10               150000 non-null  float64\n",
      " 17  v_11               150000 non-null  float64\n",
      " 18  v_12               150000 non-null  float64\n",
      " 19  power_bin          150000 non-null  int64  \n",
      " 20  regDate_year       150000 non-null  int64  \n",
      " 21  creatDate_year     150000 non-null  int64  \n",
      " 22  regDate_month      150000 non-null  int64  \n",
      " 23  creatDate_month    150000 non-null  int64  \n",
      " 24  regDate_day        150000 non-null  int64  \n",
      " 25  creatDate_day      150000 non-null  int64  \n",
      " 26  carAge_day         150000 non-null  int64  \n",
      " 27  carAge_year        150000 non-null  float64\n",
      "dtypes: float64(17), int64(11)\n",
      "memory usage: 32.0 MB\n"
     ]
    }
   ],
   "source": [
    "# 查看处理后的结果\n",
    "train.info()"
   ]
  },
  {
   "cell_type": "code",
   "execution_count": 86,
   "metadata": {
    "ExecuteTime": {
     "end_time": "2021-06-02T11:28:56.629294Z",
     "start_time": "2021-06-02T11:28:56.601359Z"
    },
    "scrolled": true
   },
   "outputs": [
    {
     "name": "stdout",
     "output_type": "stream",
     "text": [
      "<class 'pandas.core.frame.DataFrame'>\n",
      "RangeIndex: 50000 entries, 0 to 49999\n",
      "Data columns (total 27 columns):\n",
      " #   Column             Non-Null Count  Dtype  \n",
      "---  ------             --------------  -----  \n",
      " 0   model              50000 non-null  float64\n",
      " 1   brand              50000 non-null  int64  \n",
      " 2   bodyType           50000 non-null  float64\n",
      " 3   fuelType           50000 non-null  float64\n",
      " 4   gearbox            50000 non-null  float64\n",
      " 5   power              50000 non-null  float64\n",
      " 6   kilometer          50000 non-null  float64\n",
      " 7   notRepairedDamage  50000 non-null  float64\n",
      " 8   regionCode         50000 non-null  int64  \n",
      " 9   v_0                50000 non-null  float64\n",
      " 10  v_3                50000 non-null  float64\n",
      " 11  v_4                50000 non-null  float64\n",
      " 12  v_5                50000 non-null  float64\n",
      " 13  v_8                50000 non-null  float64\n",
      " 14  v_9                50000 non-null  float64\n",
      " 15  v_10               50000 non-null  float64\n",
      " 16  v_11               50000 non-null  float64\n",
      " 17  v_12               50000 non-null  float64\n",
      " 18  power_bin          50000 non-null  int64  \n",
      " 19  regDate_year       50000 non-null  int64  \n",
      " 20  creatDate_year     50000 non-null  int64  \n",
      " 21  regDate_month      50000 non-null  int64  \n",
      " 22  creatDate_month    50000 non-null  int64  \n",
      " 23  regDate_day        50000 non-null  int64  \n",
      " 24  creatDate_day      50000 non-null  int64  \n",
      " 25  carAge_day         50000 non-null  int64  \n",
      " 26  carAge_year        50000 non-null  float64\n",
      "dtypes: float64(17), int64(10)\n",
      "memory usage: 10.3 MB\n"
     ]
    }
   ],
   "source": [
    "test.info()"
   ]
  },
  {
   "cell_type": "markdown",
   "metadata": {},
   "source": [
    "## 对预测值进行log变换"
   ]
  },
  {
   "cell_type": "code",
   "execution_count": 87,
   "metadata": {
    "ExecuteTime": {
     "end_time": "2021-06-02T11:28:58.956467Z",
     "start_time": "2021-06-02T11:28:58.218455Z"
    }
   },
   "outputs": [
    {
     "data": {
      "image/png": "[encoded data removed]",
      "text/plain": [
       "<Figure size 432x288 with 1 Axes>"
      ]
     },
     "metadata": {
      "needs_background": "light"
     },
     "output_type": "display_data"
    }
   ],
   "source": [
    "# 查看预测值的具体频数\n",
    "plt.hist(train['price'], orientation = 'vertical',histtype = 'bar')\n",
    "plt.show()"
   ]
  },
  {
   "cell_type": "code",
   "execution_count": 88,
   "metadata": {
    "ExecuteTime": {
     "end_time": "2021-06-02T11:29:00.890639Z",
     "start_time": "2021-06-02T11:29:00.581215Z"
    }
   },
   "outputs": [
    {
     "data": {
      "image/png": "[encoded data removed]",
      "text/plain": [
       "<Figure size 432x288 with 1 Axes>"
      ]
     },
     "metadata": {
      "needs_background": "light"
     },
     "output_type": "display_data"
    }
   ],
   "source": [
    "# log变换 z之后的分布较均匀，可以进行log变换进行预测\n",
    "plt.hist(np.log(train['price']), orientation = 'vertical',histtype = 'bar') \n",
    "plt.show()"
   ]
  },
  {
   "cell_type": "code",
   "execution_count": 89,
   "metadata": {
    "ExecuteTime": {
     "end_time": "2021-06-02T11:29:02.415754Z",
     "start_time": "2021-06-02T11:29:02.401792Z"
    }
   },
   "outputs": [
    {
     "data": {
      "text/plain": [
       "0         1850\n",
       "1         3600\n",
       "2         6222\n",
       "3         2400\n",
       "4         5200\n",
       "          ... \n",
       "149995    5900\n",
       "149996    9500\n",
       "149997    7500\n",
       "149998    4999\n",
       "149999    4700\n",
       "Name: price, Length: 150000, dtype: int64"
      ]
     },
     "execution_count": 89,
     "metadata": {},
     "output_type": "execute_result"
    }
   ],
   "source": [
    "train['price']"
   ]
  },
  {
   "cell_type": "code",
   "execution_count": 90,
   "metadata": {
    "ExecuteTime": {
     "end_time": "2021-06-02T11:29:03.889126Z",
     "start_time": "2021-06-02T11:29:03.861199Z"
    }
   },
   "outputs": [
    {
     "data": {
      "text/plain": [
       "0         7.522941\n",
       "1         8.188689\n",
       "2         8.735847\n",
       "3         7.783224\n",
       "4         8.556414\n",
       "            ...   \n",
       "149995    8.682708\n",
       "149996    9.159047\n",
       "149997    8.922658\n",
       "149998    8.516993\n",
       "149999    8.455318\n",
       "Name: price, Length: 150000, dtype: float64"
      ]
     },
     "execution_count": 90,
     "metadata": {},
     "output_type": "execute_result"
    }
   ],
   "source": [
    "#log变换\n",
    "train['price']=np.log(train['price'])\n",
    "train['price']"
   ]
  },
  {
   "cell_type": "markdown",
   "metadata": {},
   "source": [
    "# 数据导出"
   ]
  },
  {
   "cell_type": "code",
   "execution_count": 91,
   "metadata": {
    "ExecuteTime": {
     "end_time": "2021-06-02T11:29:05.440823Z",
     "start_time": "2021-06-02T11:29:05.380610Z"
    }
   },
   "outputs": [
    {
     "name": "stdout",
     "output_type": "stream",
     "text": [
      "<class 'pandas.core.frame.DataFrame'>\n",
      "RangeIndex: 150000 entries, 0 to 149999\n",
      "Data columns (total 28 columns):\n",
      " #   Column             Non-Null Count   Dtype  \n",
      "---  ------             --------------   -----  \n",
      " 0   model              150000 non-null  float64\n",
      " 1   brand              150000 non-null  int64  \n",
      " 2   bodyType           150000 non-null  float64\n",
      " 3   fuelType           150000 non-null  float64\n",
      " 4   gearbox            150000 non-null  float64\n",
      " 5   power              150000 non-null  float64\n",
      " 6   kilometer          150000 non-null  float64\n",
      " 7   notRepairedDamage  150000 non-null  float64\n",
      " 8   regionCode         150000 non-null  int64  \n",
      " 9   price              150000 non-null  float64\n",
      " 10  v_0                150000 non-null  float64\n",
      " 11  v_3                150000 non-null  float64\n",
      " 12  v_4                150000 non-null  float64\n",
      " 13  v_5                150000 non-null  float64\n",
      " 14  v_8                150000 non-null  float64\n",
      " 15  v_9                150000 non-null  float64\n",
      " 16  v_10               150000 non-null  float64\n",
      " 17  v_11               150000 non-null  float64\n",
      " 18  v_12               150000 non-null  float64\n",
      " 19  power_bin          150000 non-null  int64  \n",
      " 20  regDate_year       150000 non-null  int64  \n",
      " 21  creatDate_year     150000 non-null  int64  \n",
      " 22  regDate_month      150000 non-null  int64  \n",
      " 23  creatDate_month    150000 non-null  int64  \n",
      " 24  regDate_day        150000 non-null  int64  \n",
      " 25  creatDate_day      150000 non-null  int64  \n",
      " 26  carAge_day         150000 non-null  int64  \n",
      " 27  carAge_year        150000 non-null  float64\n",
      "dtypes: float64(18), int64(10)\n",
      "memory usage: 32.0 MB\n"
     ]
    }
   ],
   "source": [
    "train.info()"
   ]
  },
  {
   "cell_type": "code",
   "execution_count": 92,
   "metadata": {
    "ExecuteTime": {
     "end_time": "2021-06-02T11:29:07.172646Z",
     "start_time": "2021-06-02T11:29:07.127245Z"
    }
   },
   "outputs": [
    {
     "name": "stdout",
     "output_type": "stream",
     "text": [
      "<class 'pandas.core.frame.DataFrame'>\n",
      "RangeIndex: 50000 entries, 0 to 49999\n",
      "Data columns (total 27 columns):\n",
      " #   Column             Non-Null Count  Dtype  \n",
      "---  ------             --------------  -----  \n",
      " 0   model              50000 non-null  float64\n",
      " 1   brand              50000 non-null  int64  \n",
      " 2   bodyType           50000 non-null  float64\n",
      " 3   fuelType           50000 non-null  float64\n",
      " 4   gearbox            50000 non-null  float64\n",
      " 5   power              50000 non-null  float64\n",
      " 6   kilometer          50000 non-null  float64\n",
      " 7   notRepairedDamage  50000 non-null  float64\n",
      " 8   regionCode         50000 non-null  int64  \n",
      " 9   v_0                50000 non-null  float64\n",
      " 10  v_3                50000 non-null  float64\n",
      " 11  v_4                50000 non-null  float64\n",
      " 12  v_5                50000 non-null  float64\n",
      " 13  v_8                50000 non-null  float64\n",
      " 14  v_9                50000 non-null  float64\n",
      " 15  v_10               50000 non-null  float64\n",
      " 16  v_11               50000 non-null  float64\n",
      " 17  v_12               50000 non-null  float64\n",
      " 18  power_bin          50000 non-null  int64  \n",
      " 19  regDate_year       50000 non-null  int64  \n",
      " 20  creatDate_year     50000 non-null  int64  \n",
      " 21  regDate_month      50000 non-null  int64  \n",
      " 22  creatDate_month    50000 non-null  int64  \n",
      " 23  regDate_day        50000 non-null  int64  \n",
      " 24  creatDate_day      50000 non-null  int64  \n",
      " 25  carAge_day         50000 non-null  int64  \n",
      " 26  carAge_year        50000 non-null  float64\n",
      "dtypes: float64(17), int64(10)\n",
      "memory usage: 10.3 MB\n"
     ]
    }
   ],
   "source": [
    "test.info()"
   ]
  },
  {
   "cell_type": "code",
   "execution_count": 93,
   "metadata": {
    "ExecuteTime": {
     "end_time": "2021-06-02T11:29:32.949454Z",
     "start_time": "2021-06-02T11:29:25.985876Z"
    }
   },
   "outputs": [],
   "source": [
    "train.to_csv(r'./data/rf_train_dropmissing.csv',index=False)\n",
    "test.to_csv(r'./data/rf_test_dropmissing.csv',index=False)"
   ]
  },
  {
   "cell_type": "markdown",
   "metadata": {},
   "source": [
    "# 数据建模"
   ]
  },
  {
   "cell_type": "code",
   "execution_count": 19,
   "metadata": {
    "ExecuteTime": {
     "end_time": "2021-06-01T12:20:47.825037Z",
     "start_time": "2021-06-01T12:20:47.808082Z"
    },
    "scrolled": true
   },
   "outputs": [
    {
     "data": {
      "text/plain": [
       "0         1850\n",
       "1         3600\n",
       "2         6222\n",
       "3         2400\n",
       "4         5200\n",
       "          ... \n",
       "149995    5900\n",
       "149996    9500\n",
       "149997    7500\n",
       "149998    4999\n",
       "149999    4700\n",
       "Name: price, Length: 150000, dtype: int64"
      ]
     },
     "execution_count": 19,
     "metadata": {},
     "output_type": "execute_result"
    }
   ],
   "source": [
    "train_y=train['price']\n",
    "train_y"
   ]
  },
  {
   "cell_type": "code",
   "execution_count": 24,
   "metadata": {
    "ExecuteTime": {
     "end_time": "2021-06-01T12:30:07.165406Z",
     "start_time": "2021-06-01T12:30:07.155434Z"
    }
   },
   "outputs": [
    {
     "data": {
      "text/plain": [
       "888499100"
      ]
     },
     "execution_count": 24,
     "metadata": {},
     "output_type": "execute_result"
    }
   ],
   "source": [
    "train_y.sum()"
   ]
  },
  {
   "cell_type": "code",
   "execution_count": 20,
   "metadata": {
    "ExecuteTime": {
     "end_time": "2021-06-01T12:20:48.392147Z",
     "start_time": "2021-06-01T12:20:48.322372Z"
    }
   },
   "outputs": [
    {
     "data": {
      "text/html": [
       "<div>\n",
       "<style scoped>\n",
       "    .dataframe tbody tr th:only-of-type {\n",
       "        vertical-align: middle;\n",
       "    }\n",
       "\n",
       "    .dataframe tbody tr th {\n",
       "        vertical-align: top;\n",
       "    }\n",
       "\n",
       "    .dataframe thead th {\n",
       "        text-align: right;\n",
       "    }\n",
       "</style>\n",
       "<table border=\"1\" class=\"dataframe\">\n",
       "  <thead>\n",
       "    <tr style=\"text-align: right;\">\n",
       "      <th></th>\n",
       "      <th>name</th>\n",
       "      <th>regDate</th>\n",
       "      <th>model</th>\n",
       "      <th>brand</th>\n",
       "      <th>bodyType</th>\n",
       "      <th>fuelType</th>\n",
       "      <th>gearbox</th>\n",
       "      <th>power</th>\n",
       "      <th>kilometer</th>\n",
       "      <th>notRepairedDamage</th>\n",
       "      <th>regionCode</th>\n",
       "      <th>seller</th>\n",
       "      <th>offerType</th>\n",
       "      <th>creatDate</th>\n",
       "      <th>v_0</th>\n",
       "      <th>v_1</th>\n",
       "      <th>v_2</th>\n",
       "      <th>v_3</th>\n",
       "      <th>v_4</th>\n",
       "      <th>v_5</th>\n",
       "      <th>v_6</th>\n",
       "      <th>v_7</th>\n",
       "      <th>v_8</th>\n",
       "      <th>v_9</th>\n",
       "      <th>v_10</th>\n",
       "      <th>v_11</th>\n",
       "      <th>v_12</th>\n",
       "      <th>v_13</th>\n",
       "      <th>v_14</th>\n",
       "    </tr>\n",
       "  </thead>\n",
       "  <tbody>\n",
       "    <tr>\n",
       "      <th>0</th>\n",
       "      <td>736</td>\n",
       "      <td>20040402</td>\n",
       "      <td>30.0</td>\n",
       "      <td>6</td>\n",
       "      <td>1.0</td>\n",
       "      <td>0.0</td>\n",
       "      <td>0.0</td>\n",
       "      <td>60</td>\n",
       "      <td>12.5</td>\n",
       "      <td>0.0</td>\n",
       "      <td>1046</td>\n",
       "      <td>0</td>\n",
       "      <td>0</td>\n",
       "      <td>20160404</td>\n",
       "      <td>43.357796</td>\n",
       "      <td>3.966344</td>\n",
       "      <td>0.050257</td>\n",
       "      <td>2.159744</td>\n",
       "      <td>1.143786</td>\n",
       "      <td>0.235676</td>\n",
       "      <td>0.101988</td>\n",
       "      <td>0.129549</td>\n",
       "      <td>0.022816</td>\n",
       "      <td>0.097462</td>\n",
       "      <td>-2.881803</td>\n",
       "      <td>2.804097</td>\n",
       "      <td>-2.420821</td>\n",
       "      <td>0.795292</td>\n",
       "      <td>0.914762</td>\n",
       "    </tr>\n",
       "    <tr>\n",
       "      <th>1</th>\n",
       "      <td>2262</td>\n",
       "      <td>20030301</td>\n",
       "      <td>40.0</td>\n",
       "      <td>1</td>\n",
       "      <td>2.0</td>\n",
       "      <td>0.0</td>\n",
       "      <td>0.0</td>\n",
       "      <td>0</td>\n",
       "      <td>15.0</td>\n",
       "      <td>NaN</td>\n",
       "      <td>4366</td>\n",
       "      <td>0</td>\n",
       "      <td>0</td>\n",
       "      <td>20160309</td>\n",
       "      <td>45.305273</td>\n",
       "      <td>5.236112</td>\n",
       "      <td>0.137925</td>\n",
       "      <td>1.380657</td>\n",
       "      <td>-1.422165</td>\n",
       "      <td>0.264777</td>\n",
       "      <td>0.121004</td>\n",
       "      <td>0.135731</td>\n",
       "      <td>0.026597</td>\n",
       "      <td>0.020582</td>\n",
       "      <td>-4.900482</td>\n",
       "      <td>2.096338</td>\n",
       "      <td>-1.030483</td>\n",
       "      <td>-1.722674</td>\n",
       "      <td>0.245522</td>\n",
       "    </tr>\n",
       "    <tr>\n",
       "      <th>2</th>\n",
       "      <td>14874</td>\n",
       "      <td>20040403</td>\n",
       "      <td>115.0</td>\n",
       "      <td>15</td>\n",
       "      <td>1.0</td>\n",
       "      <td>0.0</td>\n",
       "      <td>0.0</td>\n",
       "      <td>163</td>\n",
       "      <td>12.5</td>\n",
       "      <td>0.0</td>\n",
       "      <td>2806</td>\n",
       "      <td>0</td>\n",
       "      <td>0</td>\n",
       "      <td>20160402</td>\n",
       "      <td>45.978359</td>\n",
       "      <td>4.823792</td>\n",
       "      <td>1.319524</td>\n",
       "      <td>-0.998467</td>\n",
       "      <td>-0.996911</td>\n",
       "      <td>0.251410</td>\n",
       "      <td>0.114912</td>\n",
       "      <td>0.165147</td>\n",
       "      <td>0.062173</td>\n",
       "      <td>0.027075</td>\n",
       "      <td>-4.846749</td>\n",
       "      <td>1.803559</td>\n",
       "      <td>1.565330</td>\n",
       "      <td>-0.832687</td>\n",
       "      <td>-0.229963</td>\n",
       "    </tr>\n",
       "    <tr>\n",
       "      <th>3</th>\n",
       "      <td>71865</td>\n",
       "      <td>19960908</td>\n",
       "      <td>109.0</td>\n",
       "      <td>10</td>\n",
       "      <td>0.0</td>\n",
       "      <td>0.0</td>\n",
       "      <td>1.0</td>\n",
       "      <td>193</td>\n",
       "      <td>15.0</td>\n",
       "      <td>0.0</td>\n",
       "      <td>434</td>\n",
       "      <td>0</td>\n",
       "      <td>0</td>\n",
       "      <td>20160312</td>\n",
       "      <td>45.687478</td>\n",
       "      <td>4.492574</td>\n",
       "      <td>-0.050616</td>\n",
       "      <td>0.883600</td>\n",
       "      <td>-2.228079</td>\n",
       "      <td>0.274293</td>\n",
       "      <td>0.110300</td>\n",
       "      <td>0.121964</td>\n",
       "      <td>0.033395</td>\n",
       "      <td>0.000000</td>\n",
       "      <td>-4.509599</td>\n",
       "      <td>1.285940</td>\n",
       "      <td>-0.501868</td>\n",
       "      <td>-2.438353</td>\n",
       "      <td>-0.478699</td>\n",
       "    </tr>\n",
       "    <tr>\n",
       "      <th>4</th>\n",
       "      <td>111080</td>\n",
       "      <td>20120103</td>\n",
       "      <td>110.0</td>\n",
       "      <td>5</td>\n",
       "      <td>1.0</td>\n",
       "      <td>0.0</td>\n",
       "      <td>0.0</td>\n",
       "      <td>68</td>\n",
       "      <td>5.0</td>\n",
       "      <td>0.0</td>\n",
       "      <td>6977</td>\n",
       "      <td>0</td>\n",
       "      <td>0</td>\n",
       "      <td>20160313</td>\n",
       "      <td>44.383511</td>\n",
       "      <td>2.031433</td>\n",
       "      <td>0.572169</td>\n",
       "      <td>-1.571239</td>\n",
       "      <td>2.246088</td>\n",
       "      <td>0.228036</td>\n",
       "      <td>0.073205</td>\n",
       "      <td>0.091880</td>\n",
       "      <td>0.078819</td>\n",
       "      <td>0.121534</td>\n",
       "      <td>-1.896240</td>\n",
       "      <td>0.910783</td>\n",
       "      <td>0.931110</td>\n",
       "      <td>2.834518</td>\n",
       "      <td>1.923482</td>\n",
       "    </tr>\n",
       "    <tr>\n",
       "      <th>...</th>\n",
       "      <td>...</td>\n",
       "      <td>...</td>\n",
       "      <td>...</td>\n",
       "      <td>...</td>\n",
       "      <td>...</td>\n",
       "      <td>...</td>\n",
       "      <td>...</td>\n",
       "      <td>...</td>\n",
       "      <td>...</td>\n",
       "      <td>...</td>\n",
       "      <td>...</td>\n",
       "      <td>...</td>\n",
       "      <td>...</td>\n",
       "      <td>...</td>\n",
       "      <td>...</td>\n",
       "      <td>...</td>\n",
       "      <td>...</td>\n",
       "      <td>...</td>\n",
       "      <td>...</td>\n",
       "      <td>...</td>\n",
       "      <td>...</td>\n",
       "      <td>...</td>\n",
       "      <td>...</td>\n",
       "      <td>...</td>\n",
       "      <td>...</td>\n",
       "      <td>...</td>\n",
       "      <td>...</td>\n",
       "      <td>...</td>\n",
       "      <td>...</td>\n",
       "    </tr>\n",
       "    <tr>\n",
       "      <th>149995</th>\n",
       "      <td>163978</td>\n",
       "      <td>20000607</td>\n",
       "      <td>121.0</td>\n",
       "      <td>10</td>\n",
       "      <td>4.0</td>\n",
       "      <td>0.0</td>\n",
       "      <td>1.0</td>\n",
       "      <td>163</td>\n",
       "      <td>15.0</td>\n",
       "      <td>0.0</td>\n",
       "      <td>4576</td>\n",
       "      <td>0</td>\n",
       "      <td>0</td>\n",
       "      <td>20160327</td>\n",
       "      <td>45.316543</td>\n",
       "      <td>-3.139095</td>\n",
       "      <td>-1.269707</td>\n",
       "      <td>-0.736609</td>\n",
       "      <td>-1.505820</td>\n",
       "      <td>0.280264</td>\n",
       "      <td>0.000310</td>\n",
       "      <td>0.048441</td>\n",
       "      <td>0.071158</td>\n",
       "      <td>0.019174</td>\n",
       "      <td>1.988114</td>\n",
       "      <td>-2.983973</td>\n",
       "      <td>0.589167</td>\n",
       "      <td>-1.304370</td>\n",
       "      <td>-0.302592</td>\n",
       "    </tr>\n",
       "    <tr>\n",
       "      <th>149996</th>\n",
       "      <td>184535</td>\n",
       "      <td>20091102</td>\n",
       "      <td>116.0</td>\n",
       "      <td>11</td>\n",
       "      <td>0.0</td>\n",
       "      <td>0.0</td>\n",
       "      <td>0.0</td>\n",
       "      <td>125</td>\n",
       "      <td>10.0</td>\n",
       "      <td>0.0</td>\n",
       "      <td>2826</td>\n",
       "      <td>0</td>\n",
       "      <td>0</td>\n",
       "      <td>20160312</td>\n",
       "      <td>45.972058</td>\n",
       "      <td>-3.143764</td>\n",
       "      <td>-0.023523</td>\n",
       "      <td>-2.366699</td>\n",
       "      <td>0.698012</td>\n",
       "      <td>0.253217</td>\n",
       "      <td>0.000777</td>\n",
       "      <td>0.084079</td>\n",
       "      <td>0.099681</td>\n",
       "      <td>0.079371</td>\n",
       "      <td>1.839166</td>\n",
       "      <td>-2.774615</td>\n",
       "      <td>2.553994</td>\n",
       "      <td>0.924196</td>\n",
       "      <td>-0.272160</td>\n",
       "    </tr>\n",
       "    <tr>\n",
       "      <th>149997</th>\n",
       "      <td>147587</td>\n",
       "      <td>20101003</td>\n",
       "      <td>60.0</td>\n",
       "      <td>11</td>\n",
       "      <td>1.0</td>\n",
       "      <td>1.0</td>\n",
       "      <td>0.0</td>\n",
       "      <td>90</td>\n",
       "      <td>6.0</td>\n",
       "      <td>0.0</td>\n",
       "      <td>3302</td>\n",
       "      <td>0</td>\n",
       "      <td>0</td>\n",
       "      <td>20160328</td>\n",
       "      <td>44.733481</td>\n",
       "      <td>-3.105721</td>\n",
       "      <td>0.595454</td>\n",
       "      <td>-2.279091</td>\n",
       "      <td>1.423661</td>\n",
       "      <td>0.233353</td>\n",
       "      <td>0.000705</td>\n",
       "      <td>0.118872</td>\n",
       "      <td>0.100118</td>\n",
       "      <td>0.097914</td>\n",
       "      <td>2.439812</td>\n",
       "      <td>-1.630677</td>\n",
       "      <td>2.290197</td>\n",
       "      <td>1.891922</td>\n",
       "      <td>0.414931</td>\n",
       "    </tr>\n",
       "    <tr>\n",
       "      <th>149998</th>\n",
       "      <td>45907</td>\n",
       "      <td>20060312</td>\n",
       "      <td>34.0</td>\n",
       "      <td>10</td>\n",
       "      <td>3.0</td>\n",
       "      <td>1.0</td>\n",
       "      <td>0.0</td>\n",
       "      <td>156</td>\n",
       "      <td>15.0</td>\n",
       "      <td>0.0</td>\n",
       "      <td>1877</td>\n",
       "      <td>0</td>\n",
       "      <td>0</td>\n",
       "      <td>20160401</td>\n",
       "      <td>45.658634</td>\n",
       "      <td>-3.204785</td>\n",
       "      <td>-0.441680</td>\n",
       "      <td>-1.179812</td>\n",
       "      <td>0.620680</td>\n",
       "      <td>0.256369</td>\n",
       "      <td>0.000252</td>\n",
       "      <td>0.081479</td>\n",
       "      <td>0.083558</td>\n",
       "      <td>0.081498</td>\n",
       "      <td>2.075380</td>\n",
       "      <td>-2.633719</td>\n",
       "      <td>1.414937</td>\n",
       "      <td>0.431981</td>\n",
       "      <td>-1.659014</td>\n",
       "    </tr>\n",
       "    <tr>\n",
       "      <th>149999</th>\n",
       "      <td>177672</td>\n",
       "      <td>19990204</td>\n",
       "      <td>19.0</td>\n",
       "      <td>28</td>\n",
       "      <td>6.0</td>\n",
       "      <td>0.0</td>\n",
       "      <td>1.0</td>\n",
       "      <td>193</td>\n",
       "      <td>12.5</td>\n",
       "      <td>0.0</td>\n",
       "      <td>235</td>\n",
       "      <td>0</td>\n",
       "      <td>0</td>\n",
       "      <td>20160305</td>\n",
       "      <td>45.536383</td>\n",
       "      <td>-3.200326</td>\n",
       "      <td>-1.612893</td>\n",
       "      <td>-0.067144</td>\n",
       "      <td>-1.396166</td>\n",
       "      <td>0.284475</td>\n",
       "      <td>0.000000</td>\n",
       "      <td>0.040072</td>\n",
       "      <td>0.062543</td>\n",
       "      <td>0.025819</td>\n",
       "      <td>1.978453</td>\n",
       "      <td>-3.179913</td>\n",
       "      <td>0.031724</td>\n",
       "      <td>-1.483350</td>\n",
       "      <td>-0.342674</td>\n",
       "    </tr>\n",
       "  </tbody>\n",
       "</table>\n",
       "<p>150000 rows × 29 columns</p>\n",
       "</div>"
      ],
      "text/plain": [
       "          name   regDate  model  brand  bodyType  fuelType  gearbox  power  \\\n",
       "0          736  20040402   30.0      6       1.0       0.0      0.0     60   \n",
       "1         2262  20030301   40.0      1       2.0       0.0      0.0      0   \n",
       "2        14874  20040403  115.0     15       1.0       0.0      0.0    163   \n",
       "3        71865  19960908  109.0     10       0.0       0.0      1.0    193   \n",
       "4       111080  20120103  110.0      5       1.0       0.0      0.0     68   \n",
       "...        ...       ...    ...    ...       ...       ...      ...    ...   \n",
       "149995  163978  20000607  121.0     10       4.0       0.0      1.0    163   \n",
       "149996  184535  20091102  116.0     11       0.0       0.0      0.0    125   \n",
       "149997  147587  20101003   60.0     11       1.0       1.0      0.0     90   \n",
       "149998   45907  20060312   34.0     10       3.0       1.0      0.0    156   \n",
       "149999  177672  19990204   19.0     28       6.0       0.0      1.0    193   \n",
       "\n",
       "        kilometer  notRepairedDamage  regionCode  seller  offerType  \\\n",
       "0            12.5                0.0        1046       0          0   \n",
       "1            15.0                NaN        4366       0          0   \n",
       "2            12.5                0.0        2806       0          0   \n",
       "3            15.0                0.0         434       0          0   \n",
       "4             5.0                0.0        6977       0          0   \n",
       "...           ...                ...         ...     ...        ...   \n",
       "149995       15.0                0.0        4576       0          0   \n",
       "149996       10.0                0.0        2826       0          0   \n",
       "149997        6.0                0.0        3302       0          0   \n",
       "149998       15.0                0.0        1877       0          0   \n",
       "149999       12.5                0.0         235       0          0   \n",
       "\n",
       "        creatDate        v_0       v_1       v_2       v_3       v_4  \\\n",
       "0        20160404  43.357796  3.966344  0.050257  2.159744  1.143786   \n",
       "1        20160309  45.305273  5.236112  0.137925  1.380657 -1.422165   \n",
       "2        20160402  45.978359  4.823792  1.319524 -0.998467 -0.996911   \n",
       "3        20160312  45.687478  4.492574 -0.050616  0.883600 -2.228079   \n",
       "4        20160313  44.383511  2.031433  0.572169 -1.571239  2.246088   \n",
       "...           ...        ...       ...       ...       ...       ...   \n",
       "149995   20160327  45.316543 -3.139095 -1.269707 -0.736609 -1.505820   \n",
       "149996   20160312  45.972058 -3.143764 -0.023523 -2.366699  0.698012   \n",
       "149997   20160328  44.733481 -3.105721  0.595454 -2.279091  1.423661   \n",
       "149998   20160401  45.658634 -3.204785 -0.441680 -1.179812  0.620680   \n",
       "149999   20160305  45.536383 -3.200326 -1.612893 -0.067144 -1.396166   \n",
       "\n",
       "             v_5       v_6       v_7       v_8       v_9      v_10      v_11  \\\n",
       "0       0.235676  0.101988  0.129549  0.022816  0.097462 -2.881803  2.804097   \n",
       "1       0.264777  0.121004  0.135731  0.026597  0.020582 -4.900482  2.096338   \n",
       "2       0.251410  0.114912  0.165147  0.062173  0.027075 -4.846749  1.803559   \n",
       "3       0.274293  0.110300  0.121964  0.033395  0.000000 -4.509599  1.285940   \n",
       "4       0.228036  0.073205  0.091880  0.078819  0.121534 -1.896240  0.910783   \n",
       "...          ...       ...       ...       ...       ...       ...       ...   \n",
       "149995  0.280264  0.000310  0.048441  0.071158  0.019174  1.988114 -2.983973   \n",
       "149996  0.253217  0.000777  0.084079  0.099681  0.079371  1.839166 -2.774615   \n",
       "149997  0.233353  0.000705  0.118872  0.100118  0.097914  2.439812 -1.630677   \n",
       "149998  0.256369  0.000252  0.081479  0.083558  0.081498  2.075380 -2.633719   \n",
       "149999  0.284475  0.000000  0.040072  0.062543  0.025819  1.978453 -3.179913   \n",
       "\n",
       "            v_12      v_13      v_14  \n",
       "0      -2.420821  0.795292  0.914762  \n",
       "1      -1.030483 -1.722674  0.245522  \n",
       "2       1.565330 -0.832687 -0.229963  \n",
       "3      -0.501868 -2.438353 -0.478699  \n",
       "4       0.931110  2.834518  1.923482  \n",
       "...          ...       ...       ...  \n",
       "149995  0.589167 -1.304370 -0.302592  \n",
       "149996  2.553994  0.924196 -0.272160  \n",
       "149997  2.290197  1.891922  0.414931  \n",
       "149998  1.414937  0.431981 -1.659014  \n",
       "149999  0.031724 -1.483350 -0.342674  \n",
       "\n",
       "[150000 rows x 29 columns]"
      ]
     },
     "execution_count": 20,
     "metadata": {},
     "output_type": "execute_result"
    }
   ],
   "source": [
    "del train[\"price\"]\n",
    "train"
   ]
  },
  {
   "cell_type": "code",
   "execution_count": 21,
   "metadata": {
    "ExecuteTime": {
     "end_time": "2021-06-01T12:20:48.944568Z",
     "start_time": "2021-06-01T12:20:48.837911Z"
    }
   },
   "outputs": [],
   "source": [
    "# 划分训练集和验证集\n",
    "from sklearn.model_selection import train_test_split\n",
    "## Split data with val\n",
    "x_train,x_val,y_train,y_val = train_test_split(train,train_y,test_size=0.3)"
   ]
  },
  {
   "cell_type": "code",
   "execution_count": null,
   "metadata": {},
   "outputs": [],
   "source": []
  },
  {
   "cell_type": "markdown",
   "metadata": {},
   "source": [
    "## 随机森林\n",
    "回归树"
   ]
  },
  {
   "cell_type": "code",
   "execution_count": 22,
   "metadata": {
    "ExecuteTime": {
     "end_time": "2021-06-01T12:20:50.370086Z",
     "start_time": "2021-06-01T12:20:50.311245Z"
    }
   },
   "outputs": [
    {
     "name": "stdout",
     "output_type": "stream",
     "text": [
      "Predict RF...\n"
     ]
    },
    {
     "ename": "ValueError",
     "evalue": "Input contains NaN, infinity or a value too large for dtype('float32').",
     "output_type": "error",
     "traceback": [
      "\u001b[1;31m---------------------------------------------------------------------------\u001b[0m",
      "\u001b[1;31mValueError\u001b[0m                                Traceback (most recent call last)",
      "\u001b[1;32m<ipython-input-22-4e35db3f1c33>\u001b[0m in \u001b[0;36m<module>\u001b[1;34m\u001b[0m\n\u001b[0;32m      3\u001b[0m \u001b[0mprint\u001b[0m\u001b[1;33m(\u001b[0m\u001b[1;34m'Predict RF...'\u001b[0m\u001b[1;33m)\u001b[0m\u001b[1;33m\u001b[0m\u001b[1;33m\u001b[0m\u001b[0m\n\u001b[0;32m      4\u001b[0m \u001b[0mmodel_rf\u001b[0m \u001b[1;33m=\u001b[0m \u001b[0mRandomForestRegressor\u001b[0m\u001b[1;33m(\u001b[0m\u001b[0mn_estimators\u001b[0m\u001b[1;33m=\u001b[0m\u001b[1;36m100\u001b[0m\u001b[1;33m,\u001b[0m\u001b[0mn_jobs\u001b[0m\u001b[1;33m=\u001b[0m\u001b[1;33m-\u001b[0m\u001b[1;36m1\u001b[0m\u001b[1;33m)\u001b[0m\u001b[1;33m\u001b[0m\u001b[1;33m\u001b[0m\u001b[0m\n\u001b[1;32m----> 5\u001b[1;33m \u001b[0mmodel_rf\u001b[0m \u001b[1;33m=\u001b[0m \u001b[0mmodel_rf\u001b[0m\u001b[1;33m.\u001b[0m\u001b[0mfit\u001b[0m\u001b[1;33m(\u001b[0m\u001b[0mx_train\u001b[0m\u001b[1;33m,\u001b[0m\u001b[0my_train\u001b[0m\u001b[1;33m)\u001b[0m\u001b[1;33m\u001b[0m\u001b[1;33m\u001b[0m\u001b[0m\n\u001b[0m\u001b[0;32m      6\u001b[0m \u001b[0mval_rf\u001b[0m \u001b[1;33m=\u001b[0m \u001b[0mmodel_rf\u001b[0m\u001b[1;33m.\u001b[0m\u001b[0mpredict\u001b[0m\u001b[1;33m(\u001b[0m\u001b[0mx_val\u001b[0m\u001b[1;33m)\u001b[0m\u001b[1;33m\u001b[0m\u001b[1;33m\u001b[0m\u001b[0m\n\u001b[0;32m      7\u001b[0m \u001b[0mMAE_Weighted\u001b[0m \u001b[1;33m=\u001b[0m \u001b[0mmean_absolute_error\u001b[0m\u001b[1;33m(\u001b[0m\u001b[0mnp\u001b[0m\u001b[1;33m.\u001b[0m\u001b[0mexp\u001b[0m\u001b[1;33m(\u001b[0m\u001b[0my_val\u001b[0m\u001b[1;33m)\u001b[0m\u001b[1;33m,\u001b[0m\u001b[0mnp\u001b[0m\u001b[1;33m.\u001b[0m\u001b[0mexp\u001b[0m\u001b[1;33m(\u001b[0m\u001b[0mval_rf\u001b[0m\u001b[1;33m)\u001b[0m\u001b[1;33m)\u001b[0m\u001b[1;33m\u001b[0m\u001b[1;33m\u001b[0m\u001b[0m\n",
      "\u001b[1;32mE:\\Anaconda3\\lib\\site-packages\\sklearn\\ensemble\\_forest.py\u001b[0m in \u001b[0;36mfit\u001b[1;34m(self, X, y, sample_weight)\u001b[0m\n\u001b[0;32m    302\u001b[0m                 \u001b[1;34m\"sparse multilabel-indicator for y is not supported.\"\u001b[0m\u001b[1;33m\u001b[0m\u001b[1;33m\u001b[0m\u001b[0m\n\u001b[0;32m    303\u001b[0m             )\n\u001b[1;32m--> 304\u001b[1;33m         X, y = self._validate_data(X, y, multi_output=True,\n\u001b[0m\u001b[0;32m    305\u001b[0m                                    accept_sparse=\"csc\", dtype=DTYPE)\n\u001b[0;32m    306\u001b[0m         \u001b[1;32mif\u001b[0m \u001b[0msample_weight\u001b[0m \u001b[1;32mis\u001b[0m \u001b[1;32mnot\u001b[0m \u001b[1;32mNone\u001b[0m\u001b[1;33m:\u001b[0m\u001b[1;33m\u001b[0m\u001b[1;33m\u001b[0m\u001b[0m\n",
      "\u001b[1;32mE:\\Anaconda3\\lib\\site-packages\\sklearn\\base.py\u001b[0m in \u001b[0;36m_validate_data\u001b[1;34m(self, X, y, reset, validate_separately, **check_params)\u001b[0m\n\u001b[0;32m    431\u001b[0m                 \u001b[0my\u001b[0m \u001b[1;33m=\u001b[0m \u001b[0mcheck_array\u001b[0m\u001b[1;33m(\u001b[0m\u001b[0my\u001b[0m\u001b[1;33m,\u001b[0m \u001b[1;33m**\u001b[0m\u001b[0mcheck_y_params\u001b[0m\u001b[1;33m)\u001b[0m\u001b[1;33m\u001b[0m\u001b[1;33m\u001b[0m\u001b[0m\n\u001b[0;32m    432\u001b[0m             \u001b[1;32melse\u001b[0m\u001b[1;33m:\u001b[0m\u001b[1;33m\u001b[0m\u001b[1;33m\u001b[0m\u001b[0m\n\u001b[1;32m--> 433\u001b[1;33m                 \u001b[0mX\u001b[0m\u001b[1;33m,\u001b[0m \u001b[0my\u001b[0m \u001b[1;33m=\u001b[0m \u001b[0mcheck_X_y\u001b[0m\u001b[1;33m(\u001b[0m\u001b[0mX\u001b[0m\u001b[1;33m,\u001b[0m \u001b[0my\u001b[0m\u001b[1;33m,\u001b[0m \u001b[1;33m**\u001b[0m\u001b[0mcheck_params\u001b[0m\u001b[1;33m)\u001b[0m\u001b[1;33m\u001b[0m\u001b[1;33m\u001b[0m\u001b[0m\n\u001b[0m\u001b[0;32m    434\u001b[0m             \u001b[0mout\u001b[0m \u001b[1;33m=\u001b[0m \u001b[0mX\u001b[0m\u001b[1;33m,\u001b[0m \u001b[0my\u001b[0m\u001b[1;33m\u001b[0m\u001b[1;33m\u001b[0m\u001b[0m\n\u001b[0;32m    435\u001b[0m \u001b[1;33m\u001b[0m\u001b[0m\n",
      "\u001b[1;32mE:\\Anaconda3\\lib\\site-packages\\sklearn\\utils\\validation.py\u001b[0m in \u001b[0;36minner_f\u001b[1;34m(*args, **kwargs)\u001b[0m\n\u001b[0;32m     61\u001b[0m             \u001b[0mextra_args\u001b[0m \u001b[1;33m=\u001b[0m \u001b[0mlen\u001b[0m\u001b[1;33m(\u001b[0m\u001b[0margs\u001b[0m\u001b[1;33m)\u001b[0m \u001b[1;33m-\u001b[0m \u001b[0mlen\u001b[0m\u001b[1;33m(\u001b[0m\u001b[0mall_args\u001b[0m\u001b[1;33m)\u001b[0m\u001b[1;33m\u001b[0m\u001b[1;33m\u001b[0m\u001b[0m\n\u001b[0;32m     62\u001b[0m             \u001b[1;32mif\u001b[0m \u001b[0mextra_args\u001b[0m \u001b[1;33m<=\u001b[0m \u001b[1;36m0\u001b[0m\u001b[1;33m:\u001b[0m\u001b[1;33m\u001b[0m\u001b[1;33m\u001b[0m\u001b[0m\n\u001b[1;32m---> 63\u001b[1;33m                 \u001b[1;32mreturn\u001b[0m \u001b[0mf\u001b[0m\u001b[1;33m(\u001b[0m\u001b[1;33m*\u001b[0m\u001b[0margs\u001b[0m\u001b[1;33m,\u001b[0m \u001b[1;33m**\u001b[0m\u001b[0mkwargs\u001b[0m\u001b[1;33m)\u001b[0m\u001b[1;33m\u001b[0m\u001b[1;33m\u001b[0m\u001b[0m\n\u001b[0m\u001b[0;32m     64\u001b[0m \u001b[1;33m\u001b[0m\u001b[0m\n\u001b[0;32m     65\u001b[0m             \u001b[1;31m# extra_args > 0\u001b[0m\u001b[1;33m\u001b[0m\u001b[1;33m\u001b[0m\u001b[1;33m\u001b[0m\u001b[0m\n",
      "\u001b[1;32mE:\\Anaconda3\\lib\\site-packages\\sklearn\\utils\\validation.py\u001b[0m in \u001b[0;36mcheck_X_y\u001b[1;34m(X, y, accept_sparse, accept_large_sparse, dtype, order, copy, force_all_finite, ensure_2d, allow_nd, multi_output, ensure_min_samples, ensure_min_features, y_numeric, estimator)\u001b[0m\n\u001b[0;32m    812\u001b[0m         \u001b[1;32mraise\u001b[0m \u001b[0mValueError\u001b[0m\u001b[1;33m(\u001b[0m\u001b[1;34m\"y cannot be None\"\u001b[0m\u001b[1;33m)\u001b[0m\u001b[1;33m\u001b[0m\u001b[1;33m\u001b[0m\u001b[0m\n\u001b[0;32m    813\u001b[0m \u001b[1;33m\u001b[0m\u001b[0m\n\u001b[1;32m--> 814\u001b[1;33m     X = check_array(X, accept_sparse=accept_sparse,\n\u001b[0m\u001b[0;32m    815\u001b[0m                     \u001b[0maccept_large_sparse\u001b[0m\u001b[1;33m=\u001b[0m\u001b[0maccept_large_sparse\u001b[0m\u001b[1;33m,\u001b[0m\u001b[1;33m\u001b[0m\u001b[1;33m\u001b[0m\u001b[0m\n\u001b[0;32m    816\u001b[0m                     \u001b[0mdtype\u001b[0m\u001b[1;33m=\u001b[0m\u001b[0mdtype\u001b[0m\u001b[1;33m,\u001b[0m \u001b[0morder\u001b[0m\u001b[1;33m=\u001b[0m\u001b[0morder\u001b[0m\u001b[1;33m,\u001b[0m \u001b[0mcopy\u001b[0m\u001b[1;33m=\u001b[0m\u001b[0mcopy\u001b[0m\u001b[1;33m,\u001b[0m\u001b[1;33m\u001b[0m\u001b[1;33m\u001b[0m\u001b[0m\n",
      "\u001b[1;32mE:\\Anaconda3\\lib\\site-packages\\sklearn\\utils\\validation.py\u001b[0m in \u001b[0;36minner_f\u001b[1;34m(*args, **kwargs)\u001b[0m\n\u001b[0;32m     61\u001b[0m             \u001b[0mextra_args\u001b[0m \u001b[1;33m=\u001b[0m \u001b[0mlen\u001b[0m\u001b[1;33m(\u001b[0m\u001b[0margs\u001b[0m\u001b[1;33m)\u001b[0m \u001b[1;33m-\u001b[0m \u001b[0mlen\u001b[0m\u001b[1;33m(\u001b[0m\u001b[0mall_args\u001b[0m\u001b[1;33m)\u001b[0m\u001b[1;33m\u001b[0m\u001b[1;33m\u001b[0m\u001b[0m\n\u001b[0;32m     62\u001b[0m             \u001b[1;32mif\u001b[0m \u001b[0mextra_args\u001b[0m \u001b[1;33m<=\u001b[0m \u001b[1;36m0\u001b[0m\u001b[1;33m:\u001b[0m\u001b[1;33m\u001b[0m\u001b[1;33m\u001b[0m\u001b[0m\n\u001b[1;32m---> 63\u001b[1;33m                 \u001b[1;32mreturn\u001b[0m \u001b[0mf\u001b[0m\u001b[1;33m(\u001b[0m\u001b[1;33m*\u001b[0m\u001b[0margs\u001b[0m\u001b[1;33m,\u001b[0m \u001b[1;33m**\u001b[0m\u001b[0mkwargs\u001b[0m\u001b[1;33m)\u001b[0m\u001b[1;33m\u001b[0m\u001b[1;33m\u001b[0m\u001b[0m\n\u001b[0m\u001b[0;32m     64\u001b[0m \u001b[1;33m\u001b[0m\u001b[0m\n\u001b[0;32m     65\u001b[0m             \u001b[1;31m# extra_args > 0\u001b[0m\u001b[1;33m\u001b[0m\u001b[1;33m\u001b[0m\u001b[1;33m\u001b[0m\u001b[0m\n",
      "\u001b[1;32mE:\\Anaconda3\\lib\\site-packages\\sklearn\\utils\\validation.py\u001b[0m in \u001b[0;36mcheck_array\u001b[1;34m(array, accept_sparse, accept_large_sparse, dtype, order, copy, force_all_finite, ensure_2d, allow_nd, ensure_min_samples, ensure_min_features, estimator)\u001b[0m\n\u001b[0;32m    661\u001b[0m \u001b[1;33m\u001b[0m\u001b[0m\n\u001b[0;32m    662\u001b[0m         \u001b[1;32mif\u001b[0m \u001b[0mforce_all_finite\u001b[0m\u001b[1;33m:\u001b[0m\u001b[1;33m\u001b[0m\u001b[1;33m\u001b[0m\u001b[0m\n\u001b[1;32m--> 663\u001b[1;33m             _assert_all_finite(array,\n\u001b[0m\u001b[0;32m    664\u001b[0m                                allow_nan=force_all_finite == 'allow-nan')\n\u001b[0;32m    665\u001b[0m \u001b[1;33m\u001b[0m\u001b[0m\n",
      "\u001b[1;32mE:\\Anaconda3\\lib\\site-packages\\sklearn\\utils\\validation.py\u001b[0m in \u001b[0;36m_assert_all_finite\u001b[1;34m(X, allow_nan, msg_dtype)\u001b[0m\n\u001b[0;32m    101\u001b[0m                 not allow_nan and not np.isfinite(X).all()):\n\u001b[0;32m    102\u001b[0m             \u001b[0mtype_err\u001b[0m \u001b[1;33m=\u001b[0m \u001b[1;34m'infinity'\u001b[0m \u001b[1;32mif\u001b[0m \u001b[0mallow_nan\u001b[0m \u001b[1;32melse\u001b[0m \u001b[1;34m'NaN, infinity'\u001b[0m\u001b[1;33m\u001b[0m\u001b[1;33m\u001b[0m\u001b[0m\n\u001b[1;32m--> 103\u001b[1;33m             raise ValueError(\n\u001b[0m\u001b[0;32m    104\u001b[0m                     \u001b[0mmsg_err\u001b[0m\u001b[1;33m.\u001b[0m\u001b[0mformat\u001b[0m\u001b[1;33m\u001b[0m\u001b[1;33m\u001b[0m\u001b[0m\n\u001b[0;32m    105\u001b[0m                     (type_err,\n",
      "\u001b[1;31mValueError\u001b[0m: Input contains NaN, infinity or a value too large for dtype('float32')."
     ]
    }
   ],
   "source": [
    "begin=time.time()\n",
    "## Train and Predict\n",
    "print('Predict RF...')\n",
    "model_rf = RandomForestRegressor(n_estimators=100,n_jobs=-1)\n",
    "model_rf = model_rf.fit(x_train,y_train)\n",
    "val_rf = model_rf.predict(x_val)\n",
    "MAE_Weighted = mean_absolute_error(np.exp(y_val),np.exp(val_rf))\n",
    "print('MAE_Weighted:',MAE_Weighted)\n",
    "end=time.time()\n",
    "print(\"运行时间：\",end-begin)\n",
    "subA_rf = np.exp(model_rf.predict(test))"
   ]
  },
  {
   "cell_type": "code",
   "execution_count": null,
   "metadata": {
    "ExecuteTime": {
     "end_time": "2021-05-30T11:08:56.702266Z",
     "start_time": "2021-05-30T11:08:08.064Z"
    }
   },
   "outputs": [],
   "source": [
    "# 学习曲线\n",
    "begin=time.time()\n",
    "axisx =np.arange(230,270,10)\n",
    "rs = []\n",
    "for i in axisx:\n",
    "    model_rf = RandomForestRegressor(n_estimators =i,n_jobs=-1)\n",
    "    model_rf = model_rf.fit(x_train,y_train)\n",
    "    val_rf = model_rf.predict(x_val)\n",
    "    MAE_Weighted = mean_absolute_error(np.exp(y_val),np.exp(val_rf))\n",
    "    rs.append(MAE_Weighted)    \n",
    "print(axisx[rs.index(min(rs))],min(rs))\n",
    "plt.figure(figsize=(20,5))\n",
    "plt.plot(axisx,rs,c=\"green\",label=\"RandomForestRegressor\")\n",
    "plt.ylabel(\"MAE\")\n",
    "plt.xlabel(\"n_estimators\")\n",
    "plt.legend()\n",
    "plt.show()\n",
    "end=time.time()\n",
    "print(\"运行时间：\",end-begin)"
   ]
  },
  {
   "cell_type": "code",
   "execution_count": null,
   "metadata": {
    "ExecuteTime": {
     "end_time": "2021-05-30T11:08:56.704264Z",
     "start_time": "2021-05-30T11:08:08.067Z"
    }
   },
   "outputs": [],
   "source": [
    "sub= pd.read_csv(r'./data/used_car_sample_submit.csv', sep=',')\n",
    "sub"
   ]
  },
  {
   "cell_type": "code",
   "execution_count": null,
   "metadata": {
    "ExecuteTime": {
     "end_time": "2021-05-30T11:08:56.705263Z",
     "start_time": "2021-05-30T11:08:08.071Z"
    }
   },
   "outputs": [],
   "source": [
    "subA_rf = pd.Series(subA_rf)\n",
    "subA_rf"
   ]
  },
  {
   "cell_type": "code",
   "execution_count": null,
   "metadata": {
    "ExecuteTime": {
     "end_time": "2021-05-30T11:08:56.707262Z",
     "start_time": "2021-05-30T11:08:08.075Z"
    }
   },
   "outputs": [],
   "source": [
    "sub['price'] = subA_rf\n",
    "sub"
   ]
  },
  {
   "cell_type": "code",
   "execution_count": null,
   "metadata": {
    "ExecuteTime": {
     "end_time": "2021-05-30T11:08:56.708262Z",
     "start_time": "2021-05-30T11:08:08.078Z"
    }
   },
   "outputs": [],
   "source": [
    "sub.to_csv(r'./data/carAge_sub_rf.csv',index=False)"
   ]
  },
  {
   "cell_type": "markdown",
   "metadata": {},
   "source": [
    "## xgboost"
   ]
  },
  {
   "cell_type": "code",
   "execution_count": 512,
   "metadata": {
    "ExecuteTime": {
     "end_time": "2021-05-30T11:24:59.972682Z",
     "start_time": "2021-05-30T11:23:35.286657Z"
    },
    "scrolled": false
   },
   "outputs": [
    {
     "name": "stdout",
     "output_type": "stream",
     "text": [
      "Predict XGB...\n",
      "[19:23:35] WARNING: C:/Users/Administrator/workspace/xgboost-win64_release_1.4.0/src/objective/regression_obj.cu:171: reg:linear is now deprecated in favor of reg:squarederror.\n",
      "R^2： 0.9616648178038166\n",
      "MAE_Weighted: 634.6768002606498\n",
      "运行时间： 84.34966564178467\n"
     ]
    }
   ],
   "source": [
    "import time\n",
    "begin=time.time()\n",
    "## Train and Predict\n",
    "print('Predict XGB...')\n",
    "model_xgb = XGBRegressor(base_score=0.5, booster='gbtree',learning_rate=0.13999999999999996, n_estimators=250,\n",
    "       n_jobs=1, objective='reg:linear',random_state=1, reg_alpha=0, reg_lambda=1, subsample=0.7999999999999999) \n",
    "model_xgb = model_xgb.fit(x_train,y_train)\n",
    "val_xgb = model_xgb.predict(x_val)\n",
    "MAE_Weighted = mean_absolute_error(np.exp(y_val),np.exp(val_xgb))\n",
    "print('MAE_Weighted:',MAE_Weighted)\n",
    "end=time.time()\n",
    "print(\"运行时间：\",end-begin)\n",
    "subA_xgb =np.exp(model_xgb.predict(test))"
   ]
  },
  {
   "cell_type": "code",
   "execution_count": null,
   "metadata": {},
   "outputs": [],
   "source": [
    "sub['price'] = pd.Series(subA_xgb)\n",
    "sub.to_csv(r'./data/carAge_sub_xgb.csv',index=False)"
   ]
  },
  {
   "cell_type": "markdown",
   "metadata": {},
   "source": [
    "## lightGBM"
   ]
  },
  {
   "cell_type": "code",
   "execution_count": 332,
   "metadata": {
    "ExecuteTime": {
     "end_time": "2021-05-30T03:08:52.953955Z",
     "start_time": "2021-05-30T03:01:22.393433Z"
    }
   },
   "outputs": [
    {
     "name": "stdout",
     "output_type": "stream",
     "text": [
      "Predict LightGBM...\n",
      "运行时间： 292.6877167224884\n",
      "MAE_Weighted: 522.3170987460828\n"
     ]
    }
   ],
   "source": [
    "import time\n",
    "begin=time.time()\n",
    "print('Predict LightGBM...')\n",
    "model_lgb = lgb.LGBMRegressor(n_estimators =14000,learning_rate=0.04,num_leaves=60,subsample= 0.85)\n",
    "model_lgb = model_lgb.fit(x_train,y_train)\n",
    "val_lgb = model_lgb.predict(x_val)\n",
    "MAE_Weighted = mean_absolute_error(np.exp(y_val),np.exp(val_lgb))\n",
    "end=time.time()\n",
    "print(\"运行时间：\",end-begin)\n",
    "subA_lgb = np.exp(model_lgb.predict(test))\n",
    "print('MAE_Weighted:',MAE_Weighted)"
   ]
  },
  {
   "cell_type": "code",
   "execution_count": 333,
   "metadata": {
    "ExecuteTime": {
     "end_time": "2021-05-30T03:08:53.083919Z",
     "start_time": "2021-05-30T03:08:52.955953Z"
    }
   },
   "outputs": [],
   "source": [
    "sub['price'] = pd.Series(subA_lgb)\n",
    "sub.to_csv(r'./data/carAge_sub_lightGBM.csv',index=False)"
   ]
  },
  {
   "cell_type": "markdown",
   "metadata": {},
   "source": [
    "## stacking融合"
   ]
  },
  {
   "cell_type": "code",
   "execution_count": null,
   "metadata": {},
   "outputs": [],
   "source": []
  },
  {
   "cell_type": "code",
   "execution_count": null,
   "metadata": {},
   "outputs": [],
   "source": []
  },
  {
   "cell_type": "code",
   "execution_count": null,
   "metadata": {},
   "outputs": [],
   "source": []
  }
 ],
 "metadata": {
  "kernelspec": {
   "display_name": "Python 3",
   "language": "python",
   "name": "python3"
  },
  "language_info": {
   "codemirror_mode": {
    "name": "ipython",
    "version": 3
   },
   "file_extension": ".py",
   "mimetype": "text/x-python",
   "name": "python",
   "nbconvert_exporter": "python",
   "pygments_lexer": "ipython3",
   "version": "3.8.3"
  },
  "toc": {
   "base_numbering": 1,
   "nav_menu": {},
   "number_sections": true,
   "sideBar": true,
   "skip_h1_title": false,
   "title_cell": "Table of Contents",
   "title_sidebar": "Contents",
   "toc_cell": false,
   "toc_position": {
    "height": "calc(100% - 180px)",
    "left": "10px",
    "top": "150px",
    "width": "383.991px"
   },
   "toc_section_display": true,
   "toc_window_display": true
  },
  "varInspector": {
   "cols": {
    "lenName": 16,
    "lenType": 16,
    "lenVar": 40
   },
   "kernels_config": {
    "python": {
     "delete_cmd_postfix": "",
     "delete_cmd_prefix": "del ",
     "library": "var_list.py",
     "varRefreshCmd": "print(var_dic_list())"
    },
    "r": {
     "delete_cmd_postfix": ") ",
     "delete_cmd_prefix": "rm(",
     "library": "var_list.r",
     "varRefreshCmd": "cat(var_dic_list()) "
    }
   },
   "types_to_exclude": [
    "module",
    "function",
    "builtin_function_or_method",
    "instance",
    "_Feature"
   ],
   "window_display": false
  }
 },
 "nbformat": 4,
 "nbformat_minor": 4
}
