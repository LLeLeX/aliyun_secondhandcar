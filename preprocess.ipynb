{
 "cells": [
  {
   "cell_type": "code",
   "execution_count": 223,
   "metadata": {
    "ExecuteTime": {
     "end_time": "2021-06-10T15:16:09.440720Z",
     "start_time": "2021-06-10T15:16:09.399719Z"
    }
   },
   "outputs": [],
   "source": [
    "# 导入相关库及配置\n",
    "#-*- coding: utf-8 -*-\n",
    "import numpy as np\n",
    "import pandas as pd\n",
    "import matplotlib.pyplot as plt\n",
    "import seaborn as sns\n",
    "from sklearn.ensemble import RandomForestRegressor, GradientBoostingRegressor\n",
    "from xgboost import XGBRegressor\n",
    "from sklearn.model_selection import cross_val_score, GridSearchCV  # 交叉验证，网格搜索\n",
    "pd.options.display.max_columns = None  # 取消最大列显示限制\n",
    "%matplotlib inline\n",
    "import warnings\n",
    "warnings.filterwarnings(\"ignore\")# 过滤警告信息，保证清爽输出\n",
    "from sklearn.metrics import mean_squared_error, mean_absolute_error\n",
    "from sklearn.model_selection import cross_val_score\n",
    "import lightgbm as lgb\n",
    "from datetime import datetime\n",
    "import time\n",
    "from sklearn.model_selection import KFold, cross_val_score as CVS, train_test_split as TTS"
   ]
  },
  {
   "cell_type": "markdown",
   "metadata": {},
   "source": [
    "# 导入数据"
   ]
  },
  {
   "cell_type": "code",
   "execution_count": 224,
   "metadata": {
    "ExecuteTime": {
     "end_time": "2021-06-10T15:16:10.653344Z",
     "start_time": "2021-06-10T15:16:09.703937Z"
    }
   },
   "outputs": [],
   "source": [
    "## 1) 载入训练集和测试集；\n",
    "train_data= pd.read_csv(r'./data/used_car_train_20200313.csv', sep=' ')\n",
    "test_data= pd.read_csv(r'./data/used_car_testB_20200421.csv', sep=' ')"
   ]
  },
  {
   "cell_type": "code",
   "execution_count": 225,
   "metadata": {
    "ExecuteTime": {
     "end_time": "2021-06-10T15:16:10.694835Z",
     "start_time": "2021-06-10T15:16:10.653344Z"
    }
   },
   "outputs": [],
   "source": [
    "train = train_data.drop(['SaleID'], axis=1)\n",
    "test = test_data.drop(['SaleID'], axis=1)"
   ]
  },
  {
   "cell_type": "code",
   "execution_count": 226,
   "metadata": {
    "ExecuteTime": {
     "end_time": "2021-06-10T15:16:10.746160Z",
     "start_time": "2021-06-10T15:16:10.696808Z"
    }
   },
   "outputs": [],
   "source": [
    "plt.rcParams['font.sans-serif']=['SimHei'] #用来正常显示中文标签\n",
    "plt.rcParams['axes.unicode_minus']=False #用来正常显示负号"
   ]
  },
  {
   "cell_type": "code",
   "execution_count": 227,
   "metadata": {
    "ExecuteTime": {
     "end_time": "2021-06-10T15:16:10.992785Z",
     "start_time": "2021-06-10T15:16:10.747159Z"
    }
   },
   "outputs": [
    {
     "data": {
      "image/png": "[encoded data removed]",
      "text/plain": [
       "<Figure size 432x288 with 1 Axes>"
      ]
     },
     "metadata": {
      "needs_background": "light"
     },
     "output_type": "display_data"
    }
   ],
   "source": [
    "plt.hist(train['seller'], orientation = 'vertical',histtype = 'bar') \n",
    "plt.xlabel('seller 销售方')\n",
    "plt.ylabel('count')\n",
    "plt.show()"
   ]
  },
  {
   "cell_type": "code",
   "execution_count": 228,
   "metadata": {
    "ExecuteTime": {
     "end_time": "2021-06-10T15:16:11.133704Z",
     "start_time": "2021-06-10T15:16:10.993784Z"
    }
   },
   "outputs": [
    {
     "data": {
      "image/png": "[encoded data removed]",
      "text/plain": [
       "<Figure size 432x288 with 1 Axes>"
      ]
     },
     "metadata": {
      "needs_background": "light"
     },
     "output_type": "display_data"
    }
   ],
   "source": [
    "plt.hist(train['offerType'], orientation = 'vertical',histtype = 'bar') \n",
    "plt.xlabel('offerType 报价类型')\n",
    "plt.ylabel('count')\n",
    "plt.show()"
   ]
  },
  {
   "cell_type": "code",
   "execution_count": 229,
   "metadata": {
    "ExecuteTime": {
     "end_time": "2021-06-10T15:16:11.550253Z",
     "start_time": "2021-06-10T15:16:11.507278Z"
    }
   },
   "outputs": [
    {
     "data": {
      "text/html": [
       "<div>\n",
       "<style scoped>\n",
       "    .dataframe tbody tr th:only-of-type {\n",
       "        vertical-align: middle;\n",
       "    }\n",
       "\n",
       "    .dataframe tbody tr th {\n",
       "        vertical-align: top;\n",
       "    }\n",
       "\n",
       "    .dataframe thead th {\n",
       "        text-align: right;\n",
       "    }\n",
       "</style>\n",
       "<table border=\"1\" class=\"dataframe\">\n",
       "  <thead>\n",
       "    <tr style=\"text-align: right;\">\n",
       "      <th></th>\n",
       "      <th>name</th>\n",
       "      <th>regDate</th>\n",
       "      <th>model</th>\n",
       "      <th>brand</th>\n",
       "      <th>bodyType</th>\n",
       "      <th>fuelType</th>\n",
       "      <th>gearbox</th>\n",
       "      <th>power</th>\n",
       "      <th>kilometer</th>\n",
       "      <th>notRepairedDamage</th>\n",
       "      <th>regionCode</th>\n",
       "      <th>seller</th>\n",
       "      <th>offerType</th>\n",
       "      <th>creatDate</th>\n",
       "      <th>price</th>\n",
       "      <th>v_0</th>\n",
       "      <th>v_1</th>\n",
       "      <th>v_2</th>\n",
       "      <th>v_3</th>\n",
       "      <th>v_4</th>\n",
       "      <th>v_5</th>\n",
       "      <th>v_6</th>\n",
       "      <th>v_7</th>\n",
       "      <th>v_8</th>\n",
       "      <th>v_9</th>\n",
       "      <th>v_10</th>\n",
       "      <th>v_11</th>\n",
       "      <th>v_12</th>\n",
       "      <th>v_13</th>\n",
       "      <th>v_14</th>\n",
       "    </tr>\n",
       "  </thead>\n",
       "  <tbody>\n",
       "    <tr>\n",
       "      <th>0</th>\n",
       "      <td>736</td>\n",
       "      <td>20040402</td>\n",
       "      <td>30.0</td>\n",
       "      <td>6</td>\n",
       "      <td>1.0</td>\n",
       "      <td>0.0</td>\n",
       "      <td>0.0</td>\n",
       "      <td>60</td>\n",
       "      <td>12.5</td>\n",
       "      <td>0.0</td>\n",
       "      <td>1046</td>\n",
       "      <td>0</td>\n",
       "      <td>0</td>\n",
       "      <td>20160404</td>\n",
       "      <td>1850</td>\n",
       "      <td>43.357796</td>\n",
       "      <td>3.966344</td>\n",
       "      <td>0.050257</td>\n",
       "      <td>2.159744</td>\n",
       "      <td>1.143786</td>\n",
       "      <td>0.235676</td>\n",
       "      <td>0.101988</td>\n",
       "      <td>0.129549</td>\n",
       "      <td>0.022816</td>\n",
       "      <td>0.097462</td>\n",
       "      <td>-2.881803</td>\n",
       "      <td>2.804097</td>\n",
       "      <td>-2.420821</td>\n",
       "      <td>0.795292</td>\n",
       "      <td>0.914762</td>\n",
       "    </tr>\n",
       "    <tr>\n",
       "      <th>1</th>\n",
       "      <td>2262</td>\n",
       "      <td>20030301</td>\n",
       "      <td>40.0</td>\n",
       "      <td>1</td>\n",
       "      <td>2.0</td>\n",
       "      <td>0.0</td>\n",
       "      <td>0.0</td>\n",
       "      <td>0</td>\n",
       "      <td>15.0</td>\n",
       "      <td>-</td>\n",
       "      <td>4366</td>\n",
       "      <td>0</td>\n",
       "      <td>0</td>\n",
       "      <td>20160309</td>\n",
       "      <td>3600</td>\n",
       "      <td>45.305273</td>\n",
       "      <td>5.236112</td>\n",
       "      <td>0.137925</td>\n",
       "      <td>1.380657</td>\n",
       "      <td>-1.422165</td>\n",
       "      <td>0.264777</td>\n",
       "      <td>0.121004</td>\n",
       "      <td>0.135731</td>\n",
       "      <td>0.026597</td>\n",
       "      <td>0.020582</td>\n",
       "      <td>-4.900482</td>\n",
       "      <td>2.096338</td>\n",
       "      <td>-1.030483</td>\n",
       "      <td>-1.722674</td>\n",
       "      <td>0.245522</td>\n",
       "    </tr>\n",
       "    <tr>\n",
       "      <th>2</th>\n",
       "      <td>14874</td>\n",
       "      <td>20040403</td>\n",
       "      <td>115.0</td>\n",
       "      <td>15</td>\n",
       "      <td>1.0</td>\n",
       "      <td>0.0</td>\n",
       "      <td>0.0</td>\n",
       "      <td>163</td>\n",
       "      <td>12.5</td>\n",
       "      <td>0.0</td>\n",
       "      <td>2806</td>\n",
       "      <td>0</td>\n",
       "      <td>0</td>\n",
       "      <td>20160402</td>\n",
       "      <td>6222</td>\n",
       "      <td>45.978359</td>\n",
       "      <td>4.823792</td>\n",
       "      <td>1.319524</td>\n",
       "      <td>-0.998467</td>\n",
       "      <td>-0.996911</td>\n",
       "      <td>0.251410</td>\n",
       "      <td>0.114912</td>\n",
       "      <td>0.165147</td>\n",
       "      <td>0.062173</td>\n",
       "      <td>0.027075</td>\n",
       "      <td>-4.846749</td>\n",
       "      <td>1.803559</td>\n",
       "      <td>1.565330</td>\n",
       "      <td>-0.832687</td>\n",
       "      <td>-0.229963</td>\n",
       "    </tr>\n",
       "    <tr>\n",
       "      <th>3</th>\n",
       "      <td>71865</td>\n",
       "      <td>19960908</td>\n",
       "      <td>109.0</td>\n",
       "      <td>10</td>\n",
       "      <td>0.0</td>\n",
       "      <td>0.0</td>\n",
       "      <td>1.0</td>\n",
       "      <td>193</td>\n",
       "      <td>15.0</td>\n",
       "      <td>0.0</td>\n",
       "      <td>434</td>\n",
       "      <td>0</td>\n",
       "      <td>0</td>\n",
       "      <td>20160312</td>\n",
       "      <td>2400</td>\n",
       "      <td>45.687478</td>\n",
       "      <td>4.492574</td>\n",
       "      <td>-0.050616</td>\n",
       "      <td>0.883600</td>\n",
       "      <td>-2.228079</td>\n",
       "      <td>0.274293</td>\n",
       "      <td>0.110300</td>\n",
       "      <td>0.121964</td>\n",
       "      <td>0.033395</td>\n",
       "      <td>0.000000</td>\n",
       "      <td>-4.509599</td>\n",
       "      <td>1.285940</td>\n",
       "      <td>-0.501868</td>\n",
       "      <td>-2.438353</td>\n",
       "      <td>-0.478699</td>\n",
       "    </tr>\n",
       "    <tr>\n",
       "      <th>4</th>\n",
       "      <td>111080</td>\n",
       "      <td>20120103</td>\n",
       "      <td>110.0</td>\n",
       "      <td>5</td>\n",
       "      <td>1.0</td>\n",
       "      <td>0.0</td>\n",
       "      <td>0.0</td>\n",
       "      <td>68</td>\n",
       "      <td>5.0</td>\n",
       "      <td>0.0</td>\n",
       "      <td>6977</td>\n",
       "      <td>0</td>\n",
       "      <td>0</td>\n",
       "      <td>20160313</td>\n",
       "      <td>5200</td>\n",
       "      <td>44.383511</td>\n",
       "      <td>2.031433</td>\n",
       "      <td>0.572169</td>\n",
       "      <td>-1.571239</td>\n",
       "      <td>2.246088</td>\n",
       "      <td>0.228036</td>\n",
       "      <td>0.073205</td>\n",
       "      <td>0.091880</td>\n",
       "      <td>0.078819</td>\n",
       "      <td>0.121534</td>\n",
       "      <td>-1.896240</td>\n",
       "      <td>0.910783</td>\n",
       "      <td>0.931110</td>\n",
       "      <td>2.834518</td>\n",
       "      <td>1.923482</td>\n",
       "    </tr>\n",
       "    <tr>\n",
       "      <th>...</th>\n",
       "      <td>...</td>\n",
       "      <td>...</td>\n",
       "      <td>...</td>\n",
       "      <td>...</td>\n",
       "      <td>...</td>\n",
       "      <td>...</td>\n",
       "      <td>...</td>\n",
       "      <td>...</td>\n",
       "      <td>...</td>\n",
       "      <td>...</td>\n",
       "      <td>...</td>\n",
       "      <td>...</td>\n",
       "      <td>...</td>\n",
       "      <td>...</td>\n",
       "      <td>...</td>\n",
       "      <td>...</td>\n",
       "      <td>...</td>\n",
       "      <td>...</td>\n",
       "      <td>...</td>\n",
       "      <td>...</td>\n",
       "      <td>...</td>\n",
       "      <td>...</td>\n",
       "      <td>...</td>\n",
       "      <td>...</td>\n",
       "      <td>...</td>\n",
       "      <td>...</td>\n",
       "      <td>...</td>\n",
       "      <td>...</td>\n",
       "      <td>...</td>\n",
       "      <td>...</td>\n",
       "    </tr>\n",
       "    <tr>\n",
       "      <th>149995</th>\n",
       "      <td>163978</td>\n",
       "      <td>20000607</td>\n",
       "      <td>121.0</td>\n",
       "      <td>10</td>\n",
       "      <td>4.0</td>\n",
       "      <td>0.0</td>\n",
       "      <td>1.0</td>\n",
       "      <td>163</td>\n",
       "      <td>15.0</td>\n",
       "      <td>0.0</td>\n",
       "      <td>4576</td>\n",
       "      <td>0</td>\n",
       "      <td>0</td>\n",
       "      <td>20160327</td>\n",
       "      <td>5900</td>\n",
       "      <td>45.316543</td>\n",
       "      <td>-3.139095</td>\n",
       "      <td>-1.269707</td>\n",
       "      <td>-0.736609</td>\n",
       "      <td>-1.505820</td>\n",
       "      <td>0.280264</td>\n",
       "      <td>0.000310</td>\n",
       "      <td>0.048441</td>\n",
       "      <td>0.071158</td>\n",
       "      <td>0.019174</td>\n",
       "      <td>1.988114</td>\n",
       "      <td>-2.983973</td>\n",
       "      <td>0.589167</td>\n",
       "      <td>-1.304370</td>\n",
       "      <td>-0.302592</td>\n",
       "    </tr>\n",
       "    <tr>\n",
       "      <th>149996</th>\n",
       "      <td>184535</td>\n",
       "      <td>20091102</td>\n",
       "      <td>116.0</td>\n",
       "      <td>11</td>\n",
       "      <td>0.0</td>\n",
       "      <td>0.0</td>\n",
       "      <td>0.0</td>\n",
       "      <td>125</td>\n",
       "      <td>10.0</td>\n",
       "      <td>0.0</td>\n",
       "      <td>2826</td>\n",
       "      <td>0</td>\n",
       "      <td>0</td>\n",
       "      <td>20160312</td>\n",
       "      <td>9500</td>\n",
       "      <td>45.972058</td>\n",
       "      <td>-3.143764</td>\n",
       "      <td>-0.023523</td>\n",
       "      <td>-2.366699</td>\n",
       "      <td>0.698012</td>\n",
       "      <td>0.253217</td>\n",
       "      <td>0.000777</td>\n",
       "      <td>0.084079</td>\n",
       "      <td>0.099681</td>\n",
       "      <td>0.079371</td>\n",
       "      <td>1.839166</td>\n",
       "      <td>-2.774615</td>\n",
       "      <td>2.553994</td>\n",
       "      <td>0.924196</td>\n",
       "      <td>-0.272160</td>\n",
       "    </tr>\n",
       "    <tr>\n",
       "      <th>149997</th>\n",
       "      <td>147587</td>\n",
       "      <td>20101003</td>\n",
       "      <td>60.0</td>\n",
       "      <td>11</td>\n",
       "      <td>1.0</td>\n",
       "      <td>1.0</td>\n",
       "      <td>0.0</td>\n",
       "      <td>90</td>\n",
       "      <td>6.0</td>\n",
       "      <td>0.0</td>\n",
       "      <td>3302</td>\n",
       "      <td>0</td>\n",
       "      <td>0</td>\n",
       "      <td>20160328</td>\n",
       "      <td>7500</td>\n",
       "      <td>44.733481</td>\n",
       "      <td>-3.105721</td>\n",
       "      <td>0.595454</td>\n",
       "      <td>-2.279091</td>\n",
       "      <td>1.423661</td>\n",
       "      <td>0.233353</td>\n",
       "      <td>0.000705</td>\n",
       "      <td>0.118872</td>\n",
       "      <td>0.100118</td>\n",
       "      <td>0.097914</td>\n",
       "      <td>2.439812</td>\n",
       "      <td>-1.630677</td>\n",
       "      <td>2.290197</td>\n",
       "      <td>1.891922</td>\n",
       "      <td>0.414931</td>\n",
       "    </tr>\n",
       "    <tr>\n",
       "      <th>149998</th>\n",
       "      <td>45907</td>\n",
       "      <td>20060312</td>\n",
       "      <td>34.0</td>\n",
       "      <td>10</td>\n",
       "      <td>3.0</td>\n",
       "      <td>1.0</td>\n",
       "      <td>0.0</td>\n",
       "      <td>156</td>\n",
       "      <td>15.0</td>\n",
       "      <td>0.0</td>\n",
       "      <td>1877</td>\n",
       "      <td>0</td>\n",
       "      <td>0</td>\n",
       "      <td>20160401</td>\n",
       "      <td>4999</td>\n",
       "      <td>45.658634</td>\n",
       "      <td>-3.204785</td>\n",
       "      <td>-0.441680</td>\n",
       "      <td>-1.179812</td>\n",
       "      <td>0.620680</td>\n",
       "      <td>0.256369</td>\n",
       "      <td>0.000252</td>\n",
       "      <td>0.081479</td>\n",
       "      <td>0.083558</td>\n",
       "      <td>0.081498</td>\n",
       "      <td>2.075380</td>\n",
       "      <td>-2.633719</td>\n",
       "      <td>1.414937</td>\n",
       "      <td>0.431981</td>\n",
       "      <td>-1.659014</td>\n",
       "    </tr>\n",
       "    <tr>\n",
       "      <th>149999</th>\n",
       "      <td>177672</td>\n",
       "      <td>19990204</td>\n",
       "      <td>19.0</td>\n",
       "      <td>28</td>\n",
       "      <td>6.0</td>\n",
       "      <td>0.0</td>\n",
       "      <td>1.0</td>\n",
       "      <td>193</td>\n",
       "      <td>12.5</td>\n",
       "      <td>0.0</td>\n",
       "      <td>235</td>\n",
       "      <td>0</td>\n",
       "      <td>0</td>\n",
       "      <td>20160305</td>\n",
       "      <td>4700</td>\n",
       "      <td>45.536383</td>\n",
       "      <td>-3.200326</td>\n",
       "      <td>-1.612893</td>\n",
       "      <td>-0.067144</td>\n",
       "      <td>-1.396166</td>\n",
       "      <td>0.284475</td>\n",
       "      <td>0.000000</td>\n",
       "      <td>0.040072</td>\n",
       "      <td>0.062543</td>\n",
       "      <td>0.025819</td>\n",
       "      <td>1.978453</td>\n",
       "      <td>-3.179913</td>\n",
       "      <td>0.031724</td>\n",
       "      <td>-1.483350</td>\n",
       "      <td>-0.342674</td>\n",
       "    </tr>\n",
       "  </tbody>\n",
       "</table>\n",
       "<p>150000 rows × 30 columns</p>\n",
       "</div>"
      ],
      "text/plain": [
       "          name   regDate  model  brand  bodyType  fuelType  gearbox  power  \\\n",
       "0          736  20040402   30.0      6       1.0       0.0      0.0     60   \n",
       "1         2262  20030301   40.0      1       2.0       0.0      0.0      0   \n",
       "2        14874  20040403  115.0     15       1.0       0.0      0.0    163   \n",
       "3        71865  19960908  109.0     10       0.0       0.0      1.0    193   \n",
       "4       111080  20120103  110.0      5       1.0       0.0      0.0     68   \n",
       "...        ...       ...    ...    ...       ...       ...      ...    ...   \n",
       "149995  163978  20000607  121.0     10       4.0       0.0      1.0    163   \n",
       "149996  184535  20091102  116.0     11       0.0       0.0      0.0    125   \n",
       "149997  147587  20101003   60.0     11       1.0       1.0      0.0     90   \n",
       "149998   45907  20060312   34.0     10       3.0       1.0      0.0    156   \n",
       "149999  177672  19990204   19.0     28       6.0       0.0      1.0    193   \n",
       "\n",
       "        kilometer notRepairedDamage  regionCode  seller  offerType  creatDate  \\\n",
       "0            12.5               0.0        1046       0          0   20160404   \n",
       "1            15.0                 -        4366       0          0   20160309   \n",
       "2            12.5               0.0        2806       0          0   20160402   \n",
       "3            15.0               0.0         434       0          0   20160312   \n",
       "4             5.0               0.0        6977       0          0   20160313   \n",
       "...           ...               ...         ...     ...        ...        ...   \n",
       "149995       15.0               0.0        4576       0          0   20160327   \n",
       "149996       10.0               0.0        2826       0          0   20160312   \n",
       "149997        6.0               0.0        3302       0          0   20160328   \n",
       "149998       15.0               0.0        1877       0          0   20160401   \n",
       "149999       12.5               0.0         235       0          0   20160305   \n",
       "\n",
       "        price        v_0       v_1       v_2       v_3       v_4       v_5  \\\n",
       "0        1850  43.357796  3.966344  0.050257  2.159744  1.143786  0.235676   \n",
       "1        3600  45.305273  5.236112  0.137925  1.380657 -1.422165  0.264777   \n",
       "2        6222  45.978359  4.823792  1.319524 -0.998467 -0.996911  0.251410   \n",
       "3        2400  45.687478  4.492574 -0.050616  0.883600 -2.228079  0.274293   \n",
       "4        5200  44.383511  2.031433  0.572169 -1.571239  2.246088  0.228036   \n",
       "...       ...        ...       ...       ...       ...       ...       ...   \n",
       "149995   5900  45.316543 -3.139095 -1.269707 -0.736609 -1.505820  0.280264   \n",
       "149996   9500  45.972058 -3.143764 -0.023523 -2.366699  0.698012  0.253217   \n",
       "149997   7500  44.733481 -3.105721  0.595454 -2.279091  1.423661  0.233353   \n",
       "149998   4999  45.658634 -3.204785 -0.441680 -1.179812  0.620680  0.256369   \n",
       "149999   4700  45.536383 -3.200326 -1.612893 -0.067144 -1.396166  0.284475   \n",
       "\n",
       "             v_6       v_7       v_8       v_9      v_10      v_11      v_12  \\\n",
       "0       0.101988  0.129549  0.022816  0.097462 -2.881803  2.804097 -2.420821   \n",
       "1       0.121004  0.135731  0.026597  0.020582 -4.900482  2.096338 -1.030483   \n",
       "2       0.114912  0.165147  0.062173  0.027075 -4.846749  1.803559  1.565330   \n",
       "3       0.110300  0.121964  0.033395  0.000000 -4.509599  1.285940 -0.501868   \n",
       "4       0.073205  0.091880  0.078819  0.121534 -1.896240  0.910783  0.931110   \n",
       "...          ...       ...       ...       ...       ...       ...       ...   \n",
       "149995  0.000310  0.048441  0.071158  0.019174  1.988114 -2.983973  0.589167   \n",
       "149996  0.000777  0.084079  0.099681  0.079371  1.839166 -2.774615  2.553994   \n",
       "149997  0.000705  0.118872  0.100118  0.097914  2.439812 -1.630677  2.290197   \n",
       "149998  0.000252  0.081479  0.083558  0.081498  2.075380 -2.633719  1.414937   \n",
       "149999  0.000000  0.040072  0.062543  0.025819  1.978453 -3.179913  0.031724   \n",
       "\n",
       "            v_13      v_14  \n",
       "0       0.795292  0.914762  \n",
       "1      -1.722674  0.245522  \n",
       "2      -0.832687 -0.229963  \n",
       "3      -2.438353 -0.478699  \n",
       "4       2.834518  1.923482  \n",
       "...          ...       ...  \n",
       "149995 -1.304370 -0.302592  \n",
       "149996  0.924196 -0.272160  \n",
       "149997  1.891922  0.414931  \n",
       "149998  0.431981 -1.659014  \n",
       "149999 -1.483350 -0.342674  \n",
       "\n",
       "[150000 rows x 30 columns]"
      ]
     },
     "execution_count": 229,
     "metadata": {},
     "output_type": "execute_result"
    }
   ],
   "source": [
    "train"
   ]
  },
  {
   "cell_type": "code",
   "execution_count": 230,
   "metadata": {
    "ExecuteTime": {
     "end_time": "2021-06-10T15:16:12.173463Z",
     "start_time": "2021-06-10T15:16:12.137497Z"
    }
   },
   "outputs": [
    {
     "data": {
      "text/html": [
       "<div>\n",
       "<style scoped>\n",
       "    .dataframe tbody tr th:only-of-type {\n",
       "        vertical-align: middle;\n",
       "    }\n",
       "\n",
       "    .dataframe tbody tr th {\n",
       "        vertical-align: top;\n",
       "    }\n",
       "\n",
       "    .dataframe thead th {\n",
       "        text-align: right;\n",
       "    }\n",
       "</style>\n",
       "<table border=\"1\" class=\"dataframe\">\n",
       "  <thead>\n",
       "    <tr style=\"text-align: right;\">\n",
       "      <th></th>\n",
       "      <th>name</th>\n",
       "      <th>regDate</th>\n",
       "      <th>model</th>\n",
       "      <th>brand</th>\n",
       "      <th>bodyType</th>\n",
       "      <th>fuelType</th>\n",
       "      <th>gearbox</th>\n",
       "      <th>power</th>\n",
       "      <th>kilometer</th>\n",
       "      <th>notRepairedDamage</th>\n",
       "      <th>regionCode</th>\n",
       "      <th>seller</th>\n",
       "      <th>offerType</th>\n",
       "      <th>creatDate</th>\n",
       "      <th>v_0</th>\n",
       "      <th>v_1</th>\n",
       "      <th>v_2</th>\n",
       "      <th>v_3</th>\n",
       "      <th>v_4</th>\n",
       "      <th>v_5</th>\n",
       "      <th>v_6</th>\n",
       "      <th>v_7</th>\n",
       "      <th>v_8</th>\n",
       "      <th>v_9</th>\n",
       "      <th>v_10</th>\n",
       "      <th>v_11</th>\n",
       "      <th>v_12</th>\n",
       "      <th>v_13</th>\n",
       "      <th>v_14</th>\n",
       "    </tr>\n",
       "  </thead>\n",
       "  <tbody>\n",
       "    <tr>\n",
       "      <th>0</th>\n",
       "      <td>133777</td>\n",
       "      <td>20000501</td>\n",
       "      <td>67.0</td>\n",
       "      <td>0</td>\n",
       "      <td>1.0</td>\n",
       "      <td>0.0</td>\n",
       "      <td>0.0</td>\n",
       "      <td>101</td>\n",
       "      <td>15.0</td>\n",
       "      <td>0.0</td>\n",
       "      <td>5019</td>\n",
       "      <td>0</td>\n",
       "      <td>0</td>\n",
       "      <td>20160308</td>\n",
       "      <td>42.142061</td>\n",
       "      <td>-3.094739</td>\n",
       "      <td>-0.721300</td>\n",
       "      <td>1.466344</td>\n",
       "      <td>1.009846</td>\n",
       "      <td>0.236520</td>\n",
       "      <td>0.000241</td>\n",
       "      <td>0.105319</td>\n",
       "      <td>0.046233</td>\n",
       "      <td>0.094522</td>\n",
       "      <td>3.619512</td>\n",
       "      <td>-0.280607</td>\n",
       "      <td>-2.019761</td>\n",
       "      <td>0.978828</td>\n",
       "      <td>0.803322</td>\n",
       "    </tr>\n",
       "    <tr>\n",
       "      <th>1</th>\n",
       "      <td>61206</td>\n",
       "      <td>19950211</td>\n",
       "      <td>19.0</td>\n",
       "      <td>6</td>\n",
       "      <td>2.0</td>\n",
       "      <td>0.0</td>\n",
       "      <td>0.0</td>\n",
       "      <td>73</td>\n",
       "      <td>6.0</td>\n",
       "      <td>0.0</td>\n",
       "      <td>1505</td>\n",
       "      <td>0</td>\n",
       "      <td>0</td>\n",
       "      <td>20160310</td>\n",
       "      <td>43.907034</td>\n",
       "      <td>-3.244605</td>\n",
       "      <td>-0.766430</td>\n",
       "      <td>1.276718</td>\n",
       "      <td>-1.065338</td>\n",
       "      <td>0.261518</td>\n",
       "      <td>0.000000</td>\n",
       "      <td>0.120323</td>\n",
       "      <td>0.046784</td>\n",
       "      <td>0.035385</td>\n",
       "      <td>2.997376</td>\n",
       "      <td>-1.406705</td>\n",
       "      <td>-1.020884</td>\n",
       "      <td>-1.349990</td>\n",
       "      <td>-0.200542</td>\n",
       "    </tr>\n",
       "    <tr>\n",
       "      <th>2</th>\n",
       "      <td>67829</td>\n",
       "      <td>20090606</td>\n",
       "      <td>5.0</td>\n",
       "      <td>5</td>\n",
       "      <td>4.0</td>\n",
       "      <td>0.0</td>\n",
       "      <td>0.0</td>\n",
       "      <td>120</td>\n",
       "      <td>5.0</td>\n",
       "      <td>-</td>\n",
       "      <td>1776</td>\n",
       "      <td>0</td>\n",
       "      <td>0</td>\n",
       "      <td>20160309</td>\n",
       "      <td>45.389665</td>\n",
       "      <td>3.372384</td>\n",
       "      <td>-0.965565</td>\n",
       "      <td>-2.447316</td>\n",
       "      <td>0.624268</td>\n",
       "      <td>0.261691</td>\n",
       "      <td>0.090836</td>\n",
       "      <td>0.000000</td>\n",
       "      <td>0.079655</td>\n",
       "      <td>0.073586</td>\n",
       "      <td>-3.951084</td>\n",
       "      <td>-0.433467</td>\n",
       "      <td>0.918964</td>\n",
       "      <td>1.634604</td>\n",
       "      <td>1.027173</td>\n",
       "    </tr>\n",
       "    <tr>\n",
       "      <th>3</th>\n",
       "      <td>8892</td>\n",
       "      <td>20020601</td>\n",
       "      <td>22.0</td>\n",
       "      <td>9</td>\n",
       "      <td>1.0</td>\n",
       "      <td>0.0</td>\n",
       "      <td>0.0</td>\n",
       "      <td>58</td>\n",
       "      <td>15.0</td>\n",
       "      <td>0.0</td>\n",
       "      <td>26</td>\n",
       "      <td>0</td>\n",
       "      <td>0</td>\n",
       "      <td>20160314</td>\n",
       "      <td>42.788775</td>\n",
       "      <td>4.035052</td>\n",
       "      <td>-0.217403</td>\n",
       "      <td>1.708806</td>\n",
       "      <td>1.119165</td>\n",
       "      <td>0.236050</td>\n",
       "      <td>0.101777</td>\n",
       "      <td>0.098950</td>\n",
       "      <td>0.026830</td>\n",
       "      <td>0.096614</td>\n",
       "      <td>-2.846788</td>\n",
       "      <td>2.800267</td>\n",
       "      <td>-2.524610</td>\n",
       "      <td>1.076819</td>\n",
       "      <td>0.461610</td>\n",
       "    </tr>\n",
       "    <tr>\n",
       "      <th>4</th>\n",
       "      <td>76998</td>\n",
       "      <td>20030301</td>\n",
       "      <td>46.0</td>\n",
       "      <td>6</td>\n",
       "      <td>0.0</td>\n",
       "      <td>NaN</td>\n",
       "      <td>0.0</td>\n",
       "      <td>116</td>\n",
       "      <td>15.0</td>\n",
       "      <td>0.0</td>\n",
       "      <td>738</td>\n",
       "      <td>0</td>\n",
       "      <td>0</td>\n",
       "      <td>20160306</td>\n",
       "      <td>43.670763</td>\n",
       "      <td>-3.135382</td>\n",
       "      <td>-1.134107</td>\n",
       "      <td>0.470315</td>\n",
       "      <td>0.134032</td>\n",
       "      <td>0.257000</td>\n",
       "      <td>0.000000</td>\n",
       "      <td>0.066732</td>\n",
       "      <td>0.057771</td>\n",
       "      <td>0.068852</td>\n",
       "      <td>2.839010</td>\n",
       "      <td>-1.659801</td>\n",
       "      <td>-0.924142</td>\n",
       "      <td>0.199423</td>\n",
       "      <td>0.451014</td>\n",
       "    </tr>\n",
       "    <tr>\n",
       "      <th>...</th>\n",
       "      <td>...</td>\n",
       "      <td>...</td>\n",
       "      <td>...</td>\n",
       "      <td>...</td>\n",
       "      <td>...</td>\n",
       "      <td>...</td>\n",
       "      <td>...</td>\n",
       "      <td>...</td>\n",
       "      <td>...</td>\n",
       "      <td>...</td>\n",
       "      <td>...</td>\n",
       "      <td>...</td>\n",
       "      <td>...</td>\n",
       "      <td>...</td>\n",
       "      <td>...</td>\n",
       "      <td>...</td>\n",
       "      <td>...</td>\n",
       "      <td>...</td>\n",
       "      <td>...</td>\n",
       "      <td>...</td>\n",
       "      <td>...</td>\n",
       "      <td>...</td>\n",
       "      <td>...</td>\n",
       "      <td>...</td>\n",
       "      <td>...</td>\n",
       "      <td>...</td>\n",
       "      <td>...</td>\n",
       "      <td>...</td>\n",
       "      <td>...</td>\n",
       "    </tr>\n",
       "    <tr>\n",
       "      <th>49995</th>\n",
       "      <td>111443</td>\n",
       "      <td>20041005</td>\n",
       "      <td>4.0</td>\n",
       "      <td>4</td>\n",
       "      <td>0.0</td>\n",
       "      <td>NaN</td>\n",
       "      <td>1.0</td>\n",
       "      <td>150</td>\n",
       "      <td>15.0</td>\n",
       "      <td>-</td>\n",
       "      <td>5564</td>\n",
       "      <td>0</td>\n",
       "      <td>0</td>\n",
       "      <td>20160309</td>\n",
       "      <td>46.321013</td>\n",
       "      <td>-3.304401</td>\n",
       "      <td>0.073363</td>\n",
       "      <td>-0.622359</td>\n",
       "      <td>-0.778349</td>\n",
       "      <td>0.263668</td>\n",
       "      <td>0.000292</td>\n",
       "      <td>0.141804</td>\n",
       "      <td>0.076393</td>\n",
       "      <td>0.039272</td>\n",
       "      <td>2.072901</td>\n",
       "      <td>-2.531869</td>\n",
       "      <td>1.716978</td>\n",
       "      <td>-1.063437</td>\n",
       "      <td>0.326587</td>\n",
       "    </tr>\n",
       "    <tr>\n",
       "      <th>49996</th>\n",
       "      <td>152834</td>\n",
       "      <td>20130409</td>\n",
       "      <td>65.0</td>\n",
       "      <td>1</td>\n",
       "      <td>0.0</td>\n",
       "      <td>0.0</td>\n",
       "      <td>0.0</td>\n",
       "      <td>179</td>\n",
       "      <td>4.0</td>\n",
       "      <td>0.0</td>\n",
       "      <td>5220</td>\n",
       "      <td>0</td>\n",
       "      <td>0</td>\n",
       "      <td>20160323</td>\n",
       "      <td>48.086547</td>\n",
       "      <td>-3.318641</td>\n",
       "      <td>0.965881</td>\n",
       "      <td>-2.672160</td>\n",
       "      <td>0.357440</td>\n",
       "      <td>0.255310</td>\n",
       "      <td>0.000991</td>\n",
       "      <td>0.155868</td>\n",
       "      <td>0.108425</td>\n",
       "      <td>0.067841</td>\n",
       "      <td>1.358504</td>\n",
       "      <td>-3.290295</td>\n",
       "      <td>4.269809</td>\n",
       "      <td>0.140524</td>\n",
       "      <td>0.556221</td>\n",
       "    </tr>\n",
       "    <tr>\n",
       "      <th>49997</th>\n",
       "      <td>132531</td>\n",
       "      <td>20041211</td>\n",
       "      <td>4.0</td>\n",
       "      <td>4</td>\n",
       "      <td>0.0</td>\n",
       "      <td>0.0</td>\n",
       "      <td>1.0</td>\n",
       "      <td>147</td>\n",
       "      <td>12.5</td>\n",
       "      <td>0.0</td>\n",
       "      <td>3795</td>\n",
       "      <td>0</td>\n",
       "      <td>0</td>\n",
       "      <td>20160316</td>\n",
       "      <td>46.145279</td>\n",
       "      <td>-3.305263</td>\n",
       "      <td>-0.015283</td>\n",
       "      <td>-0.288329</td>\n",
       "      <td>-0.687112</td>\n",
       "      <td>0.262933</td>\n",
       "      <td>0.000318</td>\n",
       "      <td>0.141872</td>\n",
       "      <td>0.071968</td>\n",
       "      <td>0.042966</td>\n",
       "      <td>2.165658</td>\n",
       "      <td>-2.417885</td>\n",
       "      <td>1.370612</td>\n",
       "      <td>-1.073133</td>\n",
       "      <td>0.270602</td>\n",
       "    </tr>\n",
       "    <tr>\n",
       "      <th>49998</th>\n",
       "      <td>143405</td>\n",
       "      <td>20020702</td>\n",
       "      <td>40.0</td>\n",
       "      <td>1</td>\n",
       "      <td>4.0</td>\n",
       "      <td>0.0</td>\n",
       "      <td>1.0</td>\n",
       "      <td>176</td>\n",
       "      <td>15.0</td>\n",
       "      <td>0.0</td>\n",
       "      <td>61</td>\n",
       "      <td>0</td>\n",
       "      <td>0</td>\n",
       "      <td>20160327</td>\n",
       "      <td>45.507088</td>\n",
       "      <td>-3.197006</td>\n",
       "      <td>-1.141252</td>\n",
       "      <td>-0.434930</td>\n",
       "      <td>-1.845040</td>\n",
       "      <td>0.282106</td>\n",
       "      <td>0.000023</td>\n",
       "      <td>0.067483</td>\n",
       "      <td>0.067526</td>\n",
       "      <td>0.009006</td>\n",
       "      <td>2.030114</td>\n",
       "      <td>-2.939244</td>\n",
       "      <td>0.569078</td>\n",
       "      <td>-1.718245</td>\n",
       "      <td>0.316379</td>\n",
       "    </tr>\n",
       "    <tr>\n",
       "      <th>49999</th>\n",
       "      <td>78202</td>\n",
       "      <td>20090708</td>\n",
       "      <td>32.0</td>\n",
       "      <td>8</td>\n",
       "      <td>1.0</td>\n",
       "      <td>0.0</td>\n",
       "      <td>0.0</td>\n",
       "      <td>0</td>\n",
       "      <td>3.0</td>\n",
       "      <td>0.0</td>\n",
       "      <td>4158</td>\n",
       "      <td>0</td>\n",
       "      <td>0</td>\n",
       "      <td>20160401</td>\n",
       "      <td>44.289471</td>\n",
       "      <td>4.181452</td>\n",
       "      <td>0.547068</td>\n",
       "      <td>-0.775841</td>\n",
       "      <td>1.789601</td>\n",
       "      <td>0.231449</td>\n",
       "      <td>0.103947</td>\n",
       "      <td>0.096027</td>\n",
       "      <td>0.062328</td>\n",
       "      <td>0.110180</td>\n",
       "      <td>-3.689090</td>\n",
       "      <td>2.032376</td>\n",
       "      <td>0.109157</td>\n",
       "      <td>2.202828</td>\n",
       "      <td>0.847469</td>\n",
       "    </tr>\n",
       "  </tbody>\n",
       "</table>\n",
       "<p>50000 rows × 29 columns</p>\n",
       "</div>"
      ],
      "text/plain": [
       "         name   regDate  model  brand  bodyType  fuelType  gearbox  power  \\\n",
       "0      133777  20000501   67.0      0       1.0       0.0      0.0    101   \n",
       "1       61206  19950211   19.0      6       2.0       0.0      0.0     73   \n",
       "2       67829  20090606    5.0      5       4.0       0.0      0.0    120   \n",
       "3        8892  20020601   22.0      9       1.0       0.0      0.0     58   \n",
       "4       76998  20030301   46.0      6       0.0       NaN      0.0    116   \n",
       "...       ...       ...    ...    ...       ...       ...      ...    ...   \n",
       "49995  111443  20041005    4.0      4       0.0       NaN      1.0    150   \n",
       "49996  152834  20130409   65.0      1       0.0       0.0      0.0    179   \n",
       "49997  132531  20041211    4.0      4       0.0       0.0      1.0    147   \n",
       "49998  143405  20020702   40.0      1       4.0       0.0      1.0    176   \n",
       "49999   78202  20090708   32.0      8       1.0       0.0      0.0      0   \n",
       "\n",
       "       kilometer notRepairedDamage  regionCode  seller  offerType  creatDate  \\\n",
       "0           15.0               0.0        5019       0          0   20160308   \n",
       "1            6.0               0.0        1505       0          0   20160310   \n",
       "2            5.0                 -        1776       0          0   20160309   \n",
       "3           15.0               0.0          26       0          0   20160314   \n",
       "4           15.0               0.0         738       0          0   20160306   \n",
       "...          ...               ...         ...     ...        ...        ...   \n",
       "49995       15.0                 -        5564       0          0   20160309   \n",
       "49996        4.0               0.0        5220       0          0   20160323   \n",
       "49997       12.5               0.0        3795       0          0   20160316   \n",
       "49998       15.0               0.0          61       0          0   20160327   \n",
       "49999        3.0               0.0        4158       0          0   20160401   \n",
       "\n",
       "             v_0       v_1       v_2       v_3       v_4       v_5       v_6  \\\n",
       "0      42.142061 -3.094739 -0.721300  1.466344  1.009846  0.236520  0.000241   \n",
       "1      43.907034 -3.244605 -0.766430  1.276718 -1.065338  0.261518  0.000000   \n",
       "2      45.389665  3.372384 -0.965565 -2.447316  0.624268  0.261691  0.090836   \n",
       "3      42.788775  4.035052 -0.217403  1.708806  1.119165  0.236050  0.101777   \n",
       "4      43.670763 -3.135382 -1.134107  0.470315  0.134032  0.257000  0.000000   \n",
       "...          ...       ...       ...       ...       ...       ...       ...   \n",
       "49995  46.321013 -3.304401  0.073363 -0.622359 -0.778349  0.263668  0.000292   \n",
       "49996  48.086547 -3.318641  0.965881 -2.672160  0.357440  0.255310  0.000991   \n",
       "49997  46.145279 -3.305263 -0.015283 -0.288329 -0.687112  0.262933  0.000318   \n",
       "49998  45.507088 -3.197006 -1.141252 -0.434930 -1.845040  0.282106  0.000023   \n",
       "49999  44.289471  4.181452  0.547068 -0.775841  1.789601  0.231449  0.103947   \n",
       "\n",
       "            v_7       v_8       v_9      v_10      v_11      v_12      v_13  \\\n",
       "0      0.105319  0.046233  0.094522  3.619512 -0.280607 -2.019761  0.978828   \n",
       "1      0.120323  0.046784  0.035385  2.997376 -1.406705 -1.020884 -1.349990   \n",
       "2      0.000000  0.079655  0.073586 -3.951084 -0.433467  0.918964  1.634604   \n",
       "3      0.098950  0.026830  0.096614 -2.846788  2.800267 -2.524610  1.076819   \n",
       "4      0.066732  0.057771  0.068852  2.839010 -1.659801 -0.924142  0.199423   \n",
       "...         ...       ...       ...       ...       ...       ...       ...   \n",
       "49995  0.141804  0.076393  0.039272  2.072901 -2.531869  1.716978 -1.063437   \n",
       "49996  0.155868  0.108425  0.067841  1.358504 -3.290295  4.269809  0.140524   \n",
       "49997  0.141872  0.071968  0.042966  2.165658 -2.417885  1.370612 -1.073133   \n",
       "49998  0.067483  0.067526  0.009006  2.030114 -2.939244  0.569078 -1.718245   \n",
       "49999  0.096027  0.062328  0.110180 -3.689090  2.032376  0.109157  2.202828   \n",
       "\n",
       "           v_14  \n",
       "0      0.803322  \n",
       "1     -0.200542  \n",
       "2      1.027173  \n",
       "3      0.461610  \n",
       "4      0.451014  \n",
       "...         ...  \n",
       "49995  0.326587  \n",
       "49996  0.556221  \n",
       "49997  0.270602  \n",
       "49998  0.316379  \n",
       "49999  0.847469  \n",
       "\n",
       "[50000 rows x 29 columns]"
      ]
     },
     "execution_count": 230,
     "metadata": {},
     "output_type": "execute_result"
    }
   ],
   "source": [
    "test"
   ]
  },
  {
   "cell_type": "code",
   "execution_count": 231,
   "metadata": {
    "ExecuteTime": {
     "end_time": "2021-06-10T15:16:12.688995Z",
     "start_time": "2021-06-10T15:16:12.656014Z"
    },
    "scrolled": true
   },
   "outputs": [
    {
     "name": "stdout",
     "output_type": "stream",
     "text": [
      "<class 'pandas.core.frame.DataFrame'>\n",
      "RangeIndex: 150000 entries, 0 to 149999\n",
      "Data columns (total 30 columns):\n",
      " #   Column             Non-Null Count   Dtype  \n",
      "---  ------             --------------   -----  \n",
      " 0   name               150000 non-null  int64  \n",
      " 1   regDate            150000 non-null  int64  \n",
      " 2   model              149999 non-null  float64\n",
      " 3   brand              150000 non-null  int64  \n",
      " 4   bodyType           145494 non-null  float64\n",
      " 5   fuelType           141320 non-null  float64\n",
      " 6   gearbox            144019 non-null  float64\n",
      " 7   power              150000 non-null  int64  \n",
      " 8   kilometer          150000 non-null  float64\n",
      " 9   notRepairedDamage  150000 non-null  object \n",
      " 10  regionCode         150000 non-null  int64  \n",
      " 11  seller             150000 non-null  int64  \n",
      " 12  offerType          150000 non-null  int64  \n",
      " 13  creatDate          150000 non-null  int64  \n",
      " 14  price              150000 non-null  int64  \n",
      " 15  v_0                150000 non-null  float64\n",
      " 16  v_1                150000 non-null  float64\n",
      " 17  v_2                150000 non-null  float64\n",
      " 18  v_3                150000 non-null  float64\n",
      " 19  v_4                150000 non-null  float64\n",
      " 20  v_5                150000 non-null  float64\n",
      " 21  v_6                150000 non-null  float64\n",
      " 22  v_7                150000 non-null  float64\n",
      " 23  v_8                150000 non-null  float64\n",
      " 24  v_9                150000 non-null  float64\n",
      " 25  v_10               150000 non-null  float64\n",
      " 26  v_11               150000 non-null  float64\n",
      " 27  v_12               150000 non-null  float64\n",
      " 28  v_13               150000 non-null  float64\n",
      " 29  v_14               150000 non-null  float64\n",
      "dtypes: float64(20), int64(9), object(1)\n",
      "memory usage: 34.3+ MB\n"
     ]
    }
   ],
   "source": [
    "train.info()"
   ]
  },
  {
   "cell_type": "code",
   "execution_count": 232,
   "metadata": {
    "ExecuteTime": {
     "end_time": "2021-06-10T15:16:13.296091Z",
     "start_time": "2021-06-10T15:16:13.280099Z"
    },
    "scrolled": true
   },
   "outputs": [
    {
     "name": "stdout",
     "output_type": "stream",
     "text": [
      "<class 'pandas.core.frame.DataFrame'>\n",
      "RangeIndex: 50000 entries, 0 to 49999\n",
      "Data columns (total 29 columns):\n",
      " #   Column             Non-Null Count  Dtype  \n",
      "---  ------             --------------  -----  \n",
      " 0   name               50000 non-null  int64  \n",
      " 1   regDate            50000 non-null  int64  \n",
      " 2   model              50000 non-null  float64\n",
      " 3   brand              50000 non-null  int64  \n",
      " 4   bodyType           48496 non-null  float64\n",
      " 5   fuelType           47076 non-null  float64\n",
      " 6   gearbox            48032 non-null  float64\n",
      " 7   power              50000 non-null  int64  \n",
      " 8   kilometer          50000 non-null  float64\n",
      " 9   notRepairedDamage  50000 non-null  object \n",
      " 10  regionCode         50000 non-null  int64  \n",
      " 11  seller             50000 non-null  int64  \n",
      " 12  offerType          50000 non-null  int64  \n",
      " 13  creatDate          50000 non-null  int64  \n",
      " 14  v_0                50000 non-null  float64\n",
      " 15  v_1                50000 non-null  float64\n",
      " 16  v_2                50000 non-null  float64\n",
      " 17  v_3                50000 non-null  float64\n",
      " 18  v_4                50000 non-null  float64\n",
      " 19  v_5                50000 non-null  float64\n",
      " 20  v_6                50000 non-null  float64\n",
      " 21  v_7                50000 non-null  float64\n",
      " 22  v_8                50000 non-null  float64\n",
      " 23  v_9                50000 non-null  float64\n",
      " 24  v_10               50000 non-null  float64\n",
      " 25  v_11               50000 non-null  float64\n",
      " 26  v_12               50000 non-null  float64\n",
      " 27  v_13               50000 non-null  float64\n",
      " 28  v_14               50000 non-null  float64\n",
      "dtypes: float64(20), int64(8), object(1)\n",
      "memory usage: 11.1+ MB\n"
     ]
    }
   ],
   "source": [
    "test.info()"
   ]
  },
  {
   "cell_type": "markdown",
   "metadata": {},
   "source": [
    "# 数据预处理"
   ]
  },
  {
   "cell_type": "markdown",
   "metadata": {},
   "source": [
    "## 数据清洗\n",
    "1. 空值转换\n",
    "2. 数据类型转换"
   ]
  },
  {
   "cell_type": "code",
   "execution_count": 233,
   "metadata": {
    "ExecuteTime": {
     "end_time": "2021-06-10T15:16:14.633005Z",
     "start_time": "2021-06-10T15:16:14.583021Z"
    }
   },
   "outputs": [
    {
     "data": {
      "text/plain": [
       "(array([ 0., nan,  1.]), array([ 0., nan,  1.]))"
      ]
     },
     "execution_count": 233,
     "metadata": {},
     "output_type": "execute_result"
    }
   ],
   "source": [
    "# 转换'-'\n",
    "train['notRepairedDamage'] = train['notRepairedDamage'].replace('-', np.nan) \n",
    "test['notRepairedDamage'] = test['notRepairedDamage'].replace('-', np.nan)\n",
    "\n",
    "# 转换数据类型\n",
    "train['notRepairedDamage'] = train['notRepairedDamage'].astype('float64')\n",
    "test['notRepairedDamage'] = test['notRepairedDamage'].astype('float64')\n",
    "\n",
    "# 检查是否转换成功\n",
    "train['notRepairedDamage'].unique(), test['notRepairedDamage'].unique()"
   ]
  },
  {
   "cell_type": "markdown",
   "metadata": {},
   "source": [
    "## 日期数据清洗\n",
    "1. 日期数据不合法：将int => str   str => datetime  当存在非法日期时，string是无法转换到datetime的"
   ]
  },
  {
   "cell_type": "code",
   "execution_count": 234,
   "metadata": {
    "ExecuteTime": {
     "end_time": "2021-06-10T15:16:15.796887Z",
     "start_time": "2021-06-10T15:16:15.750913Z"
    },
    "scrolled": true
   },
   "outputs": [
    {
     "name": "stdout",
     "output_type": "stream",
     "text": [
      "        creatDate   regDate\n",
      "0        20160404  20040402\n",
      "1        20160309  20030301\n",
      "2        20160402  20040403\n",
      "3        20160312  19960908\n",
      "4        20160313  20120103\n",
      "...           ...       ...\n",
      "149995   20160327  20000607\n",
      "149996   20160312  20091102\n",
      "149997   20160328  20101003\n",
      "149998   20160401  20060312\n",
      "149999   20160305  19990204\n",
      "\n",
      "[150000 rows x 2 columns]\n",
      "       creatDate   regDate\n",
      "0       20160308  20000501\n",
      "1       20160310  19950211\n",
      "2       20160309  20090606\n",
      "3       20160314  20020601\n",
      "4       20160306  20030301\n",
      "...          ...       ...\n",
      "49995   20160309  20041005\n",
      "49996   20160323  20130409\n",
      "49997   20160316  20041211\n",
      "49998   20160327  20020702\n",
      "49999   20160401  20090708\n",
      "\n",
      "[50000 rows x 2 columns]\n"
     ]
    }
   ],
   "source": [
    "print(train[['creatDate','regDate']])\n",
    "print(test[['creatDate','regDate']])"
   ]
  },
  {
   "cell_type": "code",
   "execution_count": 235,
   "metadata": {
    "ExecuteTime": {
     "end_time": "2021-06-10T15:16:16.222371Z",
     "start_time": "2021-06-10T15:16:16.216376Z"
    }
   },
   "outputs": [
    {
     "name": "stdout",
     "output_type": "stream",
     "text": [
      "<class 'numpy.int64'> <class 'numpy.int64'>\n",
      "<class 'numpy.int64'> <class 'numpy.int64'>\n"
     ]
    }
   ],
   "source": [
    "# 日期是int类型\n",
    "print(type(train[\"creatDate\"][0]), type(train[\"regDate\"][0]))\n",
    "print(type(test[\"creatDate\"][0]), type(test[\"regDate\"][0]))"
   ]
  },
  {
   "cell_type": "code",
   "execution_count": 236,
   "metadata": {
    "ExecuteTime": {
     "end_time": "2021-06-10T15:16:19.085363Z",
     "start_time": "2021-06-10T15:16:19.080352Z"
    }
   },
   "outputs": [],
   "source": [
    "cnt = 0\n",
    "def date_process(x):\n",
    "    year = int(str(x)[:4])\n",
    "    month = int(str(x)[4:6])\n",
    "    day = int(str(x)[6:8])\n",
    "    global cnt\n",
    "    if month < 1:\n",
    "        month = 7\n",
    "        cnt = cnt + 1\n",
    "    date = datetime(year, month, day)\n",
    "    return date"
   ]
  },
  {
   "cell_type": "code",
   "execution_count": 237,
   "metadata": {
    "ExecuteTime": {
     "end_time": "2021-06-10T15:16:34.738959Z",
     "start_time": "2021-06-10T15:16:34.448647Z"
    }
   },
   "outputs": [
    {
     "data": {
      "text/plain": [
       "11347"
      ]
     },
     "execution_count": 237,
     "metadata": {},
     "output_type": "execute_result"
    }
   ],
   "source": [
    "train['regDate'] = train['regDate'].apply(date_process)\n",
    "cnt"
   ]
  },
  {
   "cell_type": "code",
   "execution_count": 238,
   "metadata": {
    "ExecuteTime": {
     "end_time": "2021-06-10T15:16:35.282903Z",
     "start_time": "2021-06-10T15:16:35.178976Z"
    }
   },
   "outputs": [
    {
     "data": {
      "text/plain": [
       "15083"
      ]
     },
     "execution_count": 238,
     "metadata": {},
     "output_type": "execute_result"
    }
   ],
   "source": [
    "test['regDate'] = test['regDate'].apply(date_process)\n",
    "cnt"
   ]
  },
  {
   "cell_type": "code",
   "execution_count": 150,
   "metadata": {
    "ExecuteTime": {
     "end_time": "2021-06-10T02:58:28.335041Z",
     "start_time": "2021-06-10T02:58:27.131888Z"
    }
   },
   "outputs": [
    {
     "name": "stdout",
     "output_type": "stream",
     "text": [
      "<class 'pandas._libs.tslibs.timestamps.Timestamp'> <class 'pandas._libs.tslibs.timestamps.Timestamp'>\n",
      "<class 'pandas._libs.tslibs.timestamps.Timestamp'> <class 'pandas._libs.tslibs.timestamps.Timestamp'>\n"
     ]
    }
   ],
   "source": [
    "# apply()是将自定义函数作用到Series或者DataFrame中\n",
    "train['creatDate'] = train['creatDate'].apply(date_process)\n",
    "train['regDate'] = train['regDate'].apply(date_process)\n",
    "test['creatDate'] = test['creatDate'].apply(date_process)\n",
    "test['regDate'] = test['regDate'].apply(date_process)\n",
    "print(type(train[\"creatDate\"][0]), type(train[\"regDate\"][0]))\n",
    "print(type(test[\"creatDate\"][0]), type(test[\"regDate\"][0]))"
   ]
  },
  {
   "cell_type": "code",
   "execution_count": 151,
   "metadata": {
    "ExecuteTime": {
     "end_time": "2021-06-10T02:58:28.353031Z",
     "start_time": "2021-06-10T02:58:28.336041Z"
    }
   },
   "outputs": [
    {
     "data": {
      "text/html": [
       "<div>\n",
       "<style scoped>\n",
       "    .dataframe tbody tr th:only-of-type {\n",
       "        vertical-align: middle;\n",
       "    }\n",
       "\n",
       "    .dataframe tbody tr th {\n",
       "        vertical-align: top;\n",
       "    }\n",
       "\n",
       "    .dataframe thead th {\n",
       "        text-align: right;\n",
       "    }\n",
       "</style>\n",
       "<table border=\"1\" class=\"dataframe\">\n",
       "  <thead>\n",
       "    <tr style=\"text-align: right;\">\n",
       "      <th></th>\n",
       "      <th>creatDate</th>\n",
       "      <th>regDate</th>\n",
       "    </tr>\n",
       "  </thead>\n",
       "  <tbody>\n",
       "    <tr>\n",
       "      <th>0</th>\n",
       "      <td>2016-04-04</td>\n",
       "      <td>2004-04-02</td>\n",
       "    </tr>\n",
       "    <tr>\n",
       "      <th>1</th>\n",
       "      <td>2016-03-09</td>\n",
       "      <td>2003-03-01</td>\n",
       "    </tr>\n",
       "    <tr>\n",
       "      <th>2</th>\n",
       "      <td>2016-04-02</td>\n",
       "      <td>2004-04-03</td>\n",
       "    </tr>\n",
       "    <tr>\n",
       "      <th>3</th>\n",
       "      <td>2016-03-12</td>\n",
       "      <td>1996-09-08</td>\n",
       "    </tr>\n",
       "    <tr>\n",
       "      <th>4</th>\n",
       "      <td>2016-03-13</td>\n",
       "      <td>2012-01-03</td>\n",
       "    </tr>\n",
       "    <tr>\n",
       "      <th>...</th>\n",
       "      <td>...</td>\n",
       "      <td>...</td>\n",
       "    </tr>\n",
       "    <tr>\n",
       "      <th>149995</th>\n",
       "      <td>2016-03-27</td>\n",
       "      <td>2000-06-07</td>\n",
       "    </tr>\n",
       "    <tr>\n",
       "      <th>149996</th>\n",
       "      <td>2016-03-12</td>\n",
       "      <td>2009-11-02</td>\n",
       "    </tr>\n",
       "    <tr>\n",
       "      <th>149997</th>\n",
       "      <td>2016-03-28</td>\n",
       "      <td>2010-10-03</td>\n",
       "    </tr>\n",
       "    <tr>\n",
       "      <th>149998</th>\n",
       "      <td>2016-04-01</td>\n",
       "      <td>2006-03-12</td>\n",
       "    </tr>\n",
       "    <tr>\n",
       "      <th>149999</th>\n",
       "      <td>2016-03-05</td>\n",
       "      <td>1999-02-04</td>\n",
       "    </tr>\n",
       "  </tbody>\n",
       "</table>\n",
       "<p>150000 rows × 2 columns</p>\n",
       "</div>"
      ],
      "text/plain": [
       "        creatDate    regDate\n",
       "0      2016-04-04 2004-04-02\n",
       "1      2016-03-09 2003-03-01\n",
       "2      2016-04-02 2004-04-03\n",
       "3      2016-03-12 1996-09-08\n",
       "4      2016-03-13 2012-01-03\n",
       "...           ...        ...\n",
       "149995 2016-03-27 2000-06-07\n",
       "149996 2016-03-12 2009-11-02\n",
       "149997 2016-03-28 2010-10-03\n",
       "149998 2016-04-01 2006-03-12\n",
       "149999 2016-03-05 1999-02-04\n",
       "\n",
       "[150000 rows x 2 columns]"
      ]
     },
     "execution_count": 151,
     "metadata": {},
     "output_type": "execute_result"
    }
   ],
   "source": [
    "train[['creatDate', 'regDate']]"
   ]
  },
  {
   "cell_type": "code",
   "execution_count": 152,
   "metadata": {
    "ExecuteTime": {
     "end_time": "2021-06-10T02:58:28.444979Z",
     "start_time": "2021-06-10T02:58:28.355030Z"
    }
   },
   "outputs": [],
   "source": [
    "# 原始列：int -> str\n",
    "# train[\"creatDate\"] = train[\"creatDate\"].astype(str)\n",
    "# train[\"regDate\"] = train[\"regDate\"].astype(str)\n",
    "# test[\"creatDate\"] = test[\"creatDate\"].astype(str)\n",
    "# test[\"regDate\"] = test[\"regDate\"].astype(str)\n",
    "# print(type(train[\"creatDate\"][0]), type(train[\"regDate\"][0]))\n",
    "# print(type(test[\"creatDate\"][0]), type(test[\"regDate\"][0]))"
   ]
  },
  {
   "cell_type": "code",
   "execution_count": 153,
   "metadata": {
    "ExecuteTime": {
     "end_time": "2021-06-10T02:58:28.526932Z",
     "start_time": "2021-06-10T02:58:28.445978Z"
    }
   },
   "outputs": [],
   "source": [
    "# 训练集：查看regDate中不合法的日期\n",
    "# train_err_regDate = pd.DataFrame()\n",
    "# temp = []\n",
    "# for i in range(len(train[\"regDate\"])): # len(train[\"regDate\"])\n",
    "#     if(train[\"regDate\"][i][4:6] == \"00\"):\n",
    "#         temp.append(train.iloc[i])\n",
    "#     if(train[\"regDate\"][i][6:8] == \"00\"):\n",
    "#         print(\"day error!\")\n",
    "#         temp.append(train.iloc[i])\n",
    "# train_err_regDate = train_err_regDate.append(temp)\n",
    "# print(len(temp)) # 共有11347条数据\n",
    "# print(train_err_regDate)"
   ]
  },
  {
   "cell_type": "code",
   "execution_count": 154,
   "metadata": {
    "ExecuteTime": {
     "end_time": "2021-06-10T02:58:28.661856Z",
     "start_time": "2021-06-10T02:58:28.527932Z"
    }
   },
   "outputs": [],
   "source": [
    "# 测试集：查看regDate中不合法的日期\n",
    "# test_err_regDate = pd.DataFrame()\n",
    "# temp = []\n",
    "# for i in range(len(test[\"regDate\"])): # len(train[\"regDate\"])\n",
    "#     if(test[\"regDate\"][i][4:6] == \"00\"):\n",
    "#         temp.append(test.iloc[i])\n",
    "#     if(test[\"regDate\"][i][6:8] == \"00\"):\n",
    "#         print(\"day error!\")\n",
    "#         temp.append(test.iloc[i])\n",
    "# test_err_regDate = test_err_regDate.append(temp)\n",
    "# print(len(temp)) # 共有11347条数据\n",
    "# print(test_err_regDate)"
   ]
  },
  {
   "cell_type": "code",
   "execution_count": 155,
   "metadata": {
    "ExecuteTime": {
     "end_time": "2021-06-10T02:58:28.791782Z",
     "start_time": "2021-06-10T02:58:28.662855Z"
    }
   },
   "outputs": [],
   "source": [
    "# 训练集：将train_err_regDate中做替换，将其中的不合法日期，00月替换为7月\n",
    "# print(\"Train Dealing...\")\n",
    "# train_index_list = list(train_err_regDate.index)\n",
    "# for i in range(len(train_index_list)):\n",
    "#     train_err_regDate.loc[train_index_list[i], \"regDate\"] = train_err_regDate.iloc[i][\"regDate\"][:4] + \"07\" + train_err_regDate.iloc[i][\"regDate\"][6:]\n",
    "#     train.loc[train_index_list[i], \"regDate\"] = train_err_regDate.loc[train_index_list[i], \"regDate\"]\n",
    "# train_err_regDate\n",
    "# print(\"Success\")"
   ]
  },
  {
   "cell_type": "code",
   "execution_count": 156,
   "metadata": {
    "ExecuteTime": {
     "end_time": "2021-06-10T02:58:28.891724Z",
     "start_time": "2021-06-10T02:58:28.793780Z"
    }
   },
   "outputs": [],
   "source": [
    "# 测试集：将test_err_regDate中做替换，将其中的不合法日期，00月替换为7月\n",
    "# print(\"test Dealing...\")\n",
    "# test_index_list = list(test_err_regDate.index)\n",
    "# for i in range(len(test_index_list)):\n",
    "#     test_err_regDate.loc[test_index_list[i], \"regDate\"] = test_err_regDate.iloc[i][\"regDate\"][:4] + \"07\" + test_err_regDate.iloc[i][\"regDate\"][6:]\n",
    "#     test.loc[test_index_list[i], \"regDate\"] = test_err_regDate.loc[test_index_list[i], \"regDate\"]\n",
    "# test_err_regDate\n",
    "# print(\"Success\")"
   ]
  },
  {
   "cell_type": "code",
   "execution_count": 157,
   "metadata": {
    "ExecuteTime": {
     "end_time": "2021-06-10T02:58:29.010491Z",
     "start_time": "2021-06-10T02:58:28.893723Z"
    }
   },
   "outputs": [],
   "source": [
    "# 训练集：str => datetime\n",
    "# 将creatDate，regDate的str类型的日期转换为datetime类型\n",
    "# train['creatDate'] = pd.to_datetime(train['creatDate'])\n",
    "# train['regDate'] = pd.to_datetime(train['regDate'])\n",
    "# print(type(train[\"creatDate\"][0]))\n",
    "# print(train[\"creatDate\"])\n",
    "# print(type(train[\"regDate\"][0]))\n",
    "# print(train[\"regDate\"])"
   ]
  },
  {
   "cell_type": "code",
   "execution_count": 158,
   "metadata": {
    "ExecuteTime": {
     "end_time": "2021-06-10T02:58:29.171399Z",
     "start_time": "2021-06-10T02:58:29.011489Z"
    }
   },
   "outputs": [],
   "source": [
    "# 测试集：str => datetime\n",
    "# 将creatDate，regDate的str类型的日期转换为datetime类型\n",
    "# test['creatDate'] = pd.to_datetime(test['creatDate'])\n",
    "# test['regDate'] = pd.to_datetime(test['regDate'])\n",
    "# print(type(test[\"creatDate\"][0]))\n",
    "# print(test[\"creatDate\"])\n",
    "# print(type(test[\"regDate\"][0]))\n",
    "# print(test[\"regDate\"])"
   ]
  },
  {
   "cell_type": "markdown",
   "metadata": {},
   "source": [
    "## 数据倾斜和数据分布"
   ]
  },
  {
   "cell_type": "code",
   "execution_count": 159,
   "metadata": {
    "ExecuteTime": {
     "end_time": "2021-06-10T02:58:31.149009Z",
     "start_time": "2021-06-10T02:58:29.172398Z"
    }
   },
   "outputs": [
    {
     "name": "stdout",
     "output_type": "stream",
     "text": [
      "查看数据分布：\n",
      "75723       1\n",
      "92583       1\n",
      "72105       1\n",
      "61844       1\n",
      "195029      1\n",
      "         ... \n",
      "203       233\n",
      "1541      263\n",
      "55        280\n",
      "708       282\n",
      "387       282\n",
      "Name: name, Length: 99662, dtype: int64\n",
      "\n",
      "\n",
      "1991-12-11      1\n",
      "2015-11-06      1\n",
      "2015-12-12      1\n",
      "2015-12-09      1\n",
      "2015-12-01      1\n",
      "             ... \n",
      "2000-07-02    209\n",
      "2000-07-04    212\n",
      "2000-07-01    212\n",
      "2000-07-10    222\n",
      "2000-07-08    230\n",
      "Name: regDate, Length: 3597, dtype: int64\n",
      "\n",
      "\n",
      "247.0        1\n",
      "242.0        2\n",
      "240.0        2\n",
      "245.0        2\n",
      "209.0        2\n",
      "         ...  \n",
      "29.0      5186\n",
      "1.0       6038\n",
      "4.0       8445\n",
      "19.0      9573\n",
      "0.0      11762\n",
      "Name: model, Length: 248, dtype: int64\n",
      "\n",
      "\n",
      "39        9\n",
      "38       65\n",
      "35      180\n",
      "23      186\n",
      "33      218\n",
      "34      227\n",
      "36      228\n",
      "18      316\n",
      "31      318\n",
      "2       321\n",
      "37      333\n",
      "29      406\n",
      "32      592\n",
      "28      649\n",
      "24      772\n",
      "17      913\n",
      "30      940\n",
      "26      966\n",
      "22     1085\n",
      "12     1109\n",
      "20     1236\n",
      "19     1388\n",
      "15     1458\n",
      "21     1547\n",
      "27     2053\n",
      "25     2064\n",
      "8      2077\n",
      "16     2223\n",
      "7      2361\n",
      "3      2461\n",
      "11     2945\n",
      "13     3817\n",
      "5      4665\n",
      "9      7306\n",
      "6     10217\n",
      "1     13794\n",
      "10    14249\n",
      "14    16089\n",
      "4     16737\n",
      "0     31480\n",
      "Name: brand, dtype: int64\n",
      "\n",
      "\n",
      "7.0     1289\n",
      "6.0     6482\n",
      "5.0     7607\n",
      "4.0     9609\n",
      "3.0    13491\n",
      "2.0    30324\n",
      "1.0    35272\n",
      "0.0    41420\n",
      "Name: bodyType, dtype: int64\n",
      "\n",
      "\n",
      "6.0       36\n",
      "5.0       45\n",
      "4.0      118\n",
      "3.0      262\n",
      "2.0     2212\n",
      "1.0    46991\n",
      "0.0    91656\n",
      "Name: fuelType, dtype: int64\n",
      "\n",
      "\n",
      "1.0     32396\n",
      "0.0    111623\n",
      "Name: gearbox, dtype: int64\n",
      "\n",
      "\n",
      "3454         1\n",
      "36           1\n",
      "35           1\n",
      "17322        1\n",
      "801          1\n",
      "         ...  \n",
      "140       5963\n",
      "60        6374\n",
      "150       6495\n",
      "75        9593\n",
      "0        12829\n",
      "Name: power, Length: 566, dtype: int64\n",
      "\n",
      "\n",
      "1.0       746\n",
      "0.5      1840\n",
      "2.0      2354\n",
      "3.0      2501\n",
      "4.0      2718\n",
      "5.0      3144\n",
      "6.0      3725\n",
      "7.0      4084\n",
      "8.0      4573\n",
      "9.0      5257\n",
      "10.0     6459\n",
      "12.5    15722\n",
      "15.0    96877\n",
      "Name: kilometer, dtype: int64\n",
      "\n",
      "\n",
      "1.0     14315\n",
      "0.0    111361\n",
      "Name: notRepairedDamage, dtype: int64\n",
      "\n",
      "\n",
      "7960      1\n",
      "7472      1\n",
      "7858      1\n",
      "3916      1\n",
      "4715      1\n",
      "       ... \n",
      "462     134\n",
      "176     136\n",
      "125     137\n",
      "764     258\n",
      "419     369\n",
      "Name: regionCode, Length: 7905, dtype: int64\n",
      "\n",
      "\n",
      "1         1\n",
      "0    149999\n",
      "Name: seller, dtype: int64\n",
      "\n",
      "\n",
      "0    150000\n",
      "Name: offerType, dtype: int64\n",
      "\n",
      "\n",
      "2016-02-13       1\n",
      "2016-02-04       1\n",
      "2015-12-27       1\n",
      "2015-11-12       1\n",
      "2015-08-07       1\n",
      "              ... \n",
      "2016-04-02    5382\n",
      "2016-03-12    5383\n",
      "2016-03-20    5485\n",
      "2016-04-04    5606\n",
      "2016-04-03    5848\n",
      "Name: creatDate, Length: 96, dtype: int64\n",
      "\n",
      "\n",
      "8188        1\n",
      "41700       1\n",
      "63990       1\n",
      "5994        1\n",
      "73900       1\n",
      "         ... \n",
      "2500     1821\n",
      "1000     1850\n",
      "1200     1922\n",
      "1500     2158\n",
      "500      2337\n",
      "Name: price, Length: 3763, dtype: int64\n",
      "\n",
      "\n",
      "34.826049     1\n",
      "47.905805     1\n",
      "46.938132     1\n",
      "43.731120     1\n",
      "46.146023     1\n",
      "             ..\n",
      "48.251430    15\n",
      "47.568450    15\n",
      "48.618150    15\n",
      "48.087217    16\n",
      "45.349115    20\n",
      "Name: v_0, Length: 143997, dtype: int64\n",
      "\n",
      "\n",
      " 4.485518     1\n",
      "-3.303914     1\n",
      " 4.530535     1\n",
      "-3.137987     1\n",
      "-3.296546     1\n",
      "             ..\n",
      " 3.116688    15\n",
      " 2.796739    15\n",
      " 1.942732    15\n",
      " 3.183323    16\n",
      "-3.245133    20\n",
      "Name: v_1, Length: 143998, dtype: int64\n",
      "\n",
      "\n",
      " 0.071583     1\n",
      "-0.296988     1\n",
      "-1.285755     1\n",
      " 0.873689     1\n",
      "-1.785959     1\n",
      "             ..\n",
      " 0.887762    15\n",
      "-0.158364    15\n",
      " 0.030708    15\n",
      " 0.826577    16\n",
      "-0.349860    20\n",
      "Name: v_2, Length: 143997, dtype: int64\n",
      "\n",
      "\n",
      "-2.217724     1\n",
      "-0.339922     1\n",
      "-0.127912     1\n",
      "-1.620261     1\n",
      "-1.656820     1\n",
      "             ..\n",
      "-1.612432    15\n",
      "-1.382756    15\n",
      "-1.619873    15\n",
      "-1.312990    16\n",
      "-0.218201    20\n",
      "Name: v_3, Length: 143998, dtype: int64\n",
      "\n",
      "\n",
      "-1.384736     1\n",
      " 0.929032     1\n",
      "-1.344090     1\n",
      " 1.469310     1\n",
      " 0.585032     1\n",
      "             ..\n",
      "-0.365900    15\n",
      "-0.364986    15\n",
      " 1.235458    15\n",
      " 0.696775    16\n",
      "-1.626828    20\n",
      "Name: v_4, Length: 143998, dtype: int64\n",
      "\n",
      "\n",
      "0.268790       1\n",
      "0.234501       1\n",
      "0.264685       1\n",
      "0.266722       1\n",
      "0.263597       1\n",
      "            ... \n",
      "0.277097      15\n",
      "0.265764      15\n",
      "0.256226      16\n",
      "0.269406      20\n",
      "0.000000    4485\n",
      "Name: v_5, Length: 139624, dtype: int64\n",
      "\n",
      "\n",
      "0.110220        1\n",
      "0.000471        1\n",
      "0.107419        1\n",
      "0.104186        1\n",
      "0.129745        1\n",
      "            ...  \n",
      "0.075212       15\n",
      "0.095029       15\n",
      "0.093472       16\n",
      "0.000053       20\n",
      "0.000000    35465\n",
      "Name: v_6, Length: 109766, dtype: int64\n",
      "\n",
      "\n",
      "0.118362       1\n",
      "0.164165       1\n",
      "0.084299       1\n",
      "0.067583       1\n",
      "0.079763       1\n",
      "            ... \n",
      "0.139667      15\n",
      "0.140907      15\n",
      "0.130272      16\n",
      "0.124213      20\n",
      "0.000000    5467\n",
      "Name: v_7, Length: 138709, dtype: int64\n",
      "\n",
      "\n",
      "0.095557       1\n",
      "0.095202       1\n",
      "0.032373       1\n",
      "0.035083       1\n",
      "0.003011       1\n",
      "            ... \n",
      "0.073268      15\n",
      "0.084696      15\n",
      "0.074742      16\n",
      "0.067358      20\n",
      "0.000000    1597\n",
      "Name: v_8, Length: 142451, dtype: int64\n",
      "\n",
      "\n",
      "0.066807       1\n",
      "0.095983       1\n",
      "0.040357       1\n",
      "0.022153       1\n",
      "0.054547       1\n",
      "            ... \n",
      "0.101150      15\n",
      "0.045877      15\n",
      "0.082765      16\n",
      "0.014867      20\n",
      "0.000000    3486\n",
      "Name: v_9, Length: 140617, dtype: int64\n",
      "\n",
      "\n",
      " 3.516802     1\n",
      " 1.629730     1\n",
      "-5.325048     1\n",
      "-5.885188     1\n",
      "-2.255612     1\n",
      "             ..\n",
      "-4.757359    15\n",
      "-4.383929    15\n",
      "-3.163236    15\n",
      "-4.303481    16\n",
      " 2.329386    20\n",
      "Name: v_10, Length: 143997, dtype: int64\n",
      "\n",
      "\n",
      "-2.920602     1\n",
      " 2.784188     1\n",
      "-0.555346     1\n",
      "-1.189480     1\n",
      "-3.153646     1\n",
      "             ..\n",
      "-0.079872    15\n",
      "-1.107940    15\n",
      "-0.802614    15\n",
      "-0.330053    16\n",
      "-2.255591    20\n",
      "Name: v_11, Length: 143997, dtype: int64\n",
      "\n",
      "\n",
      " 3.617146     1\n",
      " 0.806394     1\n",
      "-2.773192     1\n",
      "-2.528965     1\n",
      "-2.420058     1\n",
      "             ..\n",
      " 2.104470    15\n",
      " 2.375256    15\n",
      " 3.097963    15\n",
      " 2.486297    16\n",
      " 0.847433    20\n",
      "Name: v_12, Length: 143997, dtype: int64\n",
      "\n",
      "\n",
      " 0.964782     1\n",
      "-1.828467     1\n",
      " 0.137560     1\n",
      "-1.265563     1\n",
      " 0.869138     1\n",
      "             ..\n",
      " 0.548697    15\n",
      "-0.834697    15\n",
      "-0.367855    15\n",
      "-0.043463    16\n",
      "-1.698497    20\n",
      "Name: v_13, Length: 143998, dtype: int64\n",
      "\n",
      "\n",
      " 0.325958     1\n",
      " 0.590444     1\n",
      "-1.132830     1\n",
      "-0.774890     1\n",
      " 0.116834     1\n",
      "             ..\n",
      "-1.330412    15\n",
      "-3.059444    15\n",
      " 1.027487    15\n",
      "-2.290344    16\n",
      " 0.003015    20\n",
      "Name: v_14, Length: 143998, dtype: int64\n",
      "\n",
      "\n"
     ]
    }
   ],
   "source": [
    "print(\"查看数据分布：\")\n",
    "for col in pd.Series(train.columns):\n",
    "    print(train[col].value_counts().sort_values())\n",
    "    print(\"\\n\")  \n",
    "# 发现power的数据范围存在问题\n",
    "# seller数据倾斜\n",
    "# offerType均相同"
   ]
  },
  {
   "cell_type": "markdown",
   "metadata": {},
   "source": [
    "### seller和offerType数据倾斜问题"
   ]
  },
  {
   "cell_type": "code",
   "execution_count": 160,
   "metadata": {
    "ExecuteTime": {
     "end_time": "2021-06-10T02:58:31.179991Z",
     "start_time": "2021-06-10T02:58:31.151007Z"
    }
   },
   "outputs": [
    {
     "data": {
      "text/plain": [
       "0    149999\n",
       "1         1\n",
       "Name: seller, dtype: int64"
      ]
     },
     "execution_count": 160,
     "metadata": {},
     "output_type": "execute_result"
    }
   ],
   "source": [
    "# 发现seller特征在训练集和测试集中偏斜极其严重，对预测没有帮助，删去\n",
    "train['seller'].value_counts()"
   ]
  },
  {
   "cell_type": "code",
   "execution_count": 161,
   "metadata": {
    "ExecuteTime": {
     "end_time": "2021-06-10T02:58:31.300922Z",
     "start_time": "2021-06-10T02:58:31.180990Z"
    }
   },
   "outputs": [],
   "source": [
    "train.drop(['seller'], axis=1, inplace=True)\n",
    "test.drop(['seller'], axis=1, inplace=True)"
   ]
  },
  {
   "cell_type": "code",
   "execution_count": 162,
   "metadata": {
    "ExecuteTime": {
     "end_time": "2021-06-10T02:58:31.462351Z",
     "start_time": "2021-06-10T02:58:31.301921Z"
    }
   },
   "outputs": [
    {
     "data": {
      "text/plain": [
       "0    150000\n",
       "Name: offerType, dtype: int64"
      ]
     },
     "execution_count": 162,
     "metadata": {},
     "output_type": "execute_result"
    }
   ],
   "source": [
    "# 发现两个数据集的offerType列全为0，删去。\n",
    "train['offerType'].value_counts()"
   ]
  },
  {
   "cell_type": "code",
   "execution_count": 163,
   "metadata": {
    "ExecuteTime": {
     "end_time": "2021-06-10T02:58:31.631257Z",
     "start_time": "2021-06-10T02:58:31.463351Z"
    }
   },
   "outputs": [],
   "source": [
    "train = train.drop(['offerType'], axis=1)\n",
    "test = test.drop(['offerType'], axis=1)"
   ]
  },
  {
   "cell_type": "markdown",
   "metadata": {},
   "source": [
    "### power数据范围的问题\n",
    "power与price之间的相关性系数为0.566101，不能完全忽略\n",
    "\n",
    "处理策略：\n",
    "1. 中位数，平均数修改\n",
    "2. 随机森林填补"
   ]
  },
  {
   "cell_type": "code",
   "execution_count": 164,
   "metadata": {
    "ExecuteTime": {
     "end_time": "2021-06-10T02:58:32.077418Z",
     "start_time": "2021-06-10T02:58:31.632255Z"
    }
   },
   "outputs": [
    {
     "data": {
      "text/plain": [
       "<AxesSubplot:ylabel='Frequency'>"
      ]
     },
     "execution_count": 164,
     "metadata": {},
     "output_type": "execute_result"
    },
    {
     "data": {
      "image/png": "[encoded data removed]",
      "text/plain": [
       "<Figure size 432x288 with 1 Axes>"
      ]
     },
     "metadata": {
      "needs_background": "light"
     },
     "output_type": "display_data"
    }
   ],
   "source": [
    "train['power'].plot.hist()\n",
    "test['power'].plot.hist()"
   ]
  },
  {
   "cell_type": "code",
   "execution_count": 165,
   "metadata": {
    "ExecuteTime": {
     "end_time": "2021-06-10T02:58:32.104403Z",
     "start_time": "2021-06-10T02:58:32.078417Z"
    },
    "scrolled": true
   },
   "outputs": [
    {
     "data": {
      "text/plain": [
       "601    2\n",
       "602    1\n",
       "603    2\n",
       "604    1\n",
       "610    2\n",
       "612    4\n",
       "620    1\n",
       "625    1\n",
       "629    1\n",
       "631    1\n",
       "650    1\n",
       "676    1\n",
       "678    1\n",
       "680    1\n",
       "732    1\n",
       "740    1\n",
       "751    1\n",
       "776    1\n",
       "800    1\n",
       "801    1\n",
       "Name: power, dtype: int64"
      ]
     },
     "execution_count": 165,
     "metadata": {},
     "output_type": "execute_result"
    }
   ],
   "source": [
    "# 查看power值大于600的数据分布情况\n",
    "train[train['power'] > 600]['power'].value_counts().sort_index().head(20)"
   ]
  },
  {
   "cell_type": "code",
   "execution_count": 166,
   "metadata": {
    "ExecuteTime": {
     "end_time": "2021-06-10T02:58:32.195351Z",
     "start_time": "2021-06-10T02:58:32.106402Z"
    },
    "scrolled": true
   },
   "outputs": [
    {
     "data": {
      "text/plain": [
       "603      1\n",
       "612      1\n",
       "620      1\n",
       "629      1\n",
       "650      1\n",
       "700      2\n",
       "703      1\n",
       "751      1\n",
       "771      1\n",
       "999      1\n",
       "1000     1\n",
       "1001     1\n",
       "1002     1\n",
       "1016     1\n",
       "1024     1\n",
       "1055     1\n",
       "1056     1\n",
       "1100     1\n",
       "1103     1\n",
       "1200     1\n",
       "1221     1\n",
       "1230     1\n",
       "1275     1\n",
       "1400     1\n",
       "1405     1\n",
       "1548     1\n",
       "1598     1\n",
       "1600     1\n",
       "1704     1\n",
       "1707     1\n",
       "1800     1\n",
       "2004     1\n",
       "2007     1\n",
       "2009     1\n",
       "2016     1\n",
       "2018     1\n",
       "3750     1\n",
       "4400     1\n",
       "6006     1\n",
       "6010     1\n",
       "9007     1\n",
       "9013     1\n",
       "10522    1\n",
       "11011    1\n",
       "11025    1\n",
       "11509    1\n",
       "12512    1\n",
       "15033    1\n",
       "19208    1\n",
       "19211    1\n",
       "Name: power, dtype: int64"
      ]
     },
     "execution_count": 166,
     "metadata": {},
     "output_type": "execute_result"
    }
   ],
   "source": [
    "test[test['power'] > 600]['power'].value_counts().sort_index()"
   ]
  },
  {
   "cell_type": "code",
   "execution_count": 167,
   "metadata": {
    "ExecuteTime": {
     "end_time": "2021-06-10T02:58:32.273306Z",
     "start_time": "2021-06-10T02:58:32.196350Z"
    }
   },
   "outputs": [
    {
     "data": {
      "text/plain": [
       "143"
      ]
     },
     "execution_count": 167,
     "metadata": {},
     "output_type": "execute_result"
    }
   ],
   "source": [
    "# 赛题数据描述讲到，power范围为[0, 600],修正特征power大于600的值\n",
    "# train有143个值不合法，需要用别的值替换\n",
    "train[train['power'] > 600]['power'].count()"
   ]
  },
  {
   "cell_type": "code",
   "execution_count": 168,
   "metadata": {
    "ExecuteTime": {
     "end_time": "2021-06-10T02:58:32.358257Z",
     "start_time": "2021-06-10T02:58:32.275305Z"
    }
   },
   "outputs": [
    {
     "data": {
      "text/plain": [
       "51"
      ]
     },
     "execution_count": 168,
     "metadata": {},
     "output_type": "execute_result"
    }
   ],
   "source": [
    "# test有51个不合法需要替换\n",
    "test[test['power'] > 600]['power'].count()"
   ]
  },
  {
   "cell_type": "code",
   "execution_count": 169,
   "metadata": {
    "ExecuteTime": {
     "end_time": "2021-06-10T02:58:32.589126Z",
     "start_time": "2021-06-10T02:58:32.422224Z"
    }
   },
   "outputs": [],
   "source": [
    "# 使用map函数，以power列的中位数来替换数值超出范围的power\n",
    "train['power'] = train['power'].map(lambda x: train['power'].mean() if x > 600 else x)\n",
    "test['power'] = test['power'].map(lambda x: test['power'].mean() if x > 600 else x)"
   ]
  },
  {
   "cell_type": "code",
   "execution_count": 170,
   "metadata": {
    "ExecuteTime": {
     "end_time": "2021-06-10T02:58:32.642096Z",
     "start_time": "2021-06-10T02:58:32.609117Z"
    }
   },
   "outputs": [
    {
     "data": {
      "text/plain": [
       "0"
      ]
     },
     "execution_count": 170,
     "metadata": {},
     "output_type": "execute_result"
    }
   ],
   "source": [
    "# 检查替换情况\n",
    "train[train['power'] > 600]['power'].count()"
   ]
  },
  {
   "cell_type": "code",
   "execution_count": 171,
   "metadata": {
    "ExecuteTime": {
     "end_time": "2021-06-10T02:58:32.822992Z",
     "start_time": "2021-06-10T02:58:32.805005Z"
    }
   },
   "outputs": [
    {
     "data": {
      "text/plain": [
       "0"
      ]
     },
     "execution_count": 171,
     "metadata": {},
     "output_type": "execute_result"
    }
   ],
   "source": [
    "test[test['power'] > 600]['power'].count()"
   ]
  },
  {
   "cell_type": "code",
   "execution_count": 172,
   "metadata": {
    "ExecuteTime": {
     "end_time": "2021-06-10T02:58:33.284972Z",
     "start_time": "2021-06-10T02:58:33.029117Z"
    }
   },
   "outputs": [
    {
     "data": {
      "text/plain": [
       "<AxesSubplot:ylabel='Frequency'>"
      ]
     },
     "execution_count": 172,
     "metadata": {},
     "output_type": "execute_result"
    },
    {
     "data": {
      "image/png": "[encoded data removed]",
      "text/plain": [
       "<Figure size 432x288 with 1 Axes>"
      ]
     },
     "metadata": {
      "needs_background": "light"
     },
     "output_type": "display_data"
    }
   ],
   "source": [
    "# 检查是否替换成功\n",
    "train['power'].plot.hist()"
   ]
  },
  {
   "cell_type": "code",
   "execution_count": 173,
   "metadata": {
    "ExecuteTime": {
     "end_time": "2021-06-10T02:58:33.563445Z",
     "start_time": "2021-06-10T02:58:33.285970Z"
    },
    "scrolled": false
   },
   "outputs": [
    {
     "data": {
      "text/plain": [
       "<AxesSubplot:ylabel='Frequency'>"
      ]
     },
     "execution_count": 173,
     "metadata": {},
     "output_type": "execute_result"
    },
    {
     "data": {
      "image/png": "[encoded data removed]",
      "text/plain": [
       "<Figure size 432x288 with 1 Axes>"
      ]
     },
     "metadata": {
      "needs_background": "light"
     },
     "output_type": "display_data"
    }
   ],
   "source": [
    "test['power'].plot.hist()"
   ]
  },
  {
   "cell_type": "markdown",
   "metadata": {},
   "source": [
    "1. 在选择需要删除的特征之前，考虑线性相关系数低的。第一步选中系数绝对值小于0.1的特征， 第二步，抛开线性相关系数，从现实角度思考每个特征对售价的影响\n",
    "2. 特征v_2, v_6, v_1, v_14, v_13, v_7：由于是连续型变量，理论上具有数学意义。既然跟售价的线性相关系数极低，为降低噪声，避免过拟合，考虑删去；\n",
    "3. 特征regionCode, brand：并非连续型变量，不具备数学上的可比较性。与售价的线性相关系数低无法说明各自的取值对售价影响不大，保留。\n",
    "4. 特征name：汽车交易名称，训练集共有99662条不重复值，取值不影响售价，删去。\n",
    "5. 特征creatDate：（二手）汽车开始售卖时间，范围在 [20150618, 20160407]，间隔短，且与regDate（汽车注册时间）线性相关系数仅为-0.001293，其取值显然对售价影响很小，删去。**(暂时不删，可能购买时间可以组合出新的特征，对汽车价格产生影响)**"
   ]
  },
  {
   "cell_type": "code",
   "execution_count": 174,
   "metadata": {
    "ExecuteTime": {
     "end_time": "2021-06-10T02:58:33.627410Z",
     "start_time": "2021-06-10T02:58:33.623417Z"
    }
   },
   "outputs": [],
   "source": [
    "# # 再次查看各特征与销售价格之间的线性相关系数\n",
    "# train.corr().unstack()['price'].sort_values(ascending=False)"
   ]
  },
  {
   "cell_type": "markdown",
   "metadata": {},
   "source": [
    "## 填补缺失值"
   ]
  },
  {
   "cell_type": "code",
   "execution_count": 175,
   "metadata": {
    "ExecuteTime": {
     "end_time": "2021-06-10T02:58:35.254692Z",
     "start_time": "2021-06-10T02:58:35.223711Z"
    }
   },
   "outputs": [
    {
     "data": {
      "text/plain": [
       "model                    1\n",
       "bodyType              4506\n",
       "fuelType              8680\n",
       "gearbox               5981\n",
       "notRepairedDamage    24324\n",
       "dtype: int64"
      ]
     },
     "execution_count": 175,
     "metadata": {},
     "output_type": "execute_result"
    }
   ],
   "source": [
    "# 查看训练集缺失值存在情况\n",
    "train.isnull().sum()[train.isnull().sum() > 0]"
   ]
  },
  {
   "cell_type": "code",
   "execution_count": 176,
   "metadata": {
    "ExecuteTime": {
     "end_time": "2021-06-10T02:58:35.804379Z",
     "start_time": "2021-06-10T02:58:35.784391Z"
    }
   },
   "outputs": [
    {
     "data": {
      "text/plain": [
       "bodyType             1504\n",
       "fuelType             2924\n",
       "gearbox              1968\n",
       "notRepairedDamage    8069\n",
       "dtype: int64"
      ]
     },
     "execution_count": 176,
     "metadata": {},
     "output_type": "execute_result"
    }
   ],
   "source": [
    "# 查看测试集缺失值存在情况\n",
    "test.isnull().sum()[test.isnull().sum() > 0]"
   ]
  },
  {
   "cell_type": "markdown",
   "metadata": {},
   "source": [
    "### 处理model的唯一缺失值\n",
    "频数最多的进行填补"
   ]
  },
  {
   "cell_type": "code",
   "execution_count": 177,
   "metadata": {
    "ExecuteTime": {
     "end_time": "2021-06-10T02:58:36.892963Z",
     "start_time": "2021-06-10T02:58:36.871975Z"
    }
   },
   "outputs": [
    {
     "data": {
      "text/html": [
       "<div>\n",
       "<style scoped>\n",
       "    .dataframe tbody tr th:only-of-type {\n",
       "        vertical-align: middle;\n",
       "    }\n",
       "\n",
       "    .dataframe tbody tr th {\n",
       "        vertical-align: top;\n",
       "    }\n",
       "\n",
       "    .dataframe thead th {\n",
       "        text-align: right;\n",
       "    }\n",
       "</style>\n",
       "<table border=\"1\" class=\"dataframe\">\n",
       "  <thead>\n",
       "    <tr style=\"text-align: right;\">\n",
       "      <th></th>\n",
       "      <th>name</th>\n",
       "      <th>regDate</th>\n",
       "      <th>model</th>\n",
       "      <th>brand</th>\n",
       "      <th>bodyType</th>\n",
       "      <th>fuelType</th>\n",
       "      <th>gearbox</th>\n",
       "      <th>power</th>\n",
       "      <th>kilometer</th>\n",
       "      <th>notRepairedDamage</th>\n",
       "      <th>regionCode</th>\n",
       "      <th>creatDate</th>\n",
       "      <th>price</th>\n",
       "      <th>v_0</th>\n",
       "      <th>v_1</th>\n",
       "      <th>v_2</th>\n",
       "      <th>v_3</th>\n",
       "      <th>v_4</th>\n",
       "      <th>v_5</th>\n",
       "      <th>v_6</th>\n",
       "      <th>v_7</th>\n",
       "      <th>v_8</th>\n",
       "      <th>v_9</th>\n",
       "      <th>v_10</th>\n",
       "      <th>v_11</th>\n",
       "      <th>v_12</th>\n",
       "      <th>v_13</th>\n",
       "      <th>v_14</th>\n",
       "    </tr>\n",
       "  </thead>\n",
       "  <tbody>\n",
       "    <tr>\n",
       "      <th>38424</th>\n",
       "      <td>148730</td>\n",
       "      <td>2015-08-09</td>\n",
       "      <td>NaN</td>\n",
       "      <td>37</td>\n",
       "      <td>6.0</td>\n",
       "      <td>1.0</td>\n",
       "      <td>1.0</td>\n",
       "      <td>190.0</td>\n",
       "      <td>2.0</td>\n",
       "      <td>0.0</td>\n",
       "      <td>1425</td>\n",
       "      <td>2016-03-20</td>\n",
       "      <td>47950</td>\n",
       "      <td>41.139365</td>\n",
       "      <td>-2.167089</td>\n",
       "      <td>-3.436008</td>\n",
       "      <td>-7.275037</td>\n",
       "      <td>6.829352</td>\n",
       "      <td>0.181562</td>\n",
       "      <td>0.002092</td>\n",
       "      <td>0.0</td>\n",
       "      <td>0.148487</td>\n",
       "      <td>0.222787</td>\n",
       "      <td>1.6757</td>\n",
       "      <td>-3.25056</td>\n",
       "      <td>0.876001</td>\n",
       "      <td>11.147669</td>\n",
       "      <td>8.658418</td>\n",
       "    </tr>\n",
       "  </tbody>\n",
       "</table>\n",
       "</div>"
      ],
      "text/plain": [
       "         name    regDate  model  brand  bodyType  fuelType  gearbox  power  \\\n",
       "38424  148730 2015-08-09    NaN     37       6.0       1.0      1.0  190.0   \n",
       "\n",
       "       kilometer  notRepairedDamage  regionCode  creatDate  price        v_0  \\\n",
       "38424        2.0                0.0        1425 2016-03-20  47950  41.139365   \n",
       "\n",
       "            v_1       v_2       v_3       v_4       v_5       v_6  v_7  \\\n",
       "38424 -2.167089 -3.436008 -7.275037  6.829352  0.181562  0.002092  0.0   \n",
       "\n",
       "            v_8       v_9    v_10     v_11      v_12       v_13      v_14  \n",
       "38424  0.148487  0.222787  1.6757 -3.25056  0.876001  11.147669  8.658418  "
      ]
     },
     "execution_count": 177,
     "metadata": {},
     "output_type": "execute_result"
    }
   ],
   "source": [
    "# 输出缺失所在行\n",
    "train[train['model'].isnull()]"
   ]
  },
  {
   "cell_type": "code",
   "execution_count": 178,
   "metadata": {
    "ExecuteTime": {
     "end_time": "2021-06-10T02:58:37.083936Z",
     "start_time": "2021-06-10T02:58:37.065948Z"
    }
   },
   "outputs": [
    {
     "data": {
      "text/plain": [
       "157.0    17\n",
       "199.0    16\n",
       "202.0     8\n",
       "200.0     1\n",
       "Name: model, dtype: int64"
      ]
     },
     "execution_count": 178,
     "metadata": {},
     "output_type": "execute_result"
    }
   ],
   "source": [
    "# model(车型编码)一般与brand, bodyType, gearbox, power有关，选择以上4个特征与该车相同的车辆的model，选择出现次数最多的值\n",
    "train[(train['brand'] == 37) & \n",
    "      (train['bodyType'] == 6.0) & \n",
    "      (train['gearbox'] == 1.0) & \n",
    "      (train['power'] == 190)]['model'].value_counts()"
   ]
  },
  {
   "cell_type": "code",
   "execution_count": 179,
   "metadata": {
    "ExecuteTime": {
     "end_time": "2021-06-10T02:58:37.672546Z",
     "start_time": "2021-06-10T02:58:37.663546Z"
    },
    "scrolled": true
   },
   "outputs": [
    {
     "data": {
      "text/plain": [
       "name                              148730\n",
       "regDate              2015-08-09 00:00:00\n",
       "model                              157.0\n",
       "brand                                 37\n",
       "bodyType                             6.0\n",
       "fuelType                             1.0\n",
       "gearbox                              1.0\n",
       "power                              190.0\n",
       "kilometer                            2.0\n",
       "notRepairedDamage                    0.0\n",
       "regionCode                          1425\n",
       "creatDate            2016-03-20 00:00:00\n",
       "price                              47950\n",
       "v_0                            41.139365\n",
       "v_1                            -2.167089\n",
       "v_2                            -3.436008\n",
       "v_3                            -7.275037\n",
       "v_4                             6.829352\n",
       "v_5                             0.181562\n",
       "v_6                             0.002092\n",
       "v_7                                  0.0\n",
       "v_8                             0.148487\n",
       "v_9                             0.222787\n",
       "v_10                              1.6757\n",
       "v_11                            -3.25056\n",
       "v_12                            0.876001\n",
       "v_13                           11.147669\n",
       "v_14                            8.658418\n",
       "Name: 38424, dtype: object"
      ]
     },
     "execution_count": 179,
     "metadata": {},
     "output_type": "execute_result"
    }
   ],
   "source": [
    "# 用157.0填充缺失值\n",
    "train.loc[38424, 'model'] = 157.0\n",
    "train.loc[38424]"
   ]
  },
  {
   "cell_type": "code",
   "execution_count": 180,
   "metadata": {
    "ExecuteTime": {
     "end_time": "2021-06-10T02:58:38.081184Z",
     "start_time": "2021-06-10T02:58:38.057197Z"
    },
    "scrolled": true
   },
   "outputs": [
    {
     "name": "stdout",
     "output_type": "stream",
     "text": [
      "<class 'pandas.core.frame.DataFrame'>\n",
      "RangeIndex: 150000 entries, 0 to 149999\n",
      "Data columns (total 28 columns):\n",
      " #   Column             Non-Null Count   Dtype         \n",
      "---  ------             --------------   -----         \n",
      " 0   name               150000 non-null  int64         \n",
      " 1   regDate            150000 non-null  datetime64[ns]\n",
      " 2   model              150000 non-null  float64       \n",
      " 3   brand              150000 non-null  int64         \n",
      " 4   bodyType           145494 non-null  float64       \n",
      " 5   fuelType           141320 non-null  float64       \n",
      " 6   gearbox            144019 non-null  float64       \n",
      " 7   power              150000 non-null  float64       \n",
      " 8   kilometer          150000 non-null  float64       \n",
      " 9   notRepairedDamage  125676 non-null  float64       \n",
      " 10  regionCode         150000 non-null  int64         \n",
      " 11  creatDate          150000 non-null  datetime64[ns]\n",
      " 12  price              150000 non-null  int64         \n",
      " 13  v_0                150000 non-null  float64       \n",
      " 14  v_1                150000 non-null  float64       \n",
      " 15  v_2                150000 non-null  float64       \n",
      " 16  v_3                150000 non-null  float64       \n",
      " 17  v_4                150000 non-null  float64       \n",
      " 18  v_5                150000 non-null  float64       \n",
      " 19  v_6                150000 non-null  float64       \n",
      " 20  v_7                150000 non-null  float64       \n",
      " 21  v_8                150000 non-null  float64       \n",
      " 22  v_9                150000 non-null  float64       \n",
      " 23  v_10               150000 non-null  float64       \n",
      " 24  v_11               150000 non-null  float64       \n",
      " 25  v_12               150000 non-null  float64       \n",
      " 26  v_13               150000 non-null  float64       \n",
      " 27  v_14               150000 non-null  float64       \n",
      "dtypes: datetime64[ns](2), float64(22), int64(4)\n",
      "memory usage: 32.0 MB\n"
     ]
    }
   ],
   "source": [
    "# 查看填充结果\n",
    "train.info()"
   ]
  },
  {
   "cell_type": "code",
   "execution_count": 181,
   "metadata": {
    "ExecuteTime": {
     "end_time": "2021-06-10T02:58:38.460456Z",
     "start_time": "2021-06-10T02:58:38.434470Z"
    }
   },
   "outputs": [
    {
     "data": {
      "text/plain": [
       "bodyType              4506\n",
       "fuelType              8680\n",
       "gearbox               5981\n",
       "notRepairedDamage    24324\n",
       "dtype: int64"
      ]
     },
     "execution_count": 181,
     "metadata": {},
     "output_type": "execute_result"
    }
   ],
   "source": [
    "# 查看训练集model的填充结果\n",
    "train.isnull().sum()[train.isnull().sum() > 0]"
   ]
  },
  {
   "cell_type": "markdown",
   "metadata": {},
   "source": [
    "### 处理bodyType的缺失值\n",
    "类别中频数最多的进行填补"
   ]
  },
  {
   "cell_type": "code",
   "execution_count": 182,
   "metadata": {
    "ExecuteTime": {
     "end_time": "2021-06-10T02:58:40.048882Z",
     "start_time": "2021-06-10T02:58:40.030894Z"
    },
    "scrolled": true
   },
   "outputs": [
    {
     "data": {
      "text/plain": [
       "0.0    41420\n",
       "1.0    35272\n",
       "2.0    30324\n",
       "3.0    13491\n",
       "4.0     9609\n",
       "5.0     7607\n",
       "6.0     6482\n",
       "7.0     1289\n",
       "Name: bodyType, dtype: int64"
      ]
     },
     "execution_count": 182,
     "metadata": {},
     "output_type": "execute_result"
    }
   ],
   "source": [
    "# 查看数据类型，缺失值为Nan，未显示\n",
    "train['bodyType'].value_counts()"
   ]
  },
  {
   "cell_type": "code",
   "execution_count": 183,
   "metadata": {
    "ExecuteTime": {
     "end_time": "2021-06-10T02:58:40.266758Z",
     "start_time": "2021-06-10T02:58:40.240772Z"
    }
   },
   "outputs": [
    {
     "data": {
      "text/plain": [
       "False    145494\n",
       "True       4506\n",
       "Name: bodyType, dtype: int64"
      ]
     },
     "execution_count": 183,
     "metadata": {},
     "output_type": "execute_result"
    }
   ],
   "source": [
    "# 看缺失值数量\n",
    "train['bodyType'].isnull().value_counts()"
   ]
  },
  {
   "cell_type": "code",
   "execution_count": 184,
   "metadata": {
    "ExecuteTime": {
     "end_time": "2021-06-10T02:58:40.489631Z",
     "start_time": "2021-06-10T02:58:40.465644Z"
    }
   },
   "outputs": [
    {
     "data": {
      "text/plain": [
       "False    48496\n",
       "True      1504\n",
       "Name: bodyType, dtype: int64"
      ]
     },
     "execution_count": 184,
     "metadata": {},
     "output_type": "execute_result"
    }
   ],
   "source": [
    "test['bodyType'].isnull().value_counts()"
   ]
  },
  {
   "cell_type": "code",
   "execution_count": 185,
   "metadata": {
    "ExecuteTime": {
     "end_time": "2021-06-10T02:59:10.706853Z",
     "start_time": "2021-06-10T02:58:40.681522Z"
    }
   },
   "outputs": [
    {
     "data": {
      "text/plain": [
       "<AxesSubplot:xlabel='bodyType', ylabel='price'>"
      ]
     },
     "execution_count": 185,
     "metadata": {},
     "output_type": "execute_result"
    },
    {
     "data": {
      "image/png": "[encoded data removed]",
      "text/plain": [
       "<Figure size 432x288 with 1 Axes>"
      ]
     },
     "metadata": {
      "needs_background": "light"
     },
     "output_type": "display_data"
    }
   ],
   "source": [
    "# bodyType特征缺失值占比较小，先观察它的取值与售价之间的联系，再决定是否删去\n",
    "# 输出特征与售价之间的线性关系图（类似画出散点图，并拟合出一条线）\n",
    "sns.regplot(train['bodyType'], train['price'])"
   ]
  },
  {
   "cell_type": "code",
   "execution_count": 186,
   "metadata": {
    "ExecuteTime": {
     "end_time": "2021-06-10T02:59:10.751828Z",
     "start_time": "2021-06-10T02:59:10.735839Z"
    }
   },
   "outputs": [
    {
     "name": "stdout",
     "output_type": "stream",
     "text": [
      "0.0    41420\n",
      "1.0    35272\n",
      "2.0    30324\n",
      "3.0    13491\n",
      "4.0     9609\n",
      "5.0     7607\n",
      "6.0     6482\n",
      "7.0     1289\n",
      "Name: bodyType, dtype: int64\n",
      "\n",
      "\n",
      "0.0    13765\n",
      "1.0    11960\n",
      "2.0     9886\n",
      "3.0     4491\n",
      "4.0     3258\n",
      "5.0     2494\n",
      "6.0     2212\n",
      "7.0      430\n",
      "Name: bodyType, dtype: int64\n"
     ]
    }
   ],
   "source": [
    "# 可见不同车身类型的汽车售价差别还是比较大的，故保留该特征，填充缺失值\n",
    "# 看看车身类型数量分布\n",
    "print(train['bodyType'].value_counts())\n",
    "print('\\n')\n",
    "print(test['bodyType'].value_counts())"
   ]
  },
  {
   "cell_type": "code",
   "execution_count": 187,
   "metadata": {
    "ExecuteTime": {
     "end_time": "2021-06-10T02:59:10.946502Z",
     "start_time": "2021-06-10T02:59:10.753827Z"
    }
   },
   "outputs": [],
   "source": [
    "# 在两个数据集上，车身类型为0.0（豪华轿车）的汽车数量都是最多，所以用0.0来填充缺失值\n",
    "train.loc[:, 'bodyType'] = train['bodyType'].map(lambda x: 0.0 if pd.isnull(x) else x)\n",
    "test.loc[:, 'bodyType'] = test['bodyType'].map(lambda x: 0.0 if pd.isnull(x) else x)"
   ]
  },
  {
   "cell_type": "code",
   "execution_count": 188,
   "metadata": {
    "ExecuteTime": {
     "end_time": "2021-06-10T02:59:10.980790Z",
     "start_time": "2021-06-10T02:59:10.947501Z"
    },
    "scrolled": true
   },
   "outputs": [
    {
     "name": "stdout",
     "output_type": "stream",
     "text": [
      "<class 'pandas.core.frame.DataFrame'>\n",
      "RangeIndex: 150000 entries, 0 to 149999\n",
      "Data columns (total 28 columns):\n",
      " #   Column             Non-Null Count   Dtype         \n",
      "---  ------             --------------   -----         \n",
      " 0   name               150000 non-null  int64         \n",
      " 1   regDate            150000 non-null  datetime64[ns]\n",
      " 2   model              150000 non-null  float64       \n",
      " 3   brand              150000 non-null  int64         \n",
      " 4   bodyType           150000 non-null  float64       \n",
      " 5   fuelType           141320 non-null  float64       \n",
      " 6   gearbox            144019 non-null  float64       \n",
      " 7   power              150000 non-null  float64       \n",
      " 8   kilometer          150000 non-null  float64       \n",
      " 9   notRepairedDamage  125676 non-null  float64       \n",
      " 10  regionCode         150000 non-null  int64         \n",
      " 11  creatDate          150000 non-null  datetime64[ns]\n",
      " 12  price              150000 non-null  int64         \n",
      " 13  v_0                150000 non-null  float64       \n",
      " 14  v_1                150000 non-null  float64       \n",
      " 15  v_2                150000 non-null  float64       \n",
      " 16  v_3                150000 non-null  float64       \n",
      " 17  v_4                150000 non-null  float64       \n",
      " 18  v_5                150000 non-null  float64       \n",
      " 19  v_6                150000 non-null  float64       \n",
      " 20  v_7                150000 non-null  float64       \n",
      " 21  v_8                150000 non-null  float64       \n",
      " 22  v_9                150000 non-null  float64       \n",
      " 23  v_10               150000 non-null  float64       \n",
      " 24  v_11               150000 non-null  float64       \n",
      " 25  v_12               150000 non-null  float64       \n",
      " 26  v_13               150000 non-null  float64       \n",
      " 27  v_14               150000 non-null  float64       \n",
      "dtypes: datetime64[ns](2), float64(22), int64(4)\n",
      "memory usage: 32.0 MB\n"
     ]
    }
   ],
   "source": [
    "# 检查填充情况\n",
    "train.info()"
   ]
  },
  {
   "cell_type": "code",
   "execution_count": 189,
   "metadata": {
    "ExecuteTime": {
     "end_time": "2021-06-10T02:59:11.037758Z",
     "start_time": "2021-06-10T02:59:10.981789Z"
    }
   },
   "outputs": [
    {
     "name": "stdout",
     "output_type": "stream",
     "text": [
      "<class 'pandas.core.frame.DataFrame'>\n",
      "RangeIndex: 50000 entries, 0 to 49999\n",
      "Data columns (total 27 columns):\n",
      " #   Column             Non-Null Count  Dtype         \n",
      "---  ------             --------------  -----         \n",
      " 0   name               50000 non-null  int64         \n",
      " 1   regDate            50000 non-null  datetime64[ns]\n",
      " 2   model              50000 non-null  float64       \n",
      " 3   brand              50000 non-null  int64         \n",
      " 4   bodyType           50000 non-null  float64       \n",
      " 5   fuelType           47076 non-null  float64       \n",
      " 6   gearbox            48032 non-null  float64       \n",
      " 7   power              50000 non-null  float64       \n",
      " 8   kilometer          50000 non-null  float64       \n",
      " 9   notRepairedDamage  41931 non-null  float64       \n",
      " 10  regionCode         50000 non-null  int64         \n",
      " 11  creatDate          50000 non-null  datetime64[ns]\n",
      " 12  v_0                50000 non-null  float64       \n",
      " 13  v_1                50000 non-null  float64       \n",
      " 14  v_2                50000 non-null  float64       \n",
      " 15  v_3                50000 non-null  float64       \n",
      " 16  v_4                50000 non-null  float64       \n",
      " 17  v_5                50000 non-null  float64       \n",
      " 18  v_6                50000 non-null  float64       \n",
      " 19  v_7                50000 non-null  float64       \n",
      " 20  v_8                50000 non-null  float64       \n",
      " 21  v_9                50000 non-null  float64       \n",
      " 22  v_10               50000 non-null  float64       \n",
      " 23  v_11               50000 non-null  float64       \n",
      " 24  v_12               50000 non-null  float64       \n",
      " 25  v_13               50000 non-null  float64       \n",
      " 26  v_14               50000 non-null  float64       \n",
      "dtypes: datetime64[ns](2), float64(22), int64(3)\n",
      "memory usage: 10.3 MB\n"
     ]
    }
   ],
   "source": [
    "test.info()"
   ]
  },
  {
   "cell_type": "markdown",
   "metadata": {},
   "source": [
    "### 处理fuelType的缺失值\n",
    "1. 找出与缺失值相关的特征\n",
    "2. 用相关特征下，缺失特征的众数进行填充"
   ]
  },
  {
   "cell_type": "code",
   "execution_count": 190,
   "metadata": {
    "ExecuteTime": {
     "end_time": "2021-06-10T02:59:11.090728Z",
     "start_time": "2021-06-10T02:59:11.038757Z"
    }
   },
   "outputs": [
    {
     "data": {
      "text/plain": [
       "0.0    91656\n",
       "1.0    46991\n",
       "2.0     2212\n",
       "3.0      262\n",
       "4.0      118\n",
       "5.0       45\n",
       "6.0       36\n",
       "Name: fuelType, dtype: int64"
      ]
     },
     "execution_count": 190,
     "metadata": {},
     "output_type": "execute_result"
    }
   ],
   "source": [
    "# 查看所有类别的数据量，缺失值为Nan\n",
    "train['fuelType'].value_counts()"
   ]
  },
  {
   "cell_type": "code",
   "execution_count": 191,
   "metadata": {
    "ExecuteTime": {
     "end_time": "2021-06-10T02:59:11.171682Z",
     "start_time": "2021-06-10T02:59:11.092726Z"
    }
   },
   "outputs": [
    {
     "name": "stdout",
     "output_type": "stream",
     "text": [
      "False    141320\n",
      "True       8680\n",
      "Name: fuelType, dtype: int64\n",
      "\n",
      "\n",
      "False    47076\n",
      "True      2924\n",
      "Name: fuelType, dtype: int64\n"
     ]
    }
   ],
   "source": [
    "# 看缺失值数量\n",
    "print(train['fuelType'].isnull().value_counts())\n",
    "print('\\n')\n",
    "print(test['fuelType'].isnull().value_counts())"
   ]
  },
  {
   "cell_type": "code",
   "execution_count": 192,
   "metadata": {
    "ExecuteTime": {
     "end_time": "2021-06-10T02:59:41.677136Z",
     "start_time": "2021-06-10T02:59:11.173680Z"
    },
    "scrolled": true
   },
   "outputs": [
    {
     "data": {
      "text/plain": [
       "<AxesSubplot:xlabel='fuelType', ylabel='price'>"
      ]
     },
     "execution_count": 192,
     "metadata": {},
     "output_type": "execute_result"
    },
    {
     "data": {
      "image/png": "[encoded data removed]",
      "text/plain": [
       "<Figure size 432x288 with 1 Axes>"
      ]
     },
     "metadata": {
      "needs_background": "light"
     },
     "output_type": "display_data"
    }
   ],
   "source": [
    "# fuel特征缺失值占比较小，先观察它的取值与售价之间的联系，再决定是否删去\n",
    "# 输出特征与售价之间的线性关系图（类似散点图）\n",
    "sns.regplot(train['fuelType'], train['price'])"
   ]
  },
  {
   "cell_type": "code",
   "execution_count": 193,
   "metadata": {
    "ExecuteTime": {
     "end_time": "2021-06-10T02:59:41.782076Z",
     "start_time": "2021-06-10T02:59:41.679135Z"
    }
   },
   "outputs": [
    {
     "name": "stdout",
     "output_type": "stream",
     "text": [
      "{0.0: 0.0, 1.0: 0.0, 2.0: 1.0, 3.0: 1.0, 4.0: 0.0, 5.0: 0.0, 6.0: 1.0, 7.0: 1.0}\n",
      "{0.0: 0.0, 1.0: 0.0, 2.0: 1.0, 3.0: 1.0, 4.0: 0.0, 5.0: 0.0, 6.0: 1.0, 7.0: 1.0}\n"
     ]
    }
   ],
   "source": [
    "# 猜想：燃油类型与车身类型相关，如豪华轿车更可能是汽油或电动， 而搅拌车大多是柴油\n",
    "# 创建字典map，保存不同bodyType下， fuelType的众数，并以此填充fuelTyp的缺失值\n",
    "dict_enu_train, dict_enu_test = {}, {}\n",
    "for i in [0.0, 1.0, 2.0, 3.0, 4.0, 5.0, 6.0, 7.0]:\n",
    "    dict_enu_train[i] = train[train['bodyType'] == i]['fuelType'].mode()[0] # bodyType=i时，fuelType的众数\n",
    "    dict_enu_test[i] = test[test['bodyType'] == i]['fuelType'].mode()[0]\n",
    "print(dict_enu_train)\n",
    "print(dict_enu_test)\n",
    "# 发现dict_enu_train, dict_enu_test是一样的内容"
   ]
  },
  {
   "cell_type": "code",
   "execution_count": 194,
   "metadata": {
    "ExecuteTime": {
     "end_time": "2021-06-10T02:59:41.820054Z",
     "start_time": "2021-06-10T02:59:41.786074Z"
    },
    "scrolled": true
   },
   "outputs": [
    {
     "name": "stdout",
     "output_type": "stream",
     "text": [
      "{0.0: [14, 21, 125, 143, 199, 227, 247, 260, 299, 321, 342, 370, 412, 451, 462, 487, 488, 495, 527, 532, 567, 691, 727, 841, 869, 986, 1103, 1129, 1132, 1135, 1177, 1209, 1231, 1243, 1353, 1373, 1374, 1397, 1419, 1434, 1444, 1467, 1480, 1584, 1633, 1637, 1656, 1657, 1663, 1689, 1705, 1735, 1751, 1758, 1825, 1843, 1858, 1930, 1967, 2008, 2060, 2080, 2086, 2181, 2254, 2298, 2324, 2330, 2387, 2426, 2494, 2512, 2591, 2593, 2624, 2645, 2683, 2688, 2836, 2910, 2947, 2959, 2987, 3017, 3038, 3110, 3157, 3238, 3241, 3303, 3342, 3345, 3374, 3384, 3421, 3433, 3436, 3540, 3544, 3577, 3602, 3724, 3729, 3769, 3885, 3901, 3955, 3971, 4071, 4270, 4345, 4346, 4365, 4410, 4598, 4611, 4682, 4685, 4735, 4885, 4994, 5040, 5088, 5104, 5113, 5122, 5164, 5178, 5219, 5272, 5301, 5389, 5464, 5465, 5505, 5513, 5525, 5545, 5573, 5673, 5792, 5804, 5818, 5883, 5914, 5949, 5960, 5967, 5969, 5982, 5985, 6040, 6086, 6111, 6132, 6157, 6200, 6232, 6241, 6251, 6274, 6296, 6395, 6409, 6415, 6425, 6426, 6432, 6477, 6518, 6529, 6551, 6658, 6667, 6689, 6697, 6712, 6794, 6797, 6809, 6856, 6905, 6988, 6991, 6999, 7110, 7134, 7151, 7169, 7175, 7187, 7195, 7196, 7373, 7399, 7414, 7476, 7567, 7672, 7732, 7791, 7846, 7868, 7898, 7973, 8066, 8095, 8113, 8181, 8194, 8226, 8385, 8447, 8526, 8571, 8613, 8626, 8659, 8703, 8716, 8731, 8742, 8818, 8881, 8924, 8933, 8953, 8968, 9005, 9014, 9035, 9122, 9169, 9252, 9314, 9345, 9357, 9420, 9494, 9512, 9523, 9529, 9542, 9596, 9643, 9645, 9693, 9744, 9758, 9801, 9836, 9919, 9944, 9945, 10004, 10029, 10030, 10055, 10132, 10227, 10234, 10241, 10258, 10288, 10315, 10322, 10344, 10399, 10411, 10459, 10484, 10618, 10676, 10716, 10772, 10797, 10828, 10835, 10941, 11006, 11007, 11018, 11044, 11173, 11298, 11349, 11375, 11386, 11416, 11449, 11489, 11496, 11510, 11595, 11619, 11659, 11755, 11767, 11786, 11914, 11939, 11975, 12020, 12031, 12034, 12117, 12120, 12182, 12203, 12224, 12230, 12258, 12353, 12395, 12427, 12442, 12474, 12504, 12535, 12549, 12568, 12625, 12627, 12636, 12692, 12811, 12909, 12911, 13011, 13023, 13042, 13107, 13183, 13264, 13408, 13511, 13513, 13534, 13539, 13562, 13613, 13638, 13640, 13684, 13687, 13776, 13820, 13917, 13952, 13958, 14084, 14095, 14207, 14209, 14234, 14275, 14294, 14322, 14441, 14459, 14537, 14550, 14567, 14682, 14697, 14788, 14792, 14807, 14813, 14847, 14922, 14967, 14976, 14983, 14988, 15030, 15052, 15072, 15097, 15149, 15166, 15241, 15286, 15337, 15349, 15366, 15381, 15400, 15417, 15429, 15468, 15508, 15522, 15535, 15552, 15576, 15593, 15632, 15639, 15650, 15756, 15804, 15812, 15879, 15899, 15901, 15915, 15975, 15994, 16045, 16060, 16126, 16129, 16157, 16183, 16249, 16306, 16317, 16378, 16392, 16409, 16414, 16438, 16443, 16553, 16554, 16672, 16748, 16771, 16844, 16866, 16948, 16971, 17038, 17088, 17119, 17199, 17321, 17335, 17368, 17393, 17487, 17512, 17535, 17608, 17627, 17668, 17686, 17692, 17698, 17714, 17784, 17789, 17922, 17970, 18153, 18172, 18174, 18187, 18190, 18212, 18247, 18265, 18273, 18320, 18392, 18409, 18432, 18484, 18560, 18629, 18689, 18706, 18731, 18756, 18777, 18781, 18800, 18803, 18822, 18906, 18921, 18926, 18965, 18966, 19118, 19131, 19143, 19154, 19163, 19164, 19174, 19177, 19224, 19290, 19292, 19319, 19334, 19425, 19457, 19491, 19509, 19514, 19522, 19529, 19551, 19567, 19588, 19601, 19625, 19648, 19650, 19743, 19782, 19878, 19883, 19917, 19978, 20092, 20147, 20148, 20198, 20200, 20217, 20236, 20245, 20291, 20309, 20330, 20331, 20336, 20356, 20396, 20410, 20450, 20486, 20503, 20507, 20623, 20649, 20666, 20678, 20696, 20709, 20764, 20784, 20793, 20818, 20845, 20892, 20899, 20919, 20941, 20980, 20985, 20989, 20994, 21011, 21019, 21103, 21118, 21136, 21150, 21165, 21352, 21353, 21357, 21369, 21382, 21397, 21415, 21498, 21521, 21528, 21772, 21783, 21893, 21918, 21937, 21974, 22066, 22097, 22108, 22120, 22178, 22191, 22197, 22198, 22272, 22379, 22446, 22457, 22461, 22562, 22607, 22612, 22648, 22654, 22679, 22707, 22719, 22779, 22792, 22984, 23031, 23115, 23127, 23180, 23210, 23253, 23295, 23315, 23316, 23325, 23340, 23361, 23364, 23393, 23397, 23454, 23462, 23521, 23555, 23584, 23668, 23710, 23732, 23754, 23777, 23782, 23791, 23839, 23865, 23904, 23933, 23955, 23962, 23984, 23994, 24017, 24128, 24131, 24137, 24165, 24166, 24185, 24191, 24199, 24288, 24308, 24322, 24370, 24414, 24472, 24593, 24617, 24641, 24673, 24685, 24694, 24810, 24822, 24864, 24908, 24981, 25015, 25060, 25062, 25149, 25194, 25399, 25435, 25449, 25461, 25579, 25696, 25717, 25767, 25786, 25789, 25815, 25818, 25842, 25903, 25916, 25928, 26008, 26068, 26084, 26090, 26104, 26133, 26147, 26216, 26285, 26297, 26300, 26371, 26377, 26479, 26485, 26503, 26560, 26675, 26744, 26751, 26790, 26806, 26868, 26872, 26919, 26929, 27050, 27138, 27160, 27170, 27175, 27254, 27420, 27471, 27473, 27488, 27528, 27544, 27570, 27599, 27646, 27647, 27716, 27761, 27771, 27820, 27842, 27893, 27955, 27982, 28050, 28111, 28183, 28233, 28321, 28338, 28469, 28520, 28529, 28545, 28614, 28662, 28712, 28807, 28834, 28849, 28867, 28869, 28947, 29080, 29122, 29176, 29184, 29193, 29224, 29264, 29317, 29364, 29412, 29432, 29446, 29475, 29483, 29508, 29548, 29597, 29607, 29676, 29730, 29763, 29770, 29828, 29874, 29947, 29984, 30012, 30028, 30030, 30037, 30066, 30078, 30079, 30095, 30115, 30168, 30186, 30188, 30310, 30326, 30348, 30564, 30584, 30607, 30608, 30657, 30687, 30693, 30820, 30866, 30917, 30935, 30964, 30983, 31043, 31059, 31097, 31140, 31142, 31178, 31366, 31378, 31390, 31508, 31569, 31632, 31665, 31762, 31768, 31774, 31804, 31888, 31915, 32016, 32039, 32051, 32099, 32121, 32161, 32208, 32231, 32305, 32308, 32327, 32343, 32385, 32386, 32399, 32414, 32426, 32448, 32542, 32562, 32620, 32656, 32690, 32694, 32705, 32781, 32892, 32979, 32994, 33067, 33070, 33079, 33095, 33096, 33109, 33110, 33169, 33246, 33263, 33296, 33301, 33326, 33397, 33429, 33476, 33591, 33607, 33691, 33813, 33837, 33885, 33891, 33961, 34106, 34108, 34128, 34135, 34163, 34317, 34337, 34446, 34449, 34453, 34481, 34492, 34502, 34509, 34512, 34601, 34610, 34682, 34760, 34775, 34817, 34836, 34859, 34862, 34895, 34919, 34946, 34957, 35010, 35021, 35039, 35045, 35085, 35124, 35355, 35375, 35381, 35383, 35431, 35487, 35506, 35552, 35572, 35604, 35635, 35700, 35775, 35912, 35915, 36086, 36124, 36230, 36321, 36349, 36411, 36432, 36489, 36504, 36511, 36545, 36549, 36608, 36617, 36622, 36718, 36793, 36818, 36900, 36924, 36937, 36972, 37078, 37132, 37149, 37172, 37181, 37250, 37257, 37259, 37280, 37295, 37320, 37374, 37389, 37394, 37401, 37433, 37435, 37482, 37519, 37648, 37654, 37688, 37689, 37695, 37725, 37778, 37782, 37795, 37868, 37869, 37890, 37901, 38008, 38013, 38101, 38108, 38122, 38135, 38148, 38253, 38310, 38330, 38357, 38490, 38512, 38558, 38597, 38618, 38638, 38640, 38667, 38741, 38779, 38876, 38933, 38961, 38975, 39010, 39013, 39028, 39076, 39121, 39175, 39191, 39199, 39279, 39314, 39325, 39357, 39386, 39502, 39570, 39588, 39608, 39687, 39793, 39803, 39879, 39885, 39937, 39954, 40032, 40102, 40109, 40121, 40149, 40150, 40176, 40178, 40257, 40264, 40371, 40402, 40425, 40486, 40555, 40561, 40589, 40632, 40731, 40733, 40749, 40761, 40798, 40804, 40982, 40986, 40989, 40997, 41027, 41060, 41070, 41080, 41090, 41099, 41112, 41151, 41271, 41353, 41391, 41441, 41451, 41454, 41460, 41518, 41565, 41668, 41685, 41762, 41777, 41799, 41832, 41854, 41856, 41877, 41897, 41924, 41979, 42014, 42035, 42047, 42061, 42102, 42187, 42208, 42220, 42230, 42234, 42248, 42275, 42290, 42309, 42311, 42428, 42500, 42508, 42524, 42624, 42688, 42704, 42763, 42776, 42824, 42833, 42868, 42914, 42937, 42940, 42964, 42992, 43022, 43027, 43028, 43162, 43221, 43270, 43310, 43326, 43345, 43405, 43465, 43492, 43556, 43561, 43610, 43627, 43710, 43721, 43756, 43875, 43884, 43920, 43993, 44210, 44250, 44261, 44309, 44323, 44330, 44344, 44383, 44390, 44408, 44429, 44504, 44566, 44578, 44636, 44642, 44665, 44675, 44732, 44736, 44759, 44762, 44809, 44819, 44863, 44889, 44895, 44970, 45038, 45110, 45177, 45210, 45228, 45273, 45293, 45314, 45361, 45442, 45579, 45583, 45703, 45816, 45933, 45973, 45984, 45992, 46002, 46006, 46011, 46086, 46179, 46223, 46261, 46335, 46339, 46355, 46362, 46392, 46489, 46494, 46523, 46528, 46549, 46589, 46608, 46639, 46643, 46712, 46746, 46773, 46774, 46787, 46810, 46814, 46869, 46906, 46936, 46951, 46952, 46997, 47021, 47029, 47051, 47066, 47147, 47170, 47239, 47290, 47358, 47395, 47437, 47442, 47505, 47513, 47537, 47574, 47667, 47678, 47732, 47745, 47754, 47757, 47783, 47792, 47826, 47943, 47990, 48000, 48002, 48035, 48044, 48055, 48094, 48105, 48178, 48181, 48197, 48203, 48256, 48274, 48327, 48375, 48517, 48556, 48573, 48590, 48647, 48655, 48687, 48723, 48724, 48740, 48799, 48807, 48921, 49004, 49096, 49135, 49248, 49251, 49264, 49369, 49414, 49424, 49427, 49472, 49474, 49514, 49518, 49618, 49641, 49643, 49655, 49661, 49689, 49716, 49735, 49766, 49776, 49799, 49809, 49903, 49910, 49930, 49931, 49948, 49977, 49990, 49997, 50030, 50086, 50131, 50158, 50168, 50184, 50209, 50214, 50258, 50303, 50362, 50406, 50422, 50473, 50502, 50505, 50538, 50556, 50651, 50683, 50688, 50751, 50767, 50787, 50813, 50849, 50867, 50901, 50963, 50971, 51110, 51114, 51142, 51235, 51239, 51298, 51300, 51340, 51348, 51365, 51397, 51408, 51495, 51571, 51646, 51661, 51666, 51687, 51761, 51911, 51924, 51938, 51989, 51996, 52122, 52132, 52167, 52171, 52175, 52247, 52291, 52297, 52319, 52341, 52393, 52400, 52551, 52644, 52667, 52690, 52701, 52702, 52703, 52704, 52732, 52753, 52769, 52792, 52801, 52845, 52851, 52917, 52930, 52944, 52959, 52970, 53003, 53010, 53093, 53146, 53194, 53217, 53260, 53270, 53287, 53360, 53364, 53426, 53452, 53513, 53559, 53563, 53573, 53575, 53590, 53594, 53620, 53669, 53689, 53717, 53736, 53756, 53759, 53772, 53810, 53831, 53967, 53968, 53974, 53983, 53987, 54000, 54003, 54102, 54109, 54119, 54226, 54233, 54240, 54243, 54345, 54468, 54577, 54666, 54684, 54694, 54697, 54711, 54799, 54904, 54924, 54953, 55045, 55145, 55148, 55152, 55202, 55206, 55207, 55238, 55253, 55271, 55317, 55412, 55467, 55475, 55533, 55574, 55630, 55658, 55720, 55758, 55776, 55986, 55987, 56047, 56159, 56178, 56236, 56247, 56319, 56324, 56332, 56356, 56371, 56543, 56551, 56564, 56748, 56781, 56811, 56833, 56869, 56919, 56924, 56931, 57072, 57220, 57293, 57361, 57412, 57448, 57451, 57462, 57500, 57558, 57565, 57583, 57600, 57608, 57643, 57674, 57720, 57723, 57781, 57783, 57819, 57847, 57848, 57909, 57982, 57998, 58036, 58101, 58146, 58167, 58196, 58217, 58227, 58377, 58425, 58457, 58575, 58591, 58624, 58629, 58641, 58796, 58801, 58812, 58886, 58891, 58908, 59001, 59007, 59048, 59104, 59157, 59200, 59281, 59292, 59411, 59422, 59447, 59484, 59503, 59582, 59604, 59606, 59734, 59821, 59835, 59848, 59899, 59950, 59958, 59965, 60011, 60062, 60091, 60105, 60125, 60216, 60235, 60237, 60313, 60323, 60402, 60429, 60434, 60467, 60507, 60582, 60590, 60701, 60749, 60800, 60844, 60859, 60861, 60977, 60983, 61008, 61014, 61069, 61091, 61167, 61256, 61269, 61279, 61289, 61383, 61492, 61507, 61629, 61634, 61654, 61757, 61765, 61794, 61810, 61827, 61833, 61878, 61909, 61934, 61942, 61965, 62052, 62056, 62068, 62069, 62078, 62089, 62097, 62099, 62126, 62135, 62157, 62206, 62216, 62238, 62250, 62272, 62303, 62552, 62608, 62619, 62623, 62687, 62755, 62784, 62802, 62815, 62890, 62909, 62932, 62951, 62963, 62969, 62998, 63083, 63114, 63128, 63170, 63173, 63181, 63223, 63250, 63278, 63293, 63301, 63346, 63385, 63386, 63490, 63509, 63510, 63634, 63639, 63706, 63850, 63853, 63861, 63863, 63913, 63935, 63942, 63968, 64006, 64022, 64045, 64069, 64121, 64141, 64161, 64176, 64236, 64265, 64273, 64308, 64332, 64345, 64375, 64404, 64416, 64441, 64619, 64636, 64638, 64640, 64660, 64662, 64671, 64701, 64745, 64752, 64755, 64812, 64813, 64875, 64892, 64931, 64944, 64998, 65065, 65079, 65103, 65132, 65173, 65212, 65246, 65259, 65262, 65274, 65325, 65464, 65521, 65557, 65640, 65696, 65701, 65703, 65778, 65790, 65798, 65804, 65871, 65965, 65971, 66034, 66155, 66173, 66293, 66364, 66380, 66421, 66433, 66435, 66487, 66498, 66509, 66607, 66748, 66753, 66820, 66889, 66910, 66912, 66925, 66930, 66941, 66945, 66956, 66981, 67016, 67037, 67041, 67077, 67155, 67191, 67294, 67321, 67323, 67334, 67342, 67380, 67420, 67452, 67453, 67532, 67541, 67553, 67589, 67601, 67675, 67709, 67727, 67787, 67798, 67806, 67826, 68024, 68038, 68064, 68117, 68261, 68265, 68294, 68338, 68345, 68491, 68512, 68557, 68572, 68604, 68605, 68680, 68708, 68821, 68854, 68862, 68874, 68885, 68894, 68915, 68921, 68926, 68943, 68964, 69000, 69106, 69111, 69156, 69166, 69255, 69291, 69357, 69389, 69396, 69450, 69522, 69533, 69555, 69566, 69586, 69595, 69602, 69612, 69633, 69637, 69676, 69740, 69742, 69894, 69939, 69956, 69967, 70040, 70141, 70223, 70236, 70256, 70257, 70310, 70317, 70319, 70392, 70418, 70420, 70426, 70443, 70461, 70478, 70610, 70612, 70677, 70729, 70732, 70752, 70758, 70794, 70796, 70803, 70900, 70903, 70931, 70959, 70994, 71040, 71049, 71059, 71069, 71084, 71153, 71289, 71314, 71381, 71401, 71410, 71417, 71454, 71471, 71514, 71522, 71524, 71579, 71603, 71610, 71618, 71627, 71628, 71642, 71691, 71746, 71757, 71761, 71796, 71892, 71922, 71923, 71949, 71961, 72004, 72011, 72068, 72109, 72134, 72156, 72162, 72165, 72245, 72310, 72327, 72399, 72426, 72487, 72537, 72552, 72588, 72590, 72621, 72627, 72678, 72689, 72695, 72708, 72720, 72748, 72751, 72778, 72815, 72870, 72899, 72907, 72943, 72946, 72952, 72977, 72983, 72994, 73027, 73044, 73057, 73123, 73126, 73138, 73157, 73204, 73298, 73346, 73350, 73383, 73418, 73681, 73687, 73728, 73898, 73915, 73922, 73961, 73974, 74110, 74161, 74179, 74181, 74201, 74210, 74270, 74300, 74325, 74343, 74411, 74491, 74494, 74525, 74562, 74713, 74794, 74806, 74898, 74958, 74974, 75068, 75099, 75143, 75197, 75266, 75320, 75447, 75448, 75461, 75534, 75577, 75671, 75739, 75751, 75759, 75794, 75810, 75834, 75860, 75887, 75900, 75906, 75956, 76017, 76083, 76107, 76108, 76184, 76414, 76433, 76468, 76484, 76612, 76701, 76707, 76744, 76746, 76779, 76803, 76812, 76855, 76909, 76979, 77043, 77077, 77245, 77247, 77272, 77290, 77303, 77379, 77381, 77449, 77711, 77764, 77774, 77838, 77877, 77882, 77896, 78061, 78069, 78070, 78072, 78079, 78139, 78246, 78371, 78463, 78513, 78560, 78602, 78606, 78631, 78651, 78754, 78767, 78801, 78852, 78860, 78862, 78867, 78871, 78875, 78959, 78960, 79005, 79027, 79041, 79102, 79110, 79112, 79155, 79167, 79220, 79238, 79373, 79391, 79427, 79431, 79444, 79481, 79504, 79512, 79536, 79556, 79561, 79684, 79739, 79815, 79834, 79870, 79948, 79982, 79998, 80048, 80054, 80059, 80143, 80189, 80216, 80221, 80263, 80266, 80308, 80340, 80349, 80353, 80401, 80450, 80499, 80527, 80559, 80586, 80594, 80709, 80746, 80808, 80863, 80906, 80968, 81000, 81035, 81049, 81058, 81135, 81150, 81163, 81191, 81278, 81429, 81458, 81471, 81485, 81565, 81643, 81717, 81732, 81737, 81757, 81772, 81782, 81830, 81841, 81867, 81940, 81989, 81992, 82023, 82035, 82112, 82192, 82206, 82237, 82257, 82288, 82305, 82308, 82358, 82396, 82404, 82413, 82438, 82458, 82490, 82520, 82554, 82559, 82567, 82574, 82589, 82620, 82652, 82709, 82719, 82843, 82853, 82884, 83122, 83146, 83152, 83179, 83254, 83267, 83271, 83286, 83332, 83356, 83402, 83413, 83422, 83516, 83531, 83538, 83570, 83583, 83625, 83642, 83643, 83677, 83708, 83754, 83796, 83807, 83828, 83833, 83919, 83955, 83958, 83961, 84000, 84072, 84077, 84103, 84109, 84140, 84145, 84181, 84194, 84237, 84255, 84324, 84330, 84447, 84509, 84530, 84561, 84617, 84640, 84655, 84669, 84684, 84711, 84741, 84753, 84758, 84767, 84781, 84789, 84876, 84935, 84979, 85169, 85171, 85177, 85231, 85322, 85345, 85354, 85412, 85420, 85455, 85464, 85514, 85520, 85535, 85538, 85709, 85737, 85748, 85772, 85834, 85838, 85850, 85867, 85893, 85919, 85976, 86033, 86107, 86114, 86132, 86210, 86211, 86299, 86325, 86328, 86448, 86450, 86472, 86476, 86495, 86522, 86526, 86586, 86609, 86611, 86646, 86683, 86709, 86767, 86948, 86965, 87033, 87050, 87163, 87185, 87224, 87236, 87341, 87356, 87420, 87434, 87437, 87443, 87540, 87579, 87581, 87612, 87625, 87658, 87695, 87714, 87734, 87748, 87764, 87876, 87932, 87933, 87963, 87971, 87986, 87999, 88077, 88162, 88169, 88174, 88198, 88274, 88323, 88354, 88376, 88423, 88475, 88479, 88615, 88619, 88723, 88756, 88758, 88760, 88805, 88815, 88856, 88890, 88931, 88937, 88953, 88998, 89003, 89018, 89029, 89078, 89085, 89124, 89130, 89152, 89166, 89170, 89198, 89238, 89244, 89304, 89311, 89313, 89360, 89371, 89384, 89390, 89409, 89422, 89429, 89442, 89446, 89466, 89528, 89537, 89580, 89603, 89633, 89639, 89651, 89701, 89722, 89739, 89744, 89778, 89792, 89817, 89866, 89874, 89883, 89893, 89914, 89917, 89924, 89997, 90048, 90077, 90180, 90194, 90209, 90281, 90319, 90358, 90362, 90515, 90564, 90583, 90613, 90651, 90694, 90703, 90760, 90769, 90807, 90824, 90866, 90871, 90937, 90960, 90975, 90988, 91046, 91112, 91120, 91178, 91180, 91211, 91220, 91243, 91255, 91357, 91399, 91406, 91436, 91448, 91477, 91546, 91562, 91601, 91626, 91661, 91673, 91742, 91779, 91821, 91833, 91838, 91879, 91930, 91980, 91986, 92055, 92066, 92110, 92120, 92206, 92225, 92246, 92270, 92278, 92285, 92318, 92410, 92441, 92485, 92563, 92610, 92620, 92633, 92639, 92674, 92696, 92756, 92775, 92814, 92840, 92960, 92976, 92985, 93015, 93047, 93070, 93093, 93165, 93193, 93296, 93306, 93335, 93422, 93428, 93465, 93469, 93478, 93669, 93705, 93743, 93776, 93825, 93827, 93836, 93838, 93844, 93961, 93969, 93973, 93993, 94140, 94144, 94149, 94177, 94201, 94262, 94288, 94357, 94423, 94433, 94469, 94508, 94517, 94567, 94580, 94671, 94691, 94730, 94816, 94903, 94913, 94948, 94961, 94973, 95057, 95151, 95161, 95201, 95237, 95243, 95270, 95292, 95302, 95339, 95393, 95434, 95457, 95478, 95574, 95598, 95632, 95650, 95662, 95744, 95783, 95799, 95825, 95833, 95861, 95927, 96091, 96094, 96117, 96121, 96166, 96270, 96421, 96430, 96445, 96460, 96486, 96527, 96596, 96622, 96709, 96726, 96740, 96782, 96833, 96838, 96847, 96849, 96862, 96874, 96894, 96921, 96970, 96982, 96985, 97039, 97179, 97180, 97254, 97329, 97376, 97388, 97448, 97521, 97527, 97553, 97620, 97673, 97680, 97728, 97816, 97855, 97917, 97932, 98051, 98135, 98146, 98248, 98348, 98361, 98377, 98394, 98411, 98412, 98498, 98542, 98558, 98581, 98592, 98602, 98759, 98784, 98855, 98903, 98989, 99046, 99048, 99057, 99079, 99105, 99117, 99231, 99266, 99308, 99315, 99329, 99372, 99379, 99382, 99431, 99453, 99502, 99503, 99518, 99527, 99593, 99646, 99652, 99676, 99735, 99802, 99807, 99936, 99941, 99944, 100038, 100144, 100156, 100195, 100203, 100285, 100315, 100372, 100476, 100512, 100564, 100585, 100627, 100689, 100705, 100782, 100841, 100846, 100874, 100884, 100908, 100932, 100962, 101057, 101123, 101138, 101145, 101167, 101199, 101218, 101251, 101352, 101374, 101379, 101382, 101419, 101436, 101467, 101490, 101557, 101748, 101770, 101778, 101781, 101804, 101806, 101826, 101845, 101861, 101980, 101991, 102048, 102052, 102070, 102075, 102195, 102197, 102243, 102245, 102274, 102405, 102426, 102468, 102486, 102491, 102495, 102513, 102523, 102627, 102657, 102748, 102783, 102815, 102825, 102920, 102970, 103105, 103179, 103181, 103245, 103270, 103304, 103339, 103372, 103433, 103464, 103469, 103530, 103560, 103606, 103638, 103712, 103717, 103724, 103775, 103823, 103824, 104003, 104030, 104130, 104177, 104192, 104277, 104303, 104308, 104321, 104330, 104340, 104383, 104403, 104420, 104453, 104534, 104610, 104642, 104756, 104778, 104914, 104946, 104961, 105033, 105074, 105087, 105143, 105171, 105178, 105263, 105279, 105319, 105401, 105420, 105463, 105510, 105519, 105541, 105552, 105557, 105591, 105613, 105633, 105649, 105688, 105719, 105729, 105769, 105835, 105841, 105927, 106113, 106151, 106152, 106250, 106265, 106318, 106324, 106403, 106411, 106441, 106544, 106555, 106572, 106587, 106591, 106681, 106717, 106744, 106832, 106885, 106980, 107011, 107012, 107047, 107049, 107181, 107191, 107213, 107313, 107322, 107328, 107408, 107438, 107473, 107529, 107550, 107600, 107603, 107646, 107651, 107677, 107696, 107706, 107754, 107765, 107770, 107793, 107830, 107869, 107879, 107887, 107913, 107924, 107974, 107977, 108013, 108027, 108049, 108101, 108114, 108120, 108134, 108156, 108193, 108222, 108269, 108361, 108377, 108381, 108401, 108428, 108433, 108480, 108491, 108509, 108595, 108662, 108678, 108733, 108752, 108758, 108761, 108818, 109011, 109110, 109225, 109294, 109317, 109320, 109365, 109375, 109390, 109451, 109466, 109495, 109520, 109604, 109653, 109713, 109718, 109770, 109831, 109859, 109875, 109959, 110005, 110015, 110016, 110045, 110047, 110065, 110070, 110105, 110113, 110157, 110161, 110277, 110334, 110352, 110378, 110441, 110493, 110536, 110583, 110635, 110689, 110722, 110762, 110772, 110822, 110836, 110842, 110898, 110930, 110949, 110976, 111100, 111121, 111128, 111153, 111162, 111166, 111294, 111298, 111358, 111375, 111407, 111461, 111495, 111550, 111560, 111641, 111684, 111775, 111781, 111794, 111798, 111876, 111961, 111977, 112069, 112118, 112144, 112161, 112176, 112190, 112207, 112237, 112332, 112333, 112377, 112399, 112444, 112446, 112520, 112557, 112679, 112746, 112784, 112785, 112808, 112830, 112897, 112950, 113008, 113054, 113066, 113069, 113100, 113104, 113110, 113126, 113132, 113148, 113292, 113294, 113301, 113309, 113331, 113360, 113367, 113385, 113405, 113413, 113431, 113567, 113577, 113581, 113585, 113628, 113653, 113737, 113767, 113793, 113832, 113879, 113947, 113998, 114018, 114080, 114091, 114199, 114240, 114263, 114273, 114276, 114282, 114311, 114424, 114453, 114495, 114550, 114570, 114572, 114585, 114592, 114602, 114637, 114662, 114679, 114706, 114732, 114764, 114819, 114833, 114860, 114934, 114971, 115045, 115052, 115060, 115063, 115070, 115098, 115100, 115122, 115151, 115162, 115173, 115182, 115190, 115202, 115225, 115258, 115268, 115385, 115429, 115444, 115543, 115547, 115799, 115888, 115915, 115974, 115987, 116050, 116111, 116230, 116251, 116273, 116287, 116317, 116321, 116347, 116432, 116450, 116486, 116508, 116641, 116669, 116744, 116767, 116795, 116821, 116893, 116907, 116993, 117035, 117063, 117081, 117111, 117193, 117238, 117242, 117270, 117308, 117317, 117371, 117495, 117541, 117563, 117613, 117678, 117682, 117777, 117797, 117859, 117871, 117907, 117931, 118052, 118069, 118177, 118179, 118189, 118211, 118221, 118228, 118249, 118356, 118363, 118439, 118460, 118510, 118560, 118583, 118591, 118598, 118689, 118695, 118714, 118743, 118789, 118824, 118844, 118923, 118968, 118976, 119003, 119039, 119065, 119098, 119103, 119120, 119148, 119192, 119204, 119286, 119332, 119346, 119369, 119385, 119387, 119439, 119466, 119527, 119542, 119575, 119648, 119707, 119794, 119863, 119882, 119911, 119967, 120014, 120024, 120029, 120065, 120102, 120172, 120239, 120270, 120276, 120292, 120299, 120300, 120316, 120382, 120428, 120571, 120619, 120662, 120710, 120726, 120752, 120801, 120814, 120910, 120927, 120933, 120952, 121027, 121037, 121046, 121047, 121143, 121167, 121190, 121195, 121212, 121213, 121223, 121230, 121271, 121288, 121327, 121354, 121357, 121364, 121417, 121442, 121449, 121460, 121462, 121467, 121473, 121494, 121563, 121594, 121618, 121659, 121684, 121696, 121851, 121897, 121907, 121911, 121984, 122031, 122034, 122061, 122074, 122122, 122252, 122336, 122390, 122406, 122473, 122487, 122494, 122508, 122520, 122532, 122546, 122636, 122769, 122794, 122834, 122850, 122927, 122995, 123000, 123059, 123074, 123085, 123138, 123153, 123164, 123279, 123326, 123388, 123413, 123424, 123551, 123556, 123589, 123610, 123632, 123637, 123661, 123689, 123712, 123715, 123756, 123758, 123761, 123803, 123823, 123904, 123929, 123951, 124063, 124064, 124073, 124122, 124161, 124250, 124301, 124314, 124379, 124394, 124397, 124432, 124441, 124491, 124511, 124605, 124615, 124665, 124671, 124818, 124835, 124837, 124847, 124875, 124899, 124905, 124940, 124990, 124998, 125063, 125132, 125133, 125199, 125235, 125243, 125413, 125539, 125542, 125621, 125626, 125677, 125709, 125727, 125792, 125840, 125846, 125856, 125862, 125905, 125949, 125964, 125990, 125995, 126010, 126107, 126117, 126135, 126193, 126258, 126433, 126524, 126529, 126567, 126625, 126654, 126695, 126780, 126791, 126820, 126858, 126868, 126943, 126964, 126973, 126992, 127019, 127105, 127164, 127182, 127228, 127291, 127309, 127346, 127357, 127386, 127482, 127648, 127658, 127667, 127672, 127686, 127702, 127706, 127804, 127813, 127847, 127885, 127933, 127981, 127996, 128000, 128012, 128046, 128056, 128086, 128097, 128128, 128154, 128189, 128212, 128231, 128257, 128274, 128301, 128316, 128330, 128346, 128375, 128435, 128465, 128511, 128525, 128586, 128602, 128610, 128611, 128621, 128909, 128929, 128987, 129002, 129079, 129094, 129105, 129196, 129230, 129249, 129253, 129313, 129329, 129338, 129366, 129370, 129372, 129375, 129412, 129450, 129453, 129559, 129634, 129637, 129640, 129680, 129738, 129739, 129742, 129853, 129878, 129930, 129953, 129974, 129987, 129991, 130004, 130135, 130142, 130203, 130263, 130275, 130347, 130360, 130362, 130440, 130447, 130484, 130515, 130609, 130679, 130735, 130754, 130784, 130788, 130825, 130843, 130939, 130949, 131009, 131094, 131110, 131194, 131226, 131234, 131288, 131393, 131430, 131473, 131514, 131523, 131524, 131541, 131571, 131592, 131661, 131703, 131793, 131836, 131905, 131909, 131928, 132007, 132075, 132084, 132092, 132129, 132141, 132145, 132158, 132182, 132189, 132193, 132243, 132373, 132449, 132471, 132488, 132495, 132562, 132640, 132647, 132715, 132727, 132758, 132768, 132794, 132811, 132832, 132837, 132993, 132997, 133012, 133019, 133087, 133097, 133124, 133145, 133183, 133259, 133313, 133360, 133386, 133412, 133481, 133500, 133600, 133662, 133710, 133774, 133826, 133889, 133990, 134026, 134106, 134177, 134187, 134189, 134192, 134290, 134352, 134357, 134372, 134413, 134466, 134503, 134639, 134748, 134804, 134806, 134853, 134856, 134865, 134911, 134941, 135045, 135048, 135091, 135113, 135129, 135152, 135170, 135199, 135258, 135344, 135377, 135382, 135407, 135421, 135434, 135534, 135619, 135637, 135668, 135679, 135681, 135691, 135703, 135709, 135781, 135787, 135800, 135891, 135918, 136029, 136053, 136055, 136074, 136086, 136093, 136116, 136172, 136176, 136208, 136211, 136328, 136338, 136358, 136401, 136459, 136466, 136472, 136558, 136594, 136637, 136705, 136730, 136756, 136757, 136770, 136812, 136827, 136848, 136864, 136926, 136942, 136965, 136996, 137028, 137075, 137156, 137176, 137219, 137222, 137264, 137269, 137302, 137322, 137348, 137454, 137502, 137644, 137692, 137708, 137736, 137836, 137885, 137904, 137908, 137955, 137997, 138023, 138080, 138091, 138180, 138192, 138241, 138249, 138272, 138342, 138402, 138442, 138483, 138505, 138512, 138524, 138576, 138678, 138691, 138735, 138924, 138934, 138951, 138968, 139048, 139096, 139187, 139194, 139267, 139325, 139340, 139374, 139412, 139439, 139466, 139505, 139567, 139605, 139632, 139639, 139656, 139711, 139758, 139792, 139831, 139832, 139854, 139873, 139877, 139879, 139912, 139919, 139922, 139984, 139996, 140009, 140097, 140125, 140138, 140202, 140263, 140277, 140311, 140319, 140329, 140355, 140361, 140374, 140431, 140440, 140464, 140465, 140487, 140492, 140638, 140651, 140655, 140713, 140728, 140776, 140792, 140804, 140805, 140806, 140815, 140828, 140837, 140842, 140868, 140889, 140924, 140932, 140939, 140944, 140952, 140965, 140971, 141003, 141044, 141054, 141081, 141116, 141123, 141166, 141279, 141285, 141313, 141325, 141343, 141345, 141435, 141508, 141590, 141599, 141661, 141723, 141724, 141751, 141755, 141779, 141788, 141795, 141800, 141857, 141859, 141862, 141863, 141928, 141931, 141966, 141968, 141977, 142036, 142107, 142132, 142165, 142219, 142229, 142274, 142316, 142380, 142383, 142435, 142552, 142553, 142622, 142763, 142768, 142856, 142885, 142945, 142993, 143046, 143051, 143063, 143113, 143159, 143225, 143240, 143256, 143284, 143317, 143352, 143366, 143377, 143516, 143559, 143560, 143644, 143684, 143704, 143716, 143721, 143726, 143742, 143746, 143832, 143848, 143883, 143943, 144127, 144236, 144237, 144251, 144258, 144317, 144325, 144326, 144464, 144493, 144639, 144687, 144690, 144870, 144894, 144908, 144929, 145012, 145018, 145033, 145038, 145045, 145062, 145095, 145129, 145140, 145204, 145212, 145232, 145244, 145247, 145276, 145318, 145334, 145361, 145427, 145476, 145503, 145509, 145569, 145678, 145686, 145694, 145771, 145801, 145820, 145836, 145863, 145905, 145920, 145944, 145963, 146000, 146032, 146185, 146306, 146309, 146311, 146338, 146349, 146408, 146426, 146508, 146513, 146553, 146577, 146603, 146654, 146716, 146750, 146827, 146828, 146888, 147018, 147050, 147071, 147243, 147244, 147290, 147303, 147309, 147329, 147344, 147345, 147408, 147444, 147512, 147520, 147558, 147567, 147576, 147578, 147597, 147701, 147719, 147757, 147797, 147824, 147831, 147911, 147919, 147963, 147998, 148003, 148012, 148016, 148131, 148208, 148212, 148335, 148351, 148392, 148401, 148407, 148440, 148444, 148498, 148548, 148589, 148595, 148617, 148646, 148687, 148805, 148892, 148916, 148971, 148982, 149029, 149055, 149076, 149235, 149238, 149265, 149343, 149449, 149548, 149561, 149593, 149649, 149652, 149655, 149657, 149685, 149730, 149773, 149805, 149806, 149863, 149884, 149923, 149957, 149972], 1.0: [45, 169, 193, 341, 353, 480, 503, 507, 645, 667, 924, 929, 1058, 1061, 1092, 1124, 1141, 1190, 1319, 1408, 1492, 1655, 1932, 1968, 2116, 2165, 2168, 2209, 2236, 2261, 2295, 2322, 2401, 2422, 2560, 2709, 2754, 2788, 2863, 2926, 2943, 2965, 3005, 3024, 3050, 3052, 3075, 3100, 3121, 3158, 3164, 3165, 3224, 3250, 3269, 3276, 3290, 3360, 3585, 3747, 3783, 3853, 3881, 3926, 3927, 3958, 4100, 4106, 4127, 4153, 4174, 4344, 4355, 4659, 4713, 4807, 4961, 5016, 5379, 5621, 5639, 5644, 5723, 5882, 5934, 5978, 5996, 6016, 6081, 6093, 6149, 6170, 6230, 6246, 6323, 6424, 6438, 6538, 6603, 6659, 6680, 6728, 6736, 6799, 6802, 6844, 7177, 7425, 7511, 7546, 7548, 7620, 7708, 7865, 7923, 7959, 7963, 7982, 7989, 8029, 8140, 8221, 8238, 8258, 8404, 8544, 8568, 8588, 8730, 8800, 8806, 8895, 8931, 8998, 9006, 9007, 9049, 9129, 9327, 9365, 9461, 9505, 9553, 9568, 9599, 9651, 9677, 9683, 9724, 9840, 9904, 9986, 10000, 10018, 10027, 10093, 10147, 10255, 10304, 10377, 10400, 10405, 10514, 10580, 10668, 10674, 10778, 10781, 10898, 10949, 10967, 10984, 11088, 11561, 11684, 11808, 11888, 12100, 12106, 12190, 12263, 12377, 12469, 12483, 12560, 12770, 12792, 12912, 12995, 13030, 13053, 13118, 13206, 13321, 13422, 13463, 13605, 13739, 13783, 13795, 13893, 13993, 14037, 14043, 14409, 14426, 14440, 14613, 14617, 14659, 14670, 14705, 14719, 14782, 15033, 15094, 15193, 15240, 15332, 15351, 15463, 15496, 15518, 15782, 15923, 15947, 15966, 15990, 16132, 16394, 16488, 16595, 16622, 16765, 16900, 17120, 17442, 17537, 17672, 17707, 17712, 17713, 17737, 17838, 18011, 18053, 18067, 18208, 18246, 18276, 18389, 18436, 18438, 18587, 18762, 18931, 19035, 19068, 19377, 19412, 19451, 19576, 19593, 19634, 19677, 19714, 19759, 19790, 19877, 19969, 20011, 20144, 20165, 20183, 20194, 20197, 20253, 20303, 20380, 20391, 20393, 20409, 20416, 20470, 20489, 20613, 20622, 20774, 20796, 21033, 21264, 21541, 21610, 21653, 21731, 21933, 21992, 22045, 22202, 22417, 22419, 22422, 22424, 22432, 22513, 22525, 22686, 22717, 22730, 22758, 22820, 22988, 23257, 23279, 23378, 23552, 23553, 23570, 23653, 23722, 23726, 23762, 23814, 23923, 23949, 24032, 24480, 24513, 24584, 24829, 24830, 24855, 24916, 24928, 25002, 25008, 25013, 25044, 25112, 25218, 25375, 25440, 25650, 25662, 25710, 25780, 25816, 25828, 25991, 25995, 26117, 26157, 26164, 26192, 26257, 26384, 26457, 26495, 26584, 26700, 26771, 26891, 26921, 26971, 27073, 27237, 27329, 27374, 27400, 27481, 27493, 27531, 27567, 27672, 27704, 27750, 27849, 28147, 28252, 28325, 28539, 28549, 28598, 28637, 28650, 28682, 28703, 28781, 28842, 28933, 28988, 28992, 29010, 29021, 29106, 29233, 29611, 29688, 29710, 29792, 29793, 29795, 30044, 30147, 30192, 30213, 30344, 30401, 30454, 30476, 30519, 30566, 30587, 30784, 30883, 30888, 30952, 31074, 31075, 31157, 31198, 31244, 31309, 31432, 31526, 31745, 31868, 31999, 32047, 32246, 32388, 32461, 32468, 32579, 32613, 32631, 32634, 32701, 32809, 32842, 32928, 32997, 33121, 33220, 33387, 33483, 33551, 33554, 33555, 33620, 33662, 33923, 33951, 33999, 34022, 34097, 34233, 34494, 34635, 34678, 34726, 34758, 34852, 34900, 35000, 35110, 35185, 35269, 35438, 35568, 35571, 35840, 35940, 35952, 36068, 36081, 36253, 36433, 36470, 36555, 36629, 36759, 36921, 36934, 37042, 37147, 37193, 37260, 37290, 37303, 37373, 37410, 37430, 37440, 37452, 37616, 37780, 37930, 37931, 38020, 38079, 38086, 38116, 38231, 38479, 38527, 38563, 38584, 38682, 38808, 38811, 38929, 38966, 39095, 39171, 39188, 39243, 39251, 39367, 39507, 39516, 39645, 39760, 39761, 39780, 39807, 39904, 39956, 39996, 40098, 40277, 40306, 40342, 40426, 40491, 40550, 40634, 40679, 40704, 40780, 40922, 41052, 41072, 41185, 41352, 41366, 41432, 41526, 41572, 41636, 41649, 41712, 41756, 41760, 41891, 41989, 42205, 42232, 42552, 42568, 42838, 42965, 42970, 43137, 43204, 43206, 43266, 43290, 43413, 43416, 43436, 43455, 43539, 43674, 43698, 43709, 43789, 43845, 43876, 43888, 44130, 44278, 44372, 44654, 44781, 44814, 44844, 44984, 45005, 45111, 45199, 45272, 45367, 45369, 45444, 45558, 45602, 45661, 45671, 45700, 45727, 45757, 45767, 45817, 45867, 45914, 46063, 46074, 46142, 46201, 46251, 46252, 46282, 46389, 46423, 46573, 46581, 46711, 46726, 46843, 46916, 47088, 47182, 47187, 47340, 47363, 47410, 47445, 47452, 47626, 47684, 47685, 47838, 47846, 48004, 48098, 48141, 48277, 48378, 48500, 48511, 48622, 48706, 48712, 48719, 48747, 48801, 48812, 48824, 49018, 49103, 49174, 49275, 49329, 49672, 49917, 49954, 50010, 50027, 50187, 50201, 50230, 50248, 50249, 50432, 50446, 50475, 50532, 50587, 50594, 50673, 50763, 50972, 51077, 51091, 51210, 51464, 51642, 51763, 51874, 52059, 52153, 52226, 52280, 52281, 52342, 52431, 52781, 52819, 52948, 53038, 53075, 53154, 53414, 53800, 53907, 53969, 54070, 54193, 54245, 54448, 54664, 54741, 54748, 54770, 54808, 54855, 54889, 54951, 54976, 55259, 55351, 55366, 55411, 55423, 55447, 55492, 55578, 55609, 55862, 55982, 56089, 56162, 56164, 56253, 56260, 56284, 56339, 56402, 56407, 56506, 56562, 56625, 56645, 56681, 56765, 56835, 56839, 56901, 56939, 56985, 57053, 57080, 57247, 57248, 57355, 57364, 57397, 57455, 57541, 57585, 57736, 57755, 57826, 57856, 57916, 57999, 58051, 58126, 58221, 58451, 58479, 58567, 58597, 58694, 58711, 58772, 58953, 59032, 59240, 59324, 59415, 59490, 59519, 59529, 59704, 59759, 59763, 59879, 59968, 60143, 60145, 60184, 60198, 60247, 60264, 60342, 60397, 60543, 60716, 60793, 60848, 60868, 61043, 61180, 61349, 61516, 61531, 61607, 61677, 61700, 61746, 61820, 61932, 61935, 62038, 62130, 62258, 62393, 62550, 62551, 62565, 62692, 62967, 62988, 63017, 63110, 63841, 63900, 63922, 64009, 64127, 64184, 64195, 64201, 64222, 64223, 64302, 64309, 64414, 64551, 64737, 64815, 64859, 64866, 64906, 64950, 64952, 65058, 65248, 65486, 65569, 65576, 65658, 65661, 65678, 65682, 65714, 66008, 66040, 66064, 66196, 66243, 66296, 66339, 66367, 66383, 66479, 66591, 66678, 66690, 66722, 66779, 66931, 66951, 67007, 67079, 67081, 67107, 67147, 67210, 67289, 67358, 67481, 67549, 67724, 67737, 67785, 67802, 67944, 67994, 68007, 68194, 68195, 68414, 68515, 68516, 68528, 68567, 68570, 68657, 68717, 69133, 69142, 69210, 69222, 69369, 69421, 69477, 69527, 69529, 69567, 69682, 69756, 69770, 69802, 69981, 70089, 70138, 70197, 70205, 70241, 70266, 70299, 70360, 70393, 70424, 70501, 70582, 70596, 70659, 70674, 70717, 70754, 70814, 71002, 71035, 71155, 71191, 71233, 71394, 71429, 71460, 71585, 71648, 71739, 71742, 72075, 72087, 72169, 72290, 72354, 72383, 72475, 72599, 72609, 72801, 72831, 72886, 72915, 73033, 73160, 73185, 73210, 73295, 73328, 73434, 73495, 73562, 73698, 73821, 73982, 74045, 74114, 74167, 74193, 74268, 74322, 74357, 74483, 74536, 74662, 74666, 74690, 74825, 74836, 74890, 75039, 75054, 75175, 75329, 75381, 75565, 75623, 75730, 75752, 75837, 75972, 76042, 76126, 76155, 76219, 76383, 76498, 76506, 76575, 76592, 76609, 76804, 76920, 76980, 77117, 77139, 77153, 77184, 77244, 77267, 77311, 77454, 77477, 77517, 77551, 77586, 77594, 77605, 77624, 77646, 77660, 77695, 77731, 77755, 77756, 77873, 77943, 77981, 78027, 78133, 78136, 78357, 78488, 78520, 78587, 78690, 78745, 78842, 78856, 78859, 78962, 78998, 79276, 79428, 79498, 79676, 79714, 79755, 79770, 79824, 79842, 79895, 79999, 80086, 80303, 80318, 80341, 80396, 80534, 80788, 80827, 80982, 80998, 81016, 81147, 81210, 81220, 81227, 81252, 81304, 81352, 81459, 81597, 81810, 81852, 81896, 82033, 82373, 82441, 82597, 82809, 82839, 82872, 82951, 82957, 83045, 83086, 83113, 83132, 83291, 83409, 83549, 83624, 83664, 83696, 83951, 84026, 84096, 84139, 84193, 84228, 84270, 84344, 84382, 84391, 84399, 84508, 84532, 84743, 84746, 84811, 84822, 84856, 84949, 85117, 85121, 85151, 85162, 85168, 85210, 85277, 85296, 85323, 85397, 85436, 85608, 85854, 85884, 85929, 86122, 86128, 86134, 86271, 86303, 86308, 86352, 86407, 86435, 86519, 86641, 86650, 86758, 86858, 87208, 87276, 87353, 87402, 87766, 87789, 87806, 87838, 87915, 87920, 87943, 88044, 88052, 88186, 88190, 88212, 88286, 88345, 88365, 88437, 88481, 88614, 88750, 88768, 88902, 89020, 89132, 89222, 89300, 89393, 89436, 89470, 89476, 89495, 89583, 89604, 89616, 89678, 89705, 89765, 89773, 89793, 89834, 89840, 89892, 89927, 89953, 89984, 89988, 90152, 90173, 90360, 90463, 90527, 90539, 90632, 90678, 90756, 90835, 91009, 91019, 91031, 91062, 91067, 91176, 91232, 91677, 91689, 91781, 91905, 91962, 92165, 92272, 92332, 92544, 92643, 92648, 92826, 92959, 92971, 93003, 93119, 93129, 93411, 93419, 93511, 93523, 93641, 93694, 93700, 93707, 93828, 93857, 93974, 94047, 94063, 94119, 94229, 94245, 94291, 94356, 94378, 94417, 94529, 94599, 94721, 94736, 94753, 94979, 94988, 95163, 95246, 95319, 95376, 95465, 95560, 95638, 95680, 95687, 95787, 95857, 95859, 95945, 96037, 96049, 96358, 96579, 96674, 96729, 96751, 96791, 96913, 97277, 97331, 97403, 97438, 97535, 97635, 97639, 97779, 97790, 97803, 97979, 98041, 98070, 98240, 98324, 98399, 98458, 98461, 98688, 98770, 99022, 99085, 99125, 99150, 99202, 99229, 99258, 99464, 99501, 99581, 99932, 99999, 100066, 100152, 100291, 100367, 100573, 100614, 100699, 101026, 101049, 101073, 101159, 101211, 101294, 101305, 101375, 101518, 101535, 101560, 101649, 101682, 101691, 101713, 101715, 101723, 101752, 101904, 101953, 101954, 101996, 102164, 102649, 102692, 102693, 102808, 102847, 102929, 102991, 103125, 103183, 103217, 103294, 103323, 103448, 103456, 103671, 103698, 103759, 103809, 103842, 103916, 103978, 103989, 104122, 104127, 104212, 104399, 104424, 104440, 104485, 104518, 104594, 104766, 104782, 104804, 104871, 104905, 104930, 105027, 105195, 105258, 105288, 105503, 105606, 105903, 106153, 106156, 106170, 106225, 106302, 106504, 106675, 106903, 107141, 107155, 107192, 107201, 107262, 107293, 107610, 107716, 107720, 108022, 108113, 108127, 108174, 108459, 108503, 108556, 108601, 108684, 108688, 108791, 108803, 108833, 108849, 108947, 108980, 109033, 109124, 109130, 109184, 109249, 109261, 109469, 109530, 109552, 109582, 109597, 109665, 109817, 109867, 109883, 109950, 110039, 110147, 110191, 110320, 110322, 110345, 110451, 110460, 110468, 110575, 110712, 110732, 110968, 111021, 111050, 111093, 111106, 111132, 111180, 111389, 111398, 111404, 111525, 111530, 111585, 111732, 111787, 111813, 111852, 112081, 112113, 112186, 112356, 112435, 112469, 112649, 112700, 112739, 112761, 112770, 112790, 112811, 112822, 112867, 112891, 112932, 112985, 112986, 112998, 113026, 113084, 113146, 113286, 113457, 113481, 113501, 113518, 113566, 113608, 113746, 113770, 113918, 114056, 114086, 114116, 114118, 114122, 114145, 114155, 114277, 114340, 114359, 114379, 114386, 114395, 114436, 114600, 114698, 114784, 114811, 114815, 114886, 114915, 114978, 114979, 115021, 115183, 115210, 115275, 115339, 115434, 115449, 115459, 115515, 115774, 115879, 115923, 116038, 116085, 116121, 116170, 116391, 116487, 116532, 116603, 116606, 116679, 116848, 116885, 116890, 117005, 117099, 117217, 117295, 117301, 117313, 117455, 117457, 117562, 117564, 117580, 117675, 117746, 117889, 117920, 118082, 118173, 118181, 118206, 118281, 118512, 118517, 118819, 118833, 118852, 119013, 119047, 119060, 119235, 119296, 119314, 119356, 119510, 119667, 119772, 119797, 119874, 119907, 119976, 120046, 120210, 120234, 120323, 120368, 120405, 120406, 120420, 120453, 120750, 120951, 121003, 121123, 121128, 121174, 121181, 121291, 121438, 121447, 121714, 121726, 121844, 121877, 121935, 121972, 121990, 122065, 122088, 122109, 122111, 122220, 122255, 122548, 122569, 122695, 122783, 122981, 123006, 123144, 123228, 123317, 123344, 123362, 123372, 123441, 123495, 123559, 123693, 123718, 124077, 124188, 124190, 124264, 124310, 124529, 124608, 124664, 124738, 124764, 124768, 124853, 124935, 125030, 125121, 125237, 125279, 125362, 125398, 125416, 125456, 125506, 125657, 126077, 126162, 126206, 126344, 126380, 126419, 126553, 126582, 126720, 126826, 126837, 126841, 126884, 127008, 127049, 127088, 127192, 127337, 127388, 127523, 127554, 127728, 127938, 128023, 128047, 128261, 128289, 128319, 128398, 128554, 128612, 128722, 128723, 128741, 128802, 128869, 128937, 128959, 129173, 129190, 129194, 129765, 129808, 129954, 130107, 130170, 130547, 130740, 130927, 130976, 131030, 131041, 131114, 131136, 131147, 131156, 131157, 131215, 131232, 131278, 131409, 131476, 131509, 131526, 131658, 131684, 131766, 131804, 131806, 131810, 131830, 131877, 132042, 132065, 132077, 132197, 132272, 132284, 132306, 132310, 132345, 132410, 132489, 132509, 132550, 132586, 132628, 132733, 133032, 133066, 133108, 133150, 133179, 133239, 133297, 133385, 133535, 133545, 133632, 133784, 133857, 133965, 134219, 134272, 134273, 134284, 134341, 134354, 134436, 134450, 134532, 134695, 134704, 134824, 134886, 135031, 135062, 135069, 135151, 135158, 135192, 135349, 135462, 135473, 135518, 135580, 135777, 135874, 135875, 136118, 136251, 136265, 136292, 136346, 136369, 136405, 136422, 136533, 136595, 136624, 136711, 136796, 136861, 136973, 137356, 137364, 137409, 137433, 137474, 137482, 137531, 137555, 137562, 137566, 137597, 137660, 137725, 137785, 137880, 137933, 137974, 138171, 138292, 138302, 138322, 138389, 138567, 138605, 138658, 138780, 138791, 138883, 138936, 138956, 138973, 139011, 139281, 139292, 139349, 139459, 139500, 139768, 139908, 139920, 139933, 140024, 140045, 140063, 140127, 140315, 140412, 140434, 140477, 140505, 140602, 140740, 140871, 140905, 140954, 141069, 141090, 141129, 141265, 141311, 141319, 141379, 141391, 141447, 141491, 141519, 141596, 141606, 141717, 141805, 141856, 141871, 141961, 142025, 142045, 142082, 142085, 142186, 142279, 142432, 142457, 142483, 142625, 142702, 142718, 142933, 142995, 143077, 143132, 143385, 143407, 143455, 143480, 143487, 143558, 143699, 143875, 143933, 144031, 144072, 144135, 144199, 144312, 144358, 144424, 144434, 144471, 144474, 144535, 144581, 144800, 144814, 144890, 145021, 145034, 145102, 145103, 145161, 145251, 145473, 145501, 145533, 145581, 145687, 145704, 145840, 146014, 146091, 146109, 146116, 146302, 146322, 146363, 146514, 146547, 146623, 146695, 146739, 146773, 146774, 146803, 146806, 146943, 146947, 147140, 147348, 147591, 147753, 147820, 147833, 147917, 148067, 148151, 148507, 148510, 148666, 148776, 148785, 148826, 148896, 148933, 148935, 148961, 148994, 148997, 149021, 149108, 149139, 149162, 149187, 149244, 149253, 149316, 149562, 149746, 149782, 149788, 149811, 149813, 149822, 149970], 2.0: [98, 364, 464, 669, 805, 945, 1084, 1099, 1276, 1314, 1608, 1618, 1673, 1742, 1769, 1879, 2010, 2056, 2179, 2734, 2755, 2834, 2840, 2996, 3065, 3104, 3190, 3573, 3643, 3657, 3766, 3816, 3827, 4014, 4105, 4121, 4308, 4379, 4506, 4724, 4853, 5215, 5549, 5728, 5954, 5955, 6106, 6164, 6193, 6301, 6313, 6320, 6342, 6499, 6615, 6973, 6978, 7103, 7193, 7281, 7298, 7535, 7584, 7702, 7710, 7728, 7807, 7878, 8001, 8298, 8315, 8392, 8622, 8692, 8706, 8738, 8934, 9073, 9142, 9185, 9253, 9417, 9439, 9552, 9607, 9699, 9889, 9922, 9939, 10170, 10207, 10523, 10549, 10683, 10702, 10737, 10775, 10776, 10822, 10919, 11118, 11145, 11221, 11297, 11304, 11319, 11391, 11426, 11438, 11465, 11642, 11670, 11761, 11880, 11936, 11966, 12013, 12301, 12454, 12555, 12635, 12690, 12761, 12782, 12896, 13226, 13301, 13380, 13384, 13413, 13453, 13597, 13654, 13879, 13883, 13919, 13988, 14375, 14400, 14416, 14510, 14556, 14589, 14673, 14677, 14731, 14835, 14870, 14927, 15147, 15215, 15297, 15482, 15488, 15501, 15538, 15929, 15998, 16115, 16299, 16424, 16470, 16567, 16614, 17087, 17152, 17599, 17609, 17697, 17762, 17896, 17926, 18122, 18191, 18269, 18508, 18619, 18670, 18726, 18738, 19107, 19482, 19694, 19821, 20076, 20085, 20093, 20214, 20216, 20287, 20306, 20405, 20487, 20501, 20827, 20877, 20889, 21079, 21153, 21299, 21343, 21405, 21817, 21899, 21991, 22091, 22114, 22240, 22328, 22770, 23063, 23387, 23390, 23416, 23561, 23562, 23815, 23966, 23999, 24054, 24091, 24257, 24301, 24348, 24471, 24500, 24519, 24564, 24602, 25190, 25258, 25550, 25565, 25752, 25924, 25960, 26006, 26127, 26236, 26256, 26325, 26499, 26532, 26697, 26791, 26839, 26843, 26848, 26980, 27150, 27623, 27641, 27714, 27830, 27847, 27888, 28028, 28076, 28149, 28265, 28312, 28350, 28435, 28502, 28514, 28546, 28696, 28705, 28805, 28872, 28942, 29000, 29035, 29281, 29470, 29471, 29753, 29856, 29932, 30005, 30264, 30330, 30409, 30459, 30747, 30833, 31041, 31194, 31458, 31580, 31673, 31930, 31974, 32217, 32254, 32284, 32332, 32417, 32483, 32675, 32677, 32942, 33028, 33048, 33059, 33175, 33205, 33221, 33394, 33532, 34079, 34189, 34205, 34217, 34345, 34377, 34516, 34771, 34853, 34966, 35071, 35084, 35496, 35575, 35712, 35857, 36227, 36243, 36594, 36615, 36669, 36788, 36807, 36842, 37073, 37076, 37083, 37105, 37144, 37219, 37268, 37283, 37369, 37532, 37620, 37765, 37848, 38256, 38561, 38730, 38761, 38838, 38893, 38912, 38917, 39293, 39411, 39499, 39690, 39816, 39821, 39852, 40010, 40116, 40205, 40265, 40321, 40470, 40703, 40711, 40899, 41058, 41358, 41493, 41689, 41757, 41780, 41915, 42051, 42100, 42233, 42283, 42430, 42620, 42738, 42822, 43060, 43139, 43308, 43598, 43604, 43833, 43941, 44016, 44032, 44052, 44136, 44232, 44242, 44399, 44583, 44662, 44812, 44921, 44973, 44977, 45365, 45525, 45539, 45574, 45636, 45965, 46167, 46310, 46534, 46575, 46686, 46844, 47319, 47378, 47389, 47436, 47512, 47641, 47662, 47699, 47909, 48053, 48054, 48127, 48212, 48245, 48373, 48387, 48465, 48597, 48675, 48708, 48718, 48744, 48932, 48953, 49012, 49223, 49253, 49340, 49379, 49449, 49495, 49544, 49579, 49628, 50069, 50097, 50107, 50190, 50316, 50321, 50437, 50665, 50736, 50776, 50815, 50930, 51002, 51123, 51237, 51290, 51372, 51554, 51598, 51699, 51791, 51933, 51953, 52015, 52094, 52231, 52283, 52327, 52388, 52424, 52544, 52553, 52675, 52738, 52992, 53078, 53095, 53266, 53459, 53470, 53492, 53507, 53750, 53931, 54089, 54255, 54256, 54317, 54372, 54402, 54511, 54671, 54751, 54805, 54955, 54972, 55039, 55197, 55213, 55299, 55323, 55476, 55527, 55582, 55607, 55645, 55842, 55911, 55928, 55946, 56075, 56264, 56431, 56514, 56602, 56643, 56660, 56675, 56812, 56963, 56971, 57198, 57389, 57707, 57767, 57903, 57986, 58006, 58235, 58324, 58659, 59120, 59151, 59202, 59261, 59362, 59364, 59894, 60080, 60181, 60241, 60345, 60384, 60438, 60553, 60560, 60674, 60732, 60946, 60948, 60986, 61171, 61751, 61899, 62102, 62150, 62175, 62355, 62392, 62695, 62738, 62907, 63103, 63362, 63457, 63464, 63614, 63709, 63776, 63819, 63995, 64102, 64247, 64386, 64463, 64467, 64527, 64555, 64573, 64726, 64907, 65000, 65130, 65364, 65489, 65552, 65616, 65671, 65932, 66057, 66515, 66652, 66737, 67023, 67100, 67172, 67189, 67333, 67336, 67440, 67516, 67538, 68036, 68078, 68213, 68289, 68362, 68494, 68495, 68540, 68689, 68848, 68957, 68970, 69069, 69138, 69175, 69205, 69287, 69313, 69501, 69577, 69627, 69673, 69690, 69737, 70085, 70253, 70348, 70385, 70532, 70719, 70874, 71202, 71221, 71271, 71286, 71331, 71393, 71445, 71604, 71672, 71673, 71781, 71840, 71944, 72027, 72381, 72414, 72582, 72881, 72972, 73135, 73213, 73241, 73335, 73362, 73413, 73572, 73720, 73730, 73752, 73860, 73979, 73991, 74133, 74214, 74351, 74389, 74510, 74651, 74835, 74959, 75171, 75308, 75362, 75438, 75509, 75680, 75689, 75825, 76061, 76198, 76321, 76410, 76412, 76439, 76535, 76578, 76680, 76711, 76761, 76789, 76795, 76993, 77024, 77038, 77058, 77135, 77155, 77249, 77262, 77270, 77532, 77770, 77802, 77920, 77942, 78022, 78062, 78086, 78149, 78289, 78333, 78337, 78783, 78912, 78985, 78996, 79270, 79346, 79450, 79596, 79662, 80237, 80238, 80284, 80367, 80374, 80472, 80490, 80495, 80512, 80563, 80602, 80619, 80923, 81038, 81126, 81200, 81235, 81288, 81486, 81489, 81642, 81676, 81778, 81785, 81998, 82153, 82267, 82311, 82388, 82503, 82615, 82659, 82771, 82776, 82823, 82870, 82902, 82914, 83024, 83225, 83340, 83415, 83477, 83608, 83840, 83983, 84007, 84020, 84141, 84173, 84235, 84282, 84583, 84602, 84829, 84928, 84954, 85034, 85090, 85188, 85364, 85486, 85904, 85912, 86025, 86135, 86207, 86523, 86626, 86687, 86731, 86744, 86748, 86915, 87006, 87016, 87043, 87158, 87192, 87223, 87256, 87308, 87376, 88121, 88333, 88363, 88545, 88795, 88827, 88864, 88904, 89011, 89317, 89574, 89628, 89788, 90079, 90107, 90110, 90239, 90468, 90477, 90500, 90528, 90530, 90855, 90945, 90963, 91127, 91444, 91452, 91481, 91737, 91770, 91983, 92302, 92780, 92846, 92904, 93162, 93372, 93506, 93563, 93565, 93568, 93671, 93762, 93849, 93968, 94072, 94097, 94114, 94155, 94223, 94234, 94314, 94330, 94502, 94579, 94865, 94999, 95011, 95179, 95272, 95379, 95424, 95620, 95694, 95922, 96424, 96610, 96745, 96797, 96820, 96879, 96887, 97338, 97415, 97459, 97578, 97760, 97784, 97868, 98079, 98184, 98440, 98477, 98519, 98571, 98731, 98847, 98876, 98879, 98995, 99042, 99182, 99215, 99390, 99421, 99476, 99996, 100034, 100063, 100217, 100317, 100536, 100550, 100639, 100790, 100957, 100993, 101157, 101270, 101734, 101801, 101886, 102029, 102699, 102895, 103064, 103097, 103307, 103377, 103428, 103445, 103557, 103562, 103599, 103652, 103705, 103808, 103901, 103925, 103972, 104064, 104626, 104716, 104815, 105165, 105250, 105271, 105380, 105430, 105484, 105496, 105571, 105639, 105735, 105997, 106105, 106154, 106226, 106547, 106654, 106655, 106686, 106749, 106817, 106827, 106964, 107017, 107292, 107593, 107689, 107695, 107714, 107759, 107812, 107820, 107862, 107939, 108202, 108227, 108336, 108414, 108452, 108504, 108606, 108931, 109189, 109231, 109347, 109417, 109583, 109734, 109892, 109903, 109947, 109972, 110128, 110327, 110430, 110626, 110695, 110912, 110953, 110977, 111232, 111776, 111804, 111858, 111870, 111878, 112173, 112290, 112393, 112434, 112472, 112538, 112596, 112626, 112716, 112734, 112774, 112786, 112933, 113000, 113017, 113022, 113028, 113042, 113278, 113305, 113389, 113408, 113484, 113552, 113623, 113999, 114089, 114143, 114242, 114272, 114289, 114318, 114344, 114401, 114435, 114451, 114824, 114868, 115137, 115294, 115391, 115395, 115433, 115507, 115538, 115761, 116066, 116093, 116107, 116180, 116291, 116292, 116386, 116480, 116507, 116529, 116645, 116725, 116728, 116978, 117129, 117142, 117184, 117204, 117429, 117454, 117458, 117538, 117581, 117706, 117740, 117994, 118072, 118319, 118368, 118600, 118625, 118663, 118758, 118903, 118910, 119006, 119070, 119093, 119147, 119187, 119237, 119629, 119654, 119694, 119878, 119885, 119975, 119981, 119982, 120026, 120204, 120356, 120515, 120590, 120598, 120696, 120759, 120794, 120847, 120971, 121135, 121141, 121189, 121685, 122018, 122038, 122218, 122257, 122333, 122420, 122712, 122729, 123099, 123122, 123298, 123465, 123555, 123576, 123665, 123840, 124046, 124133, 124138, 124163, 124266, 124332, 124337, 124443, 124455, 124703, 124881, 124887, 124929, 124983, 125002, 125057, 125247, 125311, 125334, 125509, 125741, 125910, 126126, 126157, 126274, 126324, 126331, 126384, 126441, 127080, 127200, 127219, 127234, 127252, 127453, 127454, 127484, 127510, 127929, 127990, 128016, 128040, 128066, 128120, 128282, 128800, 128827, 128928, 129112, 129155, 129226, 129252, 129305, 129537, 129779, 129852, 129982, 130219, 130304, 130370, 130640, 130646, 130647, 130795, 130802, 130842, 130910, 131826, 131938, 131991, 132201, 132402, 132465, 132645, 132683, 132686, 132814, 132908, 132981, 133149, 133153, 133346, 133651, 133730, 133875, 133905, 133911, 133963, 134224, 134261, 134398, 134603, 134622, 134761, 135101, 135311, 135471, 135507, 135542, 135577, 135603, 135726, 135741, 135809, 135813, 135873, 135903, 136077, 136185, 136246, 136318, 136649, 136650, 136670, 136788, 136810, 137167, 137385, 137463, 137476, 137521, 137599, 137715, 137925, 137980, 137990, 137994, 138024, 138079, 138117, 138170, 138210, 138268, 138276, 138451, 138565, 138568, 138598, 138758, 138761, 139002, 139241, 139616, 139618, 139740, 139800, 140015, 140437, 140603, 140674, 140718, 140807, 140883, 140956, 140982, 140989, 141039, 141094, 141101, 141186, 141470, 141683, 141782, 141912, 142187, 142215, 142247, 142440, 142565, 142613, 142642, 142671, 143323, 143430, 143604, 143617, 143622, 143995, 144000, 144479, 144615, 144670, 144677, 144741, 145036, 145248, 145383, 145452, 145545, 145632, 145844, 145871, 145890, 145900, 145981, 146077, 146220, 146470, 146570, 146611, 146988, 147359, 147738, 147741, 147799, 147823, 147928, 148186, 148246, 148533, 148565, 148608, 148665, 148806, 149007, 149009, 149086, 149119, 149213, 149299, 149377, 149425, 149530, 149723, 149870, 149911], 3.0: [417, 486, 953, 1043, 1255, 1321, 1609, 2343, 2776, 3040, 4183, 4301, 4318, 4501, 4674, 4770, 5045, 6085, 6172, 6961, 7199, 7454, 7831, 8014, 8463, 8643, 8652, 9603, 9728, 9797, 9845, 9887, 9974, 10425, 11693, 11851, 12127, 12295, 12390, 12780, 12915, 13155, 13182, 13429, 14096, 14199, 14331, 15189, 15252, 15701, 15708, 15851, 15898, 16188, 16421, 16425, 16445, 16641, 16871, 17456, 18125, 18321, 19005, 19939, 20952, 21321, 21364, 21538, 22042, 23059, 24064, 24456, 24661, 25500, 25593, 25783, 26876, 27699, 27946, 28143, 28329, 28509, 28887, 29150, 29152, 29226, 29240, 29534, 30130, 31281, 31802, 32031, 32329, 34779, 34965, 35263, 35325, 35412, 35467, 35517, 35935, 36262, 36368, 36399, 36979, 37150, 37472, 37693, 37711, 37784, 37839, 38050, 38167, 38189, 38708, 39271, 39349, 39405, 40227, 40429, 40516, 40652, 40912, 41194, 41291, 41817, 42065, 42287, 42990, 43292, 43776, 43905, 44049, 44505, 44750, 44787, 44968, 45197, 45389, 46483, 46554, 46813, 46987, 47034, 47238, 47705, 48018, 49316, 49500, 50970, 50982, 51486, 51612, 51679, 51700, 51990, 52100, 52282, 52887, 53196, 53380, 53992, 54604, 54826, 55194, 56769, 56920, 56973, 57256, 57279, 58358, 58560, 58930, 59653, 60071, 60482, 60499, 60939, 61356, 61402, 61715, 63074, 63340, 63395, 63568, 63854, 63926, 65453, 65531, 65688, 65900, 65910, 66194, 66732, 66887, 67388, 67933, 68318, 68449, 69214, 69219, 69258, 69552, 69672, 70497, 71090, 71391, 71412, 71457, 71477, 72127, 72334, 72349, 72500, 72666, 72922, 73352, 73875, 74428, 74452, 75847, 76025, 76035, 76173, 76556, 77100, 77179, 77521, 78340, 78531, 78776, 79059, 79154, 79193, 79313, 80097, 80360, 80729, 80806, 80861, 81294, 82443, 82448, 82792, 82937, 83933, 84021, 84025, 85311, 85804, 85903, 85982, 87287, 87398, 87554, 87897, 87965, 88099, 88613, 89163, 89645, 90767, 91516, 92074, 92080, 92403, 94171, 94431, 94477, 95260, 96208, 96595, 98389, 98881, 99193, 99212, 100527, 100649, 100743, 101015, 101413, 101705, 101729, 102028, 102061, 102159, 102338, 102562, 102809, 102958, 103233, 103645, 103875, 103975, 104007, 104236, 105446, 105702, 106491, 106614, 106814, 106884, 107194, 107743, 108636, 109412, 110380, 110415, 110551, 110675, 112184, 112561, 112823, 112863, 113113, 113241, 113364, 113671, 113943, 114179, 114569, 114821, 114849, 115342, 115369, 115397, 116227, 117275, 117702, 117865, 117939, 118318, 118535, 118829, 118951, 119547, 119680, 120280, 120559, 120563, 121191, 121849, 122838, 123681, 123796, 124021, 124267, 124786, 125087, 125197, 125699, 126149, 126359, 126614, 126617, 127322, 128041, 128494, 129136, 129147, 129410, 129414, 129442, 129467, 129542, 129905, 130268, 130325, 130674, 130678, 131545, 131867, 132183, 132915, 132967, 133220, 133634, 133831, 134249, 134316, 134318, 134428, 134458, 134747, 135150, 135165, 135310, 136098, 136419, 137309, 137398, 137438, 137976, 138056, 138364, 139172, 139216, 140379, 141231, 141331, 141383, 141532, 142088, 142539, 142609, 143090, 143206, 143311, 143492, 143572, 143751, 143965, 144034, 144126, 144488, 144499, 145205, 145373, 145604, 145617, 145679, 146111, 146354, 147482, 147813, 148381, 148482, 148610, 148779, 148823, 149002, 149097, 149200, 149276], 4.0: [42, 377, 1399, 1504, 1988, 2533, 3111, 3591, 3720, 3768, 4373, 4551, 4567, 5013, 5694, 6480, 6639, 6916, 7625, 7880, 8944, 9072, 9206, 9870, 10603, 10680, 10936, 11504, 12389, 14340, 14519, 15519, 15825, 16127, 16192, 16298, 16986, 17213, 17769, 18573, 19415, 20299, 20310, 20339, 20518, 21012, 21619, 21892, 22206, 22507, 23016, 23200, 23880, 24025, 24307, 24832, 25140, 25430, 26519, 26684, 27014, 27034, 27110, 28196, 28915, 28978, 29384, 29644, 29788, 30084, 30925, 30954, 31039, 31396, 32240, 33113, 33520, 33575, 33699, 34672, 35874, 36192, 36208, 36845, 38103, 38152, 38575, 38848, 39431, 39663, 40089, 40599, 41372, 41505, 42376, 42643, 42648, 44198, 44229, 45706, 46094, 46104, 46105, 46452, 46957, 47805, 48905, 49511, 49547, 50121, 50542, 50580, 51248, 51735, 52328, 52600, 53161, 53234, 54117, 54190, 54647, 55915, 56282, 56501, 57133, 57621, 58740, 59304, 59522, 60034, 60274, 60598, 60757, 60919, 61485, 61558, 61815, 61918, 62965, 63125, 63136, 63218, 63479, 63642, 63902, 64063, 64354, 64798, 65532, 65738, 65924, 66304, 66689, 67005, 68065, 68138, 68324, 69031, 69405, 69693, 70068, 70271, 70502, 70624, 70844, 71919, 72105, 72116, 72236, 72630, 72725, 72773, 73775, 75033, 75063, 75754, 76020, 76348, 76654, 76692, 76762, 76973, 77281, 77934, 78186, 79290, 79583, 79687, 79872, 81637, 81862, 82183, 82209, 83074, 84414, 84492, 84782, 86123, 86834, 86925, 87070, 87159, 88002, 88249, 88434, 88899, 89033, 89706, 90567, 91148, 91766, 91996, 92108, 93082, 93153, 94117, 94209, 94667, 95279, 95500, 95808, 95894, 96491, 96861, 97352, 98141, 98330, 98661, 98702, 99804, 100002, 100329, 100377, 100496, 100570, 100779, 101234, 102255, 102441, 102906, 103313, 104661, 104702, 104723, 105028, 105815, 107229, 107666, 108347, 108927, 109226, 109426, 109674, 109834, 109993, 110965, 111665, 111848, 112137, 112711, 112958, 113963, 114376, 115196, 115706, 115755, 116815, 117120, 117575, 117915, 119610, 119906, 121362, 121458, 122986, 123241, 124067, 124180, 124187, 124515, 125078, 125627, 125768, 125887, 126108, 126592, 126597, 126844, 127030, 127726, 128347, 129558, 129759, 129989, 130091, 130094, 130796, 130831, 131001, 131949, 132708, 132824, 133132, 135011, 135797, 135971, 136149, 136468, 137040, 139129, 139280, 140349, 140441, 140789, 141019, 141254, 142183, 142289, 143214, 143216, 144180, 144293, 144465, 144794, 145684, 145823, 146139, 146942, 147052, 147253, 147358, 147661, 147810, 148171, 149153], 5.0: [272, 1632, 1783, 1949, 2349, 2634, 2983, 4020, 4784, 5080, 5812, 6007, 6263, 6568, 7747, 8844, 9317, 9348, 9684, 10210, 10219, 10326, 11346, 11379, 12482, 12614, 12916, 14313, 14721, 15835, 15937, 16229, 16363, 16604, 16902, 17396, 17691, 21275, 21782, 22323, 22564, 25007, 25631, 26017, 26037, 26059, 26222, 26271, 26710, 27679, 28677, 29283, 30899, 32147, 32445, 34253, 34283, 35655, 36066, 38353, 38574, 38589, 39002, 39759, 40088, 40990, 41436, 41612, 42158, 42851, 42956, 43174, 43847, 43917, 43988, 44980, 45747, 46531, 46795, 47186, 47189, 47225, 47787, 47839, 47937, 47946, 48733, 48965, 49020, 50020, 50179, 50654, 51684, 52295, 54424, 54455, 55571, 55985, 56620, 56810, 56888, 57253, 58059, 58069, 58434, 59541, 59675, 59720, 59725, 60094, 61021, 61851, 61996, 62631, 62978, 63141, 63937, 64032, 64949, 64986, 65976, 66814, 67892, 67896, 68201, 68709, 68747, 70118, 70243, 71140, 71506, 72060, 72121, 73106, 74211, 74816, 75654, 75951, 76258, 77915, 78923, 79648, 79852, 79959, 80317, 80638, 81175, 81260, 81677, 81683, 81735, 81978, 82003, 83346, 83741, 84086, 84199, 84478, 84636, 84773, 84863, 85061, 86316, 86747, 86904, 86912, 88656, 88941, 89086, 89844, 90154, 91183, 91235, 91594, 91613, 92351, 92832, 93065, 93660, 94401, 95265, 96035, 96410, 97355, 97467, 97478, 97840, 99198, 99890, 100386, 100727, 101431, 102333, 102952, 103044, 103663, 104000, 104576, 104876, 104932, 105129, 105224, 105459, 105894, 107487, 108587, 109553, 109971, 110139, 110771, 111186, 113230, 113706, 113743, 113819, 114372, 114397, 115945, 116036, 116236, 117817, 117984, 118471, 118578, 119272, 119278, 119780, 120478, 120518, 121349, 121724, 122016, 122643, 122854, 124157, 124284, 124315, 126211, 126724, 128215, 129356, 129867, 130613, 131072, 133057, 133425, 133797, 133978, 134566, 134801, 136162, 137395, 139521, 139872, 139948, 139990, 140469, 140927, 141165, 141463, 141738, 143562, 143761, 144536, 144644, 145307, 145328, 145484, 146908, 147681, 148543, 149171, 149329, 149353, 149499, 149933], 6.0: [218, 6453, 6645, 7190, 8395, 11289, 12028, 12546, 13832, 14246, 15313, 16073, 17189, 20333, 21173, 21233, 22029, 22386, 24059, 25379, 26307, 27970, 28764, 28829, 29754, 30669, 31176, 31457, 32601, 33183, 33243, 34338, 34669, 35193, 35340, 36015, 36876, 37243, 37713, 38511, 38859, 38923, 39102, 41594, 43213, 43332, 43338, 44019, 45060, 45201, 49796, 49988, 51955, 52382, 52700, 54789, 56589, 57606, 58592, 58731, 59340, 59540, 60153, 61615, 62816, 63010, 63353, 63644, 63878, 63982, 64023, 67332, 68004, 68297, 68375, 69084, 69715, 70644, 71318, 71804, 73694, 75187, 75775, 76230, 76682, 76719, 78409, 80591, 80696, 81378, 82009, 82302, 83094, 87559, 88666, 88855, 89054, 90166, 90269, 90808, 91138, 92312, 92809, 93387, 93613, 94285, 94355, 94839, 96848, 97943, 98938, 103764, 103831, 104952, 106126, 108473, 109160, 110576, 111880, 112895, 114880, 115666, 115790, 116384, 118329, 118892, 120086, 120642, 123834, 124751, 125189, 125264, 126766, 126838, 127757, 128354, 128362, 128453, 128706, 129388, 130295, 131881, 133708, 135280, 135930, 136374, 136423, 137659, 138207, 139278, 141052, 143340, 143689, 144343, 144371, 144506, 145086, 145477, 145837, 146595, 146998, 147553, 147637, 147727, 148622], 7.0: [1469, 1555, 3026, 4437, 7213, 8969, 9226, 19774, 21216, 22336, 23744, 24955, 28092, 29186, 30205, 32303, 32841, 33682, 33988, 35337, 35797, 35954, 37508, 45162, 46418, 47795, 50389, 50788, 51063, 52292, 52839, 54231, 54466, 55800, 56152, 58698, 59658, 60796, 61494, 62107, 62318, 62587, 64987, 65270, 69897, 70737, 70935, 74030, 74760, 77413, 77642, 82037, 82496, 87301, 87355, 87577, 87706, 90015, 90459, 90913, 91027, 92168, 92352, 94003, 94891, 95456, 97202, 97566, 98341, 98483, 100453, 101739, 103982, 104706, 105589, 108368, 111277, 112240, 113626, 114627, 115140, 115486, 117783, 118233, 118490, 119231, 119358, 119366, 120867, 120877, 121512, 122718, 124767, 127712, 128877, 129433, 129435, 134067, 134313, 135432, 136517, 138242, 138405, 138993, 140027, 142510, 146068, 146432, 147248, 148169, 149502, 149756]}\n",
      "{0.0: [4, 77, 135, 146, 150, 174, 175, 184, 322, 376, 411, 452, 457, 458, 518, 523, 560, 618, 632, 663, 718, 719, 796, 845, 869, 942, 993, 997, 1039, 1069, 1126, 1246, 1268, 1294, 1298, 1349, 1352, 1391, 1450, 1466, 1516, 1617, 1624, 1674, 1699, 1716, 1774, 1801, 1809, 1867, 1874, 1882, 1905, 1923, 1930, 1934, 1962, 1967, 1980, 2008, 2018, 2050, 2137, 2148, 2241, 2257, 2273, 2298, 2317, 2358, 2437, 2497, 2531, 2564, 2677, 2744, 2786, 2810, 2830, 2945, 2989, 3060, 3117, 3189, 3256, 3257, 3272, 3275, 3291, 3301, 3313, 3415, 3450, 3463, 3537, 3592, 3596, 3647, 3673, 3754, 3787, 3800, 3834, 3856, 3857, 3903, 3907, 3911, 3912, 3915, 3937, 3965, 4019, 4057, 4126, 4174, 4192, 4234, 4280, 4283, 4293, 4295, 4445, 4448, 4524, 4626, 4633, 4660, 4674, 4723, 4738, 4824, 4839, 4842, 4868, 4917, 4949, 4957, 4962, 4997, 5047, 5084, 5092, 5122, 5155, 5174, 5182, 5234, 5263, 5271, 5272, 5303, 5311, 5447, 5534, 5680, 5709, 5715, 5747, 5829, 5891, 5978, 6099, 6138, 6181, 6320, 6326, 6341, 6417, 6503, 6575, 6730, 6750, 6845, 6851, 6859, 6894, 6910, 6931, 6950, 6991, 7088, 7090, 7091, 7105, 7127, 7136, 7217, 7226, 7244, 7294, 7300, 7392, 7437, 7454, 7457, 7531, 7545, 7555, 7629, 7630, 7652, 7691, 7695, 7708, 7742, 7759, 7902, 7909, 7930, 7932, 7952, 7958, 8049, 8149, 8190, 8211, 8285, 8300, 8408, 8465, 8477, 8538, 8572, 8687, 8693, 8767, 8783, 8801, 8803, 8818, 8820, 8827, 8849, 8857, 8921, 8923, 8930, 8954, 9036, 9111, 9129, 9202, 9233, 9251, 9279, 9350, 9396, 9464, 9484, 9508, 9560, 9565, 9689, 9815, 9896, 9910, 9911, 9933, 9987, 10015, 10043, 10082, 10116, 10179, 10208, 10260, 10450, 10468, 10539, 10579, 10592, 10626, 10661, 10674, 10762, 10767, 10796, 10812, 10874, 11063, 11079, 11101, 11116, 11122, 11176, 11212, 11216, 11238, 11250, 11306, 11384, 11415, 11543, 11566, 11604, 11627, 11667, 11795, 11834, 12073, 12095, 12133, 12148, 12178, 12208, 12277, 12316, 12346, 12359, 12422, 12425, 12440, 12453, 12533, 12545, 12561, 12622, 12755, 12759, 12761, 12814, 12820, 12924, 12992, 13009, 13072, 13075, 13099, 13133, 13145, 13176, 13209, 13238, 13242, 13257, 13282, 13307, 13332, 13336, 13397, 13430, 13577, 13614, 13623, 13633, 13650, 13654, 13677, 13702, 13718, 13724, 13768, 13769, 13774, 13784, 13796, 13809, 13827, 13842, 13905, 13935, 13944, 13945, 13951, 13967, 14003, 14093, 14132, 14184, 14231, 14267, 14298, 14352, 14368, 14389, 14425, 14440, 14543, 14561, 14608, 14677, 14690, 14735, 14737, 14750, 14766, 14798, 14918, 14938, 14955, 14963, 14985, 15003, 15007, 15022, 15037, 15078, 15159, 15175, 15228, 15375, 15381, 15526, 15549, 15554, 15611, 15674, 15764, 15827, 15840, 15869, 15888, 15936, 15947, 15997, 16043, 16044, 16051, 16095, 16097, 16107, 16144, 16145, 16178, 16203, 16244, 16320, 16437, 16448, 16464, 16518, 16530, 16551, 16584, 16631, 16640, 16672, 16722, 16736, 16792, 16846, 16870, 16893, 16943, 16967, 16976, 16993, 17021, 17037, 17141, 17217, 17223, 17226, 17349, 17351, 17358, 17375, 17512, 17540, 17592, 17611, 17761, 17785, 17826, 18091, 18108, 18153, 18167, 18204, 18237, 18312, 18341, 18354, 18407, 18474, 18529, 18579, 18590, 18607, 18660, 18684, 18713, 18801, 18835, 18851, 18867, 18920, 18968, 18973, 18984, 19003, 19040, 19047, 19089, 19106, 19204, 19242, 19243, 19249, 19284, 19307, 19367, 19389, 19457, 19464, 19486, 19505, 19568, 19633, 19651, 19690, 19739, 19794, 19822, 19826, 19861, 19918, 19942, 19949, 19983, 20027, 20039, 20048, 20061, 20079, 20086, 20137, 20256, 20263, 20272, 20284, 20385, 20449, 20458, 20506, 20525, 20529, 20546, 20552, 20569, 20580, 20582, 20633, 20699, 20813, 20907, 20962, 21025, 21089, 21160, 21172, 21183, 21220, 21313, 21326, 21363, 21411, 21420, 21448, 21493, 21531, 21572, 21580, 21591, 21601, 21727, 21745, 21753, 21772, 21789, 21864, 21930, 21933, 21935, 21937, 21948, 21986, 22016, 22031, 22052, 22103, 22125, 22152, 22155, 22225, 22258, 22286, 22287, 22303, 22315, 22328, 22347, 22379, 22506, 22515, 22520, 22623, 22697, 22738, 22883, 22897, 22936, 22965, 22983, 23009, 23072, 23164, 23172, 23180, 23181, 23196, 23223, 23240, 23276, 23381, 23420, 23450, 23459, 23475, 23615, 23761, 23790, 23795, 23843, 23854, 23887, 24008, 24016, 24090, 24148, 24149, 24172, 24183, 24190, 24194, 24218, 24241, 24242, 24260, 24263, 24339, 24362, 24401, 24437, 24486, 24492, 24495, 24560, 24565, 24635, 24740, 24747, 24750, 24799, 24848, 24855, 24861, 24866, 24879, 24956, 24979, 24989, 25005, 25141, 25156, 25163, 25316, 25339, 25366, 25370, 25373, 25399, 25427, 25435, 25461, 25472, 25487, 25501, 25516, 25564, 25570, 25599, 25616, 25639, 25685, 25752, 25778, 25785, 25806, 25818, 25838, 25868, 25870, 25881, 25909, 25935, 25996, 25999, 26017, 26159, 26163, 26358, 26439, 26444, 26505, 26510, 26539, 26545, 26584, 26592, 26596, 26638, 26678, 26741, 26793, 26828, 26843, 26919, 26921, 26944, 26997, 27035, 27052, 27094, 27131, 27140, 27253, 27269, 27377, 27428, 27449, 27456, 27473, 27507, 27510, 27565, 27581, 27617, 27661, 27719, 27822, 27825, 27989, 28011, 28034, 28079, 28111, 28149, 28153, 28221, 28303, 28325, 28369, 28402, 28407, 28458, 28517, 28524, 28551, 28553, 28622, 28630, 28642, 28647, 28650, 28660, 28684, 28689, 28697, 28770, 28781, 28857, 28902, 28903, 28951, 28983, 29016, 29127, 29168, 29195, 29197, 29395, 29431, 29437, 29487, 29551, 29572, 29581, 29605, 29702, 29731, 29740, 29748, 29760, 29768, 29910, 29939, 29955, 29980, 30065, 30078, 30091, 30114, 30146, 30172, 30188, 30212, 30218, 30263, 30297, 30310, 30318, 30327, 30348, 30360, 30364, 30372, 30459, 30485, 30505, 30531, 30539, 30574, 30583, 30619, 30643, 30652, 30684, 30725, 30727, 30737, 30832, 30838, 30850, 30859, 30876, 30917, 30929, 31106, 31112, 31149, 31245, 31246, 31263, 31353, 31359, 31376, 31425, 31451, 31458, 31472, 31497, 31503, 31529, 31540, 31581, 31616, 31714, 31716, 31745, 31751, 31796, 31814, 31844, 31878, 31977, 32001, 32056, 32058, 32106, 32310, 32339, 32469, 32646, 32654, 32713, 32737, 32744, 32769, 32860, 32866, 32915, 32977, 33023, 33069, 33073, 33081, 33089, 33091, 33172, 33177, 33225, 33314, 33348, 33444, 33448, 33475, 33530, 33573, 33575, 33624, 33669, 33709, 33742, 33757, 33901, 33918, 34099, 34128, 34157, 34172, 34187, 34214, 34216, 34338, 34409, 34419, 34431, 34451, 34511, 34527, 34536, 34550, 34592, 34593, 34685, 34751, 34853, 34904, 34946, 34949, 35028, 35059, 35074, 35082, 35088, 35128, 35146, 35148, 35188, 35218, 35252, 35297, 35333, 35373, 35382, 35400, 35413, 35529, 35555, 35626, 35631, 35653, 35660, 35679, 35700, 35795, 35901, 35963, 36074, 36129, 36164, 36166, 36193, 36317, 36348, 36385, 36409, 36437, 36466, 36479, 36482, 36515, 36516, 36520, 36530, 36552, 36582, 36633, 36640, 36650, 36742, 36744, 36753, 36879, 36968, 37005, 37022, 37042, 37044, 37115, 37126, 37175, 37219, 37263, 37269, 37286, 37299, 37324, 37339, 37342, 37343, 37378, 37391, 37425, 37493, 37494, 37503, 37532, 37573, 37582, 37595, 37602, 37648, 37846, 37847, 37849, 37850, 37928, 37954, 37975, 38022, 38047, 38146, 38149, 38153, 38226, 38228, 38290, 38309, 38347, 38379, 38387, 38408, 38473, 38484, 38525, 38578, 38609, 38651, 38671, 38819, 38834, 38860, 38862, 38904, 38926, 39061, 39063, 39070, 39256, 39304, 39337, 39457, 39460, 39472, 39489, 39538, 39544, 39636, 39648, 39658, 39664, 39760, 39766, 39770, 39936, 39959, 39984, 40006, 40046, 40051, 40061, 40068, 40070, 40087, 40098, 40134, 40148, 40238, 40268, 40310, 40349, 40414, 40421, 40491, 40496, 40552, 40586, 40601, 40613, 40619, 40644, 40738, 40768, 40897, 40945, 40977, 40999, 41042, 41046, 41078, 41116, 41152, 41221, 41228, 41235, 41255, 41271, 41285, 41296, 41314, 41339, 41345, 41423, 41434, 41488, 41542, 41572, 41605, 41639, 41702, 41706, 41805, 41810, 42003, 42115, 42120, 42154, 42202, 42203, 42211, 42212, 42239, 42386, 42392, 42406, 42421, 42454, 42458, 42480, 42482, 42492, 42541, 42563, 42577, 42593, 42645, 42658, 42668, 42686, 42700, 42724, 42729, 42759, 42796, 42797, 42817, 42897, 42924, 42929, 43096, 43131, 43134, 43234, 43257, 43281, 43309, 43310, 43311, 43329, 43428, 43516, 43539, 43595, 43624, 43655, 43767, 43789, 43814, 43888, 43915, 43958, 43982, 44020, 44044, 44109, 44132, 44283, 44294, 44443, 44564, 44597, 44645, 44653, 44658, 44660, 44723, 44829, 44876, 44896, 44942, 45091, 45109, 45178, 45231, 45234, 45237, 45303, 45332, 45470, 45480, 45541, 45555, 45598, 45642, 45658, 45736, 45768, 45831, 45916, 45958, 45976, 46000, 46047, 46095, 46097, 46143, 46177, 46198, 46254, 46303, 46312, 46320, 46326, 46334, 46366, 46382, 46403, 46526, 46545, 46588, 46594, 46628, 46699, 46756, 46793, 46818, 46854, 46928, 46934, 46951, 47005, 47020, 47023, 47086, 47130, 47143, 47200, 47246, 47256, 47292, 47294, 47345, 47360, 47368, 47383, 47388, 47399, 47417, 47424, 47464, 47492, 47511, 47558, 47580, 47635, 47638, 47657, 47667, 47681, 47803, 47814, 47863, 47892, 47908, 47918, 47928, 47978, 47998, 48026, 48030, 48068, 48074, 48105, 48147, 48195, 48246, 48262, 48294, 48387, 48406, 48408, 48418, 48509, 48536, 48584, 48585, 48620, 48759, 48799, 48884, 48912, 48913, 48947, 48984, 48992, 49107, 49121, 49160, 49230, 49235, 49237, 49302, 49304, 49318, 49356, 49386, 49396, 49435, 49503, 49508, 49644, 49683, 49690, 49707, 49769, 49776, 49825, 49849, 49865, 49871, 49909, 49916, 49922, 49934, 49995], 1.0: [15, 53, 137, 231, 309, 414, 422, 426, 529, 545, 579, 609, 626, 739, 773, 801, 1138, 1194, 1328, 1410, 1492, 1508, 1548, 1669, 1763, 1949, 2130, 2458, 2665, 2820, 2922, 2952, 3028, 3114, 3195, 3274, 3319, 3343, 3387, 3413, 3438, 3480, 3509, 3517, 3591, 3891, 3930, 4198, 4201, 4221, 4413, 4495, 4578, 4632, 4644, 4752, 4837, 5033, 5091, 5121, 5130, 5267, 5441, 5629, 5634, 5643, 5669, 5717, 5745, 5759, 5800, 5801, 5836, 5932, 5951, 6036, 6296, 6439, 6554, 6632, 6757, 6765, 6814, 6901, 7038, 7189, 7301, 7312, 7426, 7460, 7532, 7591, 7610, 7694, 7725, 7778, 7782, 7808, 8063, 8072, 8158, 8170, 8189, 8412, 8455, 8503, 8596, 8944, 8993, 9012, 9061, 9091, 9093, 9094, 9115, 9137, 9155, 9223, 9246, 9349, 9462, 9621, 9650, 9683, 9821, 9878, 9930, 9975, 9988, 10053, 10176, 10184, 10344, 10432, 10582, 10728, 10871, 10907, 10955, 10987, 11456, 11862, 11933, 11950, 11977, 11986, 12012, 12037, 12086, 12153, 12318, 12450, 12464, 12758, 12939, 12944, 12998, 13047, 13103, 13252, 13376, 13435, 13477, 13514, 13693, 13748, 13830, 13845, 14027, 14097, 14180, 14243, 14283, 14293, 14312, 14420, 14449, 14469, 14470, 14489, 14507, 14703, 14751, 14810, 14952, 15036, 15076, 15083, 15157, 15212, 15431, 15489, 15608, 15724, 15799, 15867, 15893, 15907, 15964, 16010, 16021, 16040, 16058, 16073, 16103, 16111, 16123, 16162, 16265, 16266, 16535, 16715, 16716, 16728, 16788, 16808, 17242, 17269, 17305, 17307, 17496, 17504, 17530, 17553, 17579, 17655, 17720, 17730, 17827, 17868, 17874, 17911, 17917, 17992, 18045, 18065, 18085, 18584, 18853, 18883, 18960, 19314, 19383, 19431, 19590, 19625, 19658, 19667, 19692, 19769, 19776, 19975, 19987, 20057, 20062, 20064, 20131, 20187, 20227, 20232, 20328, 20333, 20453, 20497, 20515, 20533, 20615, 20711, 20758, 20871, 21101, 21111, 21121, 21153, 21178, 21375, 21385, 21431, 21608, 21625, 21676, 21813, 21832, 21838, 21846, 21863, 21921, 21954, 22098, 22198, 22201, 22263, 22299, 22330, 22335, 22381, 22392, 22417, 22462, 22465, 22466, 22507, 22565, 22573, 22591, 22594, 22759, 22829, 22890, 22924, 22927, 22945, 22953, 23068, 23074, 23103, 23122, 23195, 23314, 23376, 23496, 23623, 23741, 23751, 23892, 23953, 24001, 24078, 24103, 24110, 24204, 24221, 24278, 24338, 24343, 24351, 24377, 24554, 24719, 24748, 24829, 24954, 24955, 24970, 24996, 25001, 25073, 25188, 25216, 25229, 25278, 25291, 25328, 25674, 25676, 25709, 25718, 25801, 25814, 25863, 25874, 25946, 26041, 26099, 26215, 26288, 26420, 26587, 26602, 26618, 26753, 26834, 26886, 26938, 27205, 27388, 27493, 27516, 27596, 27626, 27647, 27721, 27847, 27990, 28083, 28280, 28301, 28373, 28489, 28667, 28693, 28746, 28764, 28777, 28873, 28880, 29008, 29147, 29318, 29584, 29586, 29609, 29672, 29703, 29732, 29774, 29832, 29935, 30040, 30095, 30158, 30187, 30228, 30250, 30317, 30533, 30587, 30633, 30789, 30836, 30879, 31114, 31214, 31330, 31385, 31437, 31568, 31701, 31712, 31756, 31778, 31845, 31954, 32326, 32601, 32637, 32839, 32876, 32931, 33273, 33357, 33412, 33433, 33451, 33470, 33472, 33576, 33652, 33791, 33832, 33869, 33965, 34005, 34158, 34292, 34304, 34357, 34469, 34559, 34583, 34656, 34677, 34744, 34802, 34915, 34938, 34955, 35045, 35078, 35222, 35305, 35346, 35451, 35530, 35563, 35597, 35616, 35656, 35707, 35810, 35817, 35986, 36050, 36113, 36125, 36156, 36311, 36375, 36798, 36805, 36905, 36936, 36952, 36987, 37123, 37346, 37513, 37643, 37934, 37948, 38078, 38148, 38254, 38289, 38335, 38378, 38490, 38534, 38540, 38554, 38561, 38593, 38737, 38739, 38752, 38764, 38767, 38769, 38774, 38789, 38933, 38966, 38970, 38994, 39204, 39245, 39250, 39284, 39399, 39522, 39619, 39675, 39722, 39924, 39934, 40016, 40278, 40370, 40433, 40446, 40449, 40563, 40959, 40987, 41002, 41023, 41066, 41070, 41110, 41479, 41561, 41661, 41820, 41860, 41882, 42022, 42062, 42088, 42149, 42174, 42325, 42347, 42381, 42401, 42418, 42436, 42493, 42726, 42762, 42834, 42917, 43048, 43148, 43276, 43330, 43462, 43533, 43614, 43692, 43713, 43741, 43787, 43846, 43862, 43872, 43898, 43925, 43934, 43947, 44211, 44263, 44280, 44349, 44455, 44472, 44531, 44654, 44702, 44952, 44976, 45086, 45107, 45145, 45165, 45273, 45289, 45319, 45407, 45416, 45444, 45490, 45543, 45545, 45585, 45636, 45729, 45740, 45880, 45979, 45983, 46063, 46120, 46174, 46347, 46355, 46388, 46472, 46577, 46806, 46832, 46884, 46999, 47047, 47085, 47101, 47146, 47154, 47244, 47264, 47265, 47269, 47277, 47481, 47493, 47661, 47761, 47792, 47967, 48006, 48017, 48077, 48201, 48202, 48239, 48327, 48423, 48442, 48458, 48477, 48508, 48545, 48757, 48811, 48881, 48885, 48908, 48937, 48975, 49048, 49061, 49081, 49086, 49106, 49114, 49197, 49245, 49249, 49456, 49476, 49750, 49851, 49885], 2.0: [14, 40, 200, 243, 260, 396, 501, 684, 752, 1061, 1238, 1262, 1264, 1475, 1791, 1852, 1913, 1953, 2025, 2099, 2338, 2376, 2492, 2774, 2835, 2966, 3008, 3166, 3219, 3225, 3347, 3351, 3371, 3375, 3443, 3562, 3568, 3687, 3920, 4097, 4266, 4273, 4409, 4434, 4583, 4751, 4805, 4831, 5353, 5384, 5393, 5565, 5726, 5778, 5782, 5907, 5910, 6241, 6362, 6422, 6588, 6741, 6973, 7099, 7274, 7293, 7347, 7600, 7602, 7689, 7787, 7819, 7849, 7980, 8027, 8119, 8126, 8192, 8276, 8330, 8488, 8559, 8567, 8736, 8851, 9024, 9152, 9179, 9338, 9387, 9413, 9466, 9497, 9498, 9523, 9617, 9667, 9699, 9722, 9764, 9839, 10095, 10182, 10412, 10503, 10522, 10585, 10638, 10653, 10768, 10896, 11064, 11349, 11403, 11490, 11499, 11534, 11696, 12044, 12110, 12475, 12513, 12529, 12638, 12662, 12932, 13014, 13027, 13148, 13200, 13212, 13223, 13512, 13684, 13839, 13859, 13972, 13995, 14059, 14079, 14136, 14262, 14527, 14537, 14658, 14779, 14971, 15294, 15386, 15423, 15523, 15625, 15699, 16007, 16138, 16190, 16315, 16421, 16533, 16660, 16664, 17072, 17178, 17578, 17757, 17901, 17919, 17957, 18131, 18336, 18359, 18367, 18422, 18528, 18622, 18664, 18722, 18768, 18774, 18926, 19664, 19665, 19696, 19710, 19841, 19926, 20041, 20059, 20221, 20290, 20343, 20383, 20720, 20763, 21165, 21198, 21228, 21235, 21348, 21395, 21670, 21672, 21853, 22114, 22210, 22219, 22243, 22250, 22541, 22761, 22788, 22874, 22951, 23128, 23241, 23415, 23545, 23595, 23596, 23725, 23809, 23833, 23938, 23952, 24002, 24142, 24226, 24227, 24233, 24287, 24290, 24361, 24381, 24576, 24736, 24827, 24838, 24882, 24961, 25045, 25225, 25337, 25374, 25447, 25596, 25610, 25711, 25775, 26103, 26341, 26423, 26796, 26934, 27073, 27298, 27386, 27465, 27521, 27550, 27583, 27623, 27644, 27703, 27824, 27838, 28178, 28209, 28256, 28456, 28463, 28594, 28704, 28998, 29078, 29165, 29170, 29268, 29272, 29594, 29596, 29986, 30177, 30664, 30840, 30853, 31005, 31291, 31293, 31371, 31538, 31607, 31649, 31692, 31855, 31863, 31883, 31961, 32003, 32049, 32131, 32134, 32236, 32464, 32516, 32557, 32592, 32676, 32741, 32792, 32836, 33440, 33842, 34042, 34050, 34082, 34113, 34307, 34595, 34614, 34617, 34624, 34721, 34755, 34890, 35520, 35606, 35803, 36315, 36431, 36474, 36503, 36824, 36914, 36965, 37031, 37118, 37206, 37622, 37752, 37930, 37947, 38113, 38186, 38314, 38399, 38481, 38656, 38661, 38674, 38732, 38956, 39117, 39118, 39484, 39694, 39777, 39864, 39929, 40128, 40132, 40185, 40246, 40279, 40367, 40514, 40596, 40723, 40821, 40849, 40918, 40991, 41094, 41227, 41254, 41303, 41380, 41443, 41496, 41583, 41584, 41657, 41695, 41697, 41899, 42027, 42177, 42364, 42443, 42564, 42584, 42769, 42800, 43089, 43227, 43581, 43648, 43678, 43963, 44036, 44110, 44329, 44361, 44481, 44634, 44909, 45228, 45249, 45337, 45417, 45550, 45647, 45907, 45962, 46017, 46070, 46122, 46218, 46311, 46513, 46608, 46840, 46911, 46968, 47238, 47483, 47534, 47849, 48011, 48178, 48250, 48267, 48713, 48775, 48925, 49257, 49264, 49501, 49783, 49970], 3.0: [341, 1609, 1815, 2071, 2929, 3018, 3207, 5382, 5421, 5633, 5905, 5969, 6695, 6698, 6818, 6874, 7002, 7370, 7400, 7829, 8034, 8176, 8214, 8707, 9356, 9613, 10244, 10282, 11119, 11127, 11265, 11372, 11823, 12278, 12802, 13503, 14133, 14633, 14873, 15058, 15424, 15543, 16364, 16485, 17049, 17633, 17819, 17926, 19281, 19382, 19442, 19504, 19833, 19896, 20262, 20602, 21379, 21642, 21881, 22033, 22227, 23104, 23685, 23932, 24122, 25097, 25269, 25309, 25419, 25638, 25669, 26204, 26836, 27272, 28382, 28412, 28778, 29223, 30060, 30227, 30726, 31037, 31120, 31204, 31304, 31551, 31946, 32128, 32473, 33450, 33464, 33625, 33627, 34220, 34284, 36123, 36832, 37120, 37183, 37298, 37321, 37593, 38130, 38201, 38905, 39074, 39388, 39693, 40430, 41551, 42947, 43367, 43524, 43739, 43879, 44347, 44415, 44526, 44625, 44820, 44899, 45290, 45547, 45683, 45846, 46774, 46852, 46947, 47055, 47437, 47504, 47647, 47662, 48883, 49369, 49674], 4.0: [79, 648, 1775, 2212, 2261, 2284, 2401, 2463, 2489, 3462, 3557, 4841, 5152, 6042, 6134, 7025, 7821, 8174, 8275, 8317, 8459, 8502, 8643, 8859, 9280, 9324, 9455, 9465, 9773, 10434, 10755, 11020, 11431, 12053, 12449, 13080, 14712, 15393, 16789, 16876, 17411, 17565, 18023, 18276, 18542, 19013, 20103, 20174, 20273, 20586, 22071, 22627, 22703, 22958, 23008, 23486, 23852, 24153, 24447, 25405, 26665, 27467, 27656, 28501, 28703, 28924, 28930, 29587, 29650, 29651, 29780, 30816, 31284, 32307, 33795, 34368, 34425, 35063, 35190, 35428, 35463, 35820, 36210, 36231, 37204, 37231, 37535, 38013, 38135, 38136, 39589, 39782, 39892, 41207, 41627, 41964, 42102, 42242, 42314, 42822, 43282, 43400, 43471, 44507, 45275, 46109, 46354, 48342, 48603, 48632], 5.0: [316, 472, 1166, 2052, 2848, 5330, 5872, 6607, 6630, 7261, 7607, 8357, 8817, 8846, 8877, 9418, 10404, 11011, 11236, 11436, 12188, 12666, 13020, 14127, 14189, 14668, 15911, 16139, 16328, 17529, 18210, 18809, 19353, 19732, 20076, 21452, 21485, 22166, 22655, 22775, 23000, 23100, 23187, 23222, 23504, 24344, 24951, 24993, 25275, 26211, 26942, 27670, 27735, 27945, 28080, 28392, 28468, 28707, 28807, 29098, 29255, 30261, 32883, 32908, 33244, 33568, 33761, 34947, 35235, 35303, 35391, 35449, 35500, 37049, 38501, 39293, 39618, 39952, 40166, 40177, 40720, 40837, 41038, 41658, 41946, 42643, 42743, 42771, 42962, 43133, 43140, 43335, 43650, 43734, 43797, 44338, 44463, 47042, 49013, 49035, 49638, 49700, 49808], 6.0: [996, 1837, 3444, 4397, 4501, 4571, 4859, 5359, 6582, 6793, 7390, 7586, 8248, 10395, 12174, 13808, 14452, 14907, 15351, 16583, 17171, 19065, 19259, 21074, 21128, 21308, 21466, 21553, 23030, 24073, 24300, 24551, 24850, 25194, 25634, 28116, 28651, 28882, 28967, 29425, 29539, 29765, 29973, 34276, 34345, 36394, 36836, 38252, 38626, 38797, 38826, 39076, 40862, 41099, 41547, 41770, 42576, 42753, 44473, 46576, 46658, 48496], 7.0: [274, 3209, 5523, 7275, 8297, 9805, 10448, 11510, 12922, 12950, 14485, 15544, 18187, 18425, 18943, 20788, 24086, 24685, 25279, 27809, 28798, 29424, 29608, 30805, 31750, 33042, 34155, 35836, 36102, 37413, 37479, 37645, 38007, 40577, 41981, 42272, 42281, 42633, 42906, 44533, 45573, 46529, 48392, 49206]}\n"
     ]
    }
   ],
   "source": [
    "# 开始填充fuelType缺失值\n",
    "# 在含fuelType缺失值的条目中，将不同bodyType对应的index输出保存到一个字典中\n",
    "dict_index_train, dict_index_test = {}, {}\n",
    "\n",
    "for bodytype in [0.0, 1.0, 2.0, 3.0, 4.0, 5.0, 6.0, 7.0]:\n",
    "    dict_index_train[bodytype] = train[(train['bodyType'] == bodytype) & (train['fuelType'].isnull())].index.tolist()\n",
    "    dict_index_test[bodytype] = test[(test['bodyType'] == bodytype) & (test['fuelType'].isnull())].index.tolist()\n",
    "    \n",
    "print(dict_index_train)\n",
    "print(dict_index_test)"
   ]
  },
  {
   "cell_type": "code",
   "execution_count": 195,
   "metadata": {
    "ExecuteTime": {
     "end_time": "2021-06-10T02:59:41.890014Z",
     "start_time": "2021-06-10T02:59:41.821054Z"
    }
   },
   "outputs": [],
   "source": [
    "# 分别对每个bodyTYpe所对应的index来填充fuelType列\n",
    "for bt, ft in dict_enu_train.items():\n",
    "#     train.loc[tuple(dict_index[bt]), :]['fuelType'] = ft  # 注意：链式索引 (chained indexing)很可能导致赋值失败！\n",
    "    train.loc[dict_index_train[bt], 'fuelType'] = ft  # Pandas推荐使用这种方法来索引/赋值\n",
    "    test.loc[dict_index_test[bt], 'fuelType'] = ft"
   ]
  },
  {
   "cell_type": "code",
   "execution_count": 196,
   "metadata": {
    "ExecuteTime": {
     "end_time": "2021-06-10T02:59:41.965813Z",
     "start_time": "2021-06-10T02:59:41.892015Z"
    },
    "scrolled": true
   },
   "outputs": [
    {
     "name": "stdout",
     "output_type": "stream",
     "text": [
      "<class 'pandas.core.frame.DataFrame'>\n",
      "RangeIndex: 150000 entries, 0 to 149999\n",
      "Data columns (total 28 columns):\n",
      " #   Column             Non-Null Count   Dtype         \n",
      "---  ------             --------------   -----         \n",
      " 0   name               150000 non-null  int64         \n",
      " 1   regDate            150000 non-null  datetime64[ns]\n",
      " 2   model              150000 non-null  float64       \n",
      " 3   brand              150000 non-null  int64         \n",
      " 4   bodyType           150000 non-null  float64       \n",
      " 5   fuelType           150000 non-null  float64       \n",
      " 6   gearbox            144019 non-null  float64       \n",
      " 7   power              150000 non-null  float64       \n",
      " 8   kilometer          150000 non-null  float64       \n",
      " 9   notRepairedDamage  125676 non-null  float64       \n",
      " 10  regionCode         150000 non-null  int64         \n",
      " 11  creatDate          150000 non-null  datetime64[ns]\n",
      " 12  price              150000 non-null  int64         \n",
      " 13  v_0                150000 non-null  float64       \n",
      " 14  v_1                150000 non-null  float64       \n",
      " 15  v_2                150000 non-null  float64       \n",
      " 16  v_3                150000 non-null  float64       \n",
      " 17  v_4                150000 non-null  float64       \n",
      " 18  v_5                150000 non-null  float64       \n",
      " 19  v_6                150000 non-null  float64       \n",
      " 20  v_7                150000 non-null  float64       \n",
      " 21  v_8                150000 non-null  float64       \n",
      " 22  v_9                150000 non-null  float64       \n",
      " 23  v_10               150000 non-null  float64       \n",
      " 24  v_11               150000 non-null  float64       \n",
      " 25  v_12               150000 non-null  float64       \n",
      " 26  v_13               150000 non-null  float64       \n",
      " 27  v_14               150000 non-null  float64       \n",
      "dtypes: datetime64[ns](2), float64(22), int64(4)\n",
      "memory usage: 32.0 MB\n"
     ]
    }
   ],
   "source": [
    "# 检查填充情况\n",
    "train.info()"
   ]
  },
  {
   "cell_type": "code",
   "execution_count": 197,
   "metadata": {
    "ExecuteTime": {
     "end_time": "2021-06-10T02:59:42.039112Z",
     "start_time": "2021-06-10T02:59:41.966814Z"
    },
    "scrolled": true
   },
   "outputs": [
    {
     "name": "stdout",
     "output_type": "stream",
     "text": [
      "<class 'pandas.core.frame.DataFrame'>\n",
      "RangeIndex: 50000 entries, 0 to 49999\n",
      "Data columns (total 27 columns):\n",
      " #   Column             Non-Null Count  Dtype         \n",
      "---  ------             --------------  -----         \n",
      " 0   name               50000 non-null  int64         \n",
      " 1   regDate            50000 non-null  datetime64[ns]\n",
      " 2   model              50000 non-null  float64       \n",
      " 3   brand              50000 non-null  int64         \n",
      " 4   bodyType           50000 non-null  float64       \n",
      " 5   fuelType           50000 non-null  float64       \n",
      " 6   gearbox            48032 non-null  float64       \n",
      " 7   power              50000 non-null  float64       \n",
      " 8   kilometer          50000 non-null  float64       \n",
      " 9   notRepairedDamage  41931 non-null  float64       \n",
      " 10  regionCode         50000 non-null  int64         \n",
      " 11  creatDate          50000 non-null  datetime64[ns]\n",
      " 12  v_0                50000 non-null  float64       \n",
      " 13  v_1                50000 non-null  float64       \n",
      " 14  v_2                50000 non-null  float64       \n",
      " 15  v_3                50000 non-null  float64       \n",
      " 16  v_4                50000 non-null  float64       \n",
      " 17  v_5                50000 non-null  float64       \n",
      " 18  v_6                50000 non-null  float64       \n",
      " 19  v_7                50000 non-null  float64       \n",
      " 20  v_8                50000 non-null  float64       \n",
      " 21  v_9                50000 non-null  float64       \n",
      " 22  v_10               50000 non-null  float64       \n",
      " 23  v_11               50000 non-null  float64       \n",
      " 24  v_12               50000 non-null  float64       \n",
      " 25  v_13               50000 non-null  float64       \n",
      " 26  v_14               50000 non-null  float64       \n",
      "dtypes: datetime64[ns](2), float64(22), int64(3)\n",
      "memory usage: 10.3 MB\n"
     ]
    }
   ],
   "source": [
    "test.info()"
   ]
  },
  {
   "cell_type": "markdown",
   "metadata": {},
   "source": [
    "### 处理gearbox的缺失值\n",
    "1. gearbox与price相关性不强\n",
    "2. gearbox中0占大多数，用0填补"
   ]
  },
  {
   "cell_type": "code",
   "execution_count": 198,
   "metadata": {
    "ExecuteTime": {
     "end_time": "2021-06-10T02:59:42.191026Z",
     "start_time": "2021-06-10T02:59:42.040112Z"
    }
   },
   "outputs": [
    {
     "name": "stdout",
     "output_type": "stream",
     "text": [
      "False    144019\n",
      "True       5981\n",
      "Name: gearbox, dtype: int64\n",
      "\n",
      "\n",
      "False    48032\n",
      "True      1968\n",
      "Name: gearbox, dtype: int64\n"
     ]
    }
   ],
   "source": [
    "# 看缺失值数量\n",
    "print(train['gearbox'].isnull().value_counts())\n",
    "print('\\n')\n",
    "print(test['gearbox'].isnull().value_counts())"
   ]
  },
  {
   "cell_type": "code",
   "execution_count": 199,
   "metadata": {
    "ExecuteTime": {
     "end_time": "2021-06-10T03:00:11.675296Z",
     "start_time": "2021-06-10T02:59:42.193025Z"
    }
   },
   "outputs": [
    {
     "data": {
      "text/plain": [
       "<AxesSubplot:xlabel='gearbox', ylabel='price'>"
      ]
     },
     "execution_count": 199,
     "metadata": {},
     "output_type": "execute_result"
    },
    {
     "data": {
      "image/png": "[encoded data removed]",
      "text/plain": [
       "<Figure size 432x288 with 1 Axes>"
      ]
     },
     "metadata": {
      "needs_background": "light"
     },
     "output_type": "display_data"
    }
   ],
   "source": [
    "# gearbox特征缺失值占比较小，先观察它的取值与售价之间的联系，再决定是否删去\n",
    "# 输出特征与售价之间的线性关系图（类似散点图）\n",
    "sns.regplot(train['gearbox'], train['price'])"
   ]
  },
  {
   "cell_type": "code",
   "execution_count": 200,
   "metadata": {
    "ExecuteTime": {
     "end_time": "2021-06-10T03:00:11.717272Z",
     "start_time": "2021-06-10T03:00:11.677295Z"
    },
    "scrolled": false
   },
   "outputs": [
    {
     "name": "stdout",
     "output_type": "stream",
     "text": [
      "0.0    111623\n",
      "1.0     32396\n",
      "Name: gearbox, dtype: int64\n",
      "\n",
      "\n",
      "0.0    37131\n",
      "1.0    10901\n",
      "Name: gearbox, dtype: int64\n"
     ]
    }
   ],
   "source": [
    "# 可见变速箱类型的不同不会显著影响售价，删去测试集中带缺失值的行或许是可行的做法，但为避免样本量减少带来的过拟合，还是决定保留该特征并填充其缺失值\n",
    "# 看看车身类型数量分布\n",
    "print(train['gearbox'].value_counts())\n",
    "print('\\n')\n",
    "print(test['gearbox'].value_counts())"
   ]
  },
  {
   "cell_type": "code",
   "execution_count": 201,
   "metadata": {
    "ExecuteTime": {
     "end_time": "2021-06-10T03:00:11.900167Z",
     "start_time": "2021-06-10T03:00:11.719272Z"
    }
   },
   "outputs": [],
   "source": [
    "# 训练集，如果缺失，补0\n",
    "train.loc[:, 'gearbox'] = train['gearbox'].map(lambda x: 0.0 if pd.isnull(x) else x)\n",
    "\n",
    "# # 对于测试集，为保证预测结果完整性，不能删去任何行。测试集仅有1910个gearbox缺失值，用数量占绝大多数的0.0（手动档）来填充缺失值\n",
    "test.loc[:, 'gearbox'] = test['gearbox'].map(lambda x: 0.0 if pd.isnull(x) else x)"
   ]
  },
  {
   "cell_type": "code",
   "execution_count": 202,
   "metadata": {
    "ExecuteTime": {
     "end_time": "2021-06-10T03:00:11.925155Z",
     "start_time": "2021-06-10T03:00:11.901166Z"
    },
    "scrolled": true
   },
   "outputs": [
    {
     "name": "stdout",
     "output_type": "stream",
     "text": [
      "<class 'pandas.core.frame.DataFrame'>\n",
      "RangeIndex: 150000 entries, 0 to 149999\n",
      "Data columns (total 28 columns):\n",
      " #   Column             Non-Null Count   Dtype         \n",
      "---  ------             --------------   -----         \n",
      " 0   name               150000 non-null  int64         \n",
      " 1   regDate            150000 non-null  datetime64[ns]\n",
      " 2   model              150000 non-null  float64       \n",
      " 3   brand              150000 non-null  int64         \n",
      " 4   bodyType           150000 non-null  float64       \n",
      " 5   fuelType           150000 non-null  float64       \n",
      " 6   gearbox            150000 non-null  float64       \n",
      " 7   power              150000 non-null  float64       \n",
      " 8   kilometer          150000 non-null  float64       \n",
      " 9   notRepairedDamage  125676 non-null  float64       \n",
      " 10  regionCode         150000 non-null  int64         \n",
      " 11  creatDate          150000 non-null  datetime64[ns]\n",
      " 12  price              150000 non-null  int64         \n",
      " 13  v_0                150000 non-null  float64       \n",
      " 14  v_1                150000 non-null  float64       \n",
      " 15  v_2                150000 non-null  float64       \n",
      " 16  v_3                150000 non-null  float64       \n",
      " 17  v_4                150000 non-null  float64       \n",
      " 18  v_5                150000 non-null  float64       \n",
      " 19  v_6                150000 non-null  float64       \n",
      " 20  v_7                150000 non-null  float64       \n",
      " 21  v_8                150000 non-null  float64       \n",
      " 22  v_9                150000 non-null  float64       \n",
      " 23  v_10               150000 non-null  float64       \n",
      " 24  v_11               150000 non-null  float64       \n",
      " 25  v_12               150000 non-null  float64       \n",
      " 26  v_13               150000 non-null  float64       \n",
      " 27  v_14               150000 non-null  float64       \n",
      "dtypes: datetime64[ns](2), float64(22), int64(4)\n",
      "memory usage: 32.0 MB\n"
     ]
    }
   ],
   "source": [
    "# 检查填充是否成功\n",
    "train.info()"
   ]
  },
  {
   "cell_type": "code",
   "execution_count": 203,
   "metadata": {
    "ExecuteTime": {
     "end_time": "2021-06-10T03:00:11.999456Z",
     "start_time": "2021-06-10T03:00:11.928152Z"
    },
    "scrolled": true
   },
   "outputs": [
    {
     "name": "stdout",
     "output_type": "stream",
     "text": [
      "<class 'pandas.core.frame.DataFrame'>\n",
      "RangeIndex: 50000 entries, 0 to 49999\n",
      "Data columns (total 27 columns):\n",
      " #   Column             Non-Null Count  Dtype         \n",
      "---  ------             --------------  -----         \n",
      " 0   name               50000 non-null  int64         \n",
      " 1   regDate            50000 non-null  datetime64[ns]\n",
      " 2   model              50000 non-null  float64       \n",
      " 3   brand              50000 non-null  int64         \n",
      " 4   bodyType           50000 non-null  float64       \n",
      " 5   fuelType           50000 non-null  float64       \n",
      " 6   gearbox            50000 non-null  float64       \n",
      " 7   power              50000 non-null  float64       \n",
      " 8   kilometer          50000 non-null  float64       \n",
      " 9   notRepairedDamage  41931 non-null  float64       \n",
      " 10  regionCode         50000 non-null  int64         \n",
      " 11  creatDate          50000 non-null  datetime64[ns]\n",
      " 12  v_0                50000 non-null  float64       \n",
      " 13  v_1                50000 non-null  float64       \n",
      " 14  v_2                50000 non-null  float64       \n",
      " 15  v_3                50000 non-null  float64       \n",
      " 16  v_4                50000 non-null  float64       \n",
      " 17  v_5                50000 non-null  float64       \n",
      " 18  v_6                50000 non-null  float64       \n",
      " 19  v_7                50000 non-null  float64       \n",
      " 20  v_8                50000 non-null  float64       \n",
      " 21  v_9                50000 non-null  float64       \n",
      " 22  v_10               50000 non-null  float64       \n",
      " 23  v_11               50000 non-null  float64       \n",
      " 24  v_12               50000 non-null  float64       \n",
      " 25  v_13               50000 non-null  float64       \n",
      " 26  v_14               50000 non-null  float64       \n",
      "dtypes: datetime64[ns](2), float64(22), int64(3)\n",
      "memory usage: 10.3 MB\n"
     ]
    }
   ],
   "source": [
    "test.info()"
   ]
  },
  {
   "cell_type": "markdown",
   "metadata": {},
   "source": [
    "### 处理notRepairedDamage的缺失值\n",
    "用数量占比最大的0来填补"
   ]
  },
  {
   "cell_type": "code",
   "execution_count": 204,
   "metadata": {
    "ExecuteTime": {
     "end_time": "2021-06-10T03:00:12.089406Z",
     "start_time": "2021-06-10T03:00:12.000455Z"
    }
   },
   "outputs": [
    {
     "name": "stdout",
     "output_type": "stream",
     "text": [
      "0.0    111361\n",
      "1.0     14315\n",
      "Name: notRepairedDamage, dtype: int64\n",
      "\n",
      "\n",
      "0.0    37224\n",
      "1.0     4707\n",
      "Name: notRepairedDamage, dtype: int64\n"
     ]
    }
   ],
   "source": [
    "# 查看数据分布\n",
    "print(train['notRepairedDamage'].value_counts())\n",
    "print(\"\\n\")\n",
    "print(test['notRepairedDamage'].value_counts())"
   ]
  },
  {
   "cell_type": "code",
   "execution_count": 102,
   "metadata": {
    "ExecuteTime": {
     "end_time": "2021-06-10T01:24:12.367069Z",
     "start_time": "2021-06-10T01:24:12.291112Z"
    }
   },
   "outputs": [
    {
     "name": "stdout",
     "output_type": "stream",
     "text": [
      "False    125676\n",
      "True      24324\n",
      "Name: notRepairedDamage, dtype: int64\n",
      "\n",
      "\n",
      "False    41931\n",
      "True      8069\n",
      "Name: notRepairedDamage, dtype: int64\n"
     ]
    }
   ],
   "source": [
    "# 看缺失值数量\n",
    "# 缺失值数量在两个数据集中的占比都不低\n",
    "print(train['notRepairedDamage'].isnull().value_counts())\n",
    "print('\\n')\n",
    "print(test['notRepairedDamage'].isnull().value_counts())"
   ]
  },
  {
   "cell_type": "code",
   "execution_count": 103,
   "metadata": {
    "ExecuteTime": {
     "end_time": "2021-06-10T01:24:12.455032Z",
     "start_time": "2021-06-10T01:24:12.369068Z"
    }
   },
   "outputs": [
    {
     "data": {
      "text/plain": [
       "notRepairedDamage   -0.190623\n",
       "price                1.000000\n",
       "Name: price, dtype: float64"
      ]
     },
     "execution_count": 103,
     "metadata": {},
     "output_type": "execute_result"
    }
   ],
   "source": [
    "# 查看线性相关系数\n",
    "train[['notRepairedDamage', 'price']].corr()['price']"
   ]
  },
  {
   "cell_type": "code",
   "execution_count": 104,
   "metadata": {
    "ExecuteTime": {
     "end_time": "2021-06-10T01:24:22.735734Z",
     "start_time": "2021-06-10T01:24:12.458017Z"
    }
   },
   "outputs": [
    {
     "data": {
      "text/plain": [
       "<AxesSubplot:xlabel='notRepairedDamage', ylabel='price'>"
      ]
     },
     "execution_count": 104,
     "metadata": {},
     "output_type": "execute_result"
    },
    {
     "data": {
      "image/png": "[encoded data removed]",
      "text/plain": [
       "<Figure size 432x288 with 1 Axes>"
      ]
     },
     "metadata": {
      "needs_background": "light"
     },
     "output_type": "display_data"
    }
   ],
   "source": [
    "# 在输出特征与售价之间的线性关系图（类似散点图）\n",
    "sns.regplot(train['notRepairedDamage'], train['price'])"
   ]
  },
  {
   "cell_type": "code",
   "execution_count": 105,
   "metadata": {
    "ExecuteTime": {
     "end_time": "2021-06-10T01:24:22.855653Z",
     "start_time": "2021-06-10T01:24:22.737717Z"
    }
   },
   "outputs": [],
   "source": [
    "# 在整个训练集上有尚未修复损坏的汽车比损坏已修复的汽车售价还要高。\n",
    "# 为简单化问题，仍使用数量占比最大的0.0来填充所有缺失值\n",
    "train.loc[:, 'notRepairedDamage'] = train['notRepairedDamage'].map(lambda x: 0.0 if pd.isnull(x) else x)\n",
    "test.loc[:, 'notRepairedDamage'] = test['notRepairedDamage'].map(lambda x: 0.0 if pd.isnull(x) else x)"
   ]
  },
  {
   "cell_type": "code",
   "execution_count": 106,
   "metadata": {
    "ExecuteTime": {
     "end_time": "2021-06-10T01:24:22.880166Z",
     "start_time": "2021-06-10T01:24:22.857160Z"
    },
    "scrolled": true
   },
   "outputs": [
    {
     "name": "stdout",
     "output_type": "stream",
     "text": [
      "<class 'pandas.core.frame.DataFrame'>\n",
      "RangeIndex: 150000 entries, 0 to 149999\n",
      "Data columns (total 28 columns):\n",
      " #   Column             Non-Null Count   Dtype         \n",
      "---  ------             --------------   -----         \n",
      " 0   name               150000 non-null  int64         \n",
      " 1   regDate            150000 non-null  datetime64[ns]\n",
      " 2   model              150000 non-null  float64       \n",
      " 3   brand              150000 non-null  int64         \n",
      " 4   bodyType           150000 non-null  float64       \n",
      " 5   fuelType           150000 non-null  float64       \n",
      " 6   gearbox            150000 non-null  float64       \n",
      " 7   power              150000 non-null  float64       \n",
      " 8   kilometer          150000 non-null  float64       \n",
      " 9   notRepairedDamage  150000 non-null  float64       \n",
      " 10  regionCode         150000 non-null  int64         \n",
      " 11  creatDate          150000 non-null  datetime64[ns]\n",
      " 12  price              150000 non-null  int64         \n",
      " 13  v_0                150000 non-null  float64       \n",
      " 14  v_1                150000 non-null  float64       \n",
      " 15  v_2                150000 non-null  float64       \n",
      " 16  v_3                150000 non-null  float64       \n",
      " 17  v_4                150000 non-null  float64       \n",
      " 18  v_5                150000 non-null  float64       \n",
      " 19  v_6                150000 non-null  float64       \n",
      " 20  v_7                150000 non-null  float64       \n",
      " 21  v_8                150000 non-null  float64       \n",
      " 22  v_9                150000 non-null  float64       \n",
      " 23  v_10               150000 non-null  float64       \n",
      " 24  v_11               150000 non-null  float64       \n",
      " 25  v_12               150000 non-null  float64       \n",
      " 26  v_13               150000 non-null  float64       \n",
      " 27  v_14               150000 non-null  float64       \n",
      "dtypes: datetime64[ns](2), float64(22), int64(4)\n",
      "memory usage: 32.0 MB\n"
     ]
    }
   ],
   "source": [
    "# 最后。检查填充结果\n",
    "train.info()"
   ]
  },
  {
   "cell_type": "code",
   "execution_count": 107,
   "metadata": {
    "ExecuteTime": {
     "end_time": "2021-06-10T01:24:22.940715Z",
     "start_time": "2021-06-10T01:24:22.882146Z"
    },
    "scrolled": true
   },
   "outputs": [
    {
     "name": "stdout",
     "output_type": "stream",
     "text": [
      "<class 'pandas.core.frame.DataFrame'>\n",
      "RangeIndex: 50000 entries, 0 to 49999\n",
      "Data columns (total 27 columns):\n",
      " #   Column             Non-Null Count  Dtype         \n",
      "---  ------             --------------  -----         \n",
      " 0   name               50000 non-null  int64         \n",
      " 1   regDate            50000 non-null  datetime64[ns]\n",
      " 2   model              50000 non-null  float64       \n",
      " 3   brand              50000 non-null  int64         \n",
      " 4   bodyType           50000 non-null  float64       \n",
      " 5   fuelType           50000 non-null  float64       \n",
      " 6   gearbox            50000 non-null  float64       \n",
      " 7   power              50000 non-null  float64       \n",
      " 8   kilometer          50000 non-null  float64       \n",
      " 9   notRepairedDamage  50000 non-null  float64       \n",
      " 10  regionCode         50000 non-null  int64         \n",
      " 11  creatDate          50000 non-null  datetime64[ns]\n",
      " 12  v_0                50000 non-null  float64       \n",
      " 13  v_1                50000 non-null  float64       \n",
      " 14  v_2                50000 non-null  float64       \n",
      " 15  v_3                50000 non-null  float64       \n",
      " 16  v_4                50000 non-null  float64       \n",
      " 17  v_5                50000 non-null  float64       \n",
      " 18  v_6                50000 non-null  float64       \n",
      " 19  v_7                50000 non-null  float64       \n",
      " 20  v_8                50000 non-null  float64       \n",
      " 21  v_9                50000 non-null  float64       \n",
      " 22  v_10               50000 non-null  float64       \n",
      " 23  v_11               50000 non-null  float64       \n",
      " 24  v_12               50000 non-null  float64       \n",
      " 25  v_13               50000 non-null  float64       \n",
      " 26  v_14               50000 non-null  float64       \n",
      "dtypes: datetime64[ns](2), float64(22), int64(3)\n",
      "memory usage: 10.3 MB\n"
     ]
    }
   ],
   "source": [
    "test.info()"
   ]
  },
  {
   "cell_type": "code",
   "execution_count": 108,
   "metadata": {
    "ExecuteTime": {
     "end_time": "2021-06-10T01:24:23.013419Z",
     "start_time": "2021-06-10T01:24:22.941703Z"
    },
    "scrolled": true
   },
   "outputs": [
    {
     "data": {
      "text/html": [
       "<div>\n",
       "<style scoped>\n",
       "    .dataframe tbody tr th:only-of-type {\n",
       "        vertical-align: middle;\n",
       "    }\n",
       "\n",
       "    .dataframe tbody tr th {\n",
       "        vertical-align: top;\n",
       "    }\n",
       "\n",
       "    .dataframe thead th {\n",
       "        text-align: right;\n",
       "    }\n",
       "</style>\n",
       "<table border=\"1\" class=\"dataframe\">\n",
       "  <thead>\n",
       "    <tr style=\"text-align: right;\">\n",
       "      <th></th>\n",
       "      <th>creatDate</th>\n",
       "      <th>regDate</th>\n",
       "    </tr>\n",
       "  </thead>\n",
       "  <tbody>\n",
       "    <tr>\n",
       "      <th>0</th>\n",
       "      <td>2016-04-04</td>\n",
       "      <td>2004-04-02</td>\n",
       "    </tr>\n",
       "    <tr>\n",
       "      <th>1</th>\n",
       "      <td>2016-03-09</td>\n",
       "      <td>2003-03-01</td>\n",
       "    </tr>\n",
       "    <tr>\n",
       "      <th>2</th>\n",
       "      <td>2016-04-02</td>\n",
       "      <td>2004-04-03</td>\n",
       "    </tr>\n",
       "    <tr>\n",
       "      <th>3</th>\n",
       "      <td>2016-03-12</td>\n",
       "      <td>1996-09-08</td>\n",
       "    </tr>\n",
       "    <tr>\n",
       "      <th>4</th>\n",
       "      <td>2016-03-13</td>\n",
       "      <td>2012-01-03</td>\n",
       "    </tr>\n",
       "    <tr>\n",
       "      <th>...</th>\n",
       "      <td>...</td>\n",
       "      <td>...</td>\n",
       "    </tr>\n",
       "    <tr>\n",
       "      <th>149995</th>\n",
       "      <td>2016-03-27</td>\n",
       "      <td>2000-06-07</td>\n",
       "    </tr>\n",
       "    <tr>\n",
       "      <th>149996</th>\n",
       "      <td>2016-03-12</td>\n",
       "      <td>2009-11-02</td>\n",
       "    </tr>\n",
       "    <tr>\n",
       "      <th>149997</th>\n",
       "      <td>2016-03-28</td>\n",
       "      <td>2010-10-03</td>\n",
       "    </tr>\n",
       "    <tr>\n",
       "      <th>149998</th>\n",
       "      <td>2016-04-01</td>\n",
       "      <td>2006-03-12</td>\n",
       "    </tr>\n",
       "    <tr>\n",
       "      <th>149999</th>\n",
       "      <td>2016-03-05</td>\n",
       "      <td>1999-02-04</td>\n",
       "    </tr>\n",
       "  </tbody>\n",
       "</table>\n",
       "<p>150000 rows × 2 columns</p>\n",
       "</div>"
      ],
      "text/plain": [
       "        creatDate    regDate\n",
       "0      2016-04-04 2004-04-02\n",
       "1      2016-03-09 2003-03-01\n",
       "2      2016-04-02 2004-04-03\n",
       "3      2016-03-12 1996-09-08\n",
       "4      2016-03-13 2012-01-03\n",
       "...           ...        ...\n",
       "149995 2016-03-27 2000-06-07\n",
       "149996 2016-03-12 2009-11-02\n",
       "149997 2016-03-28 2010-10-03\n",
       "149998 2016-04-01 2006-03-12\n",
       "149999 2016-03-05 1999-02-04\n",
       "\n",
       "[150000 rows x 2 columns]"
      ]
     },
     "execution_count": 108,
     "metadata": {},
     "output_type": "execute_result"
    }
   ],
   "source": [
    "train[['creatDate','regDate']]"
   ]
  },
  {
   "cell_type": "markdown",
   "metadata": {},
   "source": [
    "## 分桶"
   ]
  },
  {
   "cell_type": "markdown",
   "metadata": {
    "ExecuteTime": {
     "end_time": "2021-05-29T07:08:34.209613Z",
     "start_time": "2021-05-29T07:08:34.191660Z"
    }
   },
   "source": [
    "### power分桶\n",
    "1. power范围是0~600\n",
    "2. 分桶后，桶内数据不包括左端点，两种方法：1）将power值为0的改成1  2）将第一桶左边界设置为负数(与实际情况不符，实际中power不应该为负数)"
   ]
  },
  {
   "cell_type": "code",
   "execution_count": 109,
   "metadata": {
    "ExecuteTime": {
     "end_time": "2021-06-10T01:24:23.105353Z",
     "start_time": "2021-06-10T01:24:23.014418Z"
    },
    "scrolled": true
   },
   "outputs": [
    {
     "name": "stdout",
     "output_type": "stream",
     "text": [
      "0.0      12829\n",
      "1.0          8\n",
      "2.0          3\n",
      "3.0          3\n",
      "4.0          9\n",
      "         ...  \n",
      "583.0        1\n",
      "584.0        1\n",
      "585.0        3\n",
      "587.0        1\n",
      "600.0        7\n",
      "Name: power, Length: 446, dtype: int64\n",
      "0.0      4390\n",
      "1.0         2\n",
      "2.0         2\n",
      "4.0         4\n",
      "5.0        15\n",
      "         ... \n",
      "560.0       4\n",
      "570.0       1\n",
      "571.0       1\n",
      "579.0       3\n",
      "585.0       2\n",
      "Name: power, Length: 378, dtype: int64\n"
     ]
    }
   ],
   "source": [
    "# 查看power的范围是0~600\n",
    "# 考虑划分为20桶\n",
    "# train边界数据，600共有7条数据，power=0共有12829条\n",
    "print(train['power'].value_counts().sort_index())\n",
    "# test power=0共有4390条数据\n",
    "print(test['power'].value_counts().sort_index())"
   ]
  },
  {
   "cell_type": "code",
   "execution_count": 110,
   "metadata": {
    "ExecuteTime": {
     "end_time": "2021-06-10T01:24:23.202361Z",
     "start_time": "2021-06-10T01:24:23.107353Z"
    }
   },
   "outputs": [
    {
     "name": "stdout",
     "output_type": "stream",
     "text": [
      "0\n",
      "0\n"
     ]
    }
   ],
   "source": [
    "# data[\"B\"] = data.B.apply(lambda x: 0 if (data['B']>=5) and (data['B']<=8) else 1)\n",
    "# test.loc[:, 'notRepairedDamage'] = test['notRepairedDamage'].map(lambda x: 0.0 if pd.isnull(x) else x)\n",
    "# data['B'][(data['B'] >= 5) & (data['B'] <= 8)] = 0\n",
    "train[\"power\"][(train[\"power\"] == 0)] = 1 # train[train[\"power\"] == 0]['power'] = 1此时无法修改原数据\n",
    "test[\"power\"][(test[\"power\"] == 0)] = 1 # test[test[\"power\"] == 0]['power'] = 1 此时无法修改原数据\n",
    "# 检查替换情况\n",
    "print(train[train[\"power\"] == 0].shape[0])\n",
    "print(test[test[\"power\"] == 0].shape[0])"
   ]
  },
  {
   "cell_type": "code",
   "execution_count": 111,
   "metadata": {
    "ExecuteTime": {
     "end_time": "2021-06-10T01:24:23.296803Z",
     "start_time": "2021-06-10T01:24:23.203349Z"
    }
   },
   "outputs": [
    {
     "name": "stdout",
     "output_type": "stream",
     "text": [
      "[0, 30, 60, 90, 120, 150, 180, 210, 240, 270, 300, 330, 360, 390, 420, 450, 480, 510, 540, 570, 600]\n",
      "21\n"
     ]
    }
   ],
   "source": [
    "bin = [i*10 for i in range(0, 61, 3)]\n",
    "print(bin)\n",
    "print(len(bin)) #桶个数"
   ]
  },
  {
   "cell_type": "code",
   "execution_count": 112,
   "metadata": {
    "ExecuteTime": {
     "end_time": "2021-06-10T01:24:23.396420Z",
     "start_time": "2021-06-10T01:24:23.297792Z"
    }
   },
   "outputs": [],
   "source": [
    "train['power_bin'] = pd.cut(train[\"power\"], bin, labels=False)\n",
    "test[\"power_bin\"] = pd.cut(test[\"power\"], bin, labels=False)"
   ]
  },
  {
   "cell_type": "code",
   "execution_count": 113,
   "metadata": {
    "ExecuteTime": {
     "end_time": "2021-06-10T01:24:23.484654Z",
     "start_time": "2021-06-10T01:24:23.398419Z"
    },
    "scrolled": true
   },
   "outputs": [
    {
     "name": "stdout",
     "output_type": "stream",
     "text": [
      "0          60.0\n",
      "1           1.0\n",
      "2         163.0\n",
      "3         193.0\n",
      "4          68.0\n",
      "          ...  \n",
      "149995    163.0\n",
      "149996    125.0\n",
      "149997     90.0\n",
      "149998    156.0\n",
      "149999    193.0\n",
      "Name: power, Length: 150000, dtype: float64\n",
      "0         1\n",
      "1         0\n",
      "2         5\n",
      "3         6\n",
      "4         2\n",
      "         ..\n",
      "149995    5\n",
      "149996    4\n",
      "149997    2\n",
      "149998    5\n",
      "149999    6\n",
      "Name: power_bin, Length: 150000, dtype: int64\n",
      "0        101.0\n",
      "1         73.0\n",
      "2        120.0\n",
      "3         58.0\n",
      "4        116.0\n",
      "         ...  \n",
      "49995    150.0\n",
      "49996    179.0\n",
      "49997    147.0\n",
      "49998    176.0\n",
      "49999      1.0\n",
      "Name: power, Length: 50000, dtype: float64\n",
      "0        3\n",
      "1        2\n",
      "2        3\n",
      "3        1\n",
      "4        3\n",
      "        ..\n",
      "49995    4\n",
      "49996    5\n",
      "49997    4\n",
      "49998    5\n",
      "49999    0\n",
      "Name: power_bin, Length: 50000, dtype: int64\n"
     ]
    }
   ],
   "source": [
    "#检查分桶情况\n",
    "print(train['power'])\n",
    "print(train['power_bin'])\n",
    "print(test['power'])\n",
    "print(test['power_bin'])"
   ]
  },
  {
   "cell_type": "code",
   "execution_count": 114,
   "metadata": {
    "ExecuteTime": {
     "end_time": "2021-06-10T01:24:23.596813Z",
     "start_time": "2021-06-10T01:24:23.486668Z"
    }
   },
   "outputs": [
    {
     "name": "stdout",
     "output_type": "stream",
     "text": [
      "<class 'pandas.core.frame.DataFrame'>\n",
      "RangeIndex: 150000 entries, 0 to 149999\n",
      "Data columns (total 29 columns):\n",
      " #   Column             Non-Null Count   Dtype         \n",
      "---  ------             --------------   -----         \n",
      " 0   name               150000 non-null  int64         \n",
      " 1   regDate            150000 non-null  datetime64[ns]\n",
      " 2   model              150000 non-null  float64       \n",
      " 3   brand              150000 non-null  int64         \n",
      " 4   bodyType           150000 non-null  float64       \n",
      " 5   fuelType           150000 non-null  float64       \n",
      " 6   gearbox            150000 non-null  float64       \n",
      " 7   power              150000 non-null  float64       \n",
      " 8   kilometer          150000 non-null  float64       \n",
      " 9   notRepairedDamage  150000 non-null  float64       \n",
      " 10  regionCode         150000 non-null  int64         \n",
      " 11  creatDate          150000 non-null  datetime64[ns]\n",
      " 12  price              150000 non-null  int64         \n",
      " 13  v_0                150000 non-null  float64       \n",
      " 14  v_1                150000 non-null  float64       \n",
      " 15  v_2                150000 non-null  float64       \n",
      " 16  v_3                150000 non-null  float64       \n",
      " 17  v_4                150000 non-null  float64       \n",
      " 18  v_5                150000 non-null  float64       \n",
      " 19  v_6                150000 non-null  float64       \n",
      " 20  v_7                150000 non-null  float64       \n",
      " 21  v_8                150000 non-null  float64       \n",
      " 22  v_9                150000 non-null  float64       \n",
      " 23  v_10               150000 non-null  float64       \n",
      " 24  v_11               150000 non-null  float64       \n",
      " 25  v_12               150000 non-null  float64       \n",
      " 26  v_13               150000 non-null  float64       \n",
      " 27  v_14               150000 non-null  float64       \n",
      " 28  power_bin          150000 non-null  int64         \n",
      "dtypes: datetime64[ns](2), float64(22), int64(5)\n",
      "memory usage: 33.2 MB\n"
     ]
    }
   ],
   "source": [
    "train.info()"
   ]
  },
  {
   "cell_type": "code",
   "execution_count": 115,
   "metadata": {
    "ExecuteTime": {
     "end_time": "2021-06-10T01:24:23.678134Z",
     "start_time": "2021-06-10T01:24:23.598799Z"
    }
   },
   "outputs": [
    {
     "data": {
      "text/html": [
       "<div>\n",
       "<style scoped>\n",
       "    .dataframe tbody tr th:only-of-type {\n",
       "        vertical-align: middle;\n",
       "    }\n",
       "\n",
       "    .dataframe tbody tr th {\n",
       "        vertical-align: top;\n",
       "    }\n",
       "\n",
       "    .dataframe thead th {\n",
       "        text-align: right;\n",
       "    }\n",
       "</style>\n",
       "<table border=\"1\" class=\"dataframe\">\n",
       "  <thead>\n",
       "    <tr style=\"text-align: right;\">\n",
       "      <th></th>\n",
       "      <th>name</th>\n",
       "      <th>regDate</th>\n",
       "      <th>model</th>\n",
       "      <th>brand</th>\n",
       "      <th>bodyType</th>\n",
       "      <th>fuelType</th>\n",
       "      <th>gearbox</th>\n",
       "      <th>power</th>\n",
       "      <th>kilometer</th>\n",
       "      <th>notRepairedDamage</th>\n",
       "      <th>regionCode</th>\n",
       "      <th>creatDate</th>\n",
       "      <th>price</th>\n",
       "      <th>v_0</th>\n",
       "      <th>v_1</th>\n",
       "      <th>v_2</th>\n",
       "      <th>v_3</th>\n",
       "      <th>v_4</th>\n",
       "      <th>v_5</th>\n",
       "      <th>v_6</th>\n",
       "      <th>v_7</th>\n",
       "      <th>v_8</th>\n",
       "      <th>v_9</th>\n",
       "      <th>v_10</th>\n",
       "      <th>v_11</th>\n",
       "      <th>v_12</th>\n",
       "      <th>v_13</th>\n",
       "      <th>v_14</th>\n",
       "      <th>power_bin</th>\n",
       "    </tr>\n",
       "  </thead>\n",
       "  <tbody>\n",
       "  </tbody>\n",
       "</table>\n",
       "</div>"
      ],
      "text/plain": [
       "Empty DataFrame\n",
       "Columns: [name, regDate, model, brand, bodyType, fuelType, gearbox, power, kilometer, notRepairedDamage, regionCode, creatDate, price, v_0, v_1, v_2, v_3, v_4, v_5, v_6, v_7, v_8, v_9, v_10, v_11, v_12, v_13, v_14, power_bin]\n",
       "Index: []"
      ]
     },
     "execution_count": 115,
     "metadata": {},
     "output_type": "execute_result"
    }
   ],
   "source": [
    "train[train['power_bin'].isnull()]"
   ]
  },
  {
   "cell_type": "code",
   "execution_count": 116,
   "metadata": {
    "ExecuteTime": {
     "end_time": "2021-06-10T01:24:23.759138Z",
     "start_time": "2021-06-10T01:24:23.680115Z"
    },
    "scrolled": true
   },
   "outputs": [
    {
     "data": {
      "text/plain": [
       "15.0    96877\n",
       "12.5    15722\n",
       "10.0     6459\n",
       "9.0      5257\n",
       "8.0      4573\n",
       "7.0      4084\n",
       "6.0      3725\n",
       "5.0      3144\n",
       "4.0      2718\n",
       "3.0      2501\n",
       "2.0      2354\n",
       "0.5      1840\n",
       "1.0       746\n",
       "Name: kilometer, dtype: int64"
      ]
     },
     "execution_count": 116,
     "metadata": {},
     "output_type": "execute_result"
    }
   ],
   "source": [
    "train['kilometer'].value_counts()"
   ]
  },
  {
   "cell_type": "markdown",
   "metadata": {},
   "source": [
    "# 特征工程"
   ]
  },
  {
   "cell_type": "markdown",
   "metadata": {},
   "source": [
    "## 特征创造\n",
    "汽车上线时间：上线出售的时间\n",
    "\n",
    "汽车注册时间：汽车生产注册的时间\n",
    "\n",
    "汽车上线时间 < 汽车注册时间\n",
    "\n",
    "car_age = 汽车上线时间-汽车注册时间\n",
    "\n",
    "此与price密切相关，时间越久，价钱越低\n",
    "\n",
    "原数据是int -> str -> datetime"
   ]
  },
  {
   "cell_type": "code",
   "execution_count": 117,
   "metadata": {
    "ExecuteTime": {
     "end_time": "2021-06-10T01:24:23.853168Z",
     "start_time": "2021-06-10T01:24:23.761123Z"
    },
    "scrolled": true
   },
   "outputs": [
    {
     "data": {
      "text/html": [
       "<div>\n",
       "<style scoped>\n",
       "    .dataframe tbody tr th:only-of-type {\n",
       "        vertical-align: middle;\n",
       "    }\n",
       "\n",
       "    .dataframe tbody tr th {\n",
       "        vertical-align: top;\n",
       "    }\n",
       "\n",
       "    .dataframe thead th {\n",
       "        text-align: right;\n",
       "    }\n",
       "</style>\n",
       "<table border=\"1\" class=\"dataframe\">\n",
       "  <thead>\n",
       "    <tr style=\"text-align: right;\">\n",
       "      <th></th>\n",
       "      <th>creatDate</th>\n",
       "      <th>regDate</th>\n",
       "    </tr>\n",
       "  </thead>\n",
       "  <tbody>\n",
       "    <tr>\n",
       "      <th>0</th>\n",
       "      <td>2016-04-04</td>\n",
       "      <td>2004-04-02</td>\n",
       "    </tr>\n",
       "    <tr>\n",
       "      <th>1</th>\n",
       "      <td>2016-03-09</td>\n",
       "      <td>2003-03-01</td>\n",
       "    </tr>\n",
       "    <tr>\n",
       "      <th>2</th>\n",
       "      <td>2016-04-02</td>\n",
       "      <td>2004-04-03</td>\n",
       "    </tr>\n",
       "    <tr>\n",
       "      <th>3</th>\n",
       "      <td>2016-03-12</td>\n",
       "      <td>1996-09-08</td>\n",
       "    </tr>\n",
       "    <tr>\n",
       "      <th>4</th>\n",
       "      <td>2016-03-13</td>\n",
       "      <td>2012-01-03</td>\n",
       "    </tr>\n",
       "    <tr>\n",
       "      <th>...</th>\n",
       "      <td>...</td>\n",
       "      <td>...</td>\n",
       "    </tr>\n",
       "    <tr>\n",
       "      <th>149995</th>\n",
       "      <td>2016-03-27</td>\n",
       "      <td>2000-06-07</td>\n",
       "    </tr>\n",
       "    <tr>\n",
       "      <th>149996</th>\n",
       "      <td>2016-03-12</td>\n",
       "      <td>2009-11-02</td>\n",
       "    </tr>\n",
       "    <tr>\n",
       "      <th>149997</th>\n",
       "      <td>2016-03-28</td>\n",
       "      <td>2010-10-03</td>\n",
       "    </tr>\n",
       "    <tr>\n",
       "      <th>149998</th>\n",
       "      <td>2016-04-01</td>\n",
       "      <td>2006-03-12</td>\n",
       "    </tr>\n",
       "    <tr>\n",
       "      <th>149999</th>\n",
       "      <td>2016-03-05</td>\n",
       "      <td>1999-02-04</td>\n",
       "    </tr>\n",
       "  </tbody>\n",
       "</table>\n",
       "<p>150000 rows × 2 columns</p>\n",
       "</div>"
      ],
      "text/plain": [
       "        creatDate    regDate\n",
       "0      2016-04-04 2004-04-02\n",
       "1      2016-03-09 2003-03-01\n",
       "2      2016-04-02 2004-04-03\n",
       "3      2016-03-12 1996-09-08\n",
       "4      2016-03-13 2012-01-03\n",
       "...           ...        ...\n",
       "149995 2016-03-27 2000-06-07\n",
       "149996 2016-03-12 2009-11-02\n",
       "149997 2016-03-28 2010-10-03\n",
       "149998 2016-04-01 2006-03-12\n",
       "149999 2016-03-05 1999-02-04\n",
       "\n",
       "[150000 rows x 2 columns]"
      ]
     },
     "execution_count": 117,
     "metadata": {},
     "output_type": "execute_result"
    }
   ],
   "source": [
    "# 汽车上线时间creatDate > 汽车注册时间regDate\n",
    "train[['creatDate','regDate']]"
   ]
  },
  {
   "cell_type": "code",
   "execution_count": 118,
   "metadata": {
    "ExecuteTime": {
     "end_time": "2021-06-10T01:24:23.936774Z",
     "start_time": "2021-06-10T01:24:23.854164Z"
    }
   },
   "outputs": [
    {
     "data": {
      "text/html": [
       "<div>\n",
       "<style scoped>\n",
       "    .dataframe tbody tr th:only-of-type {\n",
       "        vertical-align: middle;\n",
       "    }\n",
       "\n",
       "    .dataframe tbody tr th {\n",
       "        vertical-align: top;\n",
       "    }\n",
       "\n",
       "    .dataframe thead th {\n",
       "        text-align: right;\n",
       "    }\n",
       "</style>\n",
       "<table border=\"1\" class=\"dataframe\">\n",
       "  <thead>\n",
       "    <tr style=\"text-align: right;\">\n",
       "      <th></th>\n",
       "      <th>creatDate</th>\n",
       "      <th>regDate</th>\n",
       "    </tr>\n",
       "  </thead>\n",
       "  <tbody>\n",
       "    <tr>\n",
       "      <th>0</th>\n",
       "      <td>2016-03-08</td>\n",
       "      <td>2000-05-01</td>\n",
       "    </tr>\n",
       "    <tr>\n",
       "      <th>1</th>\n",
       "      <td>2016-03-10</td>\n",
       "      <td>1995-02-11</td>\n",
       "    </tr>\n",
       "    <tr>\n",
       "      <th>2</th>\n",
       "      <td>2016-03-09</td>\n",
       "      <td>2009-06-06</td>\n",
       "    </tr>\n",
       "    <tr>\n",
       "      <th>3</th>\n",
       "      <td>2016-03-14</td>\n",
       "      <td>2002-06-01</td>\n",
       "    </tr>\n",
       "    <tr>\n",
       "      <th>4</th>\n",
       "      <td>2016-03-06</td>\n",
       "      <td>2003-03-01</td>\n",
       "    </tr>\n",
       "    <tr>\n",
       "      <th>...</th>\n",
       "      <td>...</td>\n",
       "      <td>...</td>\n",
       "    </tr>\n",
       "    <tr>\n",
       "      <th>49995</th>\n",
       "      <td>2016-03-09</td>\n",
       "      <td>2004-10-05</td>\n",
       "    </tr>\n",
       "    <tr>\n",
       "      <th>49996</th>\n",
       "      <td>2016-03-23</td>\n",
       "      <td>2013-04-09</td>\n",
       "    </tr>\n",
       "    <tr>\n",
       "      <th>49997</th>\n",
       "      <td>2016-03-16</td>\n",
       "      <td>2004-12-11</td>\n",
       "    </tr>\n",
       "    <tr>\n",
       "      <th>49998</th>\n",
       "      <td>2016-03-27</td>\n",
       "      <td>2002-07-02</td>\n",
       "    </tr>\n",
       "    <tr>\n",
       "      <th>49999</th>\n",
       "      <td>2016-04-01</td>\n",
       "      <td>2009-07-08</td>\n",
       "    </tr>\n",
       "  </tbody>\n",
       "</table>\n",
       "<p>50000 rows × 2 columns</p>\n",
       "</div>"
      ],
      "text/plain": [
       "       creatDate    regDate\n",
       "0     2016-03-08 2000-05-01\n",
       "1     2016-03-10 1995-02-11\n",
       "2     2016-03-09 2009-06-06\n",
       "3     2016-03-14 2002-06-01\n",
       "4     2016-03-06 2003-03-01\n",
       "...          ...        ...\n",
       "49995 2016-03-09 2004-10-05\n",
       "49996 2016-03-23 2013-04-09\n",
       "49997 2016-03-16 2004-12-11\n",
       "49998 2016-03-27 2002-07-02\n",
       "49999 2016-04-01 2009-07-08\n",
       "\n",
       "[50000 rows x 2 columns]"
      ]
     },
     "execution_count": 118,
     "metadata": {},
     "output_type": "execute_result"
    }
   ],
   "source": [
    "test[['creatDate','regDate']]"
   ]
  },
  {
   "cell_type": "code",
   "execution_count": 119,
   "metadata": {
    "ExecuteTime": {
     "end_time": "2021-06-10T01:24:24.201517Z",
     "start_time": "2021-06-10T01:24:23.937760Z"
    },
    "scrolled": true
   },
   "outputs": [
    {
     "name": "stdout",
     "output_type": "stream",
     "text": [
      "<class 'pandas.core.frame.DataFrame'>\n",
      "RangeIndex: 150000 entries, 0 to 149999\n",
      "Data columns (total 37 columns):\n",
      " #   Column             Non-Null Count   Dtype         \n",
      "---  ------             --------------   -----         \n",
      " 0   name               150000 non-null  int64         \n",
      " 1   regDate            150000 non-null  datetime64[ns]\n",
      " 2   model              150000 non-null  float64       \n",
      " 3   brand              150000 non-null  int64         \n",
      " 4   bodyType           150000 non-null  float64       \n",
      " 5   fuelType           150000 non-null  float64       \n",
      " 6   gearbox            150000 non-null  float64       \n",
      " 7   power              150000 non-null  float64       \n",
      " 8   kilometer          150000 non-null  float64       \n",
      " 9   notRepairedDamage  150000 non-null  float64       \n",
      " 10  regionCode         150000 non-null  int64         \n",
      " 11  creatDate          150000 non-null  datetime64[ns]\n",
      " 12  price              150000 non-null  int64         \n",
      " 13  v_0                150000 non-null  float64       \n",
      " 14  v_1                150000 non-null  float64       \n",
      " 15  v_2                150000 non-null  float64       \n",
      " 16  v_3                150000 non-null  float64       \n",
      " 17  v_4                150000 non-null  float64       \n",
      " 18  v_5                150000 non-null  float64       \n",
      " 19  v_6                150000 non-null  float64       \n",
      " 20  v_7                150000 non-null  float64       \n",
      " 21  v_8                150000 non-null  float64       \n",
      " 22  v_9                150000 non-null  float64       \n",
      " 23  v_10               150000 non-null  float64       \n",
      " 24  v_11               150000 non-null  float64       \n",
      " 25  v_12               150000 non-null  float64       \n",
      " 26  v_13               150000 non-null  float64       \n",
      " 27  v_14               150000 non-null  float64       \n",
      " 28  power_bin          150000 non-null  int64         \n",
      " 29  regDate_year       150000 non-null  int64         \n",
      " 30  creatDate_year     150000 non-null  int64         \n",
      " 31  regDate_month      150000 non-null  int64         \n",
      " 32  creatDate_month    150000 non-null  int64         \n",
      " 33  regDate_day        150000 non-null  int64         \n",
      " 34  creatDate_day      150000 non-null  int64         \n",
      " 35  carAge_day         150000 non-null  int64         \n",
      " 36  carAge_year        150000 non-null  float64       \n",
      "dtypes: datetime64[ns](2), float64(23), int64(12)\n",
      "memory usage: 42.3 MB\n",
      "None\n",
      "<class 'pandas.core.frame.DataFrame'>\n",
      "RangeIndex: 50000 entries, 0 to 49999\n",
      "Data columns (total 36 columns):\n",
      " #   Column             Non-Null Count  Dtype         \n",
      "---  ------             --------------  -----         \n",
      " 0   name               50000 non-null  int64         \n",
      " 1   regDate            50000 non-null  datetime64[ns]\n",
      " 2   model              50000 non-null  float64       \n",
      " 3   brand              50000 non-null  int64         \n",
      " 4   bodyType           50000 non-null  float64       \n",
      " 5   fuelType           50000 non-null  float64       \n",
      " 6   gearbox            50000 non-null  float64       \n",
      " 7   power              50000 non-null  float64       \n",
      " 8   kilometer          50000 non-null  float64       \n",
      " 9   notRepairedDamage  50000 non-null  float64       \n",
      " 10  regionCode         50000 non-null  int64         \n",
      " 11  creatDate          50000 non-null  datetime64[ns]\n",
      " 12  v_0                50000 non-null  float64       \n",
      " 13  v_1                50000 non-null  float64       \n",
      " 14  v_2                50000 non-null  float64       \n",
      " 15  v_3                50000 non-null  float64       \n",
      " 16  v_4                50000 non-null  float64       \n",
      " 17  v_5                50000 non-null  float64       \n",
      " 18  v_6                50000 non-null  float64       \n",
      " 19  v_7                50000 non-null  float64       \n",
      " 20  v_8                50000 non-null  float64       \n",
      " 21  v_9                50000 non-null  float64       \n",
      " 22  v_10               50000 non-null  float64       \n",
      " 23  v_11               50000 non-null  float64       \n",
      " 24  v_12               50000 non-null  float64       \n",
      " 25  v_13               50000 non-null  float64       \n",
      " 26  v_14               50000 non-null  float64       \n",
      " 27  power_bin          50000 non-null  int64         \n",
      " 28  regDate_year       50000 non-null  int64         \n",
      " 29  creatDate_year     50000 non-null  int64         \n",
      " 30  regDate_month      50000 non-null  int64         \n",
      " 31  creatDate_month    50000 non-null  int64         \n",
      " 32  regDate_day        50000 non-null  int64         \n",
      " 33  creatDate_day      50000 non-null  int64         \n",
      " 34  carAge_day         50000 non-null  int64         \n",
      " 35  carAge_year        50000 non-null  float64       \n",
      "dtypes: datetime64[ns](2), float64(23), int64(11)\n",
      "memory usage: 13.7 MB\n",
      "None\n"
     ]
    }
   ],
   "source": [
    "# 将regDate和creatDate按年月日拆分\n",
    "# 年\n",
    "train['regDate_year'] = train['regDate'].dt.year\n",
    "test['regDate_year'] = test['regDate'].dt.year\n",
    "train['creatDate_year'] = train['creatDate'].dt.year\n",
    "test['creatDate_year'] = test['regDate'].dt.year\n",
    "# 月\n",
    "train['regDate_month'] = train['regDate'].dt.month\n",
    "test['regDate_month'] = test['regDate'].dt.month\n",
    "train['creatDate_month'] = train['creatDate'].dt.month\n",
    "test['creatDate_month'] = test['regDate'].dt.month\n",
    "# 日\n",
    "train['regDate_day'] = train['regDate'].dt.day\n",
    "test['regDate_day'] = test['regDate'].dt.day\n",
    "train['creatDate_day'] = train['creatDate'].dt.day\n",
    "test['creatDate_day'] = test['regDate'].dt.day\n",
    "# 车龄，单位为天\n",
    "train['carAge_day'] = (train['creatDate'] - train['regDate']).dt.days\n",
    "test['carAge_day'] = (test['creatDate'] - test['regDate']).dt.days\n",
    "# 车龄，单位为年\n",
    "train['carAge_year'] = (train['creatDate'] - train['regDate']).dt.days / 365\n",
    "test['carAge_year'] = (test['creatDate'] - test['regDate']).dt.days / 365\n",
    "print(train.info())\n",
    "print(test.info())"
   ]
  },
  {
   "cell_type": "code",
   "execution_count": 120,
   "metadata": {
    "ExecuteTime": {
     "end_time": "2021-06-10T01:24:24.739845Z",
     "start_time": "2021-06-10T01:24:24.203516Z"
    },
    "scrolled": true
   },
   "outputs": [
    {
     "data": {
      "text/plain": [
       "-0.6114024881032862"
      ]
     },
     "execution_count": 120,
     "metadata": {},
     "output_type": "execute_result"
    }
   ],
   "source": [
    "# 查看carAge与price之间的相关性\n",
    "train.corr()['price']['carAge_year']"
   ]
  },
  {
   "cell_type": "code",
   "execution_count": 121,
   "metadata": {
    "ExecuteTime": {
     "end_time": "2021-06-10T01:24:25.282698Z",
     "start_time": "2021-06-10T01:24:24.740844Z"
    }
   },
   "outputs": [
    {
     "data": {
      "text/plain": [
       "-0.6114024881032762"
      ]
     },
     "execution_count": 121,
     "metadata": {},
     "output_type": "execute_result"
    }
   ],
   "source": [
    "train.corr()['price']['carAge_day']"
   ]
  },
  {
   "cell_type": "code",
   "execution_count": 122,
   "metadata": {
    "ExecuteTime": {
     "end_time": "2021-06-10T01:24:25.287695Z",
     "start_time": "2021-06-10T01:24:25.284696Z"
    }
   },
   "outputs": [],
   "source": [
    "#测试集：增加carAge列\n",
    "# test['carAge'] = test['creatDate'] - test['regDate']\n",
    "# test['carAge']"
   ]
  },
  {
   "cell_type": "code",
   "execution_count": 123,
   "metadata": {
    "ExecuteTime": {
     "end_time": "2021-06-10T01:24:25.379725Z",
     "start_time": "2021-06-10T01:24:25.288694Z"
    }
   },
   "outputs": [],
   "source": [
    "# 测试集：以年为单位，计算carAge\n",
    "# for i in range(test.shape[0]):\n",
    "#     test['carAge'][i] = (test['creatDate'][i] - test['regDate'][i]).days / 365\n",
    "# test['carAge'] = test['carAge'].astype(float)\n",
    "# print(test['carAge'])\n",
    "# print(test.info())"
   ]
  },
  {
   "cell_type": "markdown",
   "metadata": {},
   "source": [
    "# 数据预处理补充：删除无关列"
   ]
  },
  {
   "cell_type": "markdown",
   "metadata": {},
   "source": [
    "## 删除无关列\n",
    "1. 在选择需要删除的特征之前，考虑线性相关系数低的。第一步选中系数绝对值小于0.1的特征， 第二步，抛开线性相关系数，从现实角度思考每个特征对售价的影响\n",
    "2. 特征v_2, v_6, v_1, v_14, v_13, v_7：由于是连续型变量，理论上具有数学意义。既然跟售价的线性相关系数极低，为降低噪声，避免过拟合，考虑删去；\n",
    "3. 特征regionCode, brand：并非连续型变量，不具备数学上的可比较性。与售价的线性相关系数低无法说明各自的取值对售价影响不大，保留。\n",
    "4. 特征name：汽车交易名称，训练集共有99662条不重复值，取值不影响售价，删去。\n",
    "5. 特征creatDate：（二手）汽车开始售卖时间，范围在 [20150618, 20160407]，间隔短，且与regDate（汽车注册时间）线性相关系数仅为-0.001293，其取值显然对售价影响很小，删去。**(暂时不删，可能购买时间可以组合出新的特征，对汽车价格产生影响)**"
   ]
  },
  {
   "cell_type": "code",
   "execution_count": 124,
   "metadata": {
    "ExecuteTime": {
     "end_time": "2021-06-10T01:24:25.577079Z",
     "start_time": "2021-06-10T01:24:25.380729Z"
    }
   },
   "outputs": [
    {
     "data": {
      "text/plain": [
       "creatDate_year       1.199864e-04\n",
       "v_8                  8.518083e-04\n",
       "v_9                  1.273917e-03\n",
       "v_5                  2.098004e-03\n",
       "v_6                  2.677316e-03\n",
       "v_7                  4.056580e-02\n",
       "notRepairedDamage    8.632639e-02\n",
       "creatDate_month      1.449395e-01\n",
       "gearbox              1.693300e-01\n",
       "fuelType             2.951843e-01\n",
       "v_14                 1.078867e+00\n",
       "v_4                  1.424828e+00\n",
       "v_13                 1.661489e+00\n",
       "bodyType             3.100339e+00\n",
       "v_3                  4.106759e+00\n",
       "power_bin            4.984813e+00\n",
       "v_0                  6.039542e+00\n",
       "v_12                 6.337694e+00\n",
       "v_2                  8.582661e+00\n",
       "regDate_month        1.038145e+01\n",
       "v_11                 1.079826e+01\n",
       "regDate_day          1.190464e+01\n",
       "v_1                  1.326338e+01\n",
       "v_10                 1.423090e+01\n",
       "kilometer            1.536307e+01\n",
       "regDate_year         2.875357e+01\n",
       "carAge_year          2.881824e+01\n",
       "brand                6.185754e+01\n",
       "creatDate_day        8.339808e+01\n",
       "model                2.453883e+03\n",
       "power                4.667973e+03\n",
       "regionCode           3.554594e+06\n",
       "carAge_day           3.839310e+06\n",
       "price                5.627998e+07\n",
       "name                 3.733684e+09\n",
       "dtype: float64"
      ]
     },
     "execution_count": 124,
     "metadata": {},
     "output_type": "execute_result"
    }
   ],
   "source": [
    "train.var().sort_values()"
   ]
  },
  {
   "cell_type": "code",
   "execution_count": 125,
   "metadata": {
    "ExecuteTime": {
     "end_time": "2021-06-10T01:24:26.115516Z",
     "start_time": "2021-06-10T01:24:25.578079Z"
    },
    "scrolled": true
   },
   "outputs": [
    {
     "data": {
      "text/plain": [
       "price                1.000000\n",
       "v_12                 0.692823\n",
       "v_8                  0.685798\n",
       "v_0                  0.628397\n",
       "regDate_year         0.611814\n",
       "power_bin            0.577206\n",
       "power                0.566841\n",
       "gearbox              0.330353\n",
       "bodyType             0.248609\n",
       "fuelType             0.200917\n",
       "v_5                  0.164317\n",
       "model                0.137049\n",
       "v_2                  0.085322\n",
       "v_6                  0.068970\n",
       "v_1                  0.060914\n",
       "v_14                 0.035911\n",
       "regionCode           0.014036\n",
       "creatDate_month      0.012834\n",
       "name                 0.002030\n",
       "creatDate_day        0.001442\n",
       "regDate_month       -0.001319\n",
       "creatDate_year      -0.001702\n",
       "regDate_day         -0.002700\n",
       "v_13                -0.013993\n",
       "brand               -0.043799\n",
       "v_7                 -0.053024\n",
       "v_4                 -0.147085\n",
       "notRepairedDamage   -0.157523\n",
       "v_9                 -0.206205\n",
       "v_10                -0.246175\n",
       "v_11                -0.275320\n",
       "kilometer           -0.440519\n",
       "carAge_day          -0.611402\n",
       "carAge_year         -0.611402\n",
       "v_3                 -0.730946\n",
       "Name: price, dtype: float64"
      ]
     },
     "execution_count": 125,
     "metadata": {},
     "output_type": "execute_result"
    }
   ],
   "source": [
    "# 查看各个特征与预测值price之间的相关性系数\n",
    "train.corr()['price'].sort_values(ascending=False)"
   ]
  },
  {
   "cell_type": "code",
   "execution_count": 126,
   "metadata": {
    "ExecuteTime": {
     "end_time": "2021-06-10T01:24:26.143502Z",
     "start_time": "2021-06-10T01:24:26.117515Z"
    },
    "scrolled": true
   },
   "outputs": [
    {
     "name": "stdout",
     "output_type": "stream",
     "text": [
      "<class 'pandas.core.frame.DataFrame'>\n",
      "RangeIndex: 150000 entries, 0 to 149999\n",
      "Data columns (total 37 columns):\n",
      " #   Column             Non-Null Count   Dtype         \n",
      "---  ------             --------------   -----         \n",
      " 0   name               150000 non-null  int64         \n",
      " 1   regDate            150000 non-null  datetime64[ns]\n",
      " 2   model              150000 non-null  float64       \n",
      " 3   brand              150000 non-null  int64         \n",
      " 4   bodyType           150000 non-null  float64       \n",
      " 5   fuelType           150000 non-null  float64       \n",
      " 6   gearbox            150000 non-null  float64       \n",
      " 7   power              150000 non-null  float64       \n",
      " 8   kilometer          150000 non-null  float64       \n",
      " 9   notRepairedDamage  150000 non-null  float64       \n",
      " 10  regionCode         150000 non-null  int64         \n",
      " 11  creatDate          150000 non-null  datetime64[ns]\n",
      " 12  price              150000 non-null  int64         \n",
      " 13  v_0                150000 non-null  float64       \n",
      " 14  v_1                150000 non-null  float64       \n",
      " 15  v_2                150000 non-null  float64       \n",
      " 16  v_3                150000 non-null  float64       \n",
      " 17  v_4                150000 non-null  float64       \n",
      " 18  v_5                150000 non-null  float64       \n",
      " 19  v_6                150000 non-null  float64       \n",
      " 20  v_7                150000 non-null  float64       \n",
      " 21  v_8                150000 non-null  float64       \n",
      " 22  v_9                150000 non-null  float64       \n",
      " 23  v_10               150000 non-null  float64       \n",
      " 24  v_11               150000 non-null  float64       \n",
      " 25  v_12               150000 non-null  float64       \n",
      " 26  v_13               150000 non-null  float64       \n",
      " 27  v_14               150000 non-null  float64       \n",
      " 28  power_bin          150000 non-null  int64         \n",
      " 29  regDate_year       150000 non-null  int64         \n",
      " 30  creatDate_year     150000 non-null  int64         \n",
      " 31  regDate_month      150000 non-null  int64         \n",
      " 32  creatDate_month    150000 non-null  int64         \n",
      " 33  regDate_day        150000 non-null  int64         \n",
      " 34  creatDate_day      150000 non-null  int64         \n",
      " 35  carAge_day         150000 non-null  int64         \n",
      " 36  carAge_year        150000 non-null  float64       \n",
      "dtypes: datetime64[ns](2), float64(23), int64(12)\n",
      "memory usage: 42.3 MB\n"
     ]
    }
   ],
   "source": [
    "train.info()"
   ]
  },
  {
   "cell_type": "code",
   "execution_count": 127,
   "metadata": {
    "ExecuteTime": {
     "end_time": "2021-06-10T01:24:26.218458Z",
     "start_time": "2021-06-10T01:24:26.148502Z"
    },
    "scrolled": true
   },
   "outputs": [
    {
     "name": "stdout",
     "output_type": "stream",
     "text": [
      "<class 'pandas.core.frame.DataFrame'>\n",
      "RangeIndex: 50000 entries, 0 to 49999\n",
      "Data columns (total 36 columns):\n",
      " #   Column             Non-Null Count  Dtype         \n",
      "---  ------             --------------  -----         \n",
      " 0   name               50000 non-null  int64         \n",
      " 1   regDate            50000 non-null  datetime64[ns]\n",
      " 2   model              50000 non-null  float64       \n",
      " 3   brand              50000 non-null  int64         \n",
      " 4   bodyType           50000 non-null  float64       \n",
      " 5   fuelType           50000 non-null  float64       \n",
      " 6   gearbox            50000 non-null  float64       \n",
      " 7   power              50000 non-null  float64       \n",
      " 8   kilometer          50000 non-null  float64       \n",
      " 9   notRepairedDamage  50000 non-null  float64       \n",
      " 10  regionCode         50000 non-null  int64         \n",
      " 11  creatDate          50000 non-null  datetime64[ns]\n",
      " 12  v_0                50000 non-null  float64       \n",
      " 13  v_1                50000 non-null  float64       \n",
      " 14  v_2                50000 non-null  float64       \n",
      " 15  v_3                50000 non-null  float64       \n",
      " 16  v_4                50000 non-null  float64       \n",
      " 17  v_5                50000 non-null  float64       \n",
      " 18  v_6                50000 non-null  float64       \n",
      " 19  v_7                50000 non-null  float64       \n",
      " 20  v_8                50000 non-null  float64       \n",
      " 21  v_9                50000 non-null  float64       \n",
      " 22  v_10               50000 non-null  float64       \n",
      " 23  v_11               50000 non-null  float64       \n",
      " 24  v_12               50000 non-null  float64       \n",
      " 25  v_13               50000 non-null  float64       \n",
      " 26  v_14               50000 non-null  float64       \n",
      " 27  power_bin          50000 non-null  int64         \n",
      " 28  regDate_year       50000 non-null  int64         \n",
      " 29  creatDate_year     50000 non-null  int64         \n",
      " 30  regDate_month      50000 non-null  int64         \n",
      " 31  creatDate_month    50000 non-null  int64         \n",
      " 32  regDate_day        50000 non-null  int64         \n",
      " 33  creatDate_day      50000 non-null  int64         \n",
      " 34  carAge_day         50000 non-null  int64         \n",
      " 35  carAge_year        50000 non-null  float64       \n",
      "dtypes: datetime64[ns](2), float64(23), int64(11)\n",
      "memory usage: 13.7 MB\n"
     ]
    }
   ],
   "source": [
    "test.info()"
   ]
  },
  {
   "cell_type": "code",
   "execution_count": 128,
   "metadata": {
    "ExecuteTime": {
     "end_time": "2021-06-10T01:24:26.383056Z",
     "start_time": "2021-06-10T01:24:26.220457Z"
    }
   },
   "outputs": [],
   "source": [
    "train.drop(['v_2', 'v_6', 'v_1', 'v_14', 'v_13', 'v_7', 'name', 'creatDate', 'regDate'], axis=1, inplace=True)\n",
    "test.drop(['v_2', 'v_6', 'v_1', 'v_14', 'v_13', 'v_7', 'name', 'creatDate', 'regDate'], axis=1, inplace=True)"
   ]
  },
  {
   "cell_type": "code",
   "execution_count": 129,
   "metadata": {
    "ExecuteTime": {
     "end_time": "2021-06-10T01:24:26.397584Z",
     "start_time": "2021-06-10T01:24:26.384053Z"
    }
   },
   "outputs": [
    {
     "data": {
      "text/plain": [
       "((150000, 28), (50000, 27))"
      ]
     },
     "execution_count": 129,
     "metadata": {},
     "output_type": "execute_result"
    }
   ],
   "source": [
    "train.shape, test.shape"
   ]
  },
  {
   "cell_type": "code",
   "execution_count": 130,
   "metadata": {
    "ExecuteTime": {
     "end_time": "2021-06-10T01:24:26.521575Z",
     "start_time": "2021-06-10T01:24:26.398568Z"
    },
    "scrolled": true
   },
   "outputs": [
    {
     "name": "stdout",
     "output_type": "stream",
     "text": [
      "<class 'pandas.core.frame.DataFrame'>\n",
      "RangeIndex: 150000 entries, 0 to 149999\n",
      "Data columns (total 28 columns):\n",
      " #   Column             Non-Null Count   Dtype  \n",
      "---  ------             --------------   -----  \n",
      " 0   model              150000 non-null  float64\n",
      " 1   brand              150000 non-null  int64  \n",
      " 2   bodyType           150000 non-null  float64\n",
      " 3   fuelType           150000 non-null  float64\n",
      " 4   gearbox            150000 non-null  float64\n",
      " 5   power              150000 non-null  float64\n",
      " 6   kilometer          150000 non-null  float64\n",
      " 7   notRepairedDamage  150000 non-null  float64\n",
      " 8   regionCode         150000 non-null  int64  \n",
      " 9   price              150000 non-null  int64  \n",
      " 10  v_0                150000 non-null  float64\n",
      " 11  v_3                150000 non-null  float64\n",
      " 12  v_4                150000 non-null  float64\n",
      " 13  v_5                150000 non-null  float64\n",
      " 14  v_8                150000 non-null  float64\n",
      " 15  v_9                150000 non-null  float64\n",
      " 16  v_10               150000 non-null  float64\n",
      " 17  v_11               150000 non-null  float64\n",
      " 18  v_12               150000 non-null  float64\n",
      " 19  power_bin          150000 non-null  int64  \n",
      " 20  regDate_year       150000 non-null  int64  \n",
      " 21  creatDate_year     150000 non-null  int64  \n",
      " 22  regDate_month      150000 non-null  int64  \n",
      " 23  creatDate_month    150000 non-null  int64  \n",
      " 24  regDate_day        150000 non-null  int64  \n",
      " 25  creatDate_day      150000 non-null  int64  \n",
      " 26  carAge_day         150000 non-null  int64  \n",
      " 27  carAge_year        150000 non-null  float64\n",
      "dtypes: float64(17), int64(11)\n",
      "memory usage: 32.0 MB\n"
     ]
    }
   ],
   "source": [
    "# 查看处理后的结果\n",
    "train.info()"
   ]
  },
  {
   "cell_type": "code",
   "execution_count": 131,
   "metadata": {
    "ExecuteTime": {
     "end_time": "2021-06-10T01:24:26.598585Z",
     "start_time": "2021-06-10T01:24:26.522561Z"
    },
    "scrolled": true
   },
   "outputs": [
    {
     "name": "stdout",
     "output_type": "stream",
     "text": [
      "<class 'pandas.core.frame.DataFrame'>\n",
      "RangeIndex: 50000 entries, 0 to 49999\n",
      "Data columns (total 27 columns):\n",
      " #   Column             Non-Null Count  Dtype  \n",
      "---  ------             --------------  -----  \n",
      " 0   model              50000 non-null  float64\n",
      " 1   brand              50000 non-null  int64  \n",
      " 2   bodyType           50000 non-null  float64\n",
      " 3   fuelType           50000 non-null  float64\n",
      " 4   gearbox            50000 non-null  float64\n",
      " 5   power              50000 non-null  float64\n",
      " 6   kilometer          50000 non-null  float64\n",
      " 7   notRepairedDamage  50000 non-null  float64\n",
      " 8   regionCode         50000 non-null  int64  \n",
      " 9   v_0                50000 non-null  float64\n",
      " 10  v_3                50000 non-null  float64\n",
      " 11  v_4                50000 non-null  float64\n",
      " 12  v_5                50000 non-null  float64\n",
      " 13  v_8                50000 non-null  float64\n",
      " 14  v_9                50000 non-null  float64\n",
      " 15  v_10               50000 non-null  float64\n",
      " 16  v_11               50000 non-null  float64\n",
      " 17  v_12               50000 non-null  float64\n",
      " 18  power_bin          50000 non-null  int64  \n",
      " 19  regDate_year       50000 non-null  int64  \n",
      " 20  creatDate_year     50000 non-null  int64  \n",
      " 21  regDate_month      50000 non-null  int64  \n",
      " 22  creatDate_month    50000 non-null  int64  \n",
      " 23  regDate_day        50000 non-null  int64  \n",
      " 24  creatDate_day      50000 non-null  int64  \n",
      " 25  carAge_day         50000 non-null  int64  \n",
      " 26  carAge_year        50000 non-null  float64\n",
      "dtypes: float64(17), int64(10)\n",
      "memory usage: 10.3 MB\n"
     ]
    }
   ],
   "source": [
    "test.info()"
   ]
  },
  {
   "cell_type": "markdown",
   "metadata": {},
   "source": [
    "## 对预测值进行log变换"
   ]
  },
  {
   "cell_type": "code",
   "execution_count": 132,
   "metadata": {
    "ExecuteTime": {
     "end_time": "2021-06-10T01:24:26.778509Z",
     "start_time": "2021-06-10T01:24:26.599578Z"
    }
   },
   "outputs": [
    {
     "data": {
      "image/png": "[encoded data removed]",
      "text/plain": [
       "<Figure size 432x288 with 1 Axes>"
      ]
     },
     "metadata": {
      "needs_background": "light"
     },
     "output_type": "display_data"
    }
   ],
   "source": [
    "# 查看预测值的具体频数\n",
    "plt.hist(train['price'], orientation = 'vertical',histtype = 'bar')\n",
    "plt.xlabel('price')\n",
    "plt.ylabel('count')\n",
    "plt.show()"
   ]
  },
  {
   "cell_type": "code",
   "execution_count": 133,
   "metadata": {
    "ExecuteTime": {
     "end_time": "2021-06-10T01:24:26.908439Z",
     "start_time": "2021-06-10T01:24:26.780494Z"
    }
   },
   "outputs": [
    {
     "data": {
      "image/png": "[encoded data removed]",
      "text/plain": [
       "<Figure size 432x288 with 1 Axes>"
      ]
     },
     "metadata": {
      "needs_background": "light"
     },
     "output_type": "display_data"
    }
   ],
   "source": [
    "# log变换 z之后的分布较均匀，可以进行log变换进行预测\n",
    "plt.hist(np.log(train['price']), orientation = 'vertical',histtype = 'bar') \n",
    "plt.xlabel('log(price)')\n",
    "plt.ylabel('count')\n",
    "plt.show()"
   ]
  },
  {
   "cell_type": "code",
   "execution_count": 134,
   "metadata": {
    "ExecuteTime": {
     "end_time": "2021-06-10T01:24:26.915436Z",
     "start_time": "2021-06-10T01:24:26.909421Z"
    }
   },
   "outputs": [
    {
     "data": {
      "text/plain": [
       "0         1850\n",
       "1         3600\n",
       "2         6222\n",
       "3         2400\n",
       "4         5200\n",
       "          ... \n",
       "149995    5900\n",
       "149996    9500\n",
       "149997    7500\n",
       "149998    4999\n",
       "149999    4700\n",
       "Name: price, Length: 150000, dtype: int64"
      ]
     },
     "execution_count": 134,
     "metadata": {},
     "output_type": "execute_result"
    }
   ],
   "source": [
    "train['price']"
   ]
  },
  {
   "cell_type": "code",
   "execution_count": 135,
   "metadata": {
    "ExecuteTime": {
     "end_time": "2021-06-10T01:24:26.999503Z",
     "start_time": "2021-06-10T01:24:26.916417Z"
    }
   },
   "outputs": [
    {
     "data": {
      "text/plain": [
       "0         7.522941\n",
       "1         8.188689\n",
       "2         8.735847\n",
       "3         7.783224\n",
       "4         8.556414\n",
       "            ...   \n",
       "149995    8.682708\n",
       "149996    9.159047\n",
       "149997    8.922658\n",
       "149998    8.516993\n",
       "149999    8.455318\n",
       "Name: price, Length: 150000, dtype: float64"
      ]
     },
     "execution_count": 135,
     "metadata": {},
     "output_type": "execute_result"
    }
   ],
   "source": [
    "#log变换\n",
    "train['price']=np.log(train['price'])\n",
    "train['price']"
   ]
  },
  {
   "cell_type": "markdown",
   "metadata": {},
   "source": [
    "# 数据导出"
   ]
  },
  {
   "cell_type": "code",
   "execution_count": 136,
   "metadata": {
    "ExecuteTime": {
     "end_time": "2021-06-10T01:24:27.089535Z",
     "start_time": "2021-06-10T01:24:27.000485Z"
    }
   },
   "outputs": [
    {
     "name": "stdout",
     "output_type": "stream",
     "text": [
      "<class 'pandas.core.frame.DataFrame'>\n",
      "RangeIndex: 150000 entries, 0 to 149999\n",
      "Data columns (total 28 columns):\n",
      " #   Column             Non-Null Count   Dtype  \n",
      "---  ------             --------------   -----  \n",
      " 0   model              150000 non-null  float64\n",
      " 1   brand              150000 non-null  int64  \n",
      " 2   bodyType           150000 non-null  float64\n",
      " 3   fuelType           150000 non-null  float64\n",
      " 4   gearbox            150000 non-null  float64\n",
      " 5   power              150000 non-null  float64\n",
      " 6   kilometer          150000 non-null  float64\n",
      " 7   notRepairedDamage  150000 non-null  float64\n",
      " 8   regionCode         150000 non-null  int64  \n",
      " 9   price              150000 non-null  float64\n",
      " 10  v_0                150000 non-null  float64\n",
      " 11  v_3                150000 non-null  float64\n",
      " 12  v_4                150000 non-null  float64\n",
      " 13  v_5                150000 non-null  float64\n",
      " 14  v_8                150000 non-null  float64\n",
      " 15  v_9                150000 non-null  float64\n",
      " 16  v_10               150000 non-null  float64\n",
      " 17  v_11               150000 non-null  float64\n",
      " 18  v_12               150000 non-null  float64\n",
      " 19  power_bin          150000 non-null  int64  \n",
      " 20  regDate_year       150000 non-null  int64  \n",
      " 21  creatDate_year     150000 non-null  int64  \n",
      " 22  regDate_month      150000 non-null  int64  \n",
      " 23  creatDate_month    150000 non-null  int64  \n",
      " 24  regDate_day        150000 non-null  int64  \n",
      " 25  creatDate_day      150000 non-null  int64  \n",
      " 26  carAge_day         150000 non-null  int64  \n",
      " 27  carAge_year        150000 non-null  float64\n",
      "dtypes: float64(18), int64(10)\n",
      "memory usage: 32.0 MB\n"
     ]
    }
   ],
   "source": [
    "train.info()"
   ]
  },
  {
   "cell_type": "code",
   "execution_count": 137,
   "metadata": {
    "ExecuteTime": {
     "end_time": "2021-06-10T01:24:27.157589Z",
     "start_time": "2021-06-10T01:24:27.090521Z"
    }
   },
   "outputs": [
    {
     "name": "stdout",
     "output_type": "stream",
     "text": [
      "<class 'pandas.core.frame.DataFrame'>\n",
      "RangeIndex: 50000 entries, 0 to 49999\n",
      "Data columns (total 27 columns):\n",
      " #   Column             Non-Null Count  Dtype  \n",
      "---  ------             --------------  -----  \n",
      " 0   model              50000 non-null  float64\n",
      " 1   brand              50000 non-null  int64  \n",
      " 2   bodyType           50000 non-null  float64\n",
      " 3   fuelType           50000 non-null  float64\n",
      " 4   gearbox            50000 non-null  float64\n",
      " 5   power              50000 non-null  float64\n",
      " 6   kilometer          50000 non-null  float64\n",
      " 7   notRepairedDamage  50000 non-null  float64\n",
      " 8   regionCode         50000 non-null  int64  \n",
      " 9   v_0                50000 non-null  float64\n",
      " 10  v_3                50000 non-null  float64\n",
      " 11  v_4                50000 non-null  float64\n",
      " 12  v_5                50000 non-null  float64\n",
      " 13  v_8                50000 non-null  float64\n",
      " 14  v_9                50000 non-null  float64\n",
      " 15  v_10               50000 non-null  float64\n",
      " 16  v_11               50000 non-null  float64\n",
      " 17  v_12               50000 non-null  float64\n",
      " 18  power_bin          50000 non-null  int64  \n",
      " 19  regDate_year       50000 non-null  int64  \n",
      " 20  creatDate_year     50000 non-null  int64  \n",
      " 21  regDate_month      50000 non-null  int64  \n",
      " 22  creatDate_month    50000 non-null  int64  \n",
      " 23  regDate_day        50000 non-null  int64  \n",
      " 24  creatDate_day      50000 non-null  int64  \n",
      " 25  carAge_day         50000 non-null  int64  \n",
      " 26  carAge_year        50000 non-null  float64\n",
      "dtypes: float64(17), int64(10)\n",
      "memory usage: 10.3 MB\n"
     ]
    }
   ],
   "source": [
    "test.info()"
   ]
  },
  {
   "cell_type": "code",
   "execution_count": 138,
   "metadata": {
    "ExecuteTime": {
     "end_time": "2021-06-10T01:24:37.413846Z",
     "start_time": "2021-06-10T01:24:32.904675Z"
    }
   },
   "outputs": [],
   "source": [
    "train.to_csv(r'./data/carAge&bin_train_preprocess.csv',index=False)\n",
    "test.to_csv(r'./data/carAge&bin_test_preprocess.csv',index=False)"
   ]
  },
  {
   "cell_type": "markdown",
   "metadata": {},
   "source": [
    "# 数据建模"
   ]
  },
  {
   "cell_type": "code",
   "execution_count": 501,
   "metadata": {
    "ExecuteTime": {
     "end_time": "2021-05-30T11:10:02.847094Z",
     "start_time": "2021-05-30T11:10:02.840099Z"
    }
   },
   "outputs": [
    {
     "data": {
      "text/plain": [
       "0         7.522941\n",
       "1         8.188689\n",
       "2         8.735847\n",
       "3         7.783224\n",
       "4         8.556414\n",
       "            ...   \n",
       "149995    8.682708\n",
       "149996    9.159047\n",
       "149997    8.922658\n",
       "149998    8.516993\n",
       "149999    8.455318\n",
       "Name: price, Length: 150000, dtype: float64"
      ]
     },
     "execution_count": 501,
     "metadata": {},
     "output_type": "execute_result"
    }
   ],
   "source": [
    "train_y=train['price']\n",
    "train_y"
   ]
  },
  {
   "cell_type": "code",
   "execution_count": 502,
   "metadata": {
    "ExecuteTime": {
     "end_time": "2021-05-30T11:10:02.943028Z",
     "start_time": "2021-05-30T11:10:02.849094Z"
    }
   },
   "outputs": [
    {
     "data": {
      "text/html": [
       "<div>\n",
       "<style scoped>\n",
       "    .dataframe tbody tr th:only-of-type {\n",
       "        vertical-align: middle;\n",
       "    }\n",
       "\n",
       "    .dataframe tbody tr th {\n",
       "        vertical-align: top;\n",
       "    }\n",
       "\n",
       "    .dataframe thead th {\n",
       "        text-align: right;\n",
       "    }\n",
       "</style>\n",
       "<table border=\"1\" class=\"dataframe\">\n",
       "  <thead>\n",
       "    <tr style=\"text-align: right;\">\n",
       "      <th></th>\n",
       "      <th>model</th>\n",
       "      <th>brand</th>\n",
       "      <th>bodyType</th>\n",
       "      <th>fuelType</th>\n",
       "      <th>gearbox</th>\n",
       "      <th>power</th>\n",
       "      <th>kilometer</th>\n",
       "      <th>notRepairedDamage</th>\n",
       "      <th>regionCode</th>\n",
       "      <th>v_0</th>\n",
       "      <th>v_3</th>\n",
       "      <th>v_4</th>\n",
       "      <th>v_5</th>\n",
       "      <th>v_8</th>\n",
       "      <th>v_9</th>\n",
       "      <th>v_10</th>\n",
       "      <th>v_11</th>\n",
       "      <th>v_12</th>\n",
       "      <th>power_bin</th>\n",
       "      <th>regDate_year</th>\n",
       "      <th>creatDate_year</th>\n",
       "      <th>regDate_month</th>\n",
       "      <th>creatDate_month</th>\n",
       "      <th>regDate_day</th>\n",
       "      <th>creatDate_day</th>\n",
       "      <th>carAge_day</th>\n",
       "      <th>carAge_year</th>\n",
       "    </tr>\n",
       "  </thead>\n",
       "  <tbody>\n",
       "    <tr>\n",
       "      <th>0</th>\n",
       "      <td>30.0</td>\n",
       "      <td>6</td>\n",
       "      <td>1.0</td>\n",
       "      <td>0.0</td>\n",
       "      <td>0.0</td>\n",
       "      <td>60.0</td>\n",
       "      <td>12.5</td>\n",
       "      <td>0.0</td>\n",
       "      <td>1046</td>\n",
       "      <td>43.357796</td>\n",
       "      <td>2.159744</td>\n",
       "      <td>1.143786</td>\n",
       "      <td>0.235676</td>\n",
       "      <td>0.022816</td>\n",
       "      <td>0.097462</td>\n",
       "      <td>-2.881803</td>\n",
       "      <td>2.804097</td>\n",
       "      <td>-2.420821</td>\n",
       "      <td>1</td>\n",
       "      <td>2004</td>\n",
       "      <td>2016</td>\n",
       "      <td>4</td>\n",
       "      <td>4</td>\n",
       "      <td>2</td>\n",
       "      <td>4</td>\n",
       "      <td>4385</td>\n",
       "      <td>12.013699</td>\n",
       "    </tr>\n",
       "    <tr>\n",
       "      <th>1</th>\n",
       "      <td>40.0</td>\n",
       "      <td>1</td>\n",
       "      <td>2.0</td>\n",
       "      <td>0.0</td>\n",
       "      <td>0.0</td>\n",
       "      <td>1.0</td>\n",
       "      <td>15.0</td>\n",
       "      <td>0.0</td>\n",
       "      <td>4366</td>\n",
       "      <td>45.305273</td>\n",
       "      <td>1.380657</td>\n",
       "      <td>-1.422165</td>\n",
       "      <td>0.264777</td>\n",
       "      <td>0.026597</td>\n",
       "      <td>0.020582</td>\n",
       "      <td>-4.900482</td>\n",
       "      <td>2.096338</td>\n",
       "      <td>-1.030483</td>\n",
       "      <td>0</td>\n",
       "      <td>2003</td>\n",
       "      <td>2016</td>\n",
       "      <td>3</td>\n",
       "      <td>3</td>\n",
       "      <td>1</td>\n",
       "      <td>9</td>\n",
       "      <td>4757</td>\n",
       "      <td>13.032877</td>\n",
       "    </tr>\n",
       "    <tr>\n",
       "      <th>2</th>\n",
       "      <td>115.0</td>\n",
       "      <td>15</td>\n",
       "      <td>1.0</td>\n",
       "      <td>0.0</td>\n",
       "      <td>0.0</td>\n",
       "      <td>163.0</td>\n",
       "      <td>12.5</td>\n",
       "      <td>0.0</td>\n",
       "      <td>2806</td>\n",
       "      <td>45.978359</td>\n",
       "      <td>-0.998467</td>\n",
       "      <td>-0.996911</td>\n",
       "      <td>0.251410</td>\n",
       "      <td>0.062173</td>\n",
       "      <td>0.027075</td>\n",
       "      <td>-4.846749</td>\n",
       "      <td>1.803559</td>\n",
       "      <td>1.565330</td>\n",
       "      <td>5</td>\n",
       "      <td>2004</td>\n",
       "      <td>2016</td>\n",
       "      <td>4</td>\n",
       "      <td>4</td>\n",
       "      <td>3</td>\n",
       "      <td>2</td>\n",
       "      <td>4382</td>\n",
       "      <td>12.005479</td>\n",
       "    </tr>\n",
       "    <tr>\n",
       "      <th>3</th>\n",
       "      <td>109.0</td>\n",
       "      <td>10</td>\n",
       "      <td>0.0</td>\n",
       "      <td>0.0</td>\n",
       "      <td>1.0</td>\n",
       "      <td>193.0</td>\n",
       "      <td>15.0</td>\n",
       "      <td>0.0</td>\n",
       "      <td>434</td>\n",
       "      <td>45.687478</td>\n",
       "      <td>0.883600</td>\n",
       "      <td>-2.228079</td>\n",
       "      <td>0.274293</td>\n",
       "      <td>0.033395</td>\n",
       "      <td>0.000000</td>\n",
       "      <td>-4.509599</td>\n",
       "      <td>1.285940</td>\n",
       "      <td>-0.501868</td>\n",
       "      <td>6</td>\n",
       "      <td>1996</td>\n",
       "      <td>2016</td>\n",
       "      <td>9</td>\n",
       "      <td>3</td>\n",
       "      <td>8</td>\n",
       "      <td>12</td>\n",
       "      <td>7125</td>\n",
       "      <td>19.520548</td>\n",
       "    </tr>\n",
       "    <tr>\n",
       "      <th>4</th>\n",
       "      <td>110.0</td>\n",
       "      <td>5</td>\n",
       "      <td>1.0</td>\n",
       "      <td>0.0</td>\n",
       "      <td>0.0</td>\n",
       "      <td>68.0</td>\n",
       "      <td>5.0</td>\n",
       "      <td>0.0</td>\n",
       "      <td>6977</td>\n",
       "      <td>44.383511</td>\n",
       "      <td>-1.571239</td>\n",
       "      <td>2.246088</td>\n",
       "      <td>0.228036</td>\n",
       "      <td>0.078819</td>\n",
       "      <td>0.121534</td>\n",
       "      <td>-1.896240</td>\n",
       "      <td>0.910783</td>\n",
       "      <td>0.931110</td>\n",
       "      <td>2</td>\n",
       "      <td>2012</td>\n",
       "      <td>2016</td>\n",
       "      <td>1</td>\n",
       "      <td>3</td>\n",
       "      <td>3</td>\n",
       "      <td>13</td>\n",
       "      <td>1531</td>\n",
       "      <td>4.194521</td>\n",
       "    </tr>\n",
       "    <tr>\n",
       "      <th>...</th>\n",
       "      <td>...</td>\n",
       "      <td>...</td>\n",
       "      <td>...</td>\n",
       "      <td>...</td>\n",
       "      <td>...</td>\n",
       "      <td>...</td>\n",
       "      <td>...</td>\n",
       "      <td>...</td>\n",
       "      <td>...</td>\n",
       "      <td>...</td>\n",
       "      <td>...</td>\n",
       "      <td>...</td>\n",
       "      <td>...</td>\n",
       "      <td>...</td>\n",
       "      <td>...</td>\n",
       "      <td>...</td>\n",
       "      <td>...</td>\n",
       "      <td>...</td>\n",
       "      <td>...</td>\n",
       "      <td>...</td>\n",
       "      <td>...</td>\n",
       "      <td>...</td>\n",
       "      <td>...</td>\n",
       "      <td>...</td>\n",
       "      <td>...</td>\n",
       "      <td>...</td>\n",
       "      <td>...</td>\n",
       "    </tr>\n",
       "    <tr>\n",
       "      <th>149995</th>\n",
       "      <td>121.0</td>\n",
       "      <td>10</td>\n",
       "      <td>4.0</td>\n",
       "      <td>0.0</td>\n",
       "      <td>1.0</td>\n",
       "      <td>163.0</td>\n",
       "      <td>15.0</td>\n",
       "      <td>0.0</td>\n",
       "      <td>4576</td>\n",
       "      <td>45.316543</td>\n",
       "      <td>-0.736609</td>\n",
       "      <td>-1.505820</td>\n",
       "      <td>0.280264</td>\n",
       "      <td>0.071158</td>\n",
       "      <td>0.019174</td>\n",
       "      <td>1.988114</td>\n",
       "      <td>-2.983973</td>\n",
       "      <td>0.589167</td>\n",
       "      <td>5</td>\n",
       "      <td>2000</td>\n",
       "      <td>2016</td>\n",
       "      <td>6</td>\n",
       "      <td>3</td>\n",
       "      <td>7</td>\n",
       "      <td>27</td>\n",
       "      <td>5772</td>\n",
       "      <td>15.813699</td>\n",
       "    </tr>\n",
       "    <tr>\n",
       "      <th>149996</th>\n",
       "      <td>116.0</td>\n",
       "      <td>11</td>\n",
       "      <td>0.0</td>\n",
       "      <td>0.0</td>\n",
       "      <td>0.0</td>\n",
       "      <td>125.0</td>\n",
       "      <td>10.0</td>\n",
       "      <td>0.0</td>\n",
       "      <td>2826</td>\n",
       "      <td>45.972058</td>\n",
       "      <td>-2.366699</td>\n",
       "      <td>0.698012</td>\n",
       "      <td>0.253217</td>\n",
       "      <td>0.099681</td>\n",
       "      <td>0.079371</td>\n",
       "      <td>1.839166</td>\n",
       "      <td>-2.774615</td>\n",
       "      <td>2.553994</td>\n",
       "      <td>4</td>\n",
       "      <td>2009</td>\n",
       "      <td>2016</td>\n",
       "      <td>11</td>\n",
       "      <td>3</td>\n",
       "      <td>2</td>\n",
       "      <td>12</td>\n",
       "      <td>2322</td>\n",
       "      <td>6.361644</td>\n",
       "    </tr>\n",
       "    <tr>\n",
       "      <th>149997</th>\n",
       "      <td>60.0</td>\n",
       "      <td>11</td>\n",
       "      <td>1.0</td>\n",
       "      <td>1.0</td>\n",
       "      <td>0.0</td>\n",
       "      <td>90.0</td>\n",
       "      <td>6.0</td>\n",
       "      <td>0.0</td>\n",
       "      <td>3302</td>\n",
       "      <td>44.733481</td>\n",
       "      <td>-2.279091</td>\n",
       "      <td>1.423661</td>\n",
       "      <td>0.233353</td>\n",
       "      <td>0.100118</td>\n",
       "      <td>0.097914</td>\n",
       "      <td>2.439812</td>\n",
       "      <td>-1.630677</td>\n",
       "      <td>2.290197</td>\n",
       "      <td>2</td>\n",
       "      <td>2010</td>\n",
       "      <td>2016</td>\n",
       "      <td>10</td>\n",
       "      <td>3</td>\n",
       "      <td>3</td>\n",
       "      <td>28</td>\n",
       "      <td>2003</td>\n",
       "      <td>5.487671</td>\n",
       "    </tr>\n",
       "    <tr>\n",
       "      <th>149998</th>\n",
       "      <td>34.0</td>\n",
       "      <td>10</td>\n",
       "      <td>3.0</td>\n",
       "      <td>1.0</td>\n",
       "      <td>0.0</td>\n",
       "      <td>156.0</td>\n",
       "      <td>15.0</td>\n",
       "      <td>0.0</td>\n",
       "      <td>1877</td>\n",
       "      <td>45.658634</td>\n",
       "      <td>-1.179812</td>\n",
       "      <td>0.620680</td>\n",
       "      <td>0.256369</td>\n",
       "      <td>0.083558</td>\n",
       "      <td>0.081498</td>\n",
       "      <td>2.075380</td>\n",
       "      <td>-2.633719</td>\n",
       "      <td>1.414937</td>\n",
       "      <td>5</td>\n",
       "      <td>2006</td>\n",
       "      <td>2016</td>\n",
       "      <td>3</td>\n",
       "      <td>4</td>\n",
       "      <td>12</td>\n",
       "      <td>1</td>\n",
       "      <td>3673</td>\n",
       "      <td>10.063014</td>\n",
       "    </tr>\n",
       "    <tr>\n",
       "      <th>149999</th>\n",
       "      <td>19.0</td>\n",
       "      <td>28</td>\n",
       "      <td>6.0</td>\n",
       "      <td>0.0</td>\n",
       "      <td>1.0</td>\n",
       "      <td>193.0</td>\n",
       "      <td>12.5</td>\n",
       "      <td>0.0</td>\n",
       "      <td>235</td>\n",
       "      <td>45.536383</td>\n",
       "      <td>-0.067144</td>\n",
       "      <td>-1.396166</td>\n",
       "      <td>0.284475</td>\n",
       "      <td>0.062543</td>\n",
       "      <td>0.025819</td>\n",
       "      <td>1.978453</td>\n",
       "      <td>-3.179913</td>\n",
       "      <td>0.031724</td>\n",
       "      <td>6</td>\n",
       "      <td>1999</td>\n",
       "      <td>2016</td>\n",
       "      <td>2</td>\n",
       "      <td>3</td>\n",
       "      <td>4</td>\n",
       "      <td>5</td>\n",
       "      <td>6239</td>\n",
       "      <td>17.093151</td>\n",
       "    </tr>\n",
       "  </tbody>\n",
       "</table>\n",
       "<p>150000 rows × 27 columns</p>\n",
       "</div>"
      ],
      "text/plain": [
       "        model  brand  bodyType  fuelType  gearbox  power  kilometer  \\\n",
       "0        30.0      6       1.0       0.0      0.0   60.0       12.5   \n",
       "1        40.0      1       2.0       0.0      0.0    1.0       15.0   \n",
       "2       115.0     15       1.0       0.0      0.0  163.0       12.5   \n",
       "3       109.0     10       0.0       0.0      1.0  193.0       15.0   \n",
       "4       110.0      5       1.0       0.0      0.0   68.0        5.0   \n",
       "...       ...    ...       ...       ...      ...    ...        ...   \n",
       "149995  121.0     10       4.0       0.0      1.0  163.0       15.0   \n",
       "149996  116.0     11       0.0       0.0      0.0  125.0       10.0   \n",
       "149997   60.0     11       1.0       1.0      0.0   90.0        6.0   \n",
       "149998   34.0     10       3.0       1.0      0.0  156.0       15.0   \n",
       "149999   19.0     28       6.0       0.0      1.0  193.0       12.5   \n",
       "\n",
       "        notRepairedDamage  regionCode        v_0       v_3       v_4  \\\n",
       "0                     0.0        1046  43.357796  2.159744  1.143786   \n",
       "1                     0.0        4366  45.305273  1.380657 -1.422165   \n",
       "2                     0.0        2806  45.978359 -0.998467 -0.996911   \n",
       "3                     0.0         434  45.687478  0.883600 -2.228079   \n",
       "4                     0.0        6977  44.383511 -1.571239  2.246088   \n",
       "...                   ...         ...        ...       ...       ...   \n",
       "149995                0.0        4576  45.316543 -0.736609 -1.505820   \n",
       "149996                0.0        2826  45.972058 -2.366699  0.698012   \n",
       "149997                0.0        3302  44.733481 -2.279091  1.423661   \n",
       "149998                0.0        1877  45.658634 -1.179812  0.620680   \n",
       "149999                0.0         235  45.536383 -0.067144 -1.396166   \n",
       "\n",
       "             v_5       v_8       v_9      v_10      v_11      v_12  power_bin  \\\n",
       "0       0.235676  0.022816  0.097462 -2.881803  2.804097 -2.420821          1   \n",
       "1       0.264777  0.026597  0.020582 -4.900482  2.096338 -1.030483          0   \n",
       "2       0.251410  0.062173  0.027075 -4.846749  1.803559  1.565330          5   \n",
       "3       0.274293  0.033395  0.000000 -4.509599  1.285940 -0.501868          6   \n",
       "4       0.228036  0.078819  0.121534 -1.896240  0.910783  0.931110          2   \n",
       "...          ...       ...       ...       ...       ...       ...        ...   \n",
       "149995  0.280264  0.071158  0.019174  1.988114 -2.983973  0.589167          5   \n",
       "149996  0.253217  0.099681  0.079371  1.839166 -2.774615  2.553994          4   \n",
       "149997  0.233353  0.100118  0.097914  2.439812 -1.630677  2.290197          2   \n",
       "149998  0.256369  0.083558  0.081498  2.075380 -2.633719  1.414937          5   \n",
       "149999  0.284475  0.062543  0.025819  1.978453 -3.179913  0.031724          6   \n",
       "\n",
       "        regDate_year  creatDate_year  regDate_month  creatDate_month  \\\n",
       "0               2004            2016              4                4   \n",
       "1               2003            2016              3                3   \n",
       "2               2004            2016              4                4   \n",
       "3               1996            2016              9                3   \n",
       "4               2012            2016              1                3   \n",
       "...              ...             ...            ...              ...   \n",
       "149995          2000            2016              6                3   \n",
       "149996          2009            2016             11                3   \n",
       "149997          2010            2016             10                3   \n",
       "149998          2006            2016              3                4   \n",
       "149999          1999            2016              2                3   \n",
       "\n",
       "        regDate_day  creatDate_day  carAge_day  carAge_year  \n",
       "0                 2              4        4385    12.013699  \n",
       "1                 1              9        4757    13.032877  \n",
       "2                 3              2        4382    12.005479  \n",
       "3                 8             12        7125    19.520548  \n",
       "4                 3             13        1531     4.194521  \n",
       "...             ...            ...         ...          ...  \n",
       "149995            7             27        5772    15.813699  \n",
       "149996            2             12        2322     6.361644  \n",
       "149997            3             28        2003     5.487671  \n",
       "149998           12              1        3673    10.063014  \n",
       "149999            4              5        6239    17.093151  \n",
       "\n",
       "[150000 rows x 27 columns]"
      ]
     },
     "execution_count": 502,
     "metadata": {},
     "output_type": "execute_result"
    }
   ],
   "source": [
    "del train[\"price\"]\n",
    "train"
   ]
  },
  {
   "cell_type": "code",
   "execution_count": 503,
   "metadata": {
    "ExecuteTime": {
     "end_time": "2021-05-30T11:10:03.062619Z",
     "start_time": "2021-05-30T11:10:02.944017Z"
    }
   },
   "outputs": [],
   "source": [
    "# 划分训练集和验证集\n",
    "from sklearn.model_selection import train_test_split\n",
    "## Split data with val\n",
    "x_train,x_val,y_train,y_val = train_test_split(train,train_y,test_size=0.3)"
   ]
  },
  {
   "cell_type": "markdown",
   "metadata": {},
   "source": [
    "## 随机森林\n",
    "回归树"
   ]
  },
  {
   "cell_type": "code",
   "execution_count": null,
   "metadata": {
    "ExecuteTime": {
     "end_time": "2021-05-30T11:08:56.700265Z",
     "start_time": "2021-05-30T11:08:08.060Z"
    }
   },
   "outputs": [],
   "source": [
    "begin=time.time()\n",
    "## Train and Predict\n",
    "print('Predict RF...')\n",
    "model_rf = RandomForestRegressor(n_estimators=100,n_jobs=-1)\n",
    "model_rf = model_rf.fit(x_train,y_train)\n",
    "val_rf = model_rf.predict(x_val)\n",
    "MAE_Weighted = mean_absolute_error(np.exp(y_val),np.exp(val_rf))\n",
    "print('MAE_Weighted:',MAE_Weighted)\n",
    "end=time.time()\n",
    "print(\"运行时间：\",end-begin)\n",
    "subA_rf = np.exp(model_rf.predict(test))"
   ]
  },
  {
   "cell_type": "code",
   "execution_count": null,
   "metadata": {
    "ExecuteTime": {
     "end_time": "2021-05-30T11:08:56.702266Z",
     "start_time": "2021-05-30T11:08:08.064Z"
    }
   },
   "outputs": [],
   "source": [
    "# 学习曲线\n",
    "begin=time.time()\n",
    "axisx =np.arange(230,270,10)\n",
    "rs = []\n",
    "for i in axisx:\n",
    "    model_rf = RandomForestRegressor(n_estimators =i,n_jobs=-1)\n",
    "    model_rf = model_rf.fit(x_train,y_train)\n",
    "    val_rf = model_rf.predict(x_val)\n",
    "    MAE_Weighted = mean_absolute_error(np.exp(y_val),np.exp(val_rf))\n",
    "    rs.append(MAE_Weighted)    \n",
    "print(axisx[rs.index(min(rs))],min(rs))\n",
    "plt.figure(figsize=(20,5))\n",
    "plt.plot(axisx,rs,c=\"green\",label=\"RandomForestRegressor\")\n",
    "plt.ylabel(\"MAE\")\n",
    "plt.xlabel(\"n_estimators\")\n",
    "plt.legend()\n",
    "plt.show()\n",
    "end=time.time()\n",
    "print(\"运行时间：\",end-begin)"
   ]
  },
  {
   "cell_type": "code",
   "execution_count": null,
   "metadata": {
    "ExecuteTime": {
     "end_time": "2021-05-30T11:08:56.704264Z",
     "start_time": "2021-05-30T11:08:08.067Z"
    }
   },
   "outputs": [],
   "source": [
    "sub= pd.read_csv(r'./data/used_car_sample_submit.csv', sep=',')\n",
    "sub"
   ]
  },
  {
   "cell_type": "code",
   "execution_count": null,
   "metadata": {
    "ExecuteTime": {
     "end_time": "2021-05-30T11:08:56.705263Z",
     "start_time": "2021-05-30T11:08:08.071Z"
    }
   },
   "outputs": [],
   "source": [
    "subA_rf = pd.Series(subA_rf)\n",
    "subA_rf"
   ]
  },
  {
   "cell_type": "code",
   "execution_count": null,
   "metadata": {
    "ExecuteTime": {
     "end_time": "2021-05-30T11:08:56.707262Z",
     "start_time": "2021-05-30T11:08:08.075Z"
    }
   },
   "outputs": [],
   "source": [
    "sub['price'] = subA_rf\n",
    "sub"
   ]
  },
  {
   "cell_type": "code",
   "execution_count": null,
   "metadata": {
    "ExecuteTime": {
     "end_time": "2021-05-30T11:08:56.708262Z",
     "start_time": "2021-05-30T11:08:08.078Z"
    }
   },
   "outputs": [],
   "source": [
    "sub.to_csv(r'./data/carAge_sub_rf.csv',index=False)"
   ]
  },
  {
   "cell_type": "markdown",
   "metadata": {},
   "source": [
    "## xgboost"
   ]
  },
  {
   "cell_type": "code",
   "execution_count": 512,
   "metadata": {
    "ExecuteTime": {
     "end_time": "2021-05-30T11:24:59.972682Z",
     "start_time": "2021-05-30T11:23:35.286657Z"
    },
    "scrolled": false
   },
   "outputs": [
    {
     "name": "stdout",
     "output_type": "stream",
     "text": [
      "Predict XGB...\n",
      "[19:23:35] WARNING: C:/Users/Administrator/workspace/xgboost-win64_release_1.4.0/src/objective/regression_obj.cu:171: reg:linear is now deprecated in favor of reg:squarederror.\n",
      "R^2： 0.9616648178038166\n",
      "MAE_Weighted: 634.6768002606498\n",
      "运行时间： 84.34966564178467\n"
     ]
    }
   ],
   "source": [
    "import time\n",
    "begin=time.time()\n",
    "## Train and Predict\n",
    "print('Predict XGB...')\n",
    "model_xgb = XGBRegressor(base_score=0.5, booster='gbtree',learning_rate=0.13999999999999996, n_estimators=250,\n",
    "       n_jobs=1, objective='reg:linear',random_state=1, reg_alpha=0, reg_lambda=1, subsample=0.7999999999999999) \n",
    "model_xgb = model_xgb.fit(x_train,y_train)\n",
    "val_xgb = model_xgb.predict(x_val)\n",
    "MAE_Weighted = mean_absolute_error(np.exp(y_val),np.exp(val_xgb))\n",
    "print('MAE_Weighted:',MAE_Weighted)\n",
    "end=time.time()\n",
    "print(\"运行时间：\",end-begin)\n",
    "subA_xgb =np.exp(model_xgb.predict(test))"
   ]
  },
  {
   "cell_type": "code",
   "execution_count": null,
   "metadata": {},
   "outputs": [],
   "source": [
    "sub['price'] = pd.Series(subA_xgb)\n",
    "sub.to_csv(r'./data/carAge_sub_xgb.csv',index=False)"
   ]
  },
  {
   "cell_type": "markdown",
   "metadata": {},
   "source": [
    "## lightGBM"
   ]
  },
  {
   "cell_type": "code",
   "execution_count": 332,
   "metadata": {
    "ExecuteTime": {
     "end_time": "2021-05-30T03:08:52.953955Z",
     "start_time": "2021-05-30T03:01:22.393433Z"
    }
   },
   "outputs": [
    {
     "name": "stdout",
     "output_type": "stream",
     "text": [
      "Predict LightGBM...\n",
      "运行时间： 292.6877167224884\n",
      "MAE_Weighted: 522.3170987460828\n"
     ]
    }
   ],
   "source": [
    "import time\n",
    "begin=time.time()\n",
    "print('Predict LightGBM...')\n",
    "model_lgb = lgb.LGBMRegressor(n_estimators =14000,learning_rate=0.04,num_leaves=60,subsample= 0.85)\n",
    "model_lgb = model_lgb.fit(x_train,y_train)\n",
    "val_lgb = model_lgb.predict(x_val)\n",
    "MAE_Weighted = mean_absolute_error(np.exp(y_val),np.exp(val_lgb))\n",
    "end=time.time()\n",
    "print(\"运行时间：\",end-begin)\n",
    "subA_lgb = np.exp(model_lgb.predict(test))\n",
    "print('MAE_Weighted:',MAE_Weighted)"
   ]
  },
  {
   "cell_type": "code",
   "execution_count": 333,
   "metadata": {
    "ExecuteTime": {
     "end_time": "2021-05-30T03:08:53.083919Z",
     "start_time": "2021-05-30T03:08:52.955953Z"
    }
   },
   "outputs": [],
   "source": [
    "sub['price'] = pd.Series(subA_lgb)\n",
    "sub.to_csv(r'./data/carAge_sub_lightGBM.csv',index=False)"
   ]
  },
  {
   "cell_type": "markdown",
   "metadata": {},
   "source": [
    "## Stacking融合"
   ]
  },
  {
   "cell_type": "code",
   "execution_count": null,
   "metadata": {},
   "outputs": [],
   "source": []
  },
  {
   "cell_type": "code",
   "execution_count": null,
   "metadata": {},
   "outputs": [],
   "source": []
  },
  {
   "cell_type": "code",
   "execution_count": null,
   "metadata": {},
   "outputs": [],
   "source": []
  }
 ],
 "metadata": {
  "kernelspec": {
   "display_name": "Python 3",
   "language": "python",
   "name": "python3"
  },
  "language_info": {
   "codemirror_mode": {
    "name": "ipython",
    "version": 3
   },
   "file_extension": ".py",
   "mimetype": "text/x-python",
   "name": "python",
   "nbconvert_exporter": "python",
   "pygments_lexer": "ipython3",
   "version": "3.8.3"
  },
  "toc": {
   "base_numbering": 1,
   "nav_menu": {},
   "number_sections": true,
   "sideBar": true,
   "skip_h1_title": false,
   "title_cell": "Table of Contents",
   "title_sidebar": "Contents",
   "toc_cell": false,
   "toc_position": {
    "height": "calc(100% - 180px)",
    "left": "10px",
    "top": "150px",
    "width": "383.977px"
   },
   "toc_section_display": true,
   "toc_window_display": true
  },
  "varInspector": {
   "cols": {
    "lenName": 16,
    "lenType": 16,
    "lenVar": 40
   },
   "kernels_config": {
    "python": {
     "delete_cmd_postfix": "",
     "delete_cmd_prefix": "del ",
     "library": "var_list.py",
     "varRefreshCmd": "print(var_dic_list())"
    },
    "r": {
     "delete_cmd_postfix": ") ",
     "delete_cmd_prefix": "rm(",
     "library": "var_list.r",
     "varRefreshCmd": "cat(var_dic_list()) "
    }
   },
   "types_to_exclude": [
    "module",
    "function",
    "builtin_function_or_method",
    "instance",
    "_Feature"
   ],
   "window_display": false
  }
 },
 "nbformat": 4,
 "nbformat_minor": 4
}
