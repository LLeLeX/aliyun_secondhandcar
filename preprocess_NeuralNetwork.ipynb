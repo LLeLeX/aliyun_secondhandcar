{
 "cells": [
  {
   "cell_type": "code",
   "execution_count": 125,
   "id": "dcaf4ca8",
   "metadata": {
    "ExecuteTime": {
     "end_time": "2021-06-06T08:30:49.557486Z",
     "start_time": "2021-06-06T08:30:49.554501Z"
    }
   },
   "outputs": [],
   "source": [
    "#导入需要使用的库\n",
    "import warnings\n",
    "warnings.filterwarnings('ignore')\n",
    "import pandas as pd\n",
    "import numpy as np\n",
    "from sklearn.preprocessing import LabelEncoder\n",
    "from sklearn.preprocessing import MinMaxScaler\n",
    "import os"
   ]
  },
  {
   "cell_type": "code",
   "execution_count": 126,
   "id": "9579ff7f",
   "metadata": {
    "ExecuteTime": {
     "end_time": "2021-06-06T08:30:50.546929Z",
     "start_time": "2021-06-06T08:30:49.558485Z"
    }
   },
   "outputs": [],
   "source": [
    "train_data= pd.read_csv(r'./data/used_car_train_20200313.csv', sep=' ')\n",
    "test_data= pd.read_csv(r'./data/used_car_testB_20200421.csv', sep=' ')"
   ]
  },
  {
   "cell_type": "code",
   "execution_count": 127,
   "id": "fdf5b011",
   "metadata": {
    "ExecuteTime": {
     "end_time": "2021-06-06T08:30:50.606793Z",
     "start_time": "2021-06-06T08:30:50.548814Z"
    }
   },
   "outputs": [],
   "source": [
    "# 合并方便后面的操作\n",
    "df = pd.concat([train_data, test_data], ignore_index=True)"
   ]
  },
  {
   "cell_type": "code",
   "execution_count": 128,
   "id": "6d46a9e2",
   "metadata": {
    "ExecuteTime": {
     "end_time": "2021-06-06T08:30:50.616793Z",
     "start_time": "2021-06-06T08:30:50.608779Z"
    }
   },
   "outputs": [],
   "source": [
    "#选择需要使用的特征标签，由于nn会生成大量的特征，我们只需要保留原始特征和刻画几个明显特征即可\n",
    "feature = ['model','brand','bodyType','fuelType','kilometer','notRepairedDamage','power','regDate_month','creatDate_year','creatDate_month'\n",
    "    ,'v_0', 'v_1', 'v_2', 'v_3', 'v_4', 'v_5', 'v_6',\n",
    "       'v_7', 'v_8', 'v_9', 'v_10', 'v_11', 'v_12', 'v_13', 'v_14','car_age_day','car_age_year','regDate_year','name_count']"
   ]
  },
  {
   "cell_type": "code",
   "execution_count": 129,
   "id": "79e80958",
   "metadata": {
    "ExecuteTime": {
     "end_time": "2021-06-06T08:30:50.758713Z",
     "start_time": "2021-06-06T08:30:50.618774Z"
    }
   },
   "outputs": [],
   "source": [
    "#处理异常数据\n",
    "df.drop(df[df['seller'] == 1].index, inplace=True)\n",
    "#记录一下df的price\n",
    "df_copy = df"
   ]
  },
  {
   "cell_type": "code",
   "execution_count": 130,
   "id": "c412c03a",
   "metadata": {
    "ExecuteTime": {
     "end_time": "2021-06-06T08:30:50.776710Z",
     "start_time": "2021-06-06T08:30:50.760729Z"
    }
   },
   "outputs": [],
   "source": [
    "# power的范围\n",
    "df['power'][df['power']>600]=600"
   ]
  },
  {
   "cell_type": "code",
   "execution_count": 131,
   "id": "16c1dadf",
   "metadata": {
    "ExecuteTime": {
     "end_time": "2021-06-06T08:30:50.844954Z",
     "start_time": "2021-06-06T08:30:50.778701Z"
    }
   },
   "outputs": [
    {
     "data": {
      "text/plain": [
       "0.0    148585\n",
       "-       32392\n",
       "1.0     19022\n",
       "Name: notRepairedDamage, dtype: int64"
      ]
     },
     "execution_count": 131,
     "metadata": {},
     "output_type": "execute_result"
    }
   ],
   "source": [
    "df['notRepairedDamage'].value_counts()"
   ]
  },
  {
   "cell_type": "code",
   "execution_count": 132,
   "id": "02fbff47",
   "metadata": {
    "ExecuteTime": {
     "end_time": "2021-06-06T08:30:50.918422Z",
     "start_time": "2021-06-06T08:30:50.846950Z"
    }
   },
   "outputs": [
    {
     "data": {
      "text/plain": [
       "0.0    148585\n",
       "0.5     32392\n",
       "1.0     19022\n",
       "Name: notRepairedDamage, dtype: int64"
      ]
     },
     "execution_count": 132,
     "metadata": {},
     "output_type": "execute_result"
    }
   ],
   "source": [
    "#notRepairedDamage的值是0和1，然后为-的值设置为0.5，在将它进行标签转换，0->1;0.5->2;1->3;这样符合神经网络的特征提取，不确定值位于两个确定值的中间～\n",
    "df.replace(to_replace = '-', value = 0.5, inplace = True)\n",
    "df['notRepairedDamage'].value_counts()"
   ]
  },
  {
   "cell_type": "code",
   "execution_count": 133,
   "id": "260fe8c4",
   "metadata": {
    "ExecuteTime": {
     "end_time": "2021-06-06T08:30:50.998847Z",
     "start_time": "2021-06-06T08:30:50.920420Z"
    }
   },
   "outputs": [],
   "source": [
    "le = LabelEncoder()\n",
    "df['notRepairedDamage'] = le.fit_transform(df['notRepairedDamage'].astype(str))"
   ]
  },
  {
   "cell_type": "code",
   "execution_count": 134,
   "id": "ba75acf3",
   "metadata": {
    "ExecuteTime": {
     "end_time": "2021-06-06T08:30:51.044779Z",
     "start_time": "2021-06-06T08:30:50.999808Z"
    }
   },
   "outputs": [
    {
     "data": {
      "text/plain": [
       "0    148585\n",
       "1     32392\n",
       "2     19022\n",
       "Name: notRepairedDamage, dtype: int64"
      ]
     },
     "execution_count": 134,
     "metadata": {},
     "output_type": "execute_result"
    }
   ],
   "source": [
    "df['notRepairedDamage'].value_counts()"
   ]
  },
  {
   "cell_type": "code",
   "execution_count": 135,
   "id": "1010ee7c",
   "metadata": {
    "ExecuteTime": {
     "end_time": "2021-06-06T08:30:51.092743Z",
     "start_time": "2021-06-06T08:30:51.045777Z"
    }
   },
   "outputs": [],
   "source": [
    "#日期处理\n",
    "from datetime import datetime\n",
    "def date_process(x):\n",
    "    year = int(str(x)[:4])\n",
    "    month = int(str(x)[4:6])\n",
    "    day = int(str(x)[6:8])\n",
    "\n",
    "    if month < 1:\n",
    "        month = 7\n",
    "\n",
    "    date = datetime(year, month, day)\n",
    "    return date"
   ]
  },
  {
   "cell_type": "code",
   "execution_count": 136,
   "id": "04672ddc",
   "metadata": {
    "ExecuteTime": {
     "end_time": "2021-06-06T08:30:51.999595Z",
     "start_time": "2021-06-06T08:30:51.093725Z"
    }
   },
   "outputs": [],
   "source": [
    "df['regDates'] = df['regDate'].apply(date_process)\n",
    "df['creatDates'] = df['creatDate'].apply(date_process)\n",
    "df['regDate_year'] = df['regDates'].dt.year\n",
    "df['regDate_month'] = df['regDates'].dt.month\n",
    "df['regDate_day'] = df['regDates'].dt.day\n",
    "df['creatDate_year'] = df['creatDates'].dt.year\n",
    "df['creatDate_month'] = df['creatDates'].dt.month\n",
    "df['creatDate_day'] = df['creatDates'].dt.day\n",
    "df['car_age_day'] = (df['creatDates'] - df['regDates']).dt.days\n",
    "df['car_age_year'] = round(df['car_age_day'] / 365, 1)"
   ]
  },
  {
   "cell_type": "code",
   "execution_count": 137,
   "id": "de3ae0e1",
   "metadata": {
    "ExecuteTime": {
     "end_time": "2021-06-06T08:30:52.044332Z",
     "start_time": "2021-06-06T08:30:52.001357Z"
    },
    "scrolled": true
   },
   "outputs": [
    {
     "data": {
      "text/plain": [
       "0         108\n",
       "1          29\n",
       "2           3\n",
       "3           2\n",
       "4           1\n",
       "         ... \n",
       "199995      1\n",
       "199996      1\n",
       "199997      1\n",
       "199998      1\n",
       "199999      1\n",
       "Name: name_count, Length: 199999, dtype: int64"
      ]
     },
     "execution_count": 137,
     "metadata": {},
     "output_type": "execute_result"
    }
   ],
   "source": [
    "#对name进行挖掘，对name进行分组。并且对SaleID计数\n",
    "df['name_count'] = df.groupby(['name'])['SaleID'].transform('count')\n",
    "df['name_count']"
   ]
  },
  {
   "cell_type": "code",
   "execution_count": 138,
   "id": "5554e454",
   "metadata": {
    "ExecuteTime": {
     "end_time": "2021-06-06T08:30:52.198321Z",
     "start_time": "2021-06-06T08:30:52.045331Z"
    }
   },
   "outputs": [
    {
     "name": "stdout",
     "output_type": "stream",
     "text": [
      "<class 'pandas.core.frame.DataFrame'>\n",
      "Int64Index: 199999 entries, 0 to 199999\n",
      "Data columns (total 40 columns):\n",
      " #   Column             Non-Null Count   Dtype  \n",
      "---  ------             --------------   -----  \n",
      " 0   SaleID             199999 non-null  int64  \n",
      " 1   name               199999 non-null  int64  \n",
      " 2   regDate            199999 non-null  int64  \n",
      " 3   model              199998 non-null  float64\n",
      " 4   brand              199999 non-null  int64  \n",
      " 5   bodyType           193989 non-null  float64\n",
      " 6   fuelType           188395 non-null  float64\n",
      " 7   gearbox            192050 non-null  float64\n",
      " 8   power              199999 non-null  int64  \n",
      " 9   kilometer          199999 non-null  float64\n",
      " 10  notRepairedDamage  199999 non-null  int32  \n",
      " 11  regionCode         199999 non-null  int64  \n",
      " 12  seller             199999 non-null  int64  \n",
      " 13  offerType          199999 non-null  int64  \n",
      " 14  creatDate          199999 non-null  int64  \n",
      " 15  price              149999 non-null  float64\n",
      " 16  v_0                199999 non-null  float64\n",
      " 17  v_1                199999 non-null  float64\n",
      " 18  v_2                199999 non-null  float64\n",
      " 19  v_3                199999 non-null  float64\n",
      " 20  v_4                199999 non-null  float64\n",
      " 21  v_5                199999 non-null  float64\n",
      " 22  v_6                199999 non-null  float64\n",
      " 23  v_7                199999 non-null  float64\n",
      " 24  v_8                199999 non-null  float64\n",
      " 25  v_9                199999 non-null  float64\n",
      " 26  v_10               199999 non-null  float64\n",
      " 27  v_11               199999 non-null  float64\n",
      " 28  v_12               199999 non-null  float64\n",
      " 29  v_13               199999 non-null  float64\n",
      " 30  v_14               199999 non-null  float64\n",
      " 31  regDate_year       199999 non-null  int64  \n",
      " 32  regDate_month      199999 non-null  int64  \n",
      " 33  regDate_day        199999 non-null  int64  \n",
      " 34  creatDate_year     199999 non-null  int64  \n",
      " 35  creatDate_month    199999 non-null  int64  \n",
      " 36  creatDate_day      199999 non-null  int64  \n",
      " 37  car_age_day        199999 non-null  int64  \n",
      " 38  car_age_year       199999 non-null  float64\n",
      " 39  name_count         199999 non-null  int64  \n",
      "dtypes: float64(22), int32(1), int64(17)\n",
      "memory usage: 61.8 MB\n"
     ]
    }
   ],
   "source": [
    "df.drop(['creatDates','regDates'],axis = 1, inplace = True)\n",
    "df.info()"
   ]
  },
  {
   "cell_type": "code",
   "execution_count": 139,
   "id": "42e8c309",
   "metadata": {
    "ExecuteTime": {
     "end_time": "2021-06-06T08:30:52.204318Z",
     "start_time": "2021-06-06T08:30:52.199321Z"
    },
    "scrolled": true
   },
   "outputs": [
    {
     "name": "stdout",
     "output_type": "stream",
     "text": [
      "<class 'list'>\n",
      "['SaleID', 'name', 'regDate', 'model', 'brand', 'bodyType', 'fuelType', 'gearbox', 'power', 'kilometer', 'notRepairedDamage', 'regionCode', 'seller', 'offerType', 'creatDate', 'price', 'v_0', 'v_1', 'v_2', 'v_3', 'v_4', 'v_5', 'v_6', 'v_7', 'v_8', 'v_9', 'v_10', 'v_11', 'v_12', 'v_13', 'v_14', 'regDate_year', 'regDate_month', 'regDate_day', 'creatDate_year', 'creatDate_month', 'creatDate_day', 'car_age_day', 'car_age_year', 'name_count']\n"
     ]
    }
   ],
   "source": [
    "col = list(df.columns)\n",
    "print(type(col))\n",
    "print(col)"
   ]
  },
  {
   "cell_type": "code",
   "execution_count": 140,
   "id": "cdcf539c",
   "metadata": {
    "ExecuteTime": {
     "end_time": "2021-06-06T08:30:52.445060Z",
     "start_time": "2021-06-06T08:30:52.205318Z"
    }
   },
   "outputs": [],
   "source": [
    "#填充众数\n",
    "df.fillna(df.median(),inplace= True)"
   ]
  },
  {
   "cell_type": "code",
   "execution_count": 141,
   "id": "4bda62fc",
   "metadata": {
    "ExecuteTime": {
     "end_time": "2021-06-06T08:30:52.543964Z",
     "start_time": "2021-06-06T08:30:52.446019Z"
    }
   },
   "outputs": [
    {
     "data": {
      "text/plain": [
       "MinMaxScaler()"
      ]
     },
     "execution_count": 141,
     "metadata": {},
     "output_type": "execute_result"
    }
   ],
   "source": [
    "#特征归一化\n",
    "scaler = MinMaxScaler()\n",
    "scaler.fit(df[col].values)"
   ]
  },
  {
   "cell_type": "code",
   "execution_count": 142,
   "id": "0dd79349",
   "metadata": {
    "ExecuteTime": {
     "end_time": "2021-06-06T08:30:52.676886Z",
     "start_time": "2021-06-06T08:30:52.545962Z"
    },
    "scrolled": true
   },
   "outputs": [],
   "source": [
    "df= scaler.transform(df[col].values)"
   ]
  },
  {
   "cell_type": "code",
   "execution_count": 143,
   "id": "b559aacc",
   "metadata": {
    "ExecuteTime": {
     "end_time": "2021-06-06T08:30:52.758858Z",
     "start_time": "2021-06-06T08:30:52.678885Z"
    }
   },
   "outputs": [
    {
     "name": "stdout",
     "output_type": "stream",
     "text": [
      "(199999, 40)\n",
      "        SaleID      name   regDate     model     brand  bodyType  fuelType  \\\n",
      "0            0  0.003740  0.540610  0.121457  0.153846  0.142857       0.0   \n",
      "1            1  0.011493  0.498733  0.161943  0.025641  0.285714       0.0   \n",
      "2            2  0.075575  0.540614  0.465587  0.384615  0.142857       0.0   \n",
      "3            3  0.365145  0.211048  0.441296  0.256410  0.000000       0.0   \n",
      "4            4  0.564396  0.871030  0.445344  0.128205  0.142857       0.0   \n",
      "...        ...       ...       ...       ...       ...       ...       ...   \n",
      "199994  249995  0.566241  0.543110  0.016194  0.102564  0.000000       0.0   \n",
      "199995  249996  0.776548  0.913756  0.263158  0.025641  0.000000       0.0   \n",
      "199996  249997  0.673389  0.543964  0.016194  0.102564  0.000000       0.0   \n",
      "199997  249998  0.728640  0.458938  0.161943  0.025641  0.571429       0.0   \n",
      "199998  249999  0.397344  0.749166  0.129555  0.205128  0.142857       0.0   \n",
      "\n",
      "        gearbox     power  kilometer  ...      v_14  regDate_year  \\\n",
      "0           0.0  0.100000   0.827586  ...  0.490716      0.541667   \n",
      "1           0.0  0.000000   1.000000  ...  0.446701      0.500000   \n",
      "2           0.0  0.271667   0.827586  ...  0.415429      0.541667   \n",
      "3           1.0  0.321667   1.000000  ...  0.399071      0.208333   \n",
      "4           0.0  0.113333   0.310345  ...  0.557057      0.875000   \n",
      "...         ...       ...        ...  ...       ...           ...   \n",
      "199994      1.0  0.250000   1.000000  ...  0.452033      0.541667   \n",
      "199995      0.0  0.298333   0.241379  ...  0.467135      0.916667   \n",
      "199996      1.0  0.245000   0.827586  ...  0.448351      0.541667   \n",
      "199997      1.0  0.293333   1.000000  ...  0.451361      0.458333   \n",
      "199998      0.0  0.000000   0.172414  ...  0.486290      0.750000   \n",
      "\n",
      "        regDate_month  regDate_day  creatDate_year  creatDate_month  \\\n",
      "0            0.272727     0.090909             1.0         0.272727   \n",
      "1            0.181818     0.000000             1.0         0.181818   \n",
      "2            0.272727     0.181818             1.0         0.272727   \n",
      "3            0.727273     0.636364             1.0         0.181818   \n",
      "4            0.000000     0.181818             1.0         0.181818   \n",
      "...               ...          ...             ...              ...   \n",
      "199994       0.818182     0.363636             1.0         0.181818   \n",
      "199995       0.272727     0.727273             1.0         0.181818   \n",
      "199996       1.000000     0.909091             1.0         0.181818   \n",
      "199997       0.545455     0.090909             1.0         0.181818   \n",
      "199998       0.545455     0.636364             1.0         0.272727   \n",
      "\n",
      "        creatDate_day  car_age_day  car_age_year  name_count  \n",
      "0            0.100000     0.472577      0.472222    0.285333  \n",
      "1            0.266667     0.513139      0.511905    0.074667  \n",
      "2            0.033333     0.472249      0.472222    0.005333  \n",
      "3            0.366667     0.771344      0.769841    0.002667  \n",
      "4            0.400000     0.161378      0.162698    0.000000  \n",
      "...               ...          ...           ...         ...  \n",
      "199994       0.266667     0.449460      0.448413    0.000000  \n",
      "199995       0.733333     0.112092      0.115079    0.000000  \n",
      "199996       0.500000     0.442918      0.444444    0.000000  \n",
      "199997       0.866667     0.541489      0.539683    0.000000  \n",
      "199998       0.000000     0.262567      0.261905    0.000000  \n",
      "\n",
      "[199999 rows x 40 columns]\n"
     ]
    }
   ],
   "source": [
    "## 切割数据,导出数据,作为神经网络的训练数据\n",
    "nn_data = pd.DataFrame(df,columns=col)\n",
    "nn_data['price']=np.array(df_copy['price'])\n",
    "nn_data['SaleID']=np.array(df_copy['SaleID'])\n",
    "print(nn_data.shape)\n",
    "print(nn_data)"
   ]
  },
  {
   "cell_type": "code",
   "execution_count": 144,
   "id": "19c3ee5d",
   "metadata": {
    "ExecuteTime": {
     "end_time": "2021-06-06T08:30:52.862780Z",
     "start_time": "2021-06-06T08:30:52.760839Z"
    },
    "scrolled": true
   },
   "outputs": [
    {
     "data": {
      "text/html": [
       "<div>\n",
       "<style scoped>\n",
       "    .dataframe tbody tr th:only-of-type {\n",
       "        vertical-align: middle;\n",
       "    }\n",
       "\n",
       "    .dataframe tbody tr th {\n",
       "        vertical-align: top;\n",
       "    }\n",
       "\n",
       "    .dataframe thead th {\n",
       "        text-align: right;\n",
       "    }\n",
       "</style>\n",
       "<table border=\"1\" class=\"dataframe\">\n",
       "  <thead>\n",
       "    <tr style=\"text-align: right;\">\n",
       "      <th></th>\n",
       "      <th>SaleID</th>\n",
       "      <th>name</th>\n",
       "      <th>regDate</th>\n",
       "      <th>model</th>\n",
       "      <th>brand</th>\n",
       "      <th>bodyType</th>\n",
       "      <th>fuelType</th>\n",
       "      <th>gearbox</th>\n",
       "      <th>power</th>\n",
       "      <th>kilometer</th>\n",
       "      <th>...</th>\n",
       "      <th>v_14</th>\n",
       "      <th>regDate_year</th>\n",
       "      <th>regDate_month</th>\n",
       "      <th>regDate_day</th>\n",
       "      <th>creatDate_year</th>\n",
       "      <th>creatDate_month</th>\n",
       "      <th>creatDate_day</th>\n",
       "      <th>car_age_day</th>\n",
       "      <th>car_age_year</th>\n",
       "      <th>name_count</th>\n",
       "    </tr>\n",
       "  </thead>\n",
       "  <tbody>\n",
       "    <tr>\n",
       "      <th>0</th>\n",
       "      <td>0</td>\n",
       "      <td>0.003740</td>\n",
       "      <td>0.540610</td>\n",
       "      <td>0.121457</td>\n",
       "      <td>0.153846</td>\n",
       "      <td>0.142857</td>\n",
       "      <td>0.0</td>\n",
       "      <td>0.0</td>\n",
       "      <td>0.100000</td>\n",
       "      <td>0.827586</td>\n",
       "      <td>...</td>\n",
       "      <td>0.490716</td>\n",
       "      <td>0.541667</td>\n",
       "      <td>0.272727</td>\n",
       "      <td>0.090909</td>\n",
       "      <td>1.0</td>\n",
       "      <td>0.272727</td>\n",
       "      <td>0.100000</td>\n",
       "      <td>0.472577</td>\n",
       "      <td>0.472222</td>\n",
       "      <td>0.285333</td>\n",
       "    </tr>\n",
       "    <tr>\n",
       "      <th>1</th>\n",
       "      <td>1</td>\n",
       "      <td>0.011493</td>\n",
       "      <td>0.498733</td>\n",
       "      <td>0.161943</td>\n",
       "      <td>0.025641</td>\n",
       "      <td>0.285714</td>\n",
       "      <td>0.0</td>\n",
       "      <td>0.0</td>\n",
       "      <td>0.000000</td>\n",
       "      <td>1.000000</td>\n",
       "      <td>...</td>\n",
       "      <td>0.446701</td>\n",
       "      <td>0.500000</td>\n",
       "      <td>0.181818</td>\n",
       "      <td>0.000000</td>\n",
       "      <td>1.0</td>\n",
       "      <td>0.181818</td>\n",
       "      <td>0.266667</td>\n",
       "      <td>0.513139</td>\n",
       "      <td>0.511905</td>\n",
       "      <td>0.074667</td>\n",
       "    </tr>\n",
       "    <tr>\n",
       "      <th>2</th>\n",
       "      <td>2</td>\n",
       "      <td>0.075575</td>\n",
       "      <td>0.540614</td>\n",
       "      <td>0.465587</td>\n",
       "      <td>0.384615</td>\n",
       "      <td>0.142857</td>\n",
       "      <td>0.0</td>\n",
       "      <td>0.0</td>\n",
       "      <td>0.271667</td>\n",
       "      <td>0.827586</td>\n",
       "      <td>...</td>\n",
       "      <td>0.415429</td>\n",
       "      <td>0.541667</td>\n",
       "      <td>0.272727</td>\n",
       "      <td>0.181818</td>\n",
       "      <td>1.0</td>\n",
       "      <td>0.272727</td>\n",
       "      <td>0.033333</td>\n",
       "      <td>0.472249</td>\n",
       "      <td>0.472222</td>\n",
       "      <td>0.005333</td>\n",
       "    </tr>\n",
       "    <tr>\n",
       "      <th>3</th>\n",
       "      <td>3</td>\n",
       "      <td>0.365145</td>\n",
       "      <td>0.211048</td>\n",
       "      <td>0.441296</td>\n",
       "      <td>0.256410</td>\n",
       "      <td>0.000000</td>\n",
       "      <td>0.0</td>\n",
       "      <td>1.0</td>\n",
       "      <td>0.321667</td>\n",
       "      <td>1.000000</td>\n",
       "      <td>...</td>\n",
       "      <td>0.399071</td>\n",
       "      <td>0.208333</td>\n",
       "      <td>0.727273</td>\n",
       "      <td>0.636364</td>\n",
       "      <td>1.0</td>\n",
       "      <td>0.181818</td>\n",
       "      <td>0.366667</td>\n",
       "      <td>0.771344</td>\n",
       "      <td>0.769841</td>\n",
       "      <td>0.002667</td>\n",
       "    </tr>\n",
       "    <tr>\n",
       "      <th>4</th>\n",
       "      <td>4</td>\n",
       "      <td>0.564396</td>\n",
       "      <td>0.871030</td>\n",
       "      <td>0.445344</td>\n",
       "      <td>0.128205</td>\n",
       "      <td>0.142857</td>\n",
       "      <td>0.0</td>\n",
       "      <td>0.0</td>\n",
       "      <td>0.113333</td>\n",
       "      <td>0.310345</td>\n",
       "      <td>...</td>\n",
       "      <td>0.557057</td>\n",
       "      <td>0.875000</td>\n",
       "      <td>0.000000</td>\n",
       "      <td>0.181818</td>\n",
       "      <td>1.0</td>\n",
       "      <td>0.181818</td>\n",
       "      <td>0.400000</td>\n",
       "      <td>0.161378</td>\n",
       "      <td>0.162698</td>\n",
       "      <td>0.000000</td>\n",
       "    </tr>\n",
       "    <tr>\n",
       "      <th>...</th>\n",
       "      <td>...</td>\n",
       "      <td>...</td>\n",
       "      <td>...</td>\n",
       "      <td>...</td>\n",
       "      <td>...</td>\n",
       "      <td>...</td>\n",
       "      <td>...</td>\n",
       "      <td>...</td>\n",
       "      <td>...</td>\n",
       "      <td>...</td>\n",
       "      <td>...</td>\n",
       "      <td>...</td>\n",
       "      <td>...</td>\n",
       "      <td>...</td>\n",
       "      <td>...</td>\n",
       "      <td>...</td>\n",
       "      <td>...</td>\n",
       "      <td>...</td>\n",
       "      <td>...</td>\n",
       "      <td>...</td>\n",
       "      <td>...</td>\n",
       "    </tr>\n",
       "    <tr>\n",
       "      <th>199994</th>\n",
       "      <td>249995</td>\n",
       "      <td>0.566241</td>\n",
       "      <td>0.543110</td>\n",
       "      <td>0.016194</td>\n",
       "      <td>0.102564</td>\n",
       "      <td>0.000000</td>\n",
       "      <td>0.0</td>\n",
       "      <td>1.0</td>\n",
       "      <td>0.250000</td>\n",
       "      <td>1.000000</td>\n",
       "      <td>...</td>\n",
       "      <td>0.452033</td>\n",
       "      <td>0.541667</td>\n",
       "      <td>0.818182</td>\n",
       "      <td>0.363636</td>\n",
       "      <td>1.0</td>\n",
       "      <td>0.181818</td>\n",
       "      <td>0.266667</td>\n",
       "      <td>0.449460</td>\n",
       "      <td>0.448413</td>\n",
       "      <td>0.000000</td>\n",
       "    </tr>\n",
       "    <tr>\n",
       "      <th>199995</th>\n",
       "      <td>249996</td>\n",
       "      <td>0.776548</td>\n",
       "      <td>0.913756</td>\n",
       "      <td>0.263158</td>\n",
       "      <td>0.025641</td>\n",
       "      <td>0.000000</td>\n",
       "      <td>0.0</td>\n",
       "      <td>0.0</td>\n",
       "      <td>0.298333</td>\n",
       "      <td>0.241379</td>\n",
       "      <td>...</td>\n",
       "      <td>0.467135</td>\n",
       "      <td>0.916667</td>\n",
       "      <td>0.272727</td>\n",
       "      <td>0.727273</td>\n",
       "      <td>1.0</td>\n",
       "      <td>0.181818</td>\n",
       "      <td>0.733333</td>\n",
       "      <td>0.112092</td>\n",
       "      <td>0.115079</td>\n",
       "      <td>0.000000</td>\n",
       "    </tr>\n",
       "    <tr>\n",
       "      <th>199996</th>\n",
       "      <td>249997</td>\n",
       "      <td>0.673389</td>\n",
       "      <td>0.543964</td>\n",
       "      <td>0.016194</td>\n",
       "      <td>0.102564</td>\n",
       "      <td>0.000000</td>\n",
       "      <td>0.0</td>\n",
       "      <td>1.0</td>\n",
       "      <td>0.245000</td>\n",
       "      <td>0.827586</td>\n",
       "      <td>...</td>\n",
       "      <td>0.448351</td>\n",
       "      <td>0.541667</td>\n",
       "      <td>1.000000</td>\n",
       "      <td>0.909091</td>\n",
       "      <td>1.0</td>\n",
       "      <td>0.181818</td>\n",
       "      <td>0.500000</td>\n",
       "      <td>0.442918</td>\n",
       "      <td>0.444444</td>\n",
       "      <td>0.000000</td>\n",
       "    </tr>\n",
       "    <tr>\n",
       "      <th>199997</th>\n",
       "      <td>249998</td>\n",
       "      <td>0.728640</td>\n",
       "      <td>0.458938</td>\n",
       "      <td>0.161943</td>\n",
       "      <td>0.025641</td>\n",
       "      <td>0.571429</td>\n",
       "      <td>0.0</td>\n",
       "      <td>1.0</td>\n",
       "      <td>0.293333</td>\n",
       "      <td>1.000000</td>\n",
       "      <td>...</td>\n",
       "      <td>0.451361</td>\n",
       "      <td>0.458333</td>\n",
       "      <td>0.545455</td>\n",
       "      <td>0.090909</td>\n",
       "      <td>1.0</td>\n",
       "      <td>0.181818</td>\n",
       "      <td>0.866667</td>\n",
       "      <td>0.541489</td>\n",
       "      <td>0.539683</td>\n",
       "      <td>0.000000</td>\n",
       "    </tr>\n",
       "    <tr>\n",
       "      <th>199998</th>\n",
       "      <td>249999</td>\n",
       "      <td>0.397344</td>\n",
       "      <td>0.749166</td>\n",
       "      <td>0.129555</td>\n",
       "      <td>0.205128</td>\n",
       "      <td>0.142857</td>\n",
       "      <td>0.0</td>\n",
       "      <td>0.0</td>\n",
       "      <td>0.000000</td>\n",
       "      <td>0.172414</td>\n",
       "      <td>...</td>\n",
       "      <td>0.486290</td>\n",
       "      <td>0.750000</td>\n",
       "      <td>0.545455</td>\n",
       "      <td>0.636364</td>\n",
       "      <td>1.0</td>\n",
       "      <td>0.272727</td>\n",
       "      <td>0.000000</td>\n",
       "      <td>0.262567</td>\n",
       "      <td>0.261905</td>\n",
       "      <td>0.000000</td>\n",
       "    </tr>\n",
       "  </tbody>\n",
       "</table>\n",
       "<p>199999 rows × 40 columns</p>\n",
       "</div>"
      ],
      "text/plain": [
       "        SaleID      name   regDate     model     brand  bodyType  fuelType  \\\n",
       "0            0  0.003740  0.540610  0.121457  0.153846  0.142857       0.0   \n",
       "1            1  0.011493  0.498733  0.161943  0.025641  0.285714       0.0   \n",
       "2            2  0.075575  0.540614  0.465587  0.384615  0.142857       0.0   \n",
       "3            3  0.365145  0.211048  0.441296  0.256410  0.000000       0.0   \n",
       "4            4  0.564396  0.871030  0.445344  0.128205  0.142857       0.0   \n",
       "...        ...       ...       ...       ...       ...       ...       ...   \n",
       "199994  249995  0.566241  0.543110  0.016194  0.102564  0.000000       0.0   \n",
       "199995  249996  0.776548  0.913756  0.263158  0.025641  0.000000       0.0   \n",
       "199996  249997  0.673389  0.543964  0.016194  0.102564  0.000000       0.0   \n",
       "199997  249998  0.728640  0.458938  0.161943  0.025641  0.571429       0.0   \n",
       "199998  249999  0.397344  0.749166  0.129555  0.205128  0.142857       0.0   \n",
       "\n",
       "        gearbox     power  kilometer  ...      v_14  regDate_year  \\\n",
       "0           0.0  0.100000   0.827586  ...  0.490716      0.541667   \n",
       "1           0.0  0.000000   1.000000  ...  0.446701      0.500000   \n",
       "2           0.0  0.271667   0.827586  ...  0.415429      0.541667   \n",
       "3           1.0  0.321667   1.000000  ...  0.399071      0.208333   \n",
       "4           0.0  0.113333   0.310345  ...  0.557057      0.875000   \n",
       "...         ...       ...        ...  ...       ...           ...   \n",
       "199994      1.0  0.250000   1.000000  ...  0.452033      0.541667   \n",
       "199995      0.0  0.298333   0.241379  ...  0.467135      0.916667   \n",
       "199996      1.0  0.245000   0.827586  ...  0.448351      0.541667   \n",
       "199997      1.0  0.293333   1.000000  ...  0.451361      0.458333   \n",
       "199998      0.0  0.000000   0.172414  ...  0.486290      0.750000   \n",
       "\n",
       "        regDate_month  regDate_day  creatDate_year  creatDate_month  \\\n",
       "0            0.272727     0.090909             1.0         0.272727   \n",
       "1            0.181818     0.000000             1.0         0.181818   \n",
       "2            0.272727     0.181818             1.0         0.272727   \n",
       "3            0.727273     0.636364             1.0         0.181818   \n",
       "4            0.000000     0.181818             1.0         0.181818   \n",
       "...               ...          ...             ...              ...   \n",
       "199994       0.818182     0.363636             1.0         0.181818   \n",
       "199995       0.272727     0.727273             1.0         0.181818   \n",
       "199996       1.000000     0.909091             1.0         0.181818   \n",
       "199997       0.545455     0.090909             1.0         0.181818   \n",
       "199998       0.545455     0.636364             1.0         0.272727   \n",
       "\n",
       "        creatDate_day  car_age_day  car_age_year  name_count  \n",
       "0            0.100000     0.472577      0.472222    0.285333  \n",
       "1            0.266667     0.513139      0.511905    0.074667  \n",
       "2            0.033333     0.472249      0.472222    0.005333  \n",
       "3            0.366667     0.771344      0.769841    0.002667  \n",
       "4            0.400000     0.161378      0.162698    0.000000  \n",
       "...               ...          ...           ...         ...  \n",
       "199994       0.266667     0.449460      0.448413    0.000000  \n",
       "199995       0.733333     0.112092      0.115079    0.000000  \n",
       "199996       0.500000     0.442918      0.444444    0.000000  \n",
       "199997       0.866667     0.541489      0.539683    0.000000  \n",
       "199998       0.000000     0.262567      0.261905    0.000000  \n",
       "\n",
       "[199999 rows x 40 columns]"
      ]
     },
     "execution_count": 144,
     "metadata": {},
     "output_type": "execute_result"
    }
   ],
   "source": [
    "nn_data"
   ]
  },
  {
   "cell_type": "code",
   "execution_count": 145,
   "id": "e4432084",
   "metadata": {
    "ExecuteTime": {
     "end_time": "2021-06-06T08:34:30.286447Z",
     "start_time": "2021-06-06T08:34:20.353118Z"
    }
   },
   "outputs": [],
   "source": [
    "train_num = df.shape[0]-50000\n",
    "nn_data[0:int(train_num)].to_csv('./data/train_nn.csv', index=0, sep=' ')\n",
    "nn_data[train_num:train_num+50000].to_csv('./data/test_nn.csv', index=0, sep=' ')"
   ]
  },
  {
   "cell_type": "code",
   "execution_count": null,
   "id": "8e6db4f6",
   "metadata": {},
   "outputs": [],
   "source": []
  }
 ],
 "metadata": {
  "kernelspec": {
   "display_name": "Python 3",
   "language": "python",
   "name": "python3"
  },
  "language_info": {
   "codemirror_mode": {
    "name": "ipython",
    "version": 3
   },
   "file_extension": ".py",
   "mimetype": "text/x-python",
   "name": "python",
   "nbconvert_exporter": "python",
   "pygments_lexer": "ipython3",
   "version": "3.7.2"
  },
  "toc": {
   "base_numbering": 1,
   "nav_menu": {},
   "number_sections": true,
   "sideBar": true,
   "skip_h1_title": false,
   "title_cell": "Table of Contents",
   "title_sidebar": "Contents",
   "toc_cell": false,
   "toc_position": {},
   "toc_section_display": true,
   "toc_window_display": false
  }
 },
 "nbformat": 4,
 "nbformat_minor": 5
}
